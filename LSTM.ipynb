{
  "cells": [
    {
      "cell_type": "code",
      "execution_count": null,
      "metadata": {
        "colab": {
          "base_uri": "https://localhost:8080/",
          "height": 79
        },
        "colab_type": "code",
        "id": "kFEDXOilNGbO",
        "outputId": "79acc07c-06da-4fd3-8877-f4293b0e6d78"
      },
      "outputs": [],
      "source": [
        "from keras import layers\n",
        "from keras.datasets import imdb\n",
        "from keras import preprocessing\n",
        "from keras.models import Sequential\n",
        "from keras.layers import Flatten, Dense, Embedding, SimpleRNN, LSTM, GRU, Bidirectional\n",
        "from keras import regularizers\n",
        "import matplotlib.pyplot as plt\n",
        "from keras.layers.normalization import BatchNormalization\n",
        "from keras import optimizers\n",
        "import numpy.random as nr\n",
        "from tensorflow import set_random_seed\n",
        "import numpy as np\n",
        "\n",
        "\n",
        "# %matplotlib inline/"
      ]
    },
    {
      "cell_type": "code",
      "execution_count": null,
      "metadata": {
        "colab": {},
        "colab_type": "code",
        "id": "PV45mq5mNy-9"
      },
      "outputs": [],
      "source": [
        "\n",
        "max_features = 10000\n",
        "max_len = 250\n",
        "\n",
        "old = np.load"
      ]
    },
    {
      "cell_type": "code",
      "execution_count": null,
      "metadata": {
        "colab": {},
        "colab_type": "code",
        "id": "8xJF8We2N2wl"
      },
      "outputs": [],
      "source": [
        "np.load = lambda *a,**k: old(*a,**k)\n"
      ]
    },
    {
      "cell_type": "code",
      "execution_count": null,
      "metadata": {
        "colab": {},
        "colab_type": "code",
        "id": "g2HzIDhJN5LH"
      },
      "outputs": [],
      "source": [
        "(train_text, train_labels), (test_text, test_labels) = imdb.load_data(num_words = max_features)\n"
      ]
    },
    {
      "cell_type": "code",
      "execution_count": null,
      "metadata": {
        "colab": {},
        "colab_type": "code",
        "id": "Emz68Yw-N6xS"
      },
      "outputs": [],
      "source": [
        "np.load = old\n",
        "del(old)"
      ]
    },
    {
      "cell_type": "code",
      "execution_count": null,
      "metadata": {
        "colab": {
          "base_uri": "https://localhost:8080/",
          "height": 336
        },
        "colab_type": "code",
        "id": "HHdIMEb-OH4F",
        "outputId": "eb2cc1ed-398c-4726-968d-06dc4128da8d"
      },
      "outputs": [
        {
          "name": "stdout",
          "output_type": "stream",
          "text": [
            "25000\n",
            "[   0    0    0    0    0    0    0    0    0    0    0    0    0    0\n",
            "    0    0    0    0    0    0    0    0    0    0    0    0    0    0\n",
            "    0    0    0    0    0    0    0    0    0    0    0    0    0    0\n",
            "    0    0    0    0    0    0    0    0    0    0    0    0    0    0\n",
            "    0    0    0    0    0    1  194 1153  194 8255   78  228    5    6\n",
            " 1463 4369 5012  134   26    4  715    8  118 1634   14  394   20   13\n",
            "  119  954  189  102    5  207  110 3103   21   14   69  188    8   30\n",
            "   23    7    4  249  126   93    4  114    9 2300 1523    5  647    4\n",
            "  116    9   35 8163    4  229    9  340 1322    4  118    9    4  130\n",
            " 4901   19    4 1002    5   89   29  952   46   37    4  455    9   45\n",
            "   43   38 1543 1905  398    4 1649   26 6853    5  163   11 3215    2\n",
            "    4 1153    9  194  775    7 8255    2  349 2637  148  605    2 8003\n",
            "   15  123  125   68    2 6853   15  349  165 4362   98    5    4  228\n",
            "    9   43    2 1157   15  299  120    5  120  174   11  220  175  136\n",
            "   50    9 4373  228 8255    5    2  656  245 2350    5    4 9837  131\n",
            "  152  491   18    2   32 7464 1212   14    9    6  371   78   22  625\n",
            "   64 1382    9    8  168  145   23    4 1690   15   16    4 1355    5\n",
            "   28    6   52  154  462   33   89   78  285   16  145   95]\n"
          ]
        }
      ],
      "source": [
        "train_text = preprocessing.sequence.pad_sequences(train_text, maxlen = max_len)\n",
        "test_text = preprocessing.sequence.pad_sequences(test_text, maxlen = max_len)\n",
        "print(len(train_text))\n",
        "print(train_text[1])"
      ]
    },
    {
      "cell_type": "code",
      "execution_count": null,
      "metadata": {
        "colab": {
          "base_uri": "https://localhost:8080/",
          "height": 490
        },
        "colab_type": "code",
        "id": "qK9RgnjwOKm-",
        "outputId": "d0a2bd5f-7fcf-4bd9-aa24-87922c4cb22a"
      },
      "outputs": [
        {
          "name": "stdout",
          "output_type": "stream",
          "text": [
            "WARNING:tensorflow:From /usr/local/lib/python3.6/dist-packages/keras/backend/tensorflow_backend.py:66: The name tf.get_default_graph is deprecated. Please use tf.compat.v1.get_default_graph instead.\n",
            "\n",
            "WARNING:tensorflow:From /usr/local/lib/python3.6/dist-packages/keras/backend/tensorflow_backend.py:541: The name tf.placeholder is deprecated. Please use tf.compat.v1.placeholder instead.\n",
            "\n",
            "WARNING:tensorflow:From /usr/local/lib/python3.6/dist-packages/keras/backend/tensorflow_backend.py:4432: The name tf.random_uniform is deprecated. Please use tf.random.uniform instead.\n",
            "\n",
            "WARNING:tensorflow:From /usr/local/lib/python3.6/dist-packages/keras/optimizers.py:793: The name tf.train.Optimizer is deprecated. Please use tf.compat.v1.train.Optimizer instead.\n",
            "\n",
            "WARNING:tensorflow:From /usr/local/lib/python3.6/dist-packages/keras/backend/tensorflow_backend.py:3657: The name tf.log is deprecated. Please use tf.math.log instead.\n",
            "\n",
            "WARNING:tensorflow:From /tensorflow-1.15.0/python3.6/tensorflow_core/python/ops/nn_impl.py:183: where (from tensorflow.python.ops.array_ops) is deprecated and will be removed in a future version.\n",
            "Instructions for updating:\n",
            "Use tf.where in 2.0, which has the same broadcast rule as np.where\n",
            "Model: \"sequential_1\"\n",
            "_________________________________________________________________\n",
            "Layer (type)                 Output Shape              Param #   \n",
            "=================================================================\n",
            "embedding_1 (Embedding)      (None, 250, 8)            80000     \n",
            "_________________________________________________________________\n",
            "flatten_1 (Flatten)          (None, 2000)              0         \n",
            "_________________________________________________________________\n",
            "dense_1 (Dense)              (None, 1)                 2001      \n",
            "=================================================================\n",
            "Total params: 82,001\n",
            "Trainable params: 82,001\n",
            "Non-trainable params: 0\n",
            "_________________________________________________________________\n"
          ]
        }
      ],
      "source": [
        "\n",
        "embedding = Sequential()\n",
        "## First add an embedding layer\n",
        "embedding.add(Embedding(10000, 8, input_length = max_len, embeddings_regularizer = regularizers.l2(0.01)))\n",
        "## Flatten the embedding of the features\n",
        "embedding.add(Flatten())\n",
        "## Now the  binary classifier layer\n",
        "embedding.add(Dense(1, activation = 'sigmoid'))\n",
        "embedding.compile(optimizer = 'RMSprop', loss = 'binary_crossentropy', metrics = ['acc'])\n",
        "embedding.summary()"
      ]
    },
    {
      "cell_type": "code",
      "execution_count": null,
      "metadata": {
        "colab": {
          "base_uri": "https://localhost:8080/",
          "height": 994
        },
        "colab_type": "code",
        "id": "4eNzvbzdOSfw",
        "outputId": "fbdfe854-3cb1-4100-e87b-79d08f8fc020"
      },
      "outputs": [
        {
          "name": "stdout",
          "output_type": "stream",
          "text": [
            "WARNING:tensorflow:From /usr/local/lib/python3.6/dist-packages/keras/backend/tensorflow_backend.py:1033: The name tf.assign_add is deprecated. Please use tf.compat.v1.assign_add instead.\n",
            "\n",
            "WARNING:tensorflow:From /usr/local/lib/python3.6/dist-packages/keras/backend/tensorflow_backend.py:1020: The name tf.assign is deprecated. Please use tf.compat.v1.assign instead.\n",
            "\n",
            "WARNING:tensorflow:From /usr/local/lib/python3.6/dist-packages/keras/backend/tensorflow_backend.py:3005: The name tf.Session is deprecated. Please use tf.compat.v1.Session instead.\n",
            "\n",
            "Train on 25000 samples, validate on 25000 samples\n",
            "Epoch 1/20\n",
            "WARNING:tensorflow:From /usr/local/lib/python3.6/dist-packages/keras/backend/tensorflow_backend.py:190: The name tf.get_default_session is deprecated. Please use tf.compat.v1.get_default_session instead.\n",
            "\n",
            "WARNING:tensorflow:From /usr/local/lib/python3.6/dist-packages/keras/backend/tensorflow_backend.py:197: The name tf.ConfigProto is deprecated. Please use tf.compat.v1.ConfigProto instead.\n",
            "\n",
            "WARNING:tensorflow:From /usr/local/lib/python3.6/dist-packages/keras/backend/tensorflow_backend.py:207: The name tf.global_variables is deprecated. Please use tf.compat.v1.global_variables instead.\n",
            "\n",
            "WARNING:tensorflow:From /usr/local/lib/python3.6/dist-packages/keras/backend/tensorflow_backend.py:216: The name tf.is_variable_initialized is deprecated. Please use tf.compat.v1.is_variable_initialized instead.\n",
            "\n",
            "WARNING:tensorflow:From /usr/local/lib/python3.6/dist-packages/keras/backend/tensorflow_backend.py:223: The name tf.variables_initializer is deprecated. Please use tf.compat.v1.variables_initializer instead.\n",
            "\n",
            "25000/25000 [==============================] - 1s 44us/step - loss: 0.7564 - acc: 0.5537 - val_loss: 0.6816 - val_acc: 0.6212\n",
            "Epoch 2/20\n",
            "25000/25000 [==============================] - 1s 36us/step - loss: 0.6498 - acc: 0.6928 - val_loss: 0.6175 - val_acc: 0.7339\n",
            "Epoch 3/20\n",
            "25000/25000 [==============================] - 1s 35us/step - loss: 0.5878 - acc: 0.7674 - val_loss: 0.5656 - val_acc: 0.7791\n",
            "Epoch 4/20\n",
            "25000/25000 [==============================] - 1s 35us/step - loss: 0.5464 - acc: 0.7993 - val_loss: 0.5317 - val_acc: 0.8065\n",
            "Epoch 5/20\n",
            "25000/25000 [==============================] - 1s 35us/step - loss: 0.5179 - acc: 0.8157 - val_loss: 0.5092 - val_acc: 0.8180\n",
            "Epoch 6/20\n",
            "25000/25000 [==============================] - 1s 36us/step - loss: 0.4959 - acc: 0.8288 - val_loss: 0.4887 - val_acc: 0.8310\n",
            "Epoch 7/20\n",
            "25000/25000 [==============================] - 1s 35us/step - loss: 0.4771 - acc: 0.8382 - val_loss: 0.4771 - val_acc: 0.8343\n",
            "Epoch 8/20\n",
            "25000/25000 [==============================] - 1s 36us/step - loss: 0.4619 - acc: 0.8470 - val_loss: 0.4617 - val_acc: 0.8434\n",
            "Epoch 9/20\n",
            "25000/25000 [==============================] - 1s 35us/step - loss: 0.4495 - acc: 0.8498 - val_loss: 0.4543 - val_acc: 0.8388\n",
            "Epoch 10/20\n",
            "25000/25000 [==============================] - 1s 35us/step - loss: 0.4388 - acc: 0.8560 - val_loss: 0.4438 - val_acc: 0.8434\n",
            "Epoch 11/20\n",
            "25000/25000 [==============================] - 1s 35us/step - loss: 0.4306 - acc: 0.8581 - val_loss: 0.4318 - val_acc: 0.8570\n",
            "Epoch 12/20\n",
            "25000/25000 [==============================] - 1s 36us/step - loss: 0.4220 - acc: 0.8630 - val_loss: 0.4235 - val_acc: 0.8585\n",
            "Epoch 13/20\n",
            "25000/25000 [==============================] - 1s 35us/step - loss: 0.4143 - acc: 0.8654 - val_loss: 0.4179 - val_acc: 0.8613\n",
            "Epoch 14/20\n",
            "25000/25000 [==============================] - 1s 35us/step - loss: 0.4085 - acc: 0.8660 - val_loss: 0.4150 - val_acc: 0.8583\n",
            "Epoch 15/20\n",
            "25000/25000 [==============================] - 1s 35us/step - loss: 0.4039 - acc: 0.8686 - val_loss: 0.4113 - val_acc: 0.8605\n",
            "Epoch 16/20\n",
            "25000/25000 [==============================] - 1s 34us/step - loss: 0.3965 - acc: 0.8725 - val_loss: 0.4073 - val_acc: 0.8638\n",
            "Epoch 17/20\n",
            "25000/25000 [==============================] - 1s 34us/step - loss: 0.3936 - acc: 0.8730 - val_loss: 0.4043 - val_acc: 0.8584\n",
            "Epoch 18/20\n",
            "25000/25000 [==============================] - 1s 35us/step - loss: 0.3901 - acc: 0.8726 - val_loss: 0.3981 - val_acc: 0.8655\n",
            "Epoch 19/20\n",
            "25000/25000 [==============================] - 1s 35us/step - loss: 0.3869 - acc: 0.8720 - val_loss: 0.4143 - val_acc: 0.8472\n",
            "Epoch 20/20\n",
            "25000/25000 [==============================] - 1s 36us/step - loss: 0.3829 - acc: 0.8736 - val_loss: 0.4153 - val_acc: 0.8535\n"
          ]
        }
      ],
      "source": [
        "\n",
        "nr.seed(3421)\n",
        "set_random_seed(654)\n",
        "historyEMB = embedding.fit(train_text, train_labels,\n",
        "                   epochs = 20,\n",
        "                   batch_size = 256,\n",
        "                   validation_data = (test_text, test_labels))"
      ]
    },
    {
      "cell_type": "code",
      "execution_count": null,
      "metadata": {
        "colab": {
          "base_uri": "https://localhost:8080/",
          "height": 295
        },
        "colab_type": "code",
        "id": "2KQGzSGcOd0f",
        "outputId": "dfb05e7e-7342-4caa-af3c-2f77eab25b00"
      },
      "outputs": [
        {
          "data": {
            "image/png": "[encoded data removed]",
            "text/plain": [
              "<Figure size 432x288 with 1 Axes>"
            ]
          },
          "metadata": {
            "tags": []
          },
          "output_type": "display_data"
        }
      ],
      "source": [
        "def plot_loss(history):\n",
        "    '''Function to plot the loss vs. epoch'''\n",
        "    train_loss = history.history['loss']\n",
        "    test_loss = history.history['val_loss']\n",
        "    x = list(range(1, len(test_loss) + 1))\n",
        "    plt.plot(x, test_loss, color = 'red', label = 'Test loss')\n",
        "    plt.plot(x, train_loss, label = 'Training loss')\n",
        "    plt.legend()\n",
        "    plt.xlabel('Epoch')\n",
        "    plt.ylabel('Loss')\n",
        "    plt.title('Loss vs. Epoch')\n",
        "    \n",
        "plot_loss(historyEMB)"
      ]
    },
    {
      "cell_type": "code",
      "execution_count": null,
      "metadata": {
        "colab": {
          "base_uri": "https://localhost:8080/",
          "height": 295
        },
        "colab_type": "code",
        "id": "59Zd67gtOheR",
        "outputId": "7281a6db-fb83-4fc2-8457-034e899fe66b"
      },
      "outputs": [
        {
          "data": {
            "image/png": "[encoded data removed]",
            "text/plain": [
              "<Figure size 432x288 with 1 Axes>"
            ]
          },
          "metadata": {
            "tags": []
          },
          "output_type": "display_data"
        }
      ],
      "source": [
        "def plot_accuracy(history):\n",
        "    train_acc = history.history['acc']\n",
        "    test_acc = history.history['val_acc']\n",
        "    x = list(range(1, len(test_acc) + 1))\n",
        "    plt.plot(x, test_acc, color = 'red', label = 'Test accuracy')\n",
        "    plt.plot(x, train_acc, label = 'Training accuracy')\n",
        "    plt.legend()\n",
        "    plt.xlabel('Epoch')\n",
        "    plt.ylabel('Accuracy')\n",
        "    plt.title('Accuracy vs. Epoch')  \n",
        "    \n",
        "plot_accuracy(historyEMB)"
      ]
    },
    {
      "cell_type": "code",
      "execution_count": null,
      "metadata": {
        "colab": {
          "base_uri": "https://localhost:8080/",
          "height": 252
        },
        "colab_type": "code",
        "id": "nidfqr-WO3-X",
        "outputId": "6c1dace4-4072-4799-c90d-0f9b0ca99c62"
      },
      "outputs": [
        {
          "name": "stdout",
          "output_type": "stream",
          "text": [
            "Model: \"sequential_2\"\n",
            "_________________________________________________________________\n",
            "Layer (type)                 Output Shape              Param #   \n",
            "=================================================================\n",
            "embedding_2 (Embedding)      (None, None, 32)          320000    \n",
            "_________________________________________________________________\n",
            "simple_rnn_1 (SimpleRNN)     (None, 32)                2080      \n",
            "_________________________________________________________________\n",
            "dense_2 (Dense)              (None, 1)                 33        \n",
            "=================================================================\n",
            "Total params: 322,113\n",
            "Trainable params: 322,113\n",
            "Non-trainable params: 0\n",
            "_________________________________________________________________\n"
          ]
        }
      ],
      "source": [
        "RNN1 = Sequential()\n",
        "## First add an embedding layer\n",
        "RNN1.add(Embedding(max_features, 32, embeddings_regularizer = regularizers.l2(0.01)))\n",
        "## Now add an RNN layer\n",
        "RNN1.add(SimpleRNN(32, kernel_regularizer = regularizers.l2(0.01)))\n",
        "## And the classifier layer\n",
        "RNN1.add(Dense(1, activation = 'sigmoid'))\n",
        "RNN1.compile(optimizer = 'RMSprop', loss = 'binary_crossentropy', metrics = ['acc'])\n",
        "RNN1.summary()"
      ]
    },
    {
      "cell_type": "code",
      "execution_count": null,
      "metadata": {
        "colab": {
          "base_uri": "https://localhost:8080/",
          "height": 706
        },
        "colab_type": "code",
        "id": "IOWJD53OO6Mw",
        "outputId": "22993696-39a1-4fc0-a05e-3d676b3791b0"
      },
      "outputs": [
        {
          "name": "stdout",
          "output_type": "stream",
          "text": [
            "Train on 25000 samples, validate on 25000 samples\n",
            "Epoch 1/20\n",
            "25000/25000 [==============================] - 8s 318us/step - loss: 1.9149 - acc: 0.5301 - val_loss: 1.1505 - val_acc: 0.5213\n",
            "Epoch 2/20\n",
            "25000/25000 [==============================] - 8s 301us/step - loss: 0.9731 - acc: 0.5806 - val_loss: 0.8691 - val_acc: 0.5478\n",
            "Epoch 3/20\n",
            "25000/25000 [==============================] - 7s 299us/step - loss: 0.8298 - acc: 0.6316 - val_loss: 0.8148 - val_acc: 0.6787\n",
            "Epoch 4/20\n",
            "25000/25000 [==============================] - 8s 300us/step - loss: 0.7959 - acc: 0.6736 - val_loss: 0.7738 - val_acc: 0.6732\n",
            "Epoch 5/20\n",
            "25000/25000 [==============================] - 7s 299us/step - loss: 0.7086 - acc: 0.7486 - val_loss: 0.6930 - val_acc: 0.7390\n",
            "Epoch 6/20\n",
            "25000/25000 [==============================] - 7s 296us/step - loss: 0.6878 - acc: 0.7476 - val_loss: 0.6625 - val_acc: 0.7774\n",
            "Epoch 7/20\n",
            "25000/25000 [==============================] - 7s 300us/step - loss: 0.6367 - acc: 0.7718 - val_loss: 0.6729 - val_acc: 0.7210\n",
            "Epoch 8/20\n",
            "25000/25000 [==============================] - 7s 299us/step - loss: 0.6256 - acc: 0.7686 - val_loss: 0.5746 - val_acc: 0.8107\n",
            "Epoch 9/20\n",
            "25000/25000 [==============================] - 7s 298us/step - loss: 0.5770 - acc: 0.7990 - val_loss: 0.7354 - val_acc: 0.7288\n",
            "Epoch 10/20\n",
            "25000/25000 [==============================] - 7s 298us/step - loss: 0.6008 - acc: 0.7882 - val_loss: 0.6283 - val_acc: 0.7422\n",
            "Epoch 11/20\n",
            "25000/25000 [==============================] - 7s 298us/step - loss: 0.5740 - acc: 0.7921 - val_loss: 0.5556 - val_acc: 0.7983\n",
            "Epoch 12/20\n",
            "25000/25000 [==============================] - 8s 301us/step - loss: 0.5599 - acc: 0.8005 - val_loss: 0.6653 - val_acc: 0.7044\n",
            "Epoch 13/20\n",
            "25000/25000 [==============================] - 7s 299us/step - loss: 0.5606 - acc: 0.7918 - val_loss: 0.6281 - val_acc: 0.7437\n",
            "Epoch 14/20\n",
            "25000/25000 [==============================] - 7s 299us/step - loss: 0.5592 - acc: 0.7963 - val_loss: 0.5207 - val_acc: 0.8193\n",
            "Epoch 15/20\n",
            "25000/25000 [==============================] - 8s 300us/step - loss: 0.5229 - acc: 0.8172 - val_loss: 0.6229 - val_acc: 0.7463\n",
            "Epoch 16/20\n",
            "25000/25000 [==============================] - 7s 297us/step - loss: 0.5721 - acc: 0.7712 - val_loss: 0.6571 - val_acc: 0.6942\n",
            "Epoch 17/20\n",
            "25000/25000 [==============================] - 7s 299us/step - loss: 0.5337 - acc: 0.8046 - val_loss: 0.5476 - val_acc: 0.7976\n",
            "Epoch 18/20\n",
            "25000/25000 [==============================] - 7s 296us/step - loss: 0.5253 - acc: 0.8098 - val_loss: 0.5181 - val_acc: 0.8093\n",
            "Epoch 19/20\n",
            "25000/25000 [==============================] - 7s 297us/step - loss: 0.5233 - acc: 0.8086 - val_loss: 0.5815 - val_acc: 0.7780\n",
            "Epoch 20/20\n",
            "25000/25000 [==============================] - 7s 297us/step - loss: 0.5358 - acc: 0.7971 - val_loss: 0.4848 - val_acc: 0.8304\n"
          ]
        }
      ],
      "source": [
        "nr.seed(6754)\n",
        "set_random_seed(7766)\n",
        "historyRNN = RNN1.fit(train_text, train_labels,\n",
        "                   epochs = 20,\n",
        "                   batch_size = 1024,\n",
        "                   validation_data = (test_text, test_labels))"
      ]
    },
    {
      "cell_type": "code",
      "execution_count": null,
      "metadata": {
        "colab": {
          "base_uri": "https://localhost:8080/",
          "height": 295
        },
        "colab_type": "code",
        "id": "HPh1cOkqO8Dl",
        "outputId": "87734534-5eb8-4f4f-bc54-7f85daba37ef"
      },
      "outputs": [
        {
          "data": {
            "image/png": "[encoded data removed]",
            "text/plain": [
              "<Figure size 432x288 with 1 Axes>"
            ]
          },
          "metadata": {
            "tags": []
          },
          "output_type": "display_data"
        }
      ],
      "source": [
        "plot_loss(historyRNN)\n"
      ]
    },
    {
      "cell_type": "code",
      "execution_count": null,
      "metadata": {
        "colab": {
          "base_uri": "https://localhost:8080/",
          "height": 295
        },
        "colab_type": "code",
        "id": "WBr1mygxO9_v",
        "outputId": "c00dfae5-0e47-48f8-dd0f-cf029d5b6be2"
      },
      "outputs": [
        {
          "data": {
            "image/png": "[encoded data removed]",
            "text/plain": [
              "<Figure size 432x288 with 1 Axes>"
            ]
          },
          "metadata": {
            "tags": []
          },
          "output_type": "display_data"
        }
      ],
      "source": [
        "plot_accuracy(historyRNN)\n"
      ]
    },
    {
      "cell_type": "code",
      "execution_count": null,
      "metadata": {
        "colab": {},
        "colab_type": "code",
        "id": "s-MeHCvaO_iG"
      },
      "outputs": [],
      "source": []
    },
    {
      "cell_type": "code",
      "execution_count": null,
      "metadata": {
        "colab": {},
        "colab_type": "code",
        "id": "xJrtghxzP57D"
      },
      "outputs": [],
      "source": [
        "import numpy as np\n",
        "import matplotlib.pyplot as plt\n",
        "import pandas as pd"
      ]
    },
    {
      "cell_type": "code",
      "execution_count": 23,
      "metadata": {
        "colab": {
          "base_uri": "https://localhost:8080/",
          "height": 34
        },
        "colab_type": "code",
        "id": "NVibQsWtP6i_",
        "outputId": "5f301036-a381-4216-c1ce-eef973b897fb"
      },
      "outputs": [
        {
          "name": "stdout",
          "output_type": "stream",
          "text": [
            "Drive already mounted at /content/drive; to attempt to forcibly remount, call drive.mount(\"/content/drive\", force_remount=True).\n"
          ]
        }
      ],
      "source": [
        "from google.colab import drive #toimport google drive data\n",
        "drive.mount('/content/drive') #to mount the drive data into colab clound and enterr the activation code\n"
      ]
    },
    {
      "cell_type": "code",
      "execution_count": 24,
      "metadata": {
        "colab": {
          "base_uri": "https://localhost:8080/",
          "height": 34
        },
        "colab_type": "code",
        "id": "91E0a1kxQXcx",
        "outputId": "8ecc4c64-327b-499b-91d9-91510a60df67"
      },
      "outputs": [
        {
          "name": "stdout",
          "output_type": "stream",
          "text": [
            "/content/drive/My Drive\n"
          ]
        }
      ],
      "source": [
        "cd /content/drive/\"My Drive\"\n"
      ]
    },
    {
      "cell_type": "code",
      "execution_count": null,
      "metadata": {
        "colab": {},
        "colab_type": "code",
        "id": "s5M83kGUQYzA"
      },
      "outputs": [],
      "source": [
        "apple_training_complete=pd.read_csv(\"NG Machine Learning/yahoofinance.csv\")\n"
      ]
    },
    {
      "cell_type": "code",
      "execution_count": null,
      "metadata": {
        "colab": {},
        "colab_type": "code",
        "id": "L6ewX4sDQoq5"
      },
      "outputs": [],
      "source": [
        "apple_training_processed = apple_training_complete.iloc[:, 1:2].values\n"
      ]
    },
    {
      "cell_type": "code",
      "execution_count": null,
      "metadata": {
        "colab": {},
        "colab_type": "code",
        "id": "BKuwPW3eQqIc"
      },
      "outputs": [],
      "source": [
        "from sklearn.preprocessing import MinMaxScaler\n",
        "scaler = MinMaxScaler(feature_range = (0, 1))\n",
        "\n",
        "apple_training_scaled = scaler.fit_transform(apple_training_processed)"
      ]
    },
    {
      "cell_type": "code",
      "execution_count": null,
      "metadata": {
        "colab": {},
        "colab_type": "code",
        "id": "PVe_FDSGQsEF"
      },
      "outputs": [],
      "source": [
        "features_set = []\n",
        "labels = []\n",
        "for i in range(60, 250):\n",
        "    features_set.append(apple_training_scaled[i-60:i, 0])\n",
        "    labels.append(apple_training_scaled[i, 0])"
      ]
    },
    {
      "cell_type": "code",
      "execution_count": null,
      "metadata": {
        "colab": {},
        "colab_type": "code",
        "id": "YgNRpTeHQuZA"
      },
      "outputs": [],
      "source": [
        "features_set, labels = np.array(features_set), np.array(labels)\n"
      ]
    },
    {
      "cell_type": "code",
      "execution_count": null,
      "metadata": {
        "colab": {},
        "colab_type": "code",
        "id": "fttjmqE7QzQq"
      },
      "outputs": [],
      "source": [
        "features_set = np.reshape(features_set, (features_set.shape[0], features_set.shape[1], 1))\n"
      ]
    },
    {
      "cell_type": "code",
      "execution_count": null,
      "metadata": {
        "colab": {},
        "colab_type": "code",
        "id": "48y3YreCQ0el"
      },
      "outputs": [],
      "source": [
        "from keras.models import Sequential\n",
        "from keras.layers import Dense\n",
        "from keras.layers import LSTM\n",
        "from keras.layers import Dropout"
      ]
    },
    {
      "cell_type": "code",
      "execution_count": null,
      "metadata": {
        "colab": {},
        "colab_type": "code",
        "id": "Lb-cD4TlQ2pi"
      },
      "outputs": [],
      "source": [
        "model = Sequential()\n"
      ]
    },
    {
      "cell_type": "code",
      "execution_count": null,
      "metadata": {
        "colab": {},
        "colab_type": "code",
        "id": "pVTH8OmsQ38p"
      },
      "outputs": [],
      "source": [
        "model.add(LSTM(units=50, return_sequences=True, input_shape=(features_set.shape[1], 1)))\n"
      ]
    },
    {
      "cell_type": "code",
      "execution_count": null,
      "metadata": {
        "colab": {},
        "colab_type": "code",
        "id": "7LIU4rs6Q6sy"
      },
      "outputs": [],
      "source": [
        "model.add(Dropout(0.2))\n"
      ]
    },
    {
      "cell_type": "code",
      "execution_count": null,
      "metadata": {
        "colab": {},
        "colab_type": "code",
        "id": "0udP3b0zQ_Rq"
      },
      "outputs": [],
      "source": [
        "model.add(LSTM(units=50, return_sequences=True))\n",
        "model.add(Dropout(0.2))\n",
        "\n",
        "model.add(LSTM(units=50, return_sequences=True))\n",
        "model.add(Dropout(0.2))\n",
        "\n",
        "model.add(LSTM(units=50))\n",
        "model.add(Dropout(0.2))"
      ]
    },
    {
      "cell_type": "code",
      "execution_count": null,
      "metadata": {
        "colab": {},
        "colab_type": "code",
        "id": "h819OecYRA_t"
      },
      "outputs": [],
      "source": [
        "model.add(Dense(units = 1))\n"
      ]
    },
    {
      "cell_type": "code",
      "execution_count": null,
      "metadata": {
        "colab": {},
        "colab_type": "code",
        "id": "6BnG63MrRDEv"
      },
      "outputs": [],
      "source": [
        "model.compile(optimizer = 'adam', loss = 'mean_squared_error')\n"
      ]
    },
    {
      "cell_type": "code",
      "execution_count": null,
      "metadata": {
        "colab": {
          "base_uri": "https://localhost:8080/",
          "height": 1000
        },
        "colab_type": "code",
        "id": "Zh6uwBp2REtk",
        "outputId": "de0588b3-0729-4036-b28c-276983395b27"
      },
      "outputs": [
        {
          "name": "stdout",
          "output_type": "stream",
          "text": [
            "Epoch 1/100\n",
            "190/190 [==============================] - 5s 27ms/step - loss: 0.2757\n",
            "Epoch 2/100\n",
            "190/190 [==============================] - 1s 6ms/step - loss: 0.0767\n",
            "Epoch 3/100\n",
            "190/190 [==============================] - 1s 6ms/step - loss: 0.0339\n",
            "Epoch 4/100\n",
            "190/190 [==============================] - 1s 6ms/step - loss: 0.0302\n",
            "Epoch 5/100\n",
            "190/190 [==============================] - 1s 6ms/step - loss: 0.0207\n",
            "Epoch 6/100\n",
            "190/190 [==============================] - 1s 6ms/step - loss: 0.0210\n",
            "Epoch 7/100\n",
            "190/190 [==============================] - 1s 6ms/step - loss: 0.0164\n",
            "Epoch 8/100\n",
            "190/190 [==============================] - 1s 6ms/step - loss: 0.0203\n",
            "Epoch 9/100\n",
            "190/190 [==============================] - 1s 6ms/step - loss: 0.0149\n",
            "Epoch 10/100\n",
            "190/190 [==============================] - 1s 6ms/step - loss: 0.0134\n",
            "Epoch 11/100\n",
            "190/190 [==============================] - 1s 6ms/step - loss: 0.0147\n",
            "Epoch 12/100\n",
            "190/190 [==============================] - 1s 6ms/step - loss: 0.0120\n",
            "Epoch 13/100\n",
            "190/190 [==============================] - 1s 6ms/step - loss: 0.0145\n",
            "Epoch 14/100\n",
            "190/190 [==============================] - 1s 6ms/step - loss: 0.0119\n",
            "Epoch 15/100\n",
            "190/190 [==============================] - 1s 6ms/step - loss: 0.0129\n",
            "Epoch 16/100\n",
            "190/190 [==============================] - 1s 6ms/step - loss: 0.0110\n",
            "Epoch 17/100\n",
            "190/190 [==============================] - 1s 7ms/step - loss: 0.0110\n",
            "Epoch 18/100\n",
            "190/190 [==============================] - 1s 7ms/step - loss: 0.0119\n",
            "Epoch 19/100\n",
            "190/190 [==============================] - 1s 6ms/step - loss: 0.0089\n",
            "Epoch 20/100\n",
            "190/190 [==============================] - 1s 6ms/step - loss: 0.0103\n",
            "Epoch 21/100\n",
            "190/190 [==============================] - 1s 7ms/step - loss: 0.0106\n",
            "Epoch 22/100\n",
            "190/190 [==============================] - 1s 6ms/step - loss: 0.0101\n",
            "Epoch 23/100\n",
            "190/190 [==============================] - 1s 6ms/step - loss: 0.0090\n",
            "Epoch 24/100\n",
            "190/190 [==============================] - 1s 7ms/step - loss: 0.0101\n",
            "Epoch 25/100\n",
            "190/190 [==============================] - 1s 7ms/step - loss: 0.0093\n",
            "Epoch 26/100\n",
            "190/190 [==============================] - 1s 7ms/step - loss: 0.0088\n",
            "Epoch 27/100\n",
            "190/190 [==============================] - 1s 7ms/step - loss: 0.0079\n",
            "Epoch 28/100\n",
            "190/190 [==============================] - 1s 7ms/step - loss: 0.0069\n",
            "Epoch 29/100\n",
            "190/190 [==============================] - 1s 6ms/step - loss: 0.0066\n",
            "Epoch 30/100\n",
            "190/190 [==============================] - 1s 6ms/step - loss: 0.0074\n",
            "Epoch 31/100\n",
            "190/190 [==============================] - 1s 6ms/step - loss: 0.0068\n",
            "Epoch 32/100\n",
            "190/190 [==============================] - 1s 6ms/step - loss: 0.0086\n",
            "Epoch 33/100\n",
            "190/190 [==============================] - 1s 6ms/step - loss: 0.0062\n",
            "Epoch 34/100\n",
            "190/190 [==============================] - 1s 6ms/step - loss: 0.0063\n",
            "Epoch 35/100\n",
            "190/190 [==============================] - 1s 7ms/step - loss: 0.0067\n",
            "Epoch 36/100\n",
            "190/190 [==============================] - 1s 7ms/step - loss: 0.0070\n",
            "Epoch 37/100\n",
            "190/190 [==============================] - 1s 7ms/step - loss: 0.0070\n",
            "Epoch 38/100\n",
            "190/190 [==============================] - 1s 6ms/step - loss: 0.0065\n",
            "Epoch 39/100\n",
            "190/190 [==============================] - 1s 6ms/step - loss: 0.0053\n",
            "Epoch 40/100\n",
            "190/190 [==============================] - 1s 6ms/step - loss: 0.0061\n",
            "Epoch 41/100\n",
            "190/190 [==============================] - 1s 7ms/step - loss: 0.0057\n",
            "Epoch 42/100\n",
            "190/190 [==============================] - 1s 6ms/step - loss: 0.0079\n",
            "Epoch 43/100\n",
            "190/190 [==============================] - 1s 7ms/step - loss: 0.0073\n",
            "Epoch 44/100\n",
            "190/190 [==============================] - 1s 7ms/step - loss: 0.0067\n",
            "Epoch 45/100\n",
            "190/190 [==============================] - 1s 7ms/step - loss: 0.0068\n",
            "Epoch 46/100\n",
            "190/190 [==============================] - 1s 7ms/step - loss: 0.0054\n",
            "Epoch 47/100\n",
            "190/190 [==============================] - 1s 7ms/step - loss: 0.0065\n",
            "Epoch 48/100\n",
            "190/190 [==============================] - 1s 6ms/step - loss: 0.0073\n",
            "Epoch 49/100\n",
            "190/190 [==============================] - 1s 7ms/step - loss: 0.0053\n",
            "Epoch 50/100\n",
            "190/190 [==============================] - 1s 7ms/step - loss: 0.0061\n",
            "Epoch 51/100\n",
            "190/190 [==============================] - 1s 7ms/step - loss: 0.0055\n",
            "Epoch 52/100\n",
            "190/190 [==============================] - 1s 7ms/step - loss: 0.0053\n",
            "Epoch 53/100\n",
            "190/190 [==============================] - 1s 7ms/step - loss: 0.0053\n",
            "Epoch 54/100\n",
            "190/190 [==============================] - 1s 7ms/step - loss: 0.0060\n",
            "Epoch 55/100\n",
            "190/190 [==============================] - 1s 7ms/step - loss: 0.0065\n",
            "Epoch 56/100\n",
            "190/190 [==============================] - 1s 6ms/step - loss: 0.0065\n",
            "Epoch 57/100\n",
            "190/190 [==============================] - 1s 6ms/step - loss: 0.0059\n",
            "Epoch 58/100\n",
            "190/190 [==============================] - 1s 7ms/step - loss: 0.0064\n",
            "Epoch 59/100\n",
            "190/190 [==============================] - 1s 7ms/step - loss: 0.0052\n",
            "Epoch 60/100\n",
            "190/190 [==============================] - 1s 7ms/step - loss: 0.0079\n",
            "Epoch 61/100\n",
            "190/190 [==============================] - 1s 7ms/step - loss: 0.0075\n",
            "Epoch 62/100\n",
            "190/190 [==============================] - 1s 6ms/step - loss: 0.0075\n",
            "Epoch 63/100\n",
            "190/190 [==============================] - 1s 6ms/step - loss: 0.0069\n",
            "Epoch 64/100\n",
            "190/190 [==============================] - 1s 7ms/step - loss: 0.0099\n",
            "Epoch 65/100\n",
            "190/190 [==============================] - 1s 7ms/step - loss: 0.0071\n",
            "Epoch 66/100\n",
            "190/190 [==============================] - 1s 7ms/step - loss: 0.0081\n",
            "Epoch 67/100\n",
            "190/190 [==============================] - 1s 6ms/step - loss: 0.0052\n",
            "Epoch 68/100\n",
            "190/190 [==============================] - 1s 7ms/step - loss: 0.0062\n",
            "Epoch 69/100\n",
            "190/190 [==============================] - 1s 7ms/step - loss: 0.0084\n",
            "Epoch 70/100\n",
            "190/190 [==============================] - 1s 6ms/step - loss: 0.0057\n",
            "Epoch 71/100\n",
            "190/190 [==============================] - 1s 7ms/step - loss: 0.0066\n",
            "Epoch 72/100\n",
            "190/190 [==============================] - 1s 7ms/step - loss: 0.0060\n",
            "Epoch 73/100\n",
            "190/190 [==============================] - 1s 7ms/step - loss: 0.0049\n",
            "Epoch 74/100\n",
            "190/190 [==============================] - 1s 7ms/step - loss: 0.0052\n",
            "Epoch 75/100\n",
            "190/190 [==============================] - 1s 7ms/step - loss: 0.0059\n",
            "Epoch 76/100\n",
            "190/190 [==============================] - 1s 7ms/step - loss: 0.0059\n",
            "Epoch 77/100\n",
            "190/190 [==============================] - 1s 7ms/step - loss: 0.0054\n",
            "Epoch 78/100\n",
            "190/190 [==============================] - 1s 6ms/step - loss: 0.0052\n",
            "Epoch 79/100\n",
            "190/190 [==============================] - 1s 6ms/step - loss: 0.0065\n",
            "Epoch 80/100\n",
            "190/190 [==============================] - 1s 7ms/step - loss: 0.0051\n",
            "Epoch 81/100\n",
            "190/190 [==============================] - 1s 7ms/step - loss: 0.0062\n",
            "Epoch 82/100\n",
            "190/190 [==============================] - 1s 7ms/step - loss: 0.0057\n",
            "Epoch 83/100\n",
            "190/190 [==============================] - 1s 7ms/step - loss: 0.0054\n",
            "Epoch 84/100\n",
            "190/190 [==============================] - 1s 7ms/step - loss: 0.0073\n",
            "Epoch 85/100\n",
            "190/190 [==============================] - 1s 7ms/step - loss: 0.0081\n",
            "Epoch 86/100\n",
            "190/190 [==============================] - 1s 7ms/step - loss: 0.0097\n",
            "Epoch 87/100\n",
            "190/190 [==============================] - 1s 6ms/step - loss: 0.0089\n",
            "Epoch 88/100\n",
            "190/190 [==============================] - 1s 6ms/step - loss: 0.0066\n",
            "Epoch 89/100\n",
            "190/190 [==============================] - 1s 7ms/step - loss: 0.0064\n",
            "Epoch 90/100\n",
            "190/190 [==============================] - 1s 7ms/step - loss: 0.0060\n",
            "Epoch 91/100\n",
            "190/190 [==============================] - 1s 7ms/step - loss: 0.0054\n",
            "Epoch 92/100\n",
            "190/190 [==============================] - 1s 6ms/step - loss: 0.0060\n",
            "Epoch 93/100\n",
            "190/190 [==============================] - 1s 7ms/step - loss: 0.0058\n",
            "Epoch 94/100\n",
            "190/190 [==============================] - 1s 6ms/step - loss: 0.0048\n",
            "Epoch 95/100\n",
            "190/190 [==============================] - 1s 6ms/step - loss: 0.0050\n",
            "Epoch 96/100\n",
            "190/190 [==============================] - 1s 7ms/step - loss: 0.0062\n",
            "Epoch 97/100\n",
            "190/190 [==============================] - 1s 7ms/step - loss: 0.0063\n",
            "Epoch 98/100\n",
            "190/190 [==============================] - 1s 7ms/step - loss: 0.0056\n",
            "Epoch 99/100\n",
            "190/190 [==============================] - 1s 7ms/step - loss: 0.0053\n",
            "Epoch 100/100\n",
            "190/190 [==============================] - 1s 7ms/step - loss: 0.0053\n"
          ]
        },
        {
          "data": {
            "text/plain": [
              "<keras.callbacks.History at 0x7faead43e438>"
            ]
          },
          "execution_count": 131,
          "metadata": {
            "tags": []
          },
          "output_type": "execute_result"
        }
      ],
      "source": [
        "model.fit(features_set, labels, epochs = 100, batch_size = 32)\n"
      ]
    },
    {
      "cell_type": "code",
      "execution_count": null,
      "metadata": {
        "colab": {},
        "colab_type": "code",
        "id": "NWtDmSc4RGOd"
      },
      "outputs": [],
      "source": [
        "apple_testing_processed = apple_training_complete.iloc[:, 1:2].values"
      ]
    },
    {
      "cell_type": "code",
      "execution_count": null,
      "metadata": {
        "colab": {},
        "colab_type": "code",
        "id": "IvL3b_U4RR7J"
      },
      "outputs": [],
      "source": [
        "apple_total = pd.concat((apple_training_complete['Open'], apple_training_complete['Open']), axis=0)\n"
      ]
    },
    {
      "cell_type": "code",
      "execution_count": null,
      "metadata": {
        "colab": {},
        "colab_type": "code",
        "id": "Gqnk0i_2c61g"
      },
      "outputs": [],
      "source": [
        "test_inputs = apple_total[len(apple_total) - len(apple_training_complete) - 60:].values\n"
      ]
    },
    {
      "cell_type": "code",
      "execution_count": null,
      "metadata": {
        "colab": {
          "base_uri": "https://localhost:8080/",
          "height": 1000
        },
        "colab_type": "code",
        "id": "D_ccwMrpe3gw",
        "outputId": "12d5d45f-761b-432d-9659-bda246418e8b"
      },
      "outputs": [
        {
          "data": {
            "text/plain": [
              "array([291.119995, 289.459991, 289.929993, 296.23999 , 297.149994,\n",
              "       293.790009, 299.839996, 297.160004, 307.23999 , 310.600006,\n",
              "       311.640015, 316.700012, 311.850006, 313.589996, 316.269989,\n",
              "       317.190002, 318.579987, 317.920013, 320.25    , 310.059998,\n",
              "       312.600006, 324.450012, 320.540009, 320.929993, 304.299988,\n",
              "       315.309998, 323.519989, 322.570007, 322.369995, 314.179993,\n",
              "       323.600006, 321.470001, 324.190002, 324.73999 , 315.359985,\n",
              "       320.      , 322.630005, 318.619995, 297.26001 , 300.950012,\n",
              "       286.529999, 281.100006, 257.26001 , 282.279999, 303.670013,\n",
              "       296.440002, 295.519989, 282.      , 263.75    , 277.140015,\n",
              "       277.390015, 255.940002, 264.890015, 241.949997, 247.509995,\n",
              "       239.770004, 247.389999, 247.179993, 228.080002, 236.360001,\n",
              "       191.509995, 191.660004, 188.75    , 188.949997, 189.830002,\n",
              "       191.639999, 191.089996, 193.25    , 194.789993, 196.449997,\n",
              "       196.419998, 200.320007, 198.679993, 200.850006, 199.199997,\n",
              "       198.580002, 199.460007, 199.539993, 203.119995, 202.830002,\n",
              "       204.429993, 207.360001, 206.830002, 204.899994, 204.399994,\n",
              "       203.059998, 209.880005, 209.839996, 210.889999, 204.289993,\n",
              "       205.880005, 201.899994, 200.399994, 197.419998, 187.710007,\n",
              "       186.410004, 186.270004, 189.910004, 186.929993, 183.520004,\n",
              "       185.220001, 184.660004, 179.800003, 180.199997, 178.919998,\n",
              "       176.419998, 177.949997, 176.229996, 175.600006, 175.440002,\n",
              "       184.279999, 183.080002, 186.509995, 191.809998, 194.860001,\n",
              "       193.949997, 194.699997, 191.550003, 192.899994, 196.050003,\n",
              "       199.679993, 200.369995, 198.800003, 198.539993, 198.429993,\n",
              "       197.770004, 200.289993, 198.679993, 203.169998, 201.410004,\n",
              "       203.279999, 203.350006, 200.809998, 199.199997, 201.850006,\n",
              "       203.309998, 202.449997, 204.089996, 204.589996, 204.050003,\n",
              "       204.      , 205.789993, 203.649994, 208.460007, 207.669998,\n",
              "       208.889999, 207.479996, 208.460007, 208.759995, 216.419998,\n",
              "       213.899994, 205.529999, 197.990005, 196.309998, 195.410004,\n",
              "       200.199997, 201.300003, 199.619995, 201.020004, 203.160004,\n",
              "       203.460007, 204.279999, 210.619995, 210.880005, 212.990005,\n",
              "       213.190002, 209.429993, 205.860001, 207.860001, 204.100006,\n",
              "       208.5     , 210.160004, 206.429993, 208.389999, 212.      ,\n",
              "       214.050003, 214.839996, 213.860001, 218.070007, 224.800003,\n",
              "       220.      , 217.729996, 219.960007, 221.059998, 222.009995,\n",
              "       221.380005, 218.949997, 221.029999, 218.550003, 220.      ,\n",
              "       220.539993, 220.899994, 225.070007, 223.059998, 218.429993,\n",
              "       225.639999, 226.270004, 225.820007, 227.029999, 227.929993,\n",
              "       232.949997, 234.899994, 236.389999, 233.369995, 235.089996,\n",
              "       234.589996, 237.520004, 241.160004, 242.100006, 244.509995,\n",
              "       243.160004, 247.419998, 248.970001, 244.759995, 247.240005,\n",
              "       249.539993, 257.329987, 257.049988, 256.769989, 258.73999 ,\n",
              "       258.690002, 258.299988, 261.549988, 261.130005, 263.75    ,\n",
              "       263.679993, 265.799988, 267.899994, 265.540009, 263.690002,\n",
              "       262.589996, 262.709991, 266.940002, 265.579987, 266.600006,\n",
              "       267.269989, 258.309998, 261.070007, 263.790009, 267.480011,\n",
              "       270.      , 268.600006, 268.809998, 267.779999, 271.459991,\n",
              "       277.      , 279.570007, 279.799988, 279.5     , 282.230011,\n",
              "       280.529999, 284.690002, 284.820007, 291.119995, 289.459991,\n",
              "       289.929993, 296.23999 , 297.149994, 293.790009, 299.839996,\n",
              "       297.160004, 307.23999 , 310.600006, 311.640015, 316.700012,\n",
              "       311.850006, 313.589996, 316.269989, 317.190002, 318.579987,\n",
              "       317.920013, 320.25    , 310.059998, 312.600006, 324.450012,\n",
              "       320.540009, 320.929993, 304.299988, 315.309998, 323.519989,\n",
              "       322.570007, 322.369995, 314.179993, 323.600006, 321.470001,\n",
              "       324.190002, 324.73999 , 315.359985, 320.      , 322.630005,\n",
              "       318.619995, 297.26001 , 300.950012, 286.529999, 281.100006,\n",
              "       257.26001 , 282.279999, 303.670013, 296.440002, 295.519989,\n",
              "       282.      , 263.75    , 277.140015, 277.390015, 255.940002,\n",
              "       264.890015, 241.949997, 247.509995, 239.770004, 247.389999,\n",
              "       247.179993, 228.080002, 236.360001])"
            ]
          },
          "execution_count": 135,
          "metadata": {
            "tags": []
          },
          "output_type": "execute_result"
        }
      ],
      "source": [
        "test_inputs"
      ]
    },
    {
      "cell_type": "code",
      "execution_count": null,
      "metadata": {
        "colab": {},
        "colab_type": "code",
        "id": "uqKf3jCVe4xV"
      },
      "outputs": [],
      "source": [
        "test_inputs = test_inputs.reshape(-1,1)\n",
        "test_inputs = scaler.transform(test_inputs)\n",
        "test_features = []\n",
        "for i in range(60,250):\n",
        "    test_features.append(test_inputs[i-60:i, 0])"
      ]
    },
    {
      "cell_type": "code",
      "execution_count": null,
      "metadata": {
        "colab": {},
        "colab_type": "code",
        "id": "Gd9b-DdPfECg"
      },
      "outputs": [],
      "source": [
        "test_features = np.array(test_features)\n",
        "test_features = np.reshape(test_features, (test_features.shape[0], test_features.shape[1], 1))\n"
      ]
    },
    {
      "cell_type": "code",
      "execution_count": null,
      "metadata": {
        "colab": {},
        "colab_type": "code",
        "id": "xihDnybDfF6g"
      },
      "outputs": [],
      "source": [
        "predictions = model.predict(test_features)\n"
      ]
    },
    {
      "cell_type": "code",
      "execution_count": null,
      "metadata": {
        "colab": {},
        "colab_type": "code",
        "id": "5Qvs_0S_fHEX"
      },
      "outputs": [],
      "source": [
        "predictions = scaler.inverse_transform(predictions)\n"
      ]
    },
    {
      "cell_type": "code",
      "execution_count": null,
      "metadata": {
        "colab": {
          "base_uri": "https://localhost:8080/",
          "height": 404
        },
        "colab_type": "code",
        "id": "qhM0xR5ifISy",
        "outputId": "18134335-780a-4e87-d333-081a5383fff3"
      },
      "outputs": [
        {
          "data": {
            "image/png": "[encoded data removed]",
            "text/plain": [
              "<Figure size 720x432 with 1 Axes>"
            ]
          },
          "metadata": {
            "tags": []
          },
          "output_type": "display_data"
        }
      ],
      "source": [
        "plt.figure(figsize=(10,6))\n",
        "plt.plot(apple_testing_processed, color='blue', label='Actual Apple Stock Price')\n",
        "plt.plot(predictions , color='red', label='Predicted Apple Stock Price')\n",
        "plt.title('Apple Stock Price Prediction')\n",
        "plt.xlabel('Date')\n",
        "plt.ylabel('Apple Stock Price')\n",
        "plt.legend()\n",
        "plt.show()"
      ]
    },
    {
      "cell_type": "code",
      "execution_count": null,
      "metadata": {
        "colab": {},
        "colab_type": "code",
        "id": "Pdqf4HrjfJ8k"
      },
      "outputs": [],
      "source": []
    },
    {
      "cell_type": "code",
      "execution_count": null,
      "metadata": {
        "colab": {},
        "colab_type": "code",
        "id": "emE8A3N7L-Yv"
      },
      "outputs": [],
      "source": [
        "from urllib.request import urlopen"
      ]
    },
    {
      "cell_type": "code",
      "execution_count": null,
      "metadata": {
        "colab": {},
        "colab_type": "code",
        "id": "WB6yVRwOLgjb"
      },
      "outputs": [],
      "source": [
        "url = \"https://www.gutenberg.org/files/11/11-0.txt\"\n",
        "file = urlopen(url)\n",
        "document=(file.read())"
      ]
    },
    {
      "cell_type": "code",
      "execution_count": 27,
      "metadata": {
        "colab": {
          "base_uri": "https://localhost:8080/",
          "height": 54
        },
        "colab_type": "code",
        "id": "XCp3omzgLlZI",
        "outputId": "6af69d77-e018-442c-f59f-7318d8b840ce"
      },
      "outputs": [
        {
          "data": {
            "text/plain": [
              "b'The Project Gutenberg EBook of Alice\\xe2\\x80\\x99s Adventures in Wonderland, by Lewis Carroll\\r\\n\\r\\nThis eBook is for the use of anyone anywhere at no cost and with\\r\\nalmost no restrictions whatsoever.  You may copy it, give it away or\\r\\nre-use it under the terms of the Project Gutenberg License included\\r\\nwith this eBook or online at www.gutenberg.org\\r\\n\\r\\n\\r\\nTitle: Alice\\xe2\\x80\\x99s Adventures in Wonderland\\r\\n\\r\\nAuthor: Lewis Carroll\\r\\n\\r\\nRelease Date: June 25, 2008 [EBook #11]\\r\\nLast Updated: February 22, 2020\\r\\n\\r\\nLanguage: English\\r\\n\\r\\nCharacter set encoding: UTF-8\\r\\n\\r\\n*** START OF THIS PROJECT GUTENBERG EBOOK ALICE\\xe2\\x80\\x99S ADVENTURES IN WONDERLAND ***\\r\\n\\r\\n\\r\\n\\r\\nProduced by Arthur DiBianca and David Widger\\r\\n\\r\\n[Illustration]\\r\\n\\r\\n\\r\\n\\r\\n\\r\\nAlice\\xe2\\x80\\x99s Adventures in Wonderland\\r\\n\\r\\nby Lewis Carroll\\r\\n\\r\\nTHE MILLENNIUM FULCRUM EDITION 3.0\\r\\n\\r\\nContents\\r\\n\\r\\n CHAPTER I.     Down the Rabbit-Hole\\r\\n CHAPTER II.    The Pool of Tears\\r\\n CHAPTER III.   A Caucus-Race and a Long Tale\\r\\n CHAPTER IV.    The Rabbit Sends in a Little Bill\\r\\n CHAPTER V.     Advice from a Caterpillar\\r\\n CHAPTER VI.    Pig and Pepper\\r\\n CHAPTER VII.   A Mad Tea-Party\\r\\n CHAPTER VIII.  The Queen\\xe2\\x80\\x99s Croquet-Ground\\r\\n CHAPTER IX.    The Mock Turtle\\xe2\\x80\\x99s Story\\r\\n CHAPTER X.     The Lobster Quadrille\\r\\n CHAPTER XI.    Who Stole the Tarts?\\r\\n CHAPTER XII.   Alice\\xe2\\x80\\x99s Evidence\\r\\n\\r\\n\\r\\n\\r\\n\\r\\nCHAPTER I.\\r\\nDown the Rabbit-Hole\\r\\n\\r\\n\\r\\nAlice was beginning to get very tired of sitting by her sister on the\\r\\nbank, and of having nothing to do: once or twice she had peeped into\\r\\nthe book her sister was reading, but it had no pictures or\\r\\nconversations in it, \\xe2\\x80\\x9cand what is the use of a book,\\xe2\\x80\\x9d thought Alice\\r\\n\\xe2\\x80\\x9cwithout pictures or conversations?\\xe2\\x80\\x9d\\r\\n\\r\\nSo she was considering in her own mind (as well as she could, for the\\r\\nhot day made her feel very sleepy and stupid), whether the pleasure of\\r\\nmaking a daisy-chain would be worth the trouble of getting up and\\r\\npicking the daisies, when suddenly a White Rabbit with pink eyes ran\\r\\nclose by her.\\r\\n\\r\\nThere was nothing so _very_ remarkable in that; nor did Alice think it\\r\\nso _very_ much out of the way to hear the Rabbit say to itself, \\xe2\\x80\\x9cOh\\r\\ndear! Oh dear! I shall be late!\\xe2\\x80\\x9d (when she thought it over afterwards,\\r\\nit occurred to her that she ought to have wondered at this, but at the\\r\\ntime it all seemed quite natural); but when the Rabbit actually _took a\\r\\nwatch out of its waistcoat-pocket_, and looked at it, and then hurried\\r\\non, Alice started to her feet, for it flashed across her mind that she\\r\\nhad never before seen a rabbit with either a waistcoat-pocket, or a\\r\\nwatch to take out of it, and burning with curiosity, she ran across the\\r\\nfield after it, and fortunately was just in time to see it pop down a\\r\\nlarge rabbit-hole under the hedge.\\r\\n\\r\\nIn another moment down went Alice after it, never once considering how\\r\\nin the world she was to get out again.\\r\\n\\r\\nThe rabbit-hole went straight on like a tunnel for some way, and then\\r\\ndipped suddenly down, so suddenly that Alice had not a moment to think\\r\\nabout stopping herself before she found herself falling down a very\\r\\ndeep well.\\r\\n\\r\\nEither the well was very deep, or she fell very slowly, for she had\\r\\nplenty of time as she went down to look about her and to wonder what\\r\\nwas going to happen next. First, she tried to look down and make out\\r\\nwhat she was coming to, but it was too dark to see anything; then she\\r\\nlooked at the sides of the well, and noticed that they were filled with\\r\\ncupboards and book-shelves; here and there she saw maps and pictures\\r\\nhung upon pegs. She took down a jar from one of the shelves as she\\r\\npassed; it was labelled \\xe2\\x80\\x9cORANGE MARMALADE\\xe2\\x80\\x9d, but to her great\\r\\ndisappointment it was empty: she did not like to drop the jar for fear\\r\\nof killing somebody underneath, so managed to put it into one of the\\r\\ncupboards as she fell past it.\\r\\n\\r\\n\\xe2\\x80\\x9cWell!\\xe2\\x80\\x9d thought Alice to herself, \\xe2\\x80\\x9cafter such a fall as this, I shall\\r\\nthink nothing of tumbling down stairs! How brave they\\xe2\\x80\\x99ll all think me\\r\\nat home! Why, I wouldn\\xe2\\x80\\x99t say anything about it, even if I fell off the\\r\\ntop of the house!\\xe2\\x80\\x9d (Which was very likely true.)\\r\\n\\r\\nDown, down, down. Would the fall _never_ come to an end? \\xe2\\x80\\x9cI wonder how\\r\\nmany miles I\\xe2\\x80\\x99ve fallen by this time?\\xe2\\x80\\x9d she said aloud. \\xe2\\x80\\x9cI must be\\r\\ngetting somewhere near the centre of the earth. Let me see: that would\\r\\nbe four thousand miles down, I think\\xe2\\x80\\x94\\xe2\\x80\\x9d (for, you see, Alice had learnt\\r\\nseveral things of this sort in her lessons in the schoolroom, and\\r\\nthough this was not a _very_ good opportunity for showing off her\\r\\nknowledge, as there was no one to listen to her, still it was good\\r\\npractice to say it over) \\xe2\\x80\\x9c\\xe2\\x80\\x94yes, that\\xe2\\x80\\x99s about the right distance\\xe2\\x80\\x94but\\r\\nthen I wonder what Latitude or Longitude I\\xe2\\x80\\x99ve got to?\\xe2\\x80\\x9d (Alice had no\\r\\nidea what Latitude was, or Longitude either, but thought they were nice\\r\\ngrand words to say.)\\r\\n\\r\\nPresently she began again. \\xe2\\x80\\x9cI wonder if I shall fall right _through_\\r\\nthe earth! How funny it\\xe2\\x80\\x99ll seem to come out among the people that walk\\r\\nwith their heads downward! The Antipathies, I think\\xe2\\x80\\x94\\xe2\\x80\\x9d (she was rather\\r\\nglad there _was_ no one listening, this time, as it didn\\xe2\\x80\\x99t sound at all\\r\\nthe right word) \\xe2\\x80\\x9c\\xe2\\x80\\x94but I shall have to ask them what the name of the\\r\\ncountry is, you know. Please, Ma\\xe2\\x80\\x99am, is this New Zealand or Australia?\\xe2\\x80\\x9d\\r\\n(and she tried to curtsey as she spoke\\xe2\\x80\\x94fancy _curtseying_ as you\\xe2\\x80\\x99re\\r\\nfalling through the air! Do you think you could manage it?) \\xe2\\x80\\x9cAnd what\\r\\nan ignorant little girl she\\xe2\\x80\\x99ll think me for asking! No, it\\xe2\\x80\\x99ll never do\\r\\nto ask: perhaps I shall see it written up somewhere.\\xe2\\x80\\x9d\\r\\n\\r\\nDown, down, down. There was nothing else to do, so Alice soon began\\r\\ntalking again. \\xe2\\x80\\x9cDinah\\xe2\\x80\\x99ll miss me very much to-night, I should think!\\xe2\\x80\\x9d\\r\\n(Dinah was the cat.) \\xe2\\x80\\x9cI hope they\\xe2\\x80\\x99ll remember her saucer of milk at\\r\\ntea-time. Dinah my dear! I wish you were down here with me! There are\\r\\nno mice in the air, I\\xe2\\x80\\x99m afraid, but you might catch a bat, and that\\xe2\\x80\\x99s\\r\\nvery like a mouse, you know. But do cats eat bats, I wonder?\\xe2\\x80\\x9d And here\\r\\nAlice began to get rather sleepy, and went on saying to herself, in a\\r\\ndreamy sort of way, \\xe2\\x80\\x9cDo cats eat bats? Do cats eat bats?\\xe2\\x80\\x9d and\\r\\nsometimes, \\xe2\\x80\\x9cDo bats eat cats?\\xe2\\x80\\x9d for, you see, as she couldn\\xe2\\x80\\x99t answer\\r\\neither question, it didn\\xe2\\x80\\x99t much matter which way she put it. She felt\\r\\nthat she was dozing off, and had just begun to dream that she was\\r\\nwalking hand in hand with Dinah, and saying to her very earnestly,\\r\\n\\xe2\\x80\\x9cNow, Dinah, tell me the truth: did you ever eat a bat?\\xe2\\x80\\x9d when suddenly,\\r\\nthump! thump! down she came upon a heap of sticks and dry leaves, and\\r\\nthe fall was over.\\r\\n\\r\\nAlice was not a bit hurt, and she jumped up on to her feet in a moment:\\r\\nshe looked up, but it was all dark overhead; before her was another\\r\\nlong passage, and the White Rabbit was still in sight, hurrying down\\r\\nit. There was not a moment to be lost: away went Alice like the wind,\\r\\nand was just in time to hear it say, as it turned a corner, \\xe2\\x80\\x9cOh my ears\\r\\nand whiskers, how late it\\xe2\\x80\\x99s getting!\\xe2\\x80\\x9d She was close behind it when she\\r\\nturned the corner, but the Rabbit was no longer to be seen: she found\\r\\nherself in a long, low hall, which was lit up by a row of lamps hanging\\r\\nfrom the roof.\\r\\n\\r\\nThere were doors all round the hall, but they were all locked; and when\\r\\nAlice had been all the way down one side and up the other, trying every\\r\\ndoor, she walked sadly down the middle, wondering how she was ever to\\r\\nget out again.\\r\\n\\r\\nSuddenly she came upon a little three-legged table, all made of solid\\r\\nglass; there was nothing on it except a tiny golden key, and Alice\\xe2\\x80\\x99s\\r\\nfirst thought was that it might belong to one of the doors of the hall;\\r\\nbut, alas! either the locks were too large, or the key was too small,\\r\\nbut at any rate it would not open any of them. However, on the second\\r\\ntime round, she came upon a low curtain she had not noticed before, and\\r\\nbehind it was a little door about fifteen inches high: she tried the\\r\\nlittle golden key in the lock, and to her great delight it fitted!\\r\\n\\r\\nAlice opened the door and found that it led into a small passage, not\\r\\nmuch larger than a rat-hole: she knelt down and looked along the\\r\\npassage into the loveliest garden you ever saw. How she longed to get\\r\\nout of that dark hall, and wander about among those beds of bright\\r\\nflowers and those cool fountains, but she could not even get her head\\r\\nthrough the doorway; \\xe2\\x80\\x9cand even if my head would go through,\\xe2\\x80\\x9d thought\\r\\npoor Alice, \\xe2\\x80\\x9cit would be of very little use without my shoulders. Oh,\\r\\nhow I wish I could shut up like a telescope! I think I could, if I only\\r\\nknew how to begin.\\xe2\\x80\\x9d For, you see, so many out-of-the-way things had\\r\\nhappened lately, that Alice had begun to think that very few things\\r\\nindeed were really impossible.\\r\\n\\r\\nThere seemed to be no use in waiting by the little door, so she went\\r\\nback to the table, half hoping she might find another key on it, or at\\r\\nany rate a book of rules for shutting people up like telescopes: this\\r\\ntime she found a little bottle on it, (\\xe2\\x80\\x9cwhich certainly was not here\\r\\nbefore,\\xe2\\x80\\x9d said Alice,) and round the neck of the bottle was a paper\\r\\nlabel, with the words \\xe2\\x80\\x9cDRINK ME,\\xe2\\x80\\x9d beautifully printed on it in large\\r\\nletters.\\r\\n\\r\\nIt was all very well to say \\xe2\\x80\\x9cDrink me,\\xe2\\x80\\x9d but the wise little Alice was\\r\\nnot going to do _that_ in a hurry. \\xe2\\x80\\x9cNo, I\\xe2\\x80\\x99ll look first,\\xe2\\x80\\x9d she said,\\r\\n\\xe2\\x80\\x9cand see whether it\\xe2\\x80\\x99s marked \\xe2\\x80\\x98_poison_\\xe2\\x80\\x99 or not\\xe2\\x80\\x9d; for she had read\\r\\nseveral nice little histories about children who had got burnt, and\\r\\neaten up by wild beasts and other unpleasant things, all because they\\r\\n_would_ not remember the simple rules their friends had taught them:\\r\\nsuch as, that a red-hot poker will burn you if you hold it too long;\\r\\nand that if you cut your finger _very_ deeply with a knife, it usually\\r\\nbleeds; and she had never forgotten that, if you drink much from a\\r\\nbottle marked \\xe2\\x80\\x9cpoison,\\xe2\\x80\\x9d it is almost certain to disagree with you,\\r\\nsooner or later.\\r\\n\\r\\nHowever, this bottle was _not_ marked \\xe2\\x80\\x9cpoison,\\xe2\\x80\\x9d so Alice ventured to\\r\\ntaste it, and finding it very nice, (it had, in fact, a sort of mixed\\r\\nflavour of cherry-tart, custard, pine-apple, roast turkey, toffee, and\\r\\nhot buttered toast,) she very soon finished it off.\\r\\n\\r\\n*      *      *      *      *      *      *\\r\\n\\r\\n    *      *      *      *      *      *\\r\\n\\r\\n*      *      *      *      *      *      *\\r\\n\\r\\n\\r\\n\\xe2\\x80\\x9cWhat a curious feeling!\\xe2\\x80\\x9d said Alice; \\xe2\\x80\\x9cI must be shutting up like a\\r\\ntelescope.\\xe2\\x80\\x9d\\r\\n\\r\\nAnd so it was indeed: she was now only ten inches high, and her face\\r\\nbrightened up at the thought that she was now the right size for going\\r\\nthrough the little door into that lovely garden. First, however, she\\r\\nwaited for a few minutes to see if she was going to shrink any further:\\r\\nshe felt a little nervous about this; \\xe2\\x80\\x9cfor it might end, you know,\\xe2\\x80\\x9d\\r\\nsaid Alice to herself, \\xe2\\x80\\x9cin my going out altogether, like a candle. I\\r\\nwonder what I should be like then?\\xe2\\x80\\x9d And she tried to fancy what the\\r\\nflame of a candle is like after the candle is blown out, for she could\\r\\nnot remember ever having seen such a thing.\\r\\n\\r\\nAfter a while, finding that nothing more happened, she decided on going\\r\\ninto the garden at once; but, alas for poor Alice! when she got to the\\r\\ndoor, she found she had forgotten the little golden key, and when she\\r\\nwent back to the table for it, she found she could not possibly reach\\r\\nit: she could see it quite plainly through the glass, and she tried her\\r\\nbest to climb up one of the legs of the table, but it was too slippery;\\r\\nand when she had tired herself out with trying, the poor little thing\\r\\nsat down and cried.\\r\\n\\r\\n\\xe2\\x80\\x9cCome, there\\xe2\\x80\\x99s no use in crying like that!\\xe2\\x80\\x9d said Alice to herself,\\r\\nrather sharply; \\xe2\\x80\\x9cI advise you to leave off this minute!\\xe2\\x80\\x9d She generally\\r\\ngave herself very good advice, (though she very seldom followed it),\\r\\nand sometimes she scolded herself so severely as to bring tears into\\r\\nher eyes; and once she remembered trying to box her own ears for having\\r\\ncheated herself in a game of croquet she was playing against herself,\\r\\nfor this curious child was very fond of pretending to be two people.\\r\\n\\xe2\\x80\\x9cBut it\\xe2\\x80\\x99s no use now,\\xe2\\x80\\x9d thought poor Alice, \\xe2\\x80\\x9cto pretend to be two\\r\\npeople! Why, there\\xe2\\x80\\x99s hardly enough of me left to make _one_ respectable\\r\\nperson!\\xe2\\x80\\x9d\\r\\n\\r\\nSoon her eye fell on a little glass box that was lying under the table:\\r\\nshe opened it, and found in it a very small cake, on which the words\\r\\n\\xe2\\x80\\x9cEAT ME\\xe2\\x80\\x9d were beautifully marked in currants. \\xe2\\x80\\x9cWell, I\\xe2\\x80\\x99ll eat it,\\xe2\\x80\\x9d said\\r\\nAlice, \\xe2\\x80\\x9cand if it makes me grow larger, I can reach the key; and if it\\r\\nmakes me grow smaller, I can creep under the door; so either way I\\xe2\\x80\\x99ll\\r\\nget into the garden, and I don\\xe2\\x80\\x99t care which happens!\\xe2\\x80\\x9d\\r\\n\\r\\nShe ate a little bit, and said anxiously to herself, \\xe2\\x80\\x9cWhich way? Which\\r\\nway?\\xe2\\x80\\x9d, holding her hand on the top of her head to feel which way it was\\r\\ngrowing, and she was quite surprised to find that she remained the same\\r\\nsize: to be sure, this generally happens when one eats cake, but Alice\\r\\nhad got so much into the way of expecting nothing but out-of-the-way\\r\\nthings to happen, that it seemed quite dull and stupid for life to go\\r\\non in the common way.\\r\\n\\r\\nSo she set to work, and very soon finished off the cake.\\r\\n\\r\\n*      *      *      *      *      *      *\\r\\n\\r\\n    *      *      *      *      *      *\\r\\n\\r\\n*      *      *      *      *      *      *\\r\\n\\r\\n\\r\\n\\r\\n\\r\\nCHAPTER II.\\r\\nThe Pool of Tears\\r\\n\\r\\n\\r\\n\\xe2\\x80\\x9cCuriouser and curiouser!\\xe2\\x80\\x9d cried Alice (she was so much surprised, that\\r\\nfor the moment she quite forgot how to speak good English); \\xe2\\x80\\x9cnow I\\xe2\\x80\\x99m\\r\\nopening out like the largest telescope that ever was! Good-bye, feet!\\xe2\\x80\\x9d\\r\\n(for when she looked down at her feet, they seemed to be almost out of\\r\\nsight, they were getting so far off). \\xe2\\x80\\x9cOh, my poor little feet, I\\r\\nwonder who will put on your shoes and stockings for you now, dears? I\\xe2\\x80\\x99m\\r\\nsure _I_ shan\\xe2\\x80\\x99t be able! I shall be a great deal too far off to trouble\\r\\nmyself about you: you must manage the best way you can;\\xe2\\x80\\x94but I must be\\r\\nkind to them,\\xe2\\x80\\x9d thought Alice, \\xe2\\x80\\x9cor perhaps they won\\xe2\\x80\\x99t walk the way I\\r\\nwant to go! Let me see: I\\xe2\\x80\\x99ll give them a new pair of boots every\\r\\nChristmas.\\xe2\\x80\\x9d\\r\\n\\r\\nAnd she went on planning to herself how she would manage it. \\xe2\\x80\\x9cThey must\\r\\ngo by the carrier,\\xe2\\x80\\x9d she thought; \\xe2\\x80\\x9cand how funny it\\xe2\\x80\\x99ll seem, sending\\r\\npresents to one\\xe2\\x80\\x99s own feet! And how odd the directions will look!\\r\\n\\r\\n     _Alice\\xe2\\x80\\x99s Right Foot, Esq., Hearthrug, near the Fender,_ (_with\\r\\n     Alice\\xe2\\x80\\x99s love_).\\r\\n\\r\\nOh dear, what nonsense I\\xe2\\x80\\x99m talking!\\xe2\\x80\\x9d\\r\\n\\r\\nJust then her head struck against the roof of the hall: in fact she was\\r\\nnow more than nine feet high, and she at once took up the little golden\\r\\nkey and hurried off to the garden door.\\r\\n\\r\\nPoor Alice! It was as much as she could do, lying down on one side, to\\r\\nlook through into the garden with one eye; but to get through was more\\r\\nhopeless than ever: she sat down and began to cry again.\\r\\n\\r\\n\\xe2\\x80\\x9cYou ought to be ashamed of yourself,\\xe2\\x80\\x9d said Alice, \\xe2\\x80\\x9ca great girl like\\r\\nyou,\\xe2\\x80\\x9d (she might well say this), \\xe2\\x80\\x9cto go on crying in this way! Stop\\r\\nthis moment, I tell you!\\xe2\\x80\\x9d But she went on all the same, shedding\\r\\ngallons of tears, until there was a large pool all round her, about\\r\\nfour inches deep and reaching half down the hall.\\r\\n\\r\\nAfter a time she heard a little pattering of feet in the distance, and\\r\\nshe hastily dried her eyes to see what was coming. It was the White\\r\\nRabbit returning, splendidly dressed, with a pair of white kid gloves\\r\\nin one hand and a large fan in the other: he came trotting along in a\\r\\ngreat hurry, muttering to himself as he came, \\xe2\\x80\\x9cOh! the Duchess, the\\r\\nDuchess! Oh! won\\xe2\\x80\\x99t she be savage if I\\xe2\\x80\\x99ve kept her waiting!\\xe2\\x80\\x9d Alice felt\\r\\nso desperate that she was ready to ask help of any one; so, when the\\r\\nRabbit came near her, she began, in a low, timid voice, \\xe2\\x80\\x9cIf you please,\\r\\nsir\\xe2\\x80\\x94\\xe2\\x80\\x9d The Rabbit started violently, dropped the white kid gloves and\\r\\nthe fan, and skurried away into the darkness as hard as he could go.\\r\\n\\r\\nAlice took up the fan and gloves, and, as the hall was very hot, she\\r\\nkept fanning herself all the time she went on talking: \\xe2\\x80\\x9cDear, dear! How\\r\\nqueer everything is to-day! And yesterday things went on just as usual.\\r\\nI wonder if I\\xe2\\x80\\x99ve been changed in the night? Let me think: was I the\\r\\nsame when I got up this morning? I almost think I can remember feeling\\r\\na little different. But if I\\xe2\\x80\\x99m not the same, the next question is, Who\\r\\nin the world am I? Ah, _that\\xe2\\x80\\x99s_ the great puzzle!\\xe2\\x80\\x9d And she began\\r\\nthinking over all the children she knew that were of the same age as\\r\\nherself, to see if she could have been changed for any of them.\\r\\n\\r\\n\\xe2\\x80\\x9cI\\xe2\\x80\\x99m sure I\\xe2\\x80\\x99m not Ada,\\xe2\\x80\\x9d she said, \\xe2\\x80\\x9cfor her hair goes in such long\\r\\nringlets, and mine doesn\\xe2\\x80\\x99t go in ringlets at all; and I\\xe2\\x80\\x99m sure I can\\xe2\\x80\\x99t\\r\\nbe Mabel, for I know all sorts of things, and she, oh! she knows such a\\r\\nvery little! Besides, _she\\xe2\\x80\\x99s_ she, and _I\\xe2\\x80\\x99m_ I, and\\xe2\\x80\\x94oh dear, how\\r\\npuzzling it all is! I\\xe2\\x80\\x99ll try if I know all the things I used to know.\\r\\nLet me see: four times five is twelve, and four times six is thirteen,\\r\\nand four times seven is\\xe2\\x80\\x94oh dear! I shall never get to twenty at that\\r\\nrate! However, the Multiplication Table doesn\\xe2\\x80\\x99t signify: let\\xe2\\x80\\x99s try\\r\\nGeography. London is the capital of Paris, and Paris is the capital of\\r\\nRome, and Rome\\xe2\\x80\\x94no, _that\\xe2\\x80\\x99s_ all wrong, I\\xe2\\x80\\x99m certain! I must have been\\r\\nchanged for Mabel! I\\xe2\\x80\\x99ll try and say \\xe2\\x80\\x98_How doth the little_\\xe2\\x80\\x94\\xe2\\x80\\x99\\xe2\\x80\\x9d and she\\r\\ncrossed her hands on her lap as if she were saying lessons, and began\\r\\nto repeat it, but her voice sounded hoarse and strange, and the words\\r\\ndid not come the same as they used to do:\\xe2\\x80\\x94\\r\\n\\r\\n\\xe2\\x80\\x9cHow doth the little crocodile\\r\\n    Improve his shining tail,\\r\\nAnd pour the waters of the Nile\\r\\n    On every golden scale!\\r\\n\\r\\n\\xe2\\x80\\x9cHow cheerfully he seems to grin,\\r\\n    How neatly spread his claws,\\r\\nAnd welcome little fishes in\\r\\n    With gently smiling jaws!\\xe2\\x80\\x9d\\r\\n\\r\\n\\r\\n\\xe2\\x80\\x9cI\\xe2\\x80\\x99m sure those are not the right words,\\xe2\\x80\\x9d said poor Alice, and her eyes\\r\\nfilled with tears again as she went on, \\xe2\\x80\\x9cI must be Mabel after all, and\\r\\nI shall have to go and live in that poky little house, and have next to\\r\\nno toys to play with, and oh! ever so many lessons to learn! No, I\\xe2\\x80\\x99ve\\r\\nmade up my mind about it; if I\\xe2\\x80\\x99m Mabel, I\\xe2\\x80\\x99ll stay down here! It\\xe2\\x80\\x99ll be\\r\\nno use their putting their heads down and saying \\xe2\\x80\\x98Come up again, dear!\\xe2\\x80\\x99\\r\\nI shall only look up and say \\xe2\\x80\\x98Who am I then? Tell me that first, and\\r\\nthen, if I like being that person, I\\xe2\\x80\\x99ll come up: if not, I\\xe2\\x80\\x99ll stay down\\r\\nhere till I\\xe2\\x80\\x99m somebody else\\xe2\\x80\\x99\\xe2\\x80\\x94but, oh dear!\\xe2\\x80\\x9d cried Alice, with a sudden\\r\\nburst of tears, \\xe2\\x80\\x9cI do wish they _would_ put their heads down! I am so\\r\\n_very_ tired of being all alone here!\\xe2\\x80\\x9d\\r\\n\\r\\nAs she said this she looked down at her hands, and was surprised to see\\r\\nthat she had put on one of the Rabbit\\xe2\\x80\\x99s little white kid gloves while\\r\\nshe was talking. \\xe2\\x80\\x9cHow _can_ I have done that?\\xe2\\x80\\x9d she thought. \\xe2\\x80\\x9cI must be\\r\\ngrowing small again.\\xe2\\x80\\x9d She got up and went to the table to measure\\r\\nherself by it, and found that, as nearly as she could guess, she was\\r\\nnow about two feet high, and was going on shrinking rapidly: she soon\\r\\nfound out that the cause of this was the fan she was holding, and she\\r\\ndropped it hastily, just in time to avoid shrinking away altogether.\\r\\n\\r\\n\\xe2\\x80\\x9cThat _was_ a narrow escape!\\xe2\\x80\\x9d said Alice, a good deal frightened at the\\r\\nsudden change, but very glad to find herself still in existence; \\xe2\\x80\\x9cand\\r\\nnow for the garden!\\xe2\\x80\\x9d and she ran with all speed back to the little\\r\\ndoor: but, alas! the little door was shut again, and the little golden\\r\\nkey was lying on the glass table as before, \\xe2\\x80\\x9cand things are worse than\\r\\never,\\xe2\\x80\\x9d thought the poor child, \\xe2\\x80\\x9cfor I never was so small as this\\r\\nbefore, never! And I declare it\\xe2\\x80\\x99s too bad, that it is!\\xe2\\x80\\x9d\\r\\n\\r\\nAs she said these words her foot slipped, and in another moment,\\r\\nsplash! she was up to her chin in salt water. Her first idea was that\\r\\nshe had somehow fallen into the sea, \\xe2\\x80\\x9cand in that case I can go back by\\r\\nrailway,\\xe2\\x80\\x9d she said to herself. (Alice had been to the seaside once in\\r\\nher life, and had come to the general conclusion, that wherever you go\\r\\nto on the English coast you find a number of bathing machines in the\\r\\nsea, some children digging in the sand with wooden spades, then a row\\r\\nof lodging houses, and behind them a railway station.) However, she\\r\\nsoon made out that she was in the pool of tears which she had wept when\\r\\nshe was nine feet high.\\r\\n\\r\\n\\xe2\\x80\\x9cI wish I hadn\\xe2\\x80\\x99t cried so much!\\xe2\\x80\\x9d said Alice, as she swam about, trying\\r\\nto find her way out. \\xe2\\x80\\x9cI shall be punished for it now, I suppose, by\\r\\nbeing drowned in my own tears! That _will_ be a queer thing, to be\\r\\nsure! However, everything is queer to-day.\\xe2\\x80\\x9d\\r\\n\\r\\nJust then she heard something splashing about in the pool a little way\\r\\noff, and she swam nearer to make out what it was: at first she thought\\r\\nit must be a walrus or hippopotamus, but then she remembered how small\\r\\nshe was now, and she soon made out that it was only a mouse that had\\r\\nslipped in like herself.\\r\\n\\r\\n\\xe2\\x80\\x9cWould it be of any use, now,\\xe2\\x80\\x9d thought Alice, \\xe2\\x80\\x9cto speak to this mouse?\\r\\nEverything is so out-of-the-way down here, that I should think very\\r\\nlikely it can talk: at any rate, there\\xe2\\x80\\x99s no harm in trying.\\xe2\\x80\\x9d So she\\r\\nbegan: \\xe2\\x80\\x9cO Mouse, do you know the way out of this pool? I am very tired\\r\\nof swimming about here, O Mouse!\\xe2\\x80\\x9d (Alice thought this must be the right\\r\\nway of speaking to a mouse: she had never done such a thing before, but\\r\\nshe remembered having seen in her brother\\xe2\\x80\\x99s Latin Grammar, \\xe2\\x80\\x9cA mouse\\xe2\\x80\\x94of\\r\\na mouse\\xe2\\x80\\x94to a mouse\\xe2\\x80\\x94a mouse\\xe2\\x80\\x94O mouse!\\xe2\\x80\\x9d) The Mouse looked at her rather\\r\\ninquisitively, and seemed to her to wink with one of its little eyes,\\r\\nbut it said nothing.\\r\\n\\r\\n\\xe2\\x80\\x9cPerhaps it doesn\\xe2\\x80\\x99t understand English,\\xe2\\x80\\x9d thought Alice; \\xe2\\x80\\x9cI daresay it\\xe2\\x80\\x99s\\r\\na French mouse, come over with William the Conqueror.\\xe2\\x80\\x9d (For, with all\\r\\nher knowledge of history, Alice had no very clear notion how long ago\\r\\nanything had happened.) So she began again: \\xe2\\x80\\x9cO\\xc3\\xb9 est ma chatte?\\xe2\\x80\\x9d which\\r\\nwas the first sentence in her French lesson-book. The Mouse gave a\\r\\nsudden leap out of the water, and seemed to quiver all over with\\r\\nfright. \\xe2\\x80\\x9cOh, I beg your pardon!\\xe2\\x80\\x9d cried Alice hastily, afraid that she\\r\\nhad hurt the poor animal\\xe2\\x80\\x99s feelings. \\xe2\\x80\\x9cI quite forgot you didn\\xe2\\x80\\x99t like\\r\\ncats.\\xe2\\x80\\x9d\\r\\n\\r\\n\\xe2\\x80\\x9cNot like cats!\\xe2\\x80\\x9d cried the Mouse, in a shrill, passionate voice. \\xe2\\x80\\x9cWould\\r\\n_you_ like cats if you were me?\\xe2\\x80\\x9d\\r\\n\\r\\n\\xe2\\x80\\x9cWell, perhaps not,\\xe2\\x80\\x9d said Alice in a soothing tone: \\xe2\\x80\\x9cdon\\xe2\\x80\\x99t be angry\\r\\nabout it. And yet I wish I could show you our cat Dinah: I think you\\xe2\\x80\\x99d\\r\\ntake a fancy to cats if you could only see her. She is such a dear\\r\\nquiet thing,\\xe2\\x80\\x9d Alice went on, half to herself, as she swam lazily about\\r\\nin the pool, \\xe2\\x80\\x9cand she sits purring so nicely by the fire, licking her\\r\\npaws and washing her face\\xe2\\x80\\x94and she is such a nice soft thing to\\r\\nnurse\\xe2\\x80\\x94and she\\xe2\\x80\\x99s such a capital one for catching mice\\xe2\\x80\\x94oh, I beg your\\r\\npardon!\\xe2\\x80\\x9d cried Alice again, for this time the Mouse was bristling all\\r\\nover, and she felt certain it must be really offended. \\xe2\\x80\\x9cWe won\\xe2\\x80\\x99t talk\\r\\nabout her any more if you\\xe2\\x80\\x99d rather not.\\xe2\\x80\\x9d\\r\\n\\r\\n\\xe2\\x80\\x9cWe indeed!\\xe2\\x80\\x9d cried the Mouse, who was trembling down to the end of his\\r\\ntail. \\xe2\\x80\\x9cAs if _I_ would talk on such a subject! Our family always\\r\\n_hated_ cats: nasty, low, vulgar things! Don\\xe2\\x80\\x99t let me hear the name\\r\\nagain!\\xe2\\x80\\x9d\\r\\n\\r\\n\\xe2\\x80\\x9cI won\\xe2\\x80\\x99t indeed!\\xe2\\x80\\x9d said Alice, in a great hurry to change the subject of\\r\\nconversation. \\xe2\\x80\\x9cAre you\\xe2\\x80\\x94are you fond\\xe2\\x80\\x94of\\xe2\\x80\\x94of dogs?\\xe2\\x80\\x9d The Mouse did not\\r\\nanswer, so Alice went on eagerly: \\xe2\\x80\\x9cThere is such a nice little dog near\\r\\nour house I should like to show you! A little bright-eyed terrier, you\\r\\nknow, with oh, such long curly brown hair! And it\\xe2\\x80\\x99ll fetch things when\\r\\nyou throw them, and it\\xe2\\x80\\x99ll sit up and beg for its dinner, and all sorts\\r\\nof things\\xe2\\x80\\x94I can\\xe2\\x80\\x99t remember half of them\\xe2\\x80\\x94and it belongs to a farmer, you\\r\\nknow, and he says it\\xe2\\x80\\x99s so useful, it\\xe2\\x80\\x99s worth a hundred pounds! He says\\r\\nit kills all the rats and\\xe2\\x80\\x94oh dear!\\xe2\\x80\\x9d cried Alice in a sorrowful tone,\\r\\n\\xe2\\x80\\x9cI\\xe2\\x80\\x99m afraid I\\xe2\\x80\\x99ve offended it again!\\xe2\\x80\\x9d For the Mouse was swimming away\\r\\nfrom her as hard as it could go, and making quite a commotion in the\\r\\npool as it went.\\r\\n\\r\\nSo she called softly after it, \\xe2\\x80\\x9cMouse dear! Do come back again, and we\\r\\nwon\\xe2\\x80\\x99t talk about cats or dogs either, if you don\\xe2\\x80\\x99t like them!\\xe2\\x80\\x9d When the\\r\\nMouse heard this, it turned round and swam slowly back to her: its face\\r\\nwas quite pale (with passion, Alice thought), and it said in a low\\r\\ntrembling voice, \\xe2\\x80\\x9cLet us get to the shore, and then I\\xe2\\x80\\x99ll tell you my\\r\\nhistory, and you\\xe2\\x80\\x99ll understand why it is I hate cats and dogs.\\xe2\\x80\\x9d\\r\\n\\r\\nIt was high time to go, for the pool was getting quite crowded with the\\r\\nbirds and animals that had fallen into it: there were a Duck and a\\r\\nDodo, a Lory and an Eaglet, and several other curious creatures. Alice\\r\\nled the way, and the whole party swam to the shore.\\r\\n\\r\\n\\r\\n\\r\\n\\r\\nCHAPTER III.\\r\\nA Caucus-Race and a Long Tale\\r\\n\\r\\n\\r\\nThey were indeed a queer-looking party that assembled on the bank\\xe2\\x80\\x94the\\r\\nbirds with draggled feathers, the animals with their fur clinging close\\r\\nto them, and all dripping wet, cross, and uncomfortable.\\r\\n\\r\\nThe first question of course was, how to get dry again: they had a\\r\\nconsultation about this, and after a few minutes it seemed quite\\r\\nnatural to Alice to find herself talking familiarly with them, as if\\r\\nshe had known them all her life. Indeed, she had quite a long argument\\r\\nwith the Lory, who at last turned sulky, and would only say, \\xe2\\x80\\x9cI am\\r\\nolder than you, and must know better;\\xe2\\x80\\x9d and this Alice would not allow\\r\\nwithout knowing how old it was, and, as the Lory positively refused to\\r\\ntell its age, there was no more to be said.\\r\\n\\r\\nAt last the Mouse, who seemed to be a person of authority among them,\\r\\ncalled out, \\xe2\\x80\\x9cSit down, all of you, and listen to me! _I\\xe2\\x80\\x99ll_ soon make\\r\\nyou dry enough!\\xe2\\x80\\x9d They all sat down at once, in a large ring, with the\\r\\nMouse in the middle. Alice kept her eyes anxiously fixed on it, for she\\r\\nfelt sure she would catch a bad cold if she did not get dry very soon.\\r\\n\\r\\n\\xe2\\x80\\x9cAhem!\\xe2\\x80\\x9d said the Mouse with an important air, \\xe2\\x80\\x9care you all ready? This\\r\\nis the driest thing I know. Silence all round, if you please! \\xe2\\x80\\x98William\\r\\nthe Conqueror, whose cause was favoured by the pope, was soon submitted\\r\\nto by the English, who wanted leaders, and had been of late much\\r\\naccustomed to usurpation and conquest. Edwin and Morcar, the earls of\\r\\nMercia and Northumbria\\xe2\\x80\\x94\\xe2\\x80\\x99\\xe2\\x80\\x9d\\r\\n\\r\\n\\xe2\\x80\\x9cUgh!\\xe2\\x80\\x9d said the Lory, with a shiver.\\r\\n\\r\\n\\xe2\\x80\\x9cI beg your pardon!\\xe2\\x80\\x9d said the Mouse, frowning, but very politely: \\xe2\\x80\\x9cDid\\r\\nyou speak?\\xe2\\x80\\x9d\\r\\n\\r\\n\\xe2\\x80\\x9cNot I!\\xe2\\x80\\x9d said the Lory hastily.\\r\\n\\r\\n\\xe2\\x80\\x9cI thought you did,\\xe2\\x80\\x9d said the Mouse. \\xe2\\x80\\x9c\\xe2\\x80\\x94I proceed. \\xe2\\x80\\x98Edwin and Morcar,\\r\\nthe earls of Mercia and Northumbria, declared for him: and even\\r\\nStigand, the patriotic archbishop of Canterbury, found it advisable\\xe2\\x80\\x94\\xe2\\x80\\x99\\xe2\\x80\\x9d\\r\\n\\r\\n\\xe2\\x80\\x9cFound _what_?\\xe2\\x80\\x9d said the Duck.\\r\\n\\r\\n\\xe2\\x80\\x9cFound _it_,\\xe2\\x80\\x9d the Mouse replied rather crossly: \\xe2\\x80\\x9cof course you know\\r\\nwhat \\xe2\\x80\\x98it\\xe2\\x80\\x99 means.\\xe2\\x80\\x9d\\r\\n\\r\\n\\xe2\\x80\\x9cI know what \\xe2\\x80\\x98it\\xe2\\x80\\x99 means well enough, when _I_ find a thing,\\xe2\\x80\\x9d said the\\r\\nDuck: \\xe2\\x80\\x9cit\\xe2\\x80\\x99s generally a frog or a worm. The question is, what did the\\r\\narchbishop find?\\xe2\\x80\\x9d\\r\\n\\r\\nThe Mouse did not notice this question, but hurriedly went on, \\xe2\\x80\\x9c\\xe2\\x80\\x98\\xe2\\x80\\x94found\\r\\nit advisable to go with Edgar Atheling to meet William and offer him\\r\\nthe crown. William\\xe2\\x80\\x99s conduct at first was moderate. But the insolence\\r\\nof his Normans\\xe2\\x80\\x94\\xe2\\x80\\x99 How are you getting on now, my dear?\\xe2\\x80\\x9d it continued,\\r\\nturning to Alice as it spoke.\\r\\n\\r\\n\\xe2\\x80\\x9cAs wet as ever,\\xe2\\x80\\x9d said Alice in a melancholy tone: \\xe2\\x80\\x9cit doesn\\xe2\\x80\\x99t seem to\\r\\ndry me at all.\\xe2\\x80\\x9d\\r\\n\\r\\n\\xe2\\x80\\x9cIn that case,\\xe2\\x80\\x9d said the Dodo solemnly, rising to its feet, \\xe2\\x80\\x9cI move\\r\\nthat the meeting adjourn, for the immediate adoption of more energetic\\r\\nremedies\\xe2\\x80\\x94\\xe2\\x80\\x9d\\r\\n\\r\\n\\xe2\\x80\\x9cSpeak English!\\xe2\\x80\\x9d said the Eaglet. \\xe2\\x80\\x9cI don\\xe2\\x80\\x99t know the meaning of half\\r\\nthose long words, and, what\\xe2\\x80\\x99s more, I don\\xe2\\x80\\x99t believe you do either!\\xe2\\x80\\x9d And\\r\\nthe Eaglet bent down its head to hide a smile: some of the other birds\\r\\ntittered audibly.\\r\\n\\r\\n\\xe2\\x80\\x9cWhat I was going to say,\\xe2\\x80\\x9d said the Dodo in an offended tone, \\xe2\\x80\\x9cwas,\\r\\nthat the best thing to get us dry would be a Caucus-race.\\xe2\\x80\\x9d\\r\\n\\r\\n\\xe2\\x80\\x9cWhat _is_ a Caucus-race?\\xe2\\x80\\x9d said Alice; not that she wanted much to\\r\\nknow, but the Dodo had paused as if it thought that _somebody_ ought to\\r\\nspeak, and no one else seemed inclined to say anything.\\r\\n\\r\\n\\xe2\\x80\\x9cWhy,\\xe2\\x80\\x9d said the Dodo, \\xe2\\x80\\x9cthe best way to explain it is to do it.\\xe2\\x80\\x9d (And,\\r\\nas you might like to try the thing yourself, some winter day, I will\\r\\ntell you how the Dodo managed it.)\\r\\n\\r\\nFirst it marked out a race-course, in a sort of circle, (\\xe2\\x80\\x9cthe exact\\r\\nshape doesn\\xe2\\x80\\x99t matter,\\xe2\\x80\\x9d it said,) and then all the party were placed\\r\\nalong the course, here and there. There was no \\xe2\\x80\\x9cOne, two, three, and\\r\\naway,\\xe2\\x80\\x9d but they began running when they liked, and left off when they\\r\\nliked, so that it was not easy to know when the race was over. However,\\r\\nwhen they had been running half an hour or so, and were quite dry\\r\\nagain, the Dodo suddenly called out \\xe2\\x80\\x9cThe race is over!\\xe2\\x80\\x9d and they all\\r\\ncrowded round it, panting, and asking, \\xe2\\x80\\x9cBut who has won?\\xe2\\x80\\x9d\\r\\n\\r\\nThis question the Dodo could not answer without a great deal of\\r\\nthought, and it sat for a long time with one finger pressed upon its\\r\\nforehead (the position in which you usually see Shakespeare, in the\\r\\npictures of him), while the rest waited in silence. At last the Dodo\\r\\nsaid, \\xe2\\x80\\x9c_Everybody_ has won, and all must have prizes.\\xe2\\x80\\x9d\\r\\n\\r\\n\\xe2\\x80\\x9cBut who is to give the prizes?\\xe2\\x80\\x9d quite a chorus of voices asked.\\r\\n\\r\\n\\xe2\\x80\\x9cWhy, _she_, of course,\\xe2\\x80\\x9d said the Dodo, pointing to Alice with one\\r\\nfinger; and the whole party at once crowded round her, calling out in a\\r\\nconfused way, \\xe2\\x80\\x9cPrizes! Prizes!\\xe2\\x80\\x9d\\r\\n\\r\\nAlice had no idea what to do, and in despair she put her hand in her\\r\\npocket, and pulled out a box of comfits, (luckily the salt water had\\r\\nnot got into it), and handed them round as prizes. There was exactly\\r\\none a-piece, all round.\\r\\n\\r\\n\\xe2\\x80\\x9cBut she must have a prize herself, you know,\\xe2\\x80\\x9d said the Mouse.\\r\\n\\r\\n\\xe2\\x80\\x9cOf course,\\xe2\\x80\\x9d the Dodo replied very gravely. \\xe2\\x80\\x9cWhat else have you got in\\r\\nyour pocket?\\xe2\\x80\\x9d he went on, turning to Alice.\\r\\n\\r\\n\\xe2\\x80\\x9cOnly a thimble,\\xe2\\x80\\x9d said Alice sadly.\\r\\n\\r\\n\\xe2\\x80\\x9cHand it over here,\\xe2\\x80\\x9d said the Dodo.\\r\\n\\r\\nThen they all crowded round her once more, while the Dodo solemnly\\r\\npresented the thimble, saying \\xe2\\x80\\x9cWe beg your acceptance of this elegant\\r\\nthimble;\\xe2\\x80\\x9d and, when it had finished this short speech, they all\\r\\ncheered.\\r\\n\\r\\nAlice thought the whole thing very absurd, but they all looked so grave\\r\\nthat she did not dare to laugh; and, as she could not think of anything\\r\\nto say, she simply bowed, and took the thimble, looking as solemn as\\r\\nshe could.\\r\\n\\r\\nThe next thing was to eat the comfits: this caused some noise and\\r\\nconfusion, as the large birds complained that they could not taste\\r\\ntheirs, and the small ones choked and had to be patted on the back.\\r\\nHowever, it was over at last, and they sat down again in a ring, and\\r\\nbegged the Mouse to tell them something more.\\r\\n\\r\\n\\xe2\\x80\\x9cYou promised to tell me your history, you know,\\xe2\\x80\\x9d said Alice, \\xe2\\x80\\x9cand why\\r\\nit is you hate\\xe2\\x80\\x94C and D,\\xe2\\x80\\x9d she added in a whisper, half afraid that it\\r\\nwould be offended again.\\r\\n\\r\\n\\xe2\\x80\\x9cMine is a long and a sad tale!\\xe2\\x80\\x9d said the Mouse, turning to Alice, and\\r\\nsighing.\\r\\n\\r\\n\\xe2\\x80\\x9cIt _is_ a long tail, certainly,\\xe2\\x80\\x9d said Alice, looking down with wonder\\r\\nat the Mouse\\xe2\\x80\\x99s tail; \\xe2\\x80\\x9cbut why do you call it sad?\\xe2\\x80\\x9d And she kept on\\r\\npuzzling about it while the Mouse was speaking, so that her idea of the\\r\\ntale was something like this:\\xe2\\x80\\x94\\r\\n\\r\\n         \\xe2\\x80\\x9cFury said to a mouse, That he met in the house, \\xe2\\x80\\x98Let us both\\r\\n         go to law: _I_ will prosecute _you_.\\xe2\\x80\\x94Come, I\\xe2\\x80\\x99ll take no\\r\\n         denial; We must have a trial: For really this morning I\\xe2\\x80\\x99ve\\r\\n         nothing to do.\\xe2\\x80\\x99 Said the mouse to the cur, \\xe2\\x80\\x98Such a trial, dear\\r\\n         sir, With no jury or judge, would be wasting our breath.\\xe2\\x80\\x99\\r\\n         \\xe2\\x80\\x98I\\xe2\\x80\\x99ll be judge, I\\xe2\\x80\\x99ll be jury,\\xe2\\x80\\x99 Said cunning old Fury: \\xe2\\x80\\x98I\\xe2\\x80\\x99ll\\r\\n         try the whole cause, and condemn you to death.\\xe2\\x80\\x99\\xe2\\x80\\x9d\\r\\n\\r\\n\\xe2\\x80\\x9cYou are not attending!\\xe2\\x80\\x9d said the Mouse to Alice severely. \\xe2\\x80\\x9cWhat are\\r\\nyou thinking of?\\xe2\\x80\\x9d\\r\\n\\r\\n\\xe2\\x80\\x9cI beg your pardon,\\xe2\\x80\\x9d said Alice very humbly: \\xe2\\x80\\x9cyou had got to the fifth\\r\\nbend, I think?\\xe2\\x80\\x9d\\r\\n\\r\\n\\xe2\\x80\\x9cI had _not!_\\xe2\\x80\\x9d cried the Mouse, sharply and very angrily.\\r\\n\\r\\n\\xe2\\x80\\x9cA knot!\\xe2\\x80\\x9d said Alice, always ready to make herself useful, and looking\\r\\nanxiously about her. \\xe2\\x80\\x9cOh, do let me help to undo it!\\xe2\\x80\\x9d\\r\\n\\r\\n\\xe2\\x80\\x9cI shall do nothing of the sort,\\xe2\\x80\\x9d said the Mouse, getting up and\\r\\nwalking away. \\xe2\\x80\\x9cYou insult me by talking such nonsense!\\xe2\\x80\\x9d\\r\\n\\r\\n\\xe2\\x80\\x9cI didn\\xe2\\x80\\x99t mean it!\\xe2\\x80\\x9d pleaded poor Alice. \\xe2\\x80\\x9cBut you\\xe2\\x80\\x99re so easily offended,\\r\\nyou know!\\xe2\\x80\\x9d\\r\\n\\r\\nThe Mouse only growled in reply.\\r\\n\\r\\n\\xe2\\x80\\x9cPlease come back and finish your story!\\xe2\\x80\\x9d Alice called after it; and\\r\\nthe others all joined in chorus, \\xe2\\x80\\x9cYes, please do!\\xe2\\x80\\x9d but the Mouse only\\r\\nshook its head impatiently, and walked a little quicker.\\r\\n\\r\\n\\xe2\\x80\\x9cWhat a pity it wouldn\\xe2\\x80\\x99t stay!\\xe2\\x80\\x9d sighed the Lory, as soon as it was\\r\\nquite out of sight; and an old Crab took the opportunity of saying to\\r\\nher daughter \\xe2\\x80\\x9cAh, my dear! Let this be a lesson to you never to lose\\r\\n_your_ temper!\\xe2\\x80\\x9d \\xe2\\x80\\x9cHold your tongue, Ma!\\xe2\\x80\\x9d said the young Crab, a little\\r\\nsnappishly. \\xe2\\x80\\x9cYou\\xe2\\x80\\x99re enough to try the patience of an oyster!\\xe2\\x80\\x9d\\r\\n\\r\\n\\xe2\\x80\\x9cI wish I had our Dinah here, I know I do!\\xe2\\x80\\x9d said Alice aloud,\\r\\naddressing nobody in particular. \\xe2\\x80\\x9cShe\\xe2\\x80\\x99d soon fetch it back!\\xe2\\x80\\x9d\\r\\n\\r\\n\\xe2\\x80\\x9cAnd who is Dinah, if I might venture to ask the question?\\xe2\\x80\\x9d said the\\r\\nLory.\\r\\n\\r\\nAlice replied eagerly, for she was always ready to talk about her pet:\\r\\n\\xe2\\x80\\x9cDinah\\xe2\\x80\\x99s our cat. And she\\xe2\\x80\\x99s such a capital one for catching mice you\\r\\ncan\\xe2\\x80\\x99t think! And oh, I wish you could see her after the birds! Why,\\r\\nshe\\xe2\\x80\\x99ll eat a little bird as soon as look at it!\\xe2\\x80\\x9d\\r\\n\\r\\nThis speech caused a remarkable sensation among the party. Some of the\\r\\nbirds hurried off at once: one old Magpie began wrapping itself up very\\r\\ncarefully, remarking, \\xe2\\x80\\x9cI really must be getting home; the night-air\\r\\ndoesn\\xe2\\x80\\x99t suit my throat!\\xe2\\x80\\x9d and a Canary called out in a trembling voice\\r\\nto its children, \\xe2\\x80\\x9cCome away, my dears! It\\xe2\\x80\\x99s high time you were all in\\r\\nbed!\\xe2\\x80\\x9d On various pretexts they all moved off, and Alice was soon left\\r\\nalone.\\r\\n\\r\\n\\xe2\\x80\\x9cI wish I hadn\\xe2\\x80\\x99t mentioned Dinah!\\xe2\\x80\\x9d she said to herself in a melancholy\\r\\ntone. \\xe2\\x80\\x9cNobody seems to like her, down here, and I\\xe2\\x80\\x99m sure she\\xe2\\x80\\x99s the best\\r\\ncat in the world! Oh, my dear Dinah! I wonder if I shall ever see you\\r\\nany more!\\xe2\\x80\\x9d And here poor Alice began to cry again, for she felt very\\r\\nlonely and low-spirited. In a little while, however, she again heard a\\r\\nlittle pattering of footsteps in the distance, and she looked up\\r\\neagerly, half hoping that the Mouse had changed his mind, and was\\r\\ncoming back to finish his story.\\r\\n\\r\\n\\r\\n\\r\\n\\r\\nCHAPTER IV.\\r\\nThe Rabbit Sends in a Little Bill\\r\\n\\r\\n\\r\\nIt was the White Rabbit, trotting slowly back again, and looking\\r\\nanxiously about as it went, as if it had lost something; and she heard\\r\\nit muttering to itself \\xe2\\x80\\x9cThe Duchess! The Duchess! Oh my dear paws! Oh\\r\\nmy fur and whiskers! She\\xe2\\x80\\x99ll get me executed, as sure as ferrets are\\r\\nferrets! Where _can_ I have dropped them, I wonder?\\xe2\\x80\\x9d Alice guessed in a\\r\\nmoment that it was looking for the fan and the pair of white kid\\r\\ngloves, and she very good-naturedly began hunting about for them, but\\r\\nthey were nowhere to be seen\\xe2\\x80\\x94everything seemed to have changed since\\r\\nher swim in the pool, and the great hall, with the glass table and the\\r\\nlittle door, had vanished completely.\\r\\n\\r\\nVery soon the Rabbit noticed Alice, as she went hunting about, and\\r\\ncalled out to her in an angry tone, \\xe2\\x80\\x9cWhy, Mary Ann, what _are_ you\\r\\ndoing out here? Run home this moment, and fetch me a pair of gloves and\\r\\na fan! Quick, now!\\xe2\\x80\\x9d And Alice was so much frightened that she ran off\\r\\nat once in the direction it pointed to, without trying to explain the\\r\\nmistake it had made.\\r\\n\\r\\n\\xe2\\x80\\x9cHe took me for his housemaid,\\xe2\\x80\\x9d she said to herself as she ran. \\xe2\\x80\\x9cHow\\r\\nsurprised he\\xe2\\x80\\x99ll be when he finds out who I am! But I\\xe2\\x80\\x99d better take him\\r\\nhis fan and gloves\\xe2\\x80\\x94that is, if I can find them.\\xe2\\x80\\x9d As she said this, she\\r\\ncame upon a neat little house, on the door of which was a bright brass\\r\\nplate with the name \\xe2\\x80\\x9cW. RABBIT,\\xe2\\x80\\x9d engraved upon it. She went in without\\r\\nknocking, and hurried upstairs, in great fear lest she should meet the\\r\\nreal Mary Ann, and be turned out of the house before she had found the\\r\\nfan and gloves.\\r\\n\\r\\n\\xe2\\x80\\x9cHow queer it seems,\\xe2\\x80\\x9d Alice said to herself, \\xe2\\x80\\x9cto be going messages for\\r\\na rabbit! I suppose Dinah\\xe2\\x80\\x99ll be sending me on messages next!\\xe2\\x80\\x9d And she\\r\\nbegan fancying the sort of thing that would happen: \\xe2\\x80\\x9c\\xe2\\x80\\x98Miss Alice! Come\\r\\nhere directly, and get ready for your walk!\\xe2\\x80\\x99 \\xe2\\x80\\x98Coming in a minute,\\r\\nnurse! But I\\xe2\\x80\\x99ve got to see that the mouse doesn\\xe2\\x80\\x99t get out.\\xe2\\x80\\x99 Only I\\r\\ndon\\xe2\\x80\\x99t think,\\xe2\\x80\\x9d Alice went on, \\xe2\\x80\\x9cthat they\\xe2\\x80\\x99d let Dinah stop in the house\\r\\nif it began ordering people about like that!\\xe2\\x80\\x9d\\r\\n\\r\\nBy this time she had found her way into a tidy little room with a table\\r\\nin the window, and on it (as she had hoped) a fan and two or three\\r\\npairs of tiny white kid gloves: she took up the fan and a pair of the\\r\\ngloves, and was just going to leave the room, when her eye fell upon a\\r\\nlittle bottle that stood near the looking-glass. There was no label\\r\\nthis time with the words \\xe2\\x80\\x9cDRINK ME,\\xe2\\x80\\x9d but nevertheless she uncorked it\\r\\nand put it to her lips. \\xe2\\x80\\x9cI know _something_ interesting is sure to\\r\\nhappen,\\xe2\\x80\\x9d she said to herself, \\xe2\\x80\\x9cwhenever I eat or drink anything; so\\r\\nI\\xe2\\x80\\x99ll just see what this bottle does. I do hope it\\xe2\\x80\\x99ll make me grow large\\r\\nagain, for really I\\xe2\\x80\\x99m quite tired of being such a tiny little thing!\\xe2\\x80\\x9d\\r\\n\\r\\nIt did so indeed, and much sooner than she had expected: before she had\\r\\ndrunk half the bottle, she found her head pressing against the ceiling,\\r\\nand had to stoop to save her neck from being broken. She hastily put\\r\\ndown the bottle, saying to herself \\xe2\\x80\\x9cThat\\xe2\\x80\\x99s quite enough\\xe2\\x80\\x94I hope I shan\\xe2\\x80\\x99t\\r\\ngrow any more\\xe2\\x80\\x94As it is, I can\\xe2\\x80\\x99t get out at the door\\xe2\\x80\\x94I do wish I hadn\\xe2\\x80\\x99t\\r\\ndrunk quite so much!\\xe2\\x80\\x9d\\r\\n\\r\\nAlas! it was too late to wish that! She went on growing, and growing,\\r\\nand very soon had to kneel down on the floor: in another minute there\\r\\nwas not even room for this, and she tried the effect of lying down with\\r\\none elbow against the door, and the other arm curled round her head.\\r\\nStill she went on growing, and, as a last resource, she put one arm out\\r\\nof the window, and one foot up the chimney, and said to herself \\xe2\\x80\\x9cNow I\\r\\ncan do no more, whatever happens. What _will_ become of me?\\xe2\\x80\\x9d\\r\\n\\r\\nLuckily for Alice, the little magic bottle had now had its full effect,\\r\\nand she grew no larger: still it was very uncomfortable, and, as there\\r\\nseemed to be no sort of chance of her ever getting out of the room\\r\\nagain, no wonder she felt unhappy.\\r\\n\\r\\n\\xe2\\x80\\x9cIt was much pleasanter at home,\\xe2\\x80\\x9d thought poor Alice, \\xe2\\x80\\x9cwhen one wasn\\xe2\\x80\\x99t\\r\\nalways growing larger and smaller, and being ordered about by mice and\\r\\nrabbits. I almost wish I hadn\\xe2\\x80\\x99t gone down that rabbit-hole\\xe2\\x80\\x94and yet\\xe2\\x80\\x94and\\r\\nyet\\xe2\\x80\\x94it\\xe2\\x80\\x99s rather curious, you know, this sort of life! I do wonder what\\r\\n_can_ have happened to me! When I used to read fairy-tales, I fancied\\r\\nthat kind of thing never happened, and now here I am in the middle of\\r\\none! There ought to be a book written about me, that there ought! And\\r\\nwhen I grow up, I\\xe2\\x80\\x99ll write one\\xe2\\x80\\x94but I\\xe2\\x80\\x99m grown up now,\\xe2\\x80\\x9d she added in a\\r\\nsorrowful tone; \\xe2\\x80\\x9cat least there\\xe2\\x80\\x99s no room to grow up any more _here_.\\xe2\\x80\\x9d\\r\\n\\r\\n\\xe2\\x80\\x9cBut then,\\xe2\\x80\\x9d thought Alice, \\xe2\\x80\\x9cshall I _never_ get any older than I am\\r\\nnow? That\\xe2\\x80\\x99ll be a comfort, one way\\xe2\\x80\\x94never to be an old woman\\xe2\\x80\\x94but\\r\\nthen\\xe2\\x80\\x94always to have lessons to learn! Oh, I shouldn\\xe2\\x80\\x99t like _that!_\\xe2\\x80\\x9d\\r\\n\\r\\n\\xe2\\x80\\x9cOh, you foolish Alice!\\xe2\\x80\\x9d she answered herself. \\xe2\\x80\\x9cHow can you learn\\r\\nlessons in here? Why, there\\xe2\\x80\\x99s hardly room for _you_, and no room at all\\r\\nfor any lesson-books!\\xe2\\x80\\x9d\\r\\n\\r\\nAnd so she went on, taking first one side and then the other, and\\r\\nmaking quite a conversation of it altogether; but after a few minutes\\r\\nshe heard a voice outside, and stopped to listen.\\r\\n\\r\\n\\xe2\\x80\\x9cMary Ann! Mary Ann!\\xe2\\x80\\x9d said the voice. \\xe2\\x80\\x9cFetch me my gloves this moment!\\xe2\\x80\\x9d\\r\\nThen came a little pattering of feet on the stairs. Alice knew it was\\r\\nthe Rabbit coming to look for her, and she trembled till she shook the\\r\\nhouse, quite forgetting that she was now about a thousand times as\\r\\nlarge as the Rabbit, and had no reason to be afraid of it.\\r\\n\\r\\nPresently the Rabbit came up to the door, and tried to open it; but, as\\r\\nthe door opened inwards, and Alice\\xe2\\x80\\x99s elbow was pressed hard against it,\\r\\nthat attempt proved a failure. Alice heard it say to itself \\xe2\\x80\\x9cThen I\\xe2\\x80\\x99ll\\r\\ngo round and get in at the window.\\xe2\\x80\\x9d\\r\\n\\r\\n\\xe2\\x80\\x9c_That_ you won\\xe2\\x80\\x99t!\\xe2\\x80\\x9d thought Alice, and, after waiting till she fancied\\r\\nshe heard the Rabbit just under the window, she suddenly spread out her\\r\\nhand, and made a snatch in the air. She did not get hold of anything,\\r\\nbut she heard a little shriek and a fall, and a crash of broken glass,\\r\\nfrom which she concluded that it was just possible it had fallen into a\\r\\ncucumber-frame, or something of the sort.\\r\\n\\r\\nNext came an angry voice\\xe2\\x80\\x94the Rabbit\\xe2\\x80\\x99s\\xe2\\x80\\x94\\xe2\\x80\\x9cPat! Pat! Where are you?\\xe2\\x80\\x9d And\\r\\nthen a voice she had never heard before, \\xe2\\x80\\x9cSure then I\\xe2\\x80\\x99m here! Digging\\r\\nfor apples, yer honour!\\xe2\\x80\\x9d\\r\\n\\r\\n\\xe2\\x80\\x9cDigging for apples, indeed!\\xe2\\x80\\x9d said the Rabbit angrily. \\xe2\\x80\\x9cHere! Come and\\r\\nhelp me out of _this!_\\xe2\\x80\\x9d (Sounds of more broken glass.)\\r\\n\\r\\n\\xe2\\x80\\x9cNow tell me, Pat, what\\xe2\\x80\\x99s that in the window?\\xe2\\x80\\x9d\\r\\n\\r\\n\\xe2\\x80\\x9cSure, it\\xe2\\x80\\x99s an arm, yer honour!\\xe2\\x80\\x9d (He pronounced it \\xe2\\x80\\x9carrum.\\xe2\\x80\\x9d)\\r\\n\\r\\n\\xe2\\x80\\x9cAn arm, you goose! Who ever saw one that size? Why, it fills the whole\\r\\nwindow!\\xe2\\x80\\x9d\\r\\n\\r\\n\\xe2\\x80\\x9cSure, it does, yer honour: but it\\xe2\\x80\\x99s an arm for all that.\\xe2\\x80\\x9d\\r\\n\\r\\n\\xe2\\x80\\x9cWell, it\\xe2\\x80\\x99s got no business there, at any rate: go and take it away!\\xe2\\x80\\x9d\\r\\n\\r\\nThere was a long silence after this, and Alice could only hear whispers\\r\\nnow and then; such as, \\xe2\\x80\\x9cSure, I don\\xe2\\x80\\x99t like it, yer honour, at all, at\\r\\nall!\\xe2\\x80\\x9d \\xe2\\x80\\x9cDo as I tell you, you coward!\\xe2\\x80\\x9d and at last she spread out her\\r\\nhand again, and made another snatch in the air. This time there were\\r\\n_two_ little shrieks, and more sounds of broken glass. \\xe2\\x80\\x9cWhat a number\\r\\nof cucumber-frames there must be!\\xe2\\x80\\x9d thought Alice. \\xe2\\x80\\x9cI wonder what\\r\\nthey\\xe2\\x80\\x99ll do next! As for pulling me out of the window, I only wish they\\r\\n_could!_ I\\xe2\\x80\\x99m sure _I_ don\\xe2\\x80\\x99t want to stay in here any longer!\\xe2\\x80\\x9d\\r\\n\\r\\nShe waited for some time without hearing anything more: at last came a\\r\\nrumbling of little cartwheels, and the sound of a good many voices all\\r\\ntalking together: she made out the words: \\xe2\\x80\\x9cWhere\\xe2\\x80\\x99s the other\\r\\nladder?\\xe2\\x80\\x94Why, I hadn\\xe2\\x80\\x99t to bring but one; Bill\\xe2\\x80\\x99s got the other\\xe2\\x80\\x94Bill!\\r\\nfetch it here, lad!\\xe2\\x80\\x94Here, put \\xe2\\x80\\x99em up at this corner\\xe2\\x80\\x94No, tie \\xe2\\x80\\x99em\\r\\ntogether first\\xe2\\x80\\x94they don\\xe2\\x80\\x99t reach half high enough yet\\xe2\\x80\\x94Oh! they\\xe2\\x80\\x99ll do\\r\\nwell enough; don\\xe2\\x80\\x99t be particular\\xe2\\x80\\x94Here, Bill! catch hold of this\\r\\nrope\\xe2\\x80\\x94Will the roof bear?\\xe2\\x80\\x94Mind that loose slate\\xe2\\x80\\x94Oh, it\\xe2\\x80\\x99s coming down!\\r\\nHeads below!\\xe2\\x80\\x9d (a loud crash)\\xe2\\x80\\x94\\xe2\\x80\\x9cNow, who did that?\\xe2\\x80\\x94It was Bill, I\\r\\nfancy\\xe2\\x80\\x94Who\\xe2\\x80\\x99s to go down the chimney?\\xe2\\x80\\x94Nay, _I_ shan\\xe2\\x80\\x99t! _You_ do\\r\\nit!\\xe2\\x80\\x94_That_ I won\\xe2\\x80\\x99t, then!\\xe2\\x80\\x94Bill\\xe2\\x80\\x99s to go down\\xe2\\x80\\x94Here, Bill! the master says\\r\\nyou\\xe2\\x80\\x99re to go down the chimney!\\xe2\\x80\\x9d\\r\\n\\r\\n\\xe2\\x80\\x9cOh! So Bill\\xe2\\x80\\x99s got to come down the chimney, has he?\\xe2\\x80\\x9d said Alice to\\r\\nherself. \\xe2\\x80\\x9cShy, they seem to put everything upon Bill! I wouldn\\xe2\\x80\\x99t be in\\r\\nBill\\xe2\\x80\\x99s place for a good deal: this fireplace is narrow, to be sure; but\\r\\nI _think_ I can kick a little!\\xe2\\x80\\x9d\\r\\n\\r\\nShe drew her foot as far down the chimney as she could, and waited till\\r\\nshe heard a little animal (she couldn\\xe2\\x80\\x99t guess of what sort it was)\\r\\nscratching and scrambling about in the chimney close above her: then,\\r\\nsaying to herself \\xe2\\x80\\x9cThis is Bill,\\xe2\\x80\\x9d she gave one sharp kick, and waited\\r\\nto see what would happen next.\\r\\n\\r\\nThe first thing she heard was a general chorus of \\xe2\\x80\\x9cThere goes Bill!\\xe2\\x80\\x9d\\r\\nthen the Rabbit\\xe2\\x80\\x99s voice along\\xe2\\x80\\x94\\xe2\\x80\\x9cCatch him, you by the hedge!\\xe2\\x80\\x9d then\\r\\nsilence, and then another confusion of voices\\xe2\\x80\\x94\\xe2\\x80\\x9cHold up his head\\xe2\\x80\\x94Brandy\\r\\nnow\\xe2\\x80\\x94Don\\xe2\\x80\\x99t choke him\\xe2\\x80\\x94How was it, old fellow? What happened to you? Tell\\r\\nus all about it!\\xe2\\x80\\x9d\\r\\n\\r\\nLast came a little feeble, squeaking voice, (\\xe2\\x80\\x9cThat\\xe2\\x80\\x99s Bill,\\xe2\\x80\\x9d thought\\r\\nAlice,) \\xe2\\x80\\x9cWell, I hardly know\\xe2\\x80\\x94No more, thank ye; I\\xe2\\x80\\x99m better now\\xe2\\x80\\x94but I\\xe2\\x80\\x99m\\r\\na deal too flustered to tell you\\xe2\\x80\\x94all I know is, something comes at me\\r\\nlike a Jack-in-the-box, and up I goes like a sky-rocket!\\xe2\\x80\\x9d\\r\\n\\r\\n\\xe2\\x80\\x9cSo you did, old fellow!\\xe2\\x80\\x9d said the others.\\r\\n\\r\\n\\xe2\\x80\\x9cWe must burn the house down!\\xe2\\x80\\x9d said the Rabbit\\xe2\\x80\\x99s voice; and Alice\\r\\ncalled out as loud as she could, \\xe2\\x80\\x9cIf you do, I\\xe2\\x80\\x99ll set Dinah at you!\\xe2\\x80\\x9d\\r\\n\\r\\nThere was a dead silence instantly, and Alice thought to herself, \\xe2\\x80\\x9cI\\r\\nwonder what they _will_ do next! If they had any sense, they\\xe2\\x80\\x99d take the\\r\\nroof off.\\xe2\\x80\\x9d After a minute or two, they began moving about again, and\\r\\nAlice heard the Rabbit say, \\xe2\\x80\\x9cA barrowful will do, to begin with.\\xe2\\x80\\x9d\\r\\n\\r\\n\\xe2\\x80\\x9cA barrowful of _what?_\\xe2\\x80\\x9d thought Alice; but she had not long to doubt,\\r\\nfor the next moment a shower of little pebbles came rattling in at the\\r\\nwindow, and some of them hit her in the face. \\xe2\\x80\\x9cI\\xe2\\x80\\x99ll put a stop to\\r\\nthis,\\xe2\\x80\\x9d she said to herself, and shouted out, \\xe2\\x80\\x9cYou\\xe2\\x80\\x99d better not do that\\r\\nagain!\\xe2\\x80\\x9d which produced another dead silence.\\r\\n\\r\\nAlice noticed with some surprise that the pebbles were all turning into\\r\\nlittle cakes as they lay on the floor, and a bright idea came into her\\r\\nhead. \\xe2\\x80\\x9cIf I eat one of these cakes,\\xe2\\x80\\x9d she thought, \\xe2\\x80\\x9cit\\xe2\\x80\\x99s sure to make\\r\\n_some_ change in my size; and as it can\\xe2\\x80\\x99t possibly make me larger, it\\r\\nmust make me smaller, I suppose.\\xe2\\x80\\x9d\\r\\n\\r\\nSo she swallowed one of the cakes, and was delighted to find that she\\r\\nbegan shrinking directly. As soon as she was small enough to get\\r\\nthrough the door, she ran out of the house, and found quite a crowd of\\r\\nlittle animals and birds waiting outside. The poor little Lizard, Bill,\\r\\nwas in the middle, being held up by two guinea-pigs, who were giving it\\r\\nsomething out of a bottle. They all made a rush at Alice the moment she\\r\\nappeared; but she ran off as hard as she could, and soon found herself\\r\\nsafe in a thick wood.\\r\\n\\r\\n\\xe2\\x80\\x9cThe first thing I\\xe2\\x80\\x99ve got to do,\\xe2\\x80\\x9d said Alice to herself, as she\\r\\nwandered about in the wood, \\xe2\\x80\\x9cis to grow to my right size again; and the\\r\\nsecond thing is to find my way into that lovely garden. I think that\\r\\nwill be the best plan.\\xe2\\x80\\x9d\\r\\n\\r\\nIt sounded an excellent plan, no doubt, and very neatly and simply\\r\\narranged; the only difficulty was, that she had not the smallest idea\\r\\nhow to set about it; and while she was peering about anxiously among\\r\\nthe trees, a little sharp bark just over her head made her look up in a\\r\\ngreat hurry.\\r\\n\\r\\nAn enormous puppy was looking down at her with large round eyes, and\\r\\nfeebly stretching out one paw, trying to touch her. \\xe2\\x80\\x9cPoor little\\r\\nthing!\\xe2\\x80\\x9d said Alice, in a coaxing tone, and she tried hard to whistle to\\r\\nit; but she was terribly frightened all the time at the thought that it\\r\\nmight be hungry, in which case it would be very likely to eat her up in\\r\\nspite of all her coaxing.\\r\\n\\r\\nHardly knowing what she did, she picked up a little bit of stick, and\\r\\nheld it out to the puppy; whereupon the puppy jumped into the air off\\r\\nall its feet at once, with a yelp of delight, and rushed at the stick,\\r\\nand made believe to worry it; then Alice dodged behind a great thistle,\\r\\nto keep herself from being run over; and the moment she appeared on the\\r\\nother side, the puppy made another rush at the stick, and tumbled head\\r\\nover heels in its hurry to get hold of it; then Alice, thinking it was\\r\\nvery like having a game of play with a cart-horse, and expecting every\\r\\nmoment to be trampled under its feet, ran round the thistle again; then\\r\\nthe puppy began a series of short charges at the stick, running a very\\r\\nlittle way forwards each time and a long way back, and barking hoarsely\\r\\nall the while, till at last it sat down a good way off, panting, with\\r\\nits tongue hanging out of its mouth, and its great eyes half shut.\\r\\n\\r\\nThis seemed to Alice a good opportunity for making her escape; so she\\r\\nset off at once, and ran till she was quite tired and out of breath,\\r\\nand till the puppy\\xe2\\x80\\x99s bark sounded quite faint in the distance.\\r\\n\\r\\n\\xe2\\x80\\x9cAnd yet what a dear little puppy it was!\\xe2\\x80\\x9d said Alice, as she leant\\r\\nagainst a buttercup to rest herself, and fanned herself with one of the\\r\\nleaves: \\xe2\\x80\\x9cI should have liked teaching it tricks very much, if\\xe2\\x80\\x94if I\\xe2\\x80\\x99d\\r\\nonly been the right size to do it! Oh dear! I\\xe2\\x80\\x99d nearly forgotten that\\r\\nI\\xe2\\x80\\x99ve got to grow up again! Let me see\\xe2\\x80\\x94how _is_ it to be managed? I\\r\\nsuppose I ought to eat or drink something or other; but the great\\r\\nquestion is, what?\\xe2\\x80\\x9d\\r\\n\\r\\nThe great question certainly was, what? Alice looked all round her at\\r\\nthe flowers and the blades of grass, but she did not see anything that\\r\\nlooked like the right thing to eat or drink under the circumstances.\\r\\nThere was a large mushroom growing near her, about the same height as\\r\\nherself; and when she had looked under it, and on both sides of it, and\\r\\nbehind it, it occurred to her that she might as well look and see what\\r\\nwas on the top of it.\\r\\n\\r\\nShe stretched herself up on tiptoe, and peeped over the edge of the\\r\\nmushroom, and her eyes immediately met those of a large caterpillar,\\r\\nthat was sitting on the top with its arms folded, quietly smoking a\\r\\nlong hookah, and taking not the smallest notice of her or of anything\\r\\nelse.\\r\\n\\r\\n\\r\\n\\r\\n\\r\\nCHAPTER V.\\r\\nAdvice from a Caterpillar\\r\\n\\r\\n\\r\\nThe Caterpillar and Alice looked at each other for some time in\\r\\nsilence: at last the Caterpillar took the hookah out of its mouth, and\\r\\naddressed her in a languid, sleepy voice.\\r\\n\\r\\n\\xe2\\x80\\x9cWho are _you?_\\xe2\\x80\\x9d said the Caterpillar.\\r\\n\\r\\nThis was not an encouraging opening for a conversation. Alice replied,\\r\\nrather shyly, \\xe2\\x80\\x9cI\\xe2\\x80\\x94I hardly know, sir, just at present\\xe2\\x80\\x94at least I know\\r\\nwho I _was_ when I got up this morning, but I think I must have been\\r\\nchanged several times since then.\\xe2\\x80\\x9d\\r\\n\\r\\n\\xe2\\x80\\x9cWhat do you mean by that?\\xe2\\x80\\x9d said the Caterpillar sternly. \\xe2\\x80\\x9cExplain\\r\\nyourself!\\xe2\\x80\\x9d\\r\\n\\r\\n\\xe2\\x80\\x9cI can\\xe2\\x80\\x99t explain _myself_, I\\xe2\\x80\\x99m afraid, sir,\\xe2\\x80\\x9d said Alice, \\xe2\\x80\\x9cbecause I\\xe2\\x80\\x99m\\r\\nnot myself, you see.\\xe2\\x80\\x9d\\r\\n\\r\\n\\xe2\\x80\\x9cI don\\xe2\\x80\\x99t see,\\xe2\\x80\\x9d said the Caterpillar.\\r\\n\\r\\n\\xe2\\x80\\x9cI\\xe2\\x80\\x99m afraid I can\\xe2\\x80\\x99t put it more clearly,\\xe2\\x80\\x9d Alice replied very politely,\\r\\n\\xe2\\x80\\x9cfor I can\\xe2\\x80\\x99t understand it myself to begin with; and being so many\\r\\ndifferent sizes in a day is very confusing.\\xe2\\x80\\x9d\\r\\n\\r\\n\\xe2\\x80\\x9cIt isn\\xe2\\x80\\x99t,\\xe2\\x80\\x9d said the Caterpillar.\\r\\n\\r\\n\\xe2\\x80\\x9cWell, perhaps you haven\\xe2\\x80\\x99t found it so yet,\\xe2\\x80\\x9d said Alice; \\xe2\\x80\\x9cbut when you\\r\\nhave to turn into a chrysalis\\xe2\\x80\\x94you will some day, you know\\xe2\\x80\\x94and then\\r\\nafter that into a butterfly, I should think you\\xe2\\x80\\x99ll feel it a little\\r\\nqueer, won\\xe2\\x80\\x99t you?\\xe2\\x80\\x9d\\r\\n\\r\\n\\xe2\\x80\\x9cNot a bit,\\xe2\\x80\\x9d said the Caterpillar.\\r\\n\\r\\n\\xe2\\x80\\x9cWell, perhaps your feelings may be different,\\xe2\\x80\\x9d said Alice; \\xe2\\x80\\x9call I know\\r\\nis, it would feel very queer to _me_.\\xe2\\x80\\x9d\\r\\n\\r\\n\\xe2\\x80\\x9cYou!\\xe2\\x80\\x9d said the Caterpillar contemptuously. \\xe2\\x80\\x9cWho are _you?_\\xe2\\x80\\x9d\\r\\n\\r\\nWhich brought them back again to the beginning of the conversation.\\r\\nAlice felt a little irritated at the Caterpillar\\xe2\\x80\\x99s making such _very_\\r\\nshort remarks, and she drew herself up and said, very gravely, \\xe2\\x80\\x9cI\\r\\nthink, you ought to tell me who _you_ are, first.\\xe2\\x80\\x9d\\r\\n\\r\\n\\xe2\\x80\\x9cWhy?\\xe2\\x80\\x9d said the Caterpillar.\\r\\n\\r\\nHere was another puzzling question; and as Alice could not think of any\\r\\ngood reason, and as the Caterpillar seemed to be in a _very_ unpleasant\\r\\nstate of mind, she turned away.\\r\\n\\r\\n\\xe2\\x80\\x9cCome back!\\xe2\\x80\\x9d the Caterpillar called after her. \\xe2\\x80\\x9cI\\xe2\\x80\\x99ve something\\r\\nimportant to say!\\xe2\\x80\\x9d\\r\\n\\r\\nThis sounded promising, certainly: Alice turned and came back again.\\r\\n\\r\\n\\xe2\\x80\\x9cKeep your temper,\\xe2\\x80\\x9d said the Caterpillar.\\r\\n\\r\\n\\xe2\\x80\\x9cIs that all?\\xe2\\x80\\x9d said Alice, swallowing down her anger as well as she\\r\\ncould.\\r\\n\\r\\n\\xe2\\x80\\x9cNo,\\xe2\\x80\\x9d said the Caterpillar.\\r\\n\\r\\nAlice thought she might as well wait, as she had nothing else to do,\\r\\nand perhaps after all it might tell her something worth hearing. For\\r\\nsome minutes it puffed away without speaking, but at last it unfolded\\r\\nits arms, took the hookah out of its mouth again, and said, \\xe2\\x80\\x9cSo you\\r\\nthink you\\xe2\\x80\\x99re changed, do you?\\xe2\\x80\\x9d\\r\\n\\r\\n\\xe2\\x80\\x9cI\\xe2\\x80\\x99m afraid I am, sir,\\xe2\\x80\\x9d said Alice; \\xe2\\x80\\x9cI can\\xe2\\x80\\x99t remember things as I\\r\\nused\\xe2\\x80\\x94and I don\\xe2\\x80\\x99t keep the same size for ten minutes together!\\xe2\\x80\\x9d\\r\\n\\r\\n\\xe2\\x80\\x9cCan\\xe2\\x80\\x99t remember _what_ things?\\xe2\\x80\\x9d said the Caterpillar.\\r\\n\\r\\n\\xe2\\x80\\x9cWell, I\\xe2\\x80\\x99ve tried to say \\xe2\\x80\\x9cHow doth the little busy bee,\\xe2\\x80\\x9d but it all\\r\\ncame different!\\xe2\\x80\\x9d Alice replied in a very melancholy voice.\\r\\n\\r\\n\\xe2\\x80\\x9cRepeat, \\xe2\\x80\\x9c_You are old, Father William_,\\xe2\\x80\\x99\\xe2\\x80\\x9d said the Caterpillar.\\r\\n\\r\\nAlice folded her hands, and began:\\xe2\\x80\\x94\\r\\n\\r\\n\\xe2\\x80\\x9cYou are old, Father William,\\xe2\\x80\\x9d the young man said,\\r\\n    \\xe2\\x80\\x9cAnd your hair has become very white;\\r\\nAnd yet you incessantly stand on your head\\xe2\\x80\\x94\\r\\n    Do you think, at your age, it is right?\\xe2\\x80\\x9d\\r\\n\\r\\n\\xe2\\x80\\x9cIn my youth,\\xe2\\x80\\x9d Father William replied to his son,\\r\\n    \\xe2\\x80\\x9cI feared it might injure the brain;\\r\\nBut, now that I\\xe2\\x80\\x99m perfectly sure I have none,\\r\\n    Why, I do it again and again.\\xe2\\x80\\x9d\\r\\n\\r\\n\\xe2\\x80\\x9cYou are old,\\xe2\\x80\\x9d said the youth, \\xe2\\x80\\x9cas I mentioned before,\\r\\n    And have grown most uncommonly fat;\\r\\nYet you turned a back-somersault in at the door\\xe2\\x80\\x94\\r\\n    Pray, what is the reason of that?\\xe2\\x80\\x9d\\r\\n\\r\\n\\xe2\\x80\\x9cIn my youth,\\xe2\\x80\\x9d said the sage, as he shook his grey locks,\\r\\n    \\xe2\\x80\\x9cI kept all my limbs very supple\\r\\nBy the use of this ointment\\xe2\\x80\\x94one shilling the box\\xe2\\x80\\x94\\r\\n    Allow me to sell you a couple?\\xe2\\x80\\x9d\\r\\n\\r\\n\\xe2\\x80\\x9cYou are old,\\xe2\\x80\\x9d said the youth, \\xe2\\x80\\x9cand your jaws are too weak\\r\\n    For anything tougher than suet;\\r\\nYet you finished the goose, with the bones and the beak\\xe2\\x80\\x94\\r\\n    Pray, how did you manage to do it?\\xe2\\x80\\x9d\\r\\n\\r\\n\\xe2\\x80\\x9cIn my youth,\\xe2\\x80\\x9d said his father, \\xe2\\x80\\x9cI took to the law,\\r\\n    And argued each case with my wife;\\r\\nAnd the muscular strength, which it gave to my jaw,\\r\\n    Has lasted the rest of my life.\\xe2\\x80\\x9d\\r\\n\\r\\n\\xe2\\x80\\x9cYou are old,\\xe2\\x80\\x9d said the youth, \\xe2\\x80\\x9cone would hardly suppose\\r\\n    That your eye was as steady as ever;\\r\\nYet you balanced an eel on the end of your nose\\xe2\\x80\\x94\\r\\n    What made you so awfully clever?\\xe2\\x80\\x9d\\r\\n\\r\\n\\xe2\\x80\\x9cI have answered three questions, and that is enough,\\xe2\\x80\\x9d\\r\\n    Said his father; \\xe2\\x80\\x9cdon\\xe2\\x80\\x99t give yourself airs!\\r\\nDo you think I can listen all day to such stuff?\\r\\n    Be off, or I\\xe2\\x80\\x99ll kick you down stairs!\\xe2\\x80\\x9d\\r\\n\\r\\n\\r\\n\\xe2\\x80\\x9cThat is not said right,\\xe2\\x80\\x9d said the Caterpillar.\\r\\n\\r\\n\\xe2\\x80\\x9cNot _quite_ right, I\\xe2\\x80\\x99m afraid,\\xe2\\x80\\x9d said Alice, timidly; \\xe2\\x80\\x9csome of the\\r\\nwords have got altered.\\xe2\\x80\\x9d\\r\\n\\r\\n\\xe2\\x80\\x9cIt is wrong from beginning to end,\\xe2\\x80\\x9d said the Caterpillar decidedly,\\r\\nand there was silence for some minutes.\\r\\n\\r\\nThe Caterpillar was the first to speak.\\r\\n\\r\\n\\xe2\\x80\\x9cWhat size do you want to be?\\xe2\\x80\\x9d it asked.\\r\\n\\r\\n\\xe2\\x80\\x9cOh, I\\xe2\\x80\\x99m not particular as to size,\\xe2\\x80\\x9d Alice hastily replied; \\xe2\\x80\\x9conly one\\r\\ndoesn\\xe2\\x80\\x99t like changing so often, you know.\\xe2\\x80\\x9d\\r\\n\\r\\n\\xe2\\x80\\x9cI _don\\xe2\\x80\\x99t_ know,\\xe2\\x80\\x9d said the Caterpillar.\\r\\n\\r\\nAlice said nothing: she had never been so much contradicted in her life\\r\\nbefore, and she felt that she was losing her temper.\\r\\n\\r\\n\\xe2\\x80\\x9cAre you content now?\\xe2\\x80\\x9d said the Caterpillar.\\r\\n\\r\\n\\xe2\\x80\\x9cWell, I should like to be a _little_ larger, sir, if you wouldn\\xe2\\x80\\x99t\\r\\nmind,\\xe2\\x80\\x9d said Alice: \\xe2\\x80\\x9cthree inches is such a wretched height to be.\\xe2\\x80\\x9d\\r\\n\\r\\n\\xe2\\x80\\x9cIt is a very good height indeed!\\xe2\\x80\\x9d said the Caterpillar angrily,\\r\\nrearing itself upright as it spoke (it was exactly three inches high).\\r\\n\\r\\n\\xe2\\x80\\x9cBut I\\xe2\\x80\\x99m not used to it!\\xe2\\x80\\x9d pleaded poor Alice in a piteous tone. And she\\r\\nthought of herself, \\xe2\\x80\\x9cI wish the creatures wouldn\\xe2\\x80\\x99t be so easily\\r\\noffended!\\xe2\\x80\\x9d\\r\\n\\r\\n\\xe2\\x80\\x9cYou\\xe2\\x80\\x99ll get used to it in time,\\xe2\\x80\\x9d said the Caterpillar; and it put the\\r\\nhookah into its mouth and began smoking again.\\r\\n\\r\\nThis time Alice waited patiently until it chose to speak again. In a\\r\\nminute or two the Caterpillar took the hookah out of its mouth and\\r\\nyawned once or twice, and shook itself. Then it got down off the\\r\\nmushroom, and crawled away in the grass, merely remarking as it went,\\r\\n\\xe2\\x80\\x9cOne side will make you grow taller, and the other side will make you\\r\\ngrow shorter.\\xe2\\x80\\x9d\\r\\n\\r\\n\\xe2\\x80\\x9cOne side of _what?_ The other side of _what?_\\xe2\\x80\\x9d thought Alice to\\r\\nherself.\\r\\n\\r\\n\\xe2\\x80\\x9cOf the mushroom,\\xe2\\x80\\x9d said the Caterpillar, just as if she had asked it\\r\\naloud; and in another moment it was out of sight.\\r\\n\\r\\nAlice remained looking thoughtfully at the mushroom for a minute,\\r\\ntrying to make out which were the two sides of it; and as it was\\r\\nperfectly round, she found this a very difficult question. However, at\\r\\nlast she stretched her arms round it as far as they would go, and broke\\r\\noff a bit of the edge with each hand.\\r\\n\\r\\n\\xe2\\x80\\x9cAnd now which is which?\\xe2\\x80\\x9d she said to herself, and nibbled a little of\\r\\nthe right-hand bit to try the effect: the next moment she felt a\\r\\nviolent blow underneath her chin: it had struck her foot!\\r\\n\\r\\nShe was a good deal frightened by this very sudden change, but she felt\\r\\nthat there was no time to be lost, as she was shrinking rapidly; so she\\r\\nset to work at once to eat some of the other bit. Her chin was pressed\\r\\nso closely against her foot, that there was hardly room to open her\\r\\nmouth; but she did it at last, and managed to swallow a morsel of the\\r\\nlefthand bit.\\r\\n\\r\\n*      *      *      *      *      *      *\\r\\n\\r\\n    *      *      *      *      *      *\\r\\n\\r\\n*      *      *      *      *      *      *\\r\\n\\r\\n\\r\\n\\xe2\\x80\\x9cCome, my head\\xe2\\x80\\x99s free at last!\\xe2\\x80\\x9d said Alice in a tone of delight, which\\r\\nchanged into alarm in another moment, when she found that her shoulders\\r\\nwere nowhere to be found: all she could see, when she looked down, was\\r\\nan immense length of neck, which seemed to rise like a stalk out of a\\r\\nsea of green leaves that lay far below her.\\r\\n\\r\\n\\xe2\\x80\\x9cWhat _can_ all that green stuff be?\\xe2\\x80\\x9d said Alice. \\xe2\\x80\\x9cAnd where _have_ my\\r\\nshoulders got to? And oh, my poor hands, how is it I can\\xe2\\x80\\x99t see you?\\xe2\\x80\\x9d\\r\\nShe was moving them about as she spoke, but no result seemed to follow,\\r\\nexcept a little shaking among the distant green leaves.\\r\\n\\r\\nAs there seemed to be no chance of getting her hands up to her head,\\r\\nshe tried to get her head down to them, and was delighted to find that\\r\\nher neck would bend about easily in any direction, like a serpent. She\\r\\nhad just succeeded in curving it down into a graceful zigzag, and was\\r\\ngoing to dive in among the leaves, which she found to be nothing but\\r\\nthe tops of the trees under which she had been wandering, when a sharp\\r\\nhiss made her draw back in a hurry: a large pigeon had flown into her\\r\\nface, and was beating her violently with its wings.\\r\\n\\r\\n\\xe2\\x80\\x9cSerpent!\\xe2\\x80\\x9d screamed the Pigeon.\\r\\n\\r\\n\\xe2\\x80\\x9cI\\xe2\\x80\\x99m _not_ a serpent!\\xe2\\x80\\x9d said Alice indignantly. \\xe2\\x80\\x9cLet me alone!\\xe2\\x80\\x9d\\r\\n\\r\\n\\xe2\\x80\\x9cSerpent, I say again!\\xe2\\x80\\x9d repeated the Pigeon, but in a more subdued\\r\\ntone, and added with a kind of sob, \\xe2\\x80\\x9cI\\xe2\\x80\\x99ve tried every way, and nothing\\r\\nseems to suit them!\\xe2\\x80\\x9d\\r\\n\\r\\n\\xe2\\x80\\x9cI haven\\xe2\\x80\\x99t the least idea what you\\xe2\\x80\\x99re talking about,\\xe2\\x80\\x9d said Alice.\\r\\n\\r\\n\\xe2\\x80\\x9cI\\xe2\\x80\\x99ve tried the roots of trees, and I\\xe2\\x80\\x99ve tried banks, and I\\xe2\\x80\\x99ve tried\\r\\nhedges,\\xe2\\x80\\x9d the Pigeon went on, without attending to her; \\xe2\\x80\\x9cbut those\\r\\nserpents! There\\xe2\\x80\\x99s no pleasing them!\\xe2\\x80\\x9d\\r\\n\\r\\nAlice was more and more puzzled, but she thought there was no use in\\r\\nsaying anything more till the Pigeon had finished.\\r\\n\\r\\n\\xe2\\x80\\x9cAs if it wasn\\xe2\\x80\\x99t trouble enough hatching the eggs,\\xe2\\x80\\x9d said the Pigeon;\\r\\n\\xe2\\x80\\x9cbut I must be on the look-out for serpents night and day! Why, I\\r\\nhaven\\xe2\\x80\\x99t had a wink of sleep these three weeks!\\xe2\\x80\\x9d\\r\\n\\r\\n\\xe2\\x80\\x9cI\\xe2\\x80\\x99m very sorry you\\xe2\\x80\\x99ve been annoyed,\\xe2\\x80\\x9d said Alice, who was beginning to\\r\\nsee its meaning.\\r\\n\\r\\n\\xe2\\x80\\x9cAnd just as I\\xe2\\x80\\x99d taken the highest tree in the wood,\\xe2\\x80\\x9d continued the\\r\\nPigeon, raising its voice to a shriek, \\xe2\\x80\\x9cand just as I was thinking I\\r\\nshould be free of them at last, they must needs come wriggling down\\r\\nfrom the sky! Ugh, Serpent!\\xe2\\x80\\x9d\\r\\n\\r\\n\\xe2\\x80\\x9cBut I\\xe2\\x80\\x99m _not_ a serpent, I tell you!\\xe2\\x80\\x9d said Alice. \\xe2\\x80\\x9cI\\xe2\\x80\\x99m a\\xe2\\x80\\x94I\\xe2\\x80\\x99m a\\xe2\\x80\\x94\\xe2\\x80\\x9d\\r\\n\\r\\n\\xe2\\x80\\x9cWell! _What_ are you?\\xe2\\x80\\x9d said the Pigeon. \\xe2\\x80\\x9cI can see you\\xe2\\x80\\x99re trying to\\r\\ninvent something!\\xe2\\x80\\x9d\\r\\n\\r\\n\\xe2\\x80\\x9cI\\xe2\\x80\\x94I\\xe2\\x80\\x99m a little girl,\\xe2\\x80\\x9d said Alice, rather doubtfully, as she remembered\\r\\nthe number of changes she had gone through that day.\\r\\n\\r\\n\\xe2\\x80\\x9cA likely story indeed!\\xe2\\x80\\x9d said the Pigeon in a tone of the deepest\\r\\ncontempt. \\xe2\\x80\\x9cI\\xe2\\x80\\x99ve seen a good many little girls in my time, but never\\r\\n_one_ with such a neck as that! No, no! You\\xe2\\x80\\x99re a serpent; and there\\xe2\\x80\\x99s\\r\\nno use denying it. I suppose you\\xe2\\x80\\x99ll be telling me next that you never\\r\\ntasted an egg!\\xe2\\x80\\x9d\\r\\n\\r\\n\\xe2\\x80\\x9cI _have_ tasted eggs, certainly,\\xe2\\x80\\x9d said Alice, who was a very truthful\\r\\nchild; \\xe2\\x80\\x9cbut little girls eat eggs quite as much as serpents do, you\\r\\nknow.\\xe2\\x80\\x9d\\r\\n\\r\\n\\xe2\\x80\\x9cI don\\xe2\\x80\\x99t believe it,\\xe2\\x80\\x9d said the Pigeon; \\xe2\\x80\\x9cbut if they do, why then\\r\\nthey\\xe2\\x80\\x99re a kind of serpent, that\\xe2\\x80\\x99s all I can say.\\xe2\\x80\\x9d\\r\\n\\r\\nThis was such a new idea to Alice, that she was quite silent for a\\r\\nminute or two, which gave the Pigeon the opportunity of adding, \\xe2\\x80\\x9cYou\\xe2\\x80\\x99re\\r\\nlooking for eggs, I know _that_ well enough; and what does it matter to\\r\\nme whether you\\xe2\\x80\\x99re a little girl or a serpent?\\xe2\\x80\\x9d\\r\\n\\r\\n\\xe2\\x80\\x9cIt matters a good deal to _me_,\\xe2\\x80\\x9d said Alice hastily; \\xe2\\x80\\x9cbut I\\xe2\\x80\\x99m not\\r\\nlooking for eggs, as it happens; and if I was, I shouldn\\xe2\\x80\\x99t want\\r\\n_yours_: I don\\xe2\\x80\\x99t like them raw.\\xe2\\x80\\x9d\\r\\n\\r\\n\\xe2\\x80\\x9cWell, be off, then!\\xe2\\x80\\x9d said the Pigeon in a sulky tone, as it settled\\r\\ndown again into its nest. Alice crouched down among the trees as well\\r\\nas she could, for her neck kept getting entangled among the branches,\\r\\nand every now and then she had to stop and untwist it. After a while\\r\\nshe remembered that she still held the pieces of mushroom in her hands,\\r\\nand she set to work very carefully, nibbling first at one and then at\\r\\nthe other, and growing sometimes taller and sometimes shorter, until\\r\\nshe had succeeded in bringing herself down to her usual height.\\r\\n\\r\\nIt was so long since she had been anything near the right size, that it\\r\\nfelt quite strange at first; but she got used to it in a few minutes,\\r\\nand began talking to herself, as usual. \\xe2\\x80\\x9cCome, there\\xe2\\x80\\x99s half my plan\\r\\ndone now! How puzzling all these changes are! I\\xe2\\x80\\x99m never sure what I\\xe2\\x80\\x99m\\r\\ngoing to be, from one minute to another! However, I\\xe2\\x80\\x99ve got back to my\\r\\nright size: the next thing is, to get into that beautiful garden\\xe2\\x80\\x94how\\r\\n_is_ that to be done, I wonder?\\xe2\\x80\\x9d As she said this, she came suddenly\\r\\nupon an open place, with a little house in it about four feet high.\\r\\n\\xe2\\x80\\x9cWhoever lives there,\\xe2\\x80\\x9d thought Alice, \\xe2\\x80\\x9cit\\xe2\\x80\\x99ll never do to come upon them\\r\\n_this_ size: why, I should frighten them out of their wits!\\xe2\\x80\\x9d So she\\r\\nbegan nibbling at the righthand bit again, and did not venture to go\\r\\nnear the house till she had brought herself down to nine inches high.\\r\\n\\r\\n\\r\\n\\r\\n\\r\\nCHAPTER VI.\\r\\nPig and Pepper\\r\\n\\r\\n\\r\\nFor a minute or two she stood looking at the house, and wondering what\\r\\nto do next, when suddenly a footman in livery came running out of the\\r\\nwood\\xe2\\x80\\x94(she considered him to be a footman because he was in livery:\\r\\notherwise, judging by his face only, she would have called him a\\r\\nfish)\\xe2\\x80\\x94and rapped loudly at the door with his knuckles. It was opened by\\r\\nanother footman in livery, with a round face, and large eyes like a\\r\\nfrog; and both footmen, Alice noticed, had powdered hair that curled\\r\\nall over their heads. She felt very curious to know what it was all\\r\\nabout, and crept a little way out of the wood to listen.\\r\\n\\r\\nThe Fish-Footman began by producing from under his arm a great letter,\\r\\nnearly as large as himself, and this he handed over to the other,\\r\\nsaying, in a solemn tone, \\xe2\\x80\\x9cFor the Duchess. An invitation from the\\r\\nQueen to play croquet.\\xe2\\x80\\x9d The Frog-Footman repeated, in the same solemn\\r\\ntone, only changing the order of the words a little, \\xe2\\x80\\x9cFrom the Queen.\\r\\nAn invitation for the Duchess to play croquet.\\xe2\\x80\\x9d\\r\\n\\r\\nThen they both bowed low, and their curls got entangled together.\\r\\n\\r\\nAlice laughed so much at this, that she had to run back into the wood\\r\\nfor fear of their hearing her; and when she next peeped out the\\r\\nFish-Footman was gone, and the other was sitting on the ground near the\\r\\ndoor, staring stupidly up into the sky.\\r\\n\\r\\nAlice went timidly up to the door, and knocked.\\r\\n\\r\\n\\xe2\\x80\\x9cThere\\xe2\\x80\\x99s no sort of use in knocking,\\xe2\\x80\\x9d said the Footman, \\xe2\\x80\\x9cand that for\\r\\ntwo reasons. First, because I\\xe2\\x80\\x99m on the same side of the door as you\\r\\nare; secondly, because they\\xe2\\x80\\x99re making such a noise inside, no one could\\r\\npossibly hear you.\\xe2\\x80\\x9d And certainly there _was_ a most extraordinary\\r\\nnoise going on within\\xe2\\x80\\x94a constant howling and sneezing, and every now\\r\\nand then a great crash, as if a dish or kettle had been broken to\\r\\npieces.\\r\\n\\r\\n\\xe2\\x80\\x9cPlease, then,\\xe2\\x80\\x9d said Alice, \\xe2\\x80\\x9chow am I to get in?\\xe2\\x80\\x9d\\r\\n\\r\\n\\xe2\\x80\\x9cThere might be some sense in your knocking,\\xe2\\x80\\x9d the Footman went on\\r\\nwithout attending to her, \\xe2\\x80\\x9cif we had the door between us. For instance,\\r\\nif you were _inside_, you might knock, and I could let you out, you\\r\\nknow.\\xe2\\x80\\x9d He was looking up into the sky all the time he was speaking, and\\r\\nthis Alice thought decidedly uncivil. \\xe2\\x80\\x9cBut perhaps he can\\xe2\\x80\\x99t help it,\\xe2\\x80\\x9d\\r\\nshe said to herself; \\xe2\\x80\\x9chis eyes are so _very_ nearly at the top of his\\r\\nhead. But at any rate he might answer questions.\\xe2\\x80\\x94How am I to get in?\\xe2\\x80\\x9d\\r\\nshe repeated, aloud.\\r\\n\\r\\n\\xe2\\x80\\x9cI shall sit here,\\xe2\\x80\\x9d the Footman remarked, \\xe2\\x80\\x9ctill tomorrow\\xe2\\x80\\x94\\xe2\\x80\\x9d\\r\\n\\r\\nAt this moment the door of the house opened, and a large plate came\\r\\nskimming out, straight at the Footman\\xe2\\x80\\x99s head: it just grazed his nose,\\r\\nand broke to pieces against one of the trees behind him.\\r\\n\\r\\n\\xe2\\x80\\x9c\\xe2\\x80\\x94or next day, maybe,\\xe2\\x80\\x9d the Footman continued in the same tone, exactly\\r\\nas if nothing had happened.\\r\\n\\r\\n\\xe2\\x80\\x9cHow am I to get in?\\xe2\\x80\\x9d asked Alice again, in a louder tone.\\r\\n\\r\\n\\xe2\\x80\\x9c_Are_ you to get in at all?\\xe2\\x80\\x9d said the Footman. \\xe2\\x80\\x9cThat\\xe2\\x80\\x99s the first\\r\\nquestion, you know.\\xe2\\x80\\x9d\\r\\n\\r\\nIt was, no doubt: only Alice did not like to be told so. \\xe2\\x80\\x9cIt\\xe2\\x80\\x99s really\\r\\ndreadful,\\xe2\\x80\\x9d she muttered to herself, \\xe2\\x80\\x9cthe way all the creatures argue.\\r\\nIt\\xe2\\x80\\x99s enough to drive one crazy!\\xe2\\x80\\x9d\\r\\n\\r\\nThe Footman seemed to think this a good opportunity for repeating his\\r\\nremark, with variations. \\xe2\\x80\\x9cI shall sit here,\\xe2\\x80\\x9d he said, \\xe2\\x80\\x9con and off, for\\r\\ndays and days.\\xe2\\x80\\x9d\\r\\n\\r\\n\\xe2\\x80\\x9cBut what am _I_ to do?\\xe2\\x80\\x9d said Alice.\\r\\n\\r\\n\\xe2\\x80\\x9cAnything you like,\\xe2\\x80\\x9d said the Footman, and began whistling.\\r\\n\\r\\n\\xe2\\x80\\x9cOh, there\\xe2\\x80\\x99s no use in talking to him,\\xe2\\x80\\x9d said Alice desperately: \\xe2\\x80\\x9che\\xe2\\x80\\x99s\\r\\nperfectly idiotic!\\xe2\\x80\\x9d And she opened the door and went in.\\r\\n\\r\\nThe door led right into a large kitchen, which was full of smoke from\\r\\none end to the other: the Duchess was sitting on a three-legged stool\\r\\nin the middle, nursing a baby; the cook was leaning over the fire,\\r\\nstirring a large cauldron which seemed to be full of soup.\\r\\n\\r\\n\\xe2\\x80\\x9cThere\\xe2\\x80\\x99s certainly too much pepper in that soup!\\xe2\\x80\\x9d Alice said to\\r\\nherself, as well as she could for sneezing.\\r\\n\\r\\nThere was certainly too much of it in the air. Even the Duchess sneezed\\r\\noccasionally; and as for the baby, it was sneezing and howling\\r\\nalternately without a moment\\xe2\\x80\\x99s pause. The only things in the kitchen\\r\\nthat did not sneeze, were the cook, and a large cat which was sitting\\r\\non the hearth and grinning from ear to ear.\\r\\n\\r\\n\\xe2\\x80\\x9cPlease would you tell me,\\xe2\\x80\\x9d said Alice, a little timidly, for she was\\r\\nnot quite sure whether it was good manners for her to speak first, \\xe2\\x80\\x9cwhy\\r\\nyour cat grins like that?\\xe2\\x80\\x9d\\r\\n\\r\\n\\xe2\\x80\\x9cIt\\xe2\\x80\\x99s a Cheshire cat,\\xe2\\x80\\x9d said the Duchess, \\xe2\\x80\\x9cand that\\xe2\\x80\\x99s why. Pig!\\xe2\\x80\\x9d\\r\\n\\r\\nShe said the last word with such sudden violence that Alice quite\\r\\njumped; but she saw in another moment that it was addressed to the\\r\\nbaby, and not to her, so she took courage, and went on again:\\xe2\\x80\\x94\\r\\n\\r\\n\\xe2\\x80\\x9cI didn\\xe2\\x80\\x99t know that Cheshire cats always grinned; in fact, I didn\\xe2\\x80\\x99t\\r\\nknow that cats _could_ grin.\\xe2\\x80\\x9d\\r\\n\\r\\n\\xe2\\x80\\x9cThey all can,\\xe2\\x80\\x9d said the Duchess; \\xe2\\x80\\x9cand most of \\xe2\\x80\\x99em do.\\xe2\\x80\\x9d\\r\\n\\r\\n\\xe2\\x80\\x9cI don\\xe2\\x80\\x99t know of any that do,\\xe2\\x80\\x9d Alice said very politely, feeling quite\\r\\npleased to have got into a conversation.\\r\\n\\r\\n\\xe2\\x80\\x9cYou don\\xe2\\x80\\x99t know much,\\xe2\\x80\\x9d said the Duchess; \\xe2\\x80\\x9cand that\\xe2\\x80\\x99s a fact.\\xe2\\x80\\x9d\\r\\n\\r\\nAlice did not at all like the tone of this remark, and thought it would\\r\\nbe as well to introduce some other subject of conversation. While she\\r\\nwas trying to fix on one, the cook took the cauldron of soup off the\\r\\nfire, and at once set to work throwing everything within her reach at\\r\\nthe Duchess and the baby\\xe2\\x80\\x94the fire-irons came first; then followed a\\r\\nshower of saucepans, plates, and dishes. The Duchess took no notice of\\r\\nthem even when they hit her; and the baby was howling so much already,\\r\\nthat it was quite impossible to say whether the blows hurt it or not.\\r\\n\\r\\n\\xe2\\x80\\x9cOh, _please_ mind what you\\xe2\\x80\\x99re doing!\\xe2\\x80\\x9d cried Alice, jumping up and down\\r\\nin an agony of terror. \\xe2\\x80\\x9cOh, there goes his _precious_ nose!\\xe2\\x80\\x9d as an\\r\\nunusually large saucepan flew close by it, and very nearly carried it\\r\\noff.\\r\\n\\r\\n\\xe2\\x80\\x9cIf everybody minded their own business,\\xe2\\x80\\x9d the Duchess said in a hoarse\\r\\ngrowl, \\xe2\\x80\\x9cthe world would go round a deal faster than it does.\\xe2\\x80\\x9d\\r\\n\\r\\n\\xe2\\x80\\x9cWhich would _not_ be an advantage,\\xe2\\x80\\x9d said Alice, who felt very glad to\\r\\nget an opportunity of showing off a little of her knowledge. \\xe2\\x80\\x9cJust\\r\\nthink of what work it would make with the day and night! You see the\\r\\nearth takes twenty-four hours to turn round on its axis\\xe2\\x80\\x94\\xe2\\x80\\x9d\\r\\n\\r\\n\\xe2\\x80\\x9cTalking of axes,\\xe2\\x80\\x9d said the Duchess, \\xe2\\x80\\x9cchop off her head!\\xe2\\x80\\x9d\\r\\n\\r\\nAlice glanced rather anxiously at the cook, to see if she meant to take\\r\\nthe hint; but the cook was busily stirring the soup, and seemed not to\\r\\nbe listening, so she went on again: \\xe2\\x80\\x9cTwenty-four hours, I _think_; or\\r\\nis it twelve? I\\xe2\\x80\\x94\\xe2\\x80\\x9d\\r\\n\\r\\n\\xe2\\x80\\x9cOh, don\\xe2\\x80\\x99t bother _me_,\\xe2\\x80\\x9d said the Duchess; \\xe2\\x80\\x9cI never could abide\\r\\nfigures!\\xe2\\x80\\x9d And with that she began nursing her child again, singing a\\r\\nsort of lullaby to it as she did so, and giving it a violent shake at\\r\\nthe end of every line:\\r\\n\\r\\n\\xe2\\x80\\x9cSpeak roughly to your little boy,\\r\\n    And beat him when he sneezes:\\r\\nHe only does it to annoy,\\r\\n    Because he knows it teases.\\xe2\\x80\\x9d\\r\\n\\r\\n\\r\\nCHORUS.\\r\\n(In which the cook and the baby joined):\\r\\n\\r\\n\\r\\n\\xe2\\x80\\x9cWow! wow! wow!\\xe2\\x80\\x9d\\r\\n\\r\\n\\r\\nWhile the Duchess sang the second verse of the song, she kept tossing\\r\\nthe baby violently up and down, and the poor little thing howled so,\\r\\nthat Alice could hardly hear the words:\\xe2\\x80\\x94\\r\\n\\r\\n\\xe2\\x80\\x9cI speak severely to my boy,\\r\\n    I beat him when he sneezes;\\r\\nFor he can thoroughly enjoy\\r\\n    The pepper when he pleases!\\xe2\\x80\\x9d\\r\\n\\r\\n\\r\\nCHORUS.\\r\\n\\r\\n\\r\\n\\xe2\\x80\\x9cWow! wow! wow!\\xe2\\x80\\x9d\\r\\n\\r\\n\\r\\n\\xe2\\x80\\x9cHere! you may nurse it a bit, if you like!\\xe2\\x80\\x9d the Duchess said to Alice,\\r\\nflinging the baby at her as she spoke. \\xe2\\x80\\x9cI must go and get ready to play\\r\\ncroquet with the Queen,\\xe2\\x80\\x9d and she hurried out of the room. The cook\\r\\nthrew a frying-pan after her as she went out, but it just missed her.\\r\\n\\r\\nAlice caught the baby with some difficulty, as it was a queer-shaped\\r\\nlittle creature, and held out its arms and legs in all directions,\\r\\n\\xe2\\x80\\x9cjust like a star-fish,\\xe2\\x80\\x9d thought Alice. The poor little thing was\\r\\nsnorting like a steam-engine when she caught it, and kept doubling\\r\\nitself up and straightening itself out again, so that altogether, for\\r\\nthe first minute or two, it was as much as she could do to hold it.\\r\\n\\r\\nAs soon as she had made out the proper way of nursing it, (which was to\\r\\ntwist it up into a sort of knot, and then keep tight hold of its right\\r\\near and left foot, so as to prevent its undoing itself,) she carried it\\r\\nout into the open air. \\xe2\\x80\\x9cIf I don\\xe2\\x80\\x99t take this child away with me,\\xe2\\x80\\x9d\\r\\nthought Alice, \\xe2\\x80\\x9cthey\\xe2\\x80\\x99re sure to kill it in a day or two: wouldn\\xe2\\x80\\x99t it be\\r\\nmurder to leave it behind?\\xe2\\x80\\x9d She said the last words out loud, and the\\r\\nlittle thing grunted in reply (it had left off sneezing by this time).\\r\\n\\xe2\\x80\\x9cDon\\xe2\\x80\\x99t grunt,\\xe2\\x80\\x9d said Alice; \\xe2\\x80\\x9cthat\\xe2\\x80\\x99s not at all a proper way of\\r\\nexpressing yourself.\\xe2\\x80\\x9d\\r\\n\\r\\nThe baby grunted again, and Alice looked very anxiously into its face\\r\\nto see what was the matter with it. There could be no doubt that it had\\r\\na _very_ turn-up nose, much more like a snout than a real nose; also\\r\\nits eyes were getting extremely small for a baby: altogether Alice did\\r\\nnot like the look of the thing at all. \\xe2\\x80\\x9cBut perhaps it was only\\r\\nsobbing,\\xe2\\x80\\x9d she thought, and looked into its eyes again, to see if there\\r\\nwere any tears.\\r\\n\\r\\nNo, there were no tears. \\xe2\\x80\\x9cIf you\\xe2\\x80\\x99re going to turn into a pig, my dear,\\xe2\\x80\\x9d\\r\\nsaid Alice, seriously, \\xe2\\x80\\x9cI\\xe2\\x80\\x99ll have nothing more to do with you. Mind\\r\\nnow!\\xe2\\x80\\x9d The poor little thing sobbed again (or grunted, it was impossible\\r\\nto say which), and they went on for some while in silence.\\r\\n\\r\\nAlice was just beginning to think to herself, \\xe2\\x80\\x9cNow, what am I to do\\r\\nwith this creature when I get it home?\\xe2\\x80\\x9d when it grunted again, so\\r\\nviolently, that she looked down into its face in some alarm. This time\\r\\nthere could be _no_ mistake about it: it was neither more nor less than\\r\\na pig, and she felt that it would be quite absurd for her to carry it\\r\\nfurther.\\r\\n\\r\\nSo she set the little creature down, and felt quite relieved to see it\\r\\ntrot away quietly into the wood. \\xe2\\x80\\x9cIf it had grown up,\\xe2\\x80\\x9d she said to\\r\\nherself, \\xe2\\x80\\x9cit would have made a dreadfully ugly child: but it makes\\r\\nrather a handsome pig, I think.\\xe2\\x80\\x9d And she began thinking over other\\r\\nchildren she knew, who might do very well as pigs, and was just saying\\r\\nto herself, \\xe2\\x80\\x9cif one only knew the right way to change them\\xe2\\x80\\x94\\xe2\\x80\\x9d when she\\r\\nwas a little startled by seeing the Cheshire Cat sitting on a bough of\\r\\na tree a few yards off.\\r\\n\\r\\nThe Cat only grinned when it saw Alice. It looked good-natured, she\\r\\nthought: still it had _very_ long claws and a great many teeth, so she\\r\\nfelt that it ought to be treated with respect.\\r\\n\\r\\n\\xe2\\x80\\x9cCheshire Puss,\\xe2\\x80\\x9d she began, rather timidly, as she did not at all know\\r\\nwhether it would like the name: however, it only grinned a little\\r\\nwider. \\xe2\\x80\\x9cCome, it\\xe2\\x80\\x99s pleased so far,\\xe2\\x80\\x9d thought Alice, and she went on.\\r\\n\\xe2\\x80\\x9cWould you tell me, please, which way I ought to go from here?\\xe2\\x80\\x9d\\r\\n\\r\\n\\xe2\\x80\\x9cThat depends a good deal on where you want to get to,\\xe2\\x80\\x9d said the Cat.\\r\\n\\r\\n\\xe2\\x80\\x9cI don\\xe2\\x80\\x99t much care where\\xe2\\x80\\x94\\xe2\\x80\\x9d said Alice.\\r\\n\\r\\n\\xe2\\x80\\x9cThen it doesn\\xe2\\x80\\x99t matter which way you go,\\xe2\\x80\\x9d said the Cat.\\r\\n\\r\\n\\xe2\\x80\\x9c\\xe2\\x80\\x94so long as I get _somewhere_,\\xe2\\x80\\x9d Alice added as an explanation.\\r\\n\\r\\n\\xe2\\x80\\x9cOh, you\\xe2\\x80\\x99re sure to do that,\\xe2\\x80\\x9d said the Cat, \\xe2\\x80\\x9cif you only walk long\\r\\nenough.\\xe2\\x80\\x9d\\r\\n\\r\\nAlice felt that this could not be denied, so she tried another\\r\\nquestion. \\xe2\\x80\\x9cWhat sort of people live about here?\\xe2\\x80\\x9d\\r\\n\\r\\n\\xe2\\x80\\x9cIn _that_ direction,\\xe2\\x80\\x9d the Cat said, waving its right paw round, \\xe2\\x80\\x9clives\\r\\na Hatter: and in _that_ direction,\\xe2\\x80\\x9d waving the other paw, \\xe2\\x80\\x9clives a\\r\\nMarch Hare. Visit either you like: they\\xe2\\x80\\x99re both mad.\\xe2\\x80\\x9d\\r\\n\\r\\n\\xe2\\x80\\x9cBut I don\\xe2\\x80\\x99t want to go among mad people,\\xe2\\x80\\x9d Alice remarked.\\r\\n\\r\\n\\xe2\\x80\\x9cOh, you can\\xe2\\x80\\x99t help that,\\xe2\\x80\\x9d said the Cat: \\xe2\\x80\\x9cwe\\xe2\\x80\\x99re all mad here. I\\xe2\\x80\\x99m mad.\\r\\nYou\\xe2\\x80\\x99re mad.\\xe2\\x80\\x9d\\r\\n\\r\\n\\xe2\\x80\\x9cHow do you know I\\xe2\\x80\\x99m mad?\\xe2\\x80\\x9d said Alice.\\r\\n\\r\\n\\xe2\\x80\\x9cYou must be,\\xe2\\x80\\x9d said the Cat, \\xe2\\x80\\x9cor you wouldn\\xe2\\x80\\x99t have come here.\\xe2\\x80\\x9d\\r\\n\\r\\nAlice didn\\xe2\\x80\\x99t think that proved it at all; however, she went on \\xe2\\x80\\x9cAnd how\\r\\ndo you know that you\\xe2\\x80\\x99re mad?\\xe2\\x80\\x9d\\r\\n\\r\\n\\xe2\\x80\\x9cTo begin with,\\xe2\\x80\\x9d said the Cat, \\xe2\\x80\\x9ca dog\\xe2\\x80\\x99s not mad. You grant that?\\xe2\\x80\\x9d\\r\\n\\r\\n\\xe2\\x80\\x9cI suppose so,\\xe2\\x80\\x9d said Alice.\\r\\n\\r\\n\\xe2\\x80\\x9cWell, then,\\xe2\\x80\\x9d the Cat went on, \\xe2\\x80\\x9cyou see, a dog growls when it\\xe2\\x80\\x99s angry,\\r\\nand wags its tail when it\\xe2\\x80\\x99s pleased. Now _I_ growl when I\\xe2\\x80\\x99m pleased,\\r\\nand wag my tail when I\\xe2\\x80\\x99m angry. Therefore I\\xe2\\x80\\x99m mad.\\xe2\\x80\\x9d\\r\\n\\r\\n\\xe2\\x80\\x9c_I_ call it purring, not growling,\\xe2\\x80\\x9d said Alice.\\r\\n\\r\\n\\xe2\\x80\\x9cCall it what you like,\\xe2\\x80\\x9d said the Cat. \\xe2\\x80\\x9cDo you play croquet with the\\r\\nQueen to-day?\\xe2\\x80\\x9d\\r\\n\\r\\n\\xe2\\x80\\x9cI should like it very much,\\xe2\\x80\\x9d said Alice, \\xe2\\x80\\x9cbut I haven\\xe2\\x80\\x99t been invited\\r\\nyet.\\xe2\\x80\\x9d\\r\\n\\r\\n\\xe2\\x80\\x9cYou\\xe2\\x80\\x99ll see me there,\\xe2\\x80\\x9d said the Cat, and vanished.\\r\\n\\r\\nAlice was not much surprised at this, she was getting so used to queer\\r\\nthings happening. While she was looking at the place where it had been,\\r\\nit suddenly appeared again.\\r\\n\\r\\n\\xe2\\x80\\x9cBy-the-bye, what became of the baby?\\xe2\\x80\\x9d said the Cat. \\xe2\\x80\\x9cI\\xe2\\x80\\x99d nearly\\r\\nforgotten to ask.\\xe2\\x80\\x9d\\r\\n\\r\\n\\xe2\\x80\\x9cIt turned into a pig,\\xe2\\x80\\x9d Alice quietly said, just as if it had come back\\r\\nin a natural way.\\r\\n\\r\\n\\xe2\\x80\\x9cI thought it would,\\xe2\\x80\\x9d said the Cat, and vanished again.\\r\\n\\r\\nAlice waited a little, half expecting to see it again, but it did not\\r\\nappear, and after a minute or two she walked on in the direction in\\r\\nwhich the March Hare was said to live. \\xe2\\x80\\x9cI\\xe2\\x80\\x99ve seen hatters before,\\xe2\\x80\\x9d she\\r\\nsaid to herself; \\xe2\\x80\\x9cthe March Hare will be much the most interesting, and\\r\\nperhaps as this is May it won\\xe2\\x80\\x99t be raving mad\\xe2\\x80\\x94at least not so mad as it\\r\\nwas in March.\\xe2\\x80\\x9d As she said this, she looked up, and there was the Cat\\r\\nagain, sitting on a branch of a tree.\\r\\n\\r\\n\\xe2\\x80\\x9cDid you say pig, or fig?\\xe2\\x80\\x9d said the Cat.\\r\\n\\r\\n\\xe2\\x80\\x9cI said pig,\\xe2\\x80\\x9d replied Alice; \\xe2\\x80\\x9cand I wish you wouldn\\xe2\\x80\\x99t keep appearing\\r\\nand vanishing so suddenly: you make one quite giddy.\\xe2\\x80\\x9d\\r\\n\\r\\n\\xe2\\x80\\x9cAll right,\\xe2\\x80\\x9d said the Cat; and this time it vanished quite slowly,\\r\\nbeginning with the end of the tail, and ending with the grin, which\\r\\nremained some time after the rest of it had gone.\\r\\n\\r\\n\\xe2\\x80\\x9cWell! I\\xe2\\x80\\x99ve often seen a cat without a grin,\\xe2\\x80\\x9d thought Alice; \\xe2\\x80\\x9cbut a\\r\\ngrin without a cat! It\\xe2\\x80\\x99s the most curious thing I ever saw in my life!\\xe2\\x80\\x9d\\r\\n\\r\\nShe had not gone much farther before she came in sight of the house of\\r\\nthe March Hare: she thought it must be the right house, because the\\r\\nchimneys were shaped like ears and the roof was thatched with fur. It\\r\\nwas so large a house, that she did not like to go nearer till she had\\r\\nnibbled some more of the lefthand bit of mushroom, and raised herself\\r\\nto about two feet high: even then she walked up towards it rather\\r\\ntimidly, saying to herself \\xe2\\x80\\x9cSuppose it should be raving mad after all!\\r\\nI almost wish I\\xe2\\x80\\x99d gone to see the Hatter instead!\\xe2\\x80\\x9d\\r\\n\\r\\n\\r\\n\\r\\n\\r\\nCHAPTER VII.\\r\\nA Mad Tea-Party\\r\\n\\r\\n\\r\\nThere was a table set out under a tree in front of the house, and the\\r\\nMarch Hare and the Hatter were having tea at it: a Dormouse was sitting\\r\\nbetween them, fast asleep, and the other two were using it as a\\r\\ncushion, resting their elbows on it, and talking over its head. \\xe2\\x80\\x9cVery\\r\\nuncomfortable for the Dormouse,\\xe2\\x80\\x9d thought Alice; \\xe2\\x80\\x9conly, as it\\xe2\\x80\\x99s asleep,\\r\\nI suppose it doesn\\xe2\\x80\\x99t mind.\\xe2\\x80\\x9d\\r\\n\\r\\nThe table was a large one, but the three were all crowded together at\\r\\none corner of it: \\xe2\\x80\\x9cNo room! No room!\\xe2\\x80\\x9d they cried out when they saw\\r\\nAlice coming. \\xe2\\x80\\x9cThere\\xe2\\x80\\x99s _plenty_ of room!\\xe2\\x80\\x9d said Alice indignantly, and\\r\\nshe sat down in a large arm-chair at one end of the table.\\r\\n\\r\\n\\xe2\\x80\\x9cHave some wine,\\xe2\\x80\\x9d the March Hare said in an encouraging tone.\\r\\n\\r\\nAlice looked all round the table, but there was nothing on it but tea.\\r\\n\\xe2\\x80\\x9cI don\\xe2\\x80\\x99t see any wine,\\xe2\\x80\\x9d she remarked.\\r\\n\\r\\n\\xe2\\x80\\x9cThere isn\\xe2\\x80\\x99t any,\\xe2\\x80\\x9d said the March Hare.\\r\\n\\r\\n\\xe2\\x80\\x9cThen it wasn\\xe2\\x80\\x99t very civil of you to offer it,\\xe2\\x80\\x9d said Alice angrily.\\r\\n\\r\\n\\xe2\\x80\\x9cIt wasn\\xe2\\x80\\x99t very civil of you to sit down without being invited,\\xe2\\x80\\x9d said\\r\\nthe March Hare.\\r\\n\\r\\n\\xe2\\x80\\x9cI didn\\xe2\\x80\\x99t know it was _your_ table,\\xe2\\x80\\x9d said Alice; \\xe2\\x80\\x9cit\\xe2\\x80\\x99s laid for a great\\r\\nmany more than three.\\xe2\\x80\\x9d\\r\\n\\r\\n\\xe2\\x80\\x9cYour hair wants cutting,\\xe2\\x80\\x9d said the Hatter. He had been looking at\\r\\nAlice for some time with great curiosity, and this was his first\\r\\nspeech.\\r\\n\\r\\n\\xe2\\x80\\x9cYou should learn not to make personal remarks,\\xe2\\x80\\x9d Alice said with some\\r\\nseverity; \\xe2\\x80\\x9cit\\xe2\\x80\\x99s very rude.\\xe2\\x80\\x9d\\r\\n\\r\\nThe Hatter opened his eyes very wide on hearing this; but all he _said_\\r\\nwas, \\xe2\\x80\\x9cWhy is a raven like a writing-desk?\\xe2\\x80\\x9d\\r\\n\\r\\n\\xe2\\x80\\x9cCome, we shall have some fun now!\\xe2\\x80\\x9d thought Alice. \\xe2\\x80\\x9cI\\xe2\\x80\\x99m glad they\\xe2\\x80\\x99ve\\r\\nbegun asking riddles.\\xe2\\x80\\x94I believe I can guess that,\\xe2\\x80\\x9d she added aloud.\\r\\n\\r\\n\\xe2\\x80\\x9cDo you mean that you think you can find out the answer to it?\\xe2\\x80\\x9d said\\r\\nthe March Hare.\\r\\n\\r\\n\\xe2\\x80\\x9cExactly so,\\xe2\\x80\\x9d said Alice.\\r\\n\\r\\n\\xe2\\x80\\x9cThen you should say what you mean,\\xe2\\x80\\x9d the March Hare went on.\\r\\n\\r\\n\\xe2\\x80\\x9cI do,\\xe2\\x80\\x9d Alice hastily replied; \\xe2\\x80\\x9cat least\\xe2\\x80\\x94at least I mean what I\\r\\nsay\\xe2\\x80\\x94that\\xe2\\x80\\x99s the same thing, you know.\\xe2\\x80\\x9d\\r\\n\\r\\n\\xe2\\x80\\x9cNot the same thing a bit!\\xe2\\x80\\x9d said the Hatter. \\xe2\\x80\\x9cYou might just as well\\r\\nsay that \\xe2\\x80\\x98I see what I eat\\xe2\\x80\\x99 is the same thing as \\xe2\\x80\\x98I eat what I see\\xe2\\x80\\x99!\\xe2\\x80\\x9d\\r\\n\\r\\n\\xe2\\x80\\x9cYou might just as well say,\\xe2\\x80\\x9d added the March Hare, \\xe2\\x80\\x9cthat \\xe2\\x80\\x98I like what\\r\\nI get\\xe2\\x80\\x99 is the same thing as \\xe2\\x80\\x98I get what I like\\xe2\\x80\\x99!\\xe2\\x80\\x9d\\r\\n\\r\\n\\xe2\\x80\\x9cYou might just as well say,\\xe2\\x80\\x9d added the Dormouse, who seemed to be\\r\\ntalking in his sleep, \\xe2\\x80\\x9cthat \\xe2\\x80\\x98I breathe when I sleep\\xe2\\x80\\x99 is the same thing\\r\\nas \\xe2\\x80\\x98I sleep when I breathe\\xe2\\x80\\x99!\\xe2\\x80\\x9d\\r\\n\\r\\n\\xe2\\x80\\x9cIt _is_ the same thing with you,\\xe2\\x80\\x9d said the Hatter, and here the\\r\\nconversation dropped, and the party sat silent for a minute, while\\r\\nAlice thought over all she could remember about ravens and\\r\\nwriting-desks, which wasn\\xe2\\x80\\x99t much.\\r\\n\\r\\nThe Hatter was the first to break the silence. \\xe2\\x80\\x9cWhat day of the month\\r\\nis it?\\xe2\\x80\\x9d he said, turning to Alice: he had taken his watch out of his\\r\\npocket, and was looking at it uneasily, shaking it every now and then,\\r\\nand holding it to his ear.\\r\\n\\r\\nAlice considered a little, and then said \\xe2\\x80\\x9cThe fourth.\\xe2\\x80\\x9d\\r\\n\\r\\n\\xe2\\x80\\x9cTwo days wrong!\\xe2\\x80\\x9d sighed the Hatter. \\xe2\\x80\\x9cI told you butter wouldn\\xe2\\x80\\x99t suit\\r\\nthe works!\\xe2\\x80\\x9d he added looking angrily at the March Hare.\\r\\n\\r\\n\\xe2\\x80\\x9cIt was the _best_ butter,\\xe2\\x80\\x9d the March Hare meekly replied.\\r\\n\\r\\n\\xe2\\x80\\x9cYes, but some crumbs must have got in as well,\\xe2\\x80\\x9d the Hatter grumbled:\\r\\n\\xe2\\x80\\x9cyou shouldn\\xe2\\x80\\x99t have put it in with the bread-knife.\\xe2\\x80\\x9d\\r\\n\\r\\nThe March Hare took the watch and looked at it gloomily: then he dipped\\r\\nit into his cup of tea, and looked at it again: but he could think of\\r\\nnothing better to say than his first remark, \\xe2\\x80\\x9cIt was the _best_ butter,\\r\\nyou know.\\xe2\\x80\\x9d\\r\\n\\r\\nAlice had been looking over his shoulder with some curiosity. \\xe2\\x80\\x9cWhat a\\r\\nfunny watch!\\xe2\\x80\\x9d she remarked. \\xe2\\x80\\x9cIt tells the day of the month, and doesn\\xe2\\x80\\x99t\\r\\ntell what o\\xe2\\x80\\x99clock it is!\\xe2\\x80\\x9d\\r\\n\\r\\n\\xe2\\x80\\x9cWhy should it?\\xe2\\x80\\x9d muttered the Hatter. \\xe2\\x80\\x9cDoes _your_ watch tell you what\\r\\nyear it is?\\xe2\\x80\\x9d\\r\\n\\r\\n\\xe2\\x80\\x9cOf course not,\\xe2\\x80\\x9d Alice replied very readily: \\xe2\\x80\\x9cbut that\\xe2\\x80\\x99s because it\\r\\nstays the same year for such a long time together.\\xe2\\x80\\x9d\\r\\n\\r\\n\\xe2\\x80\\x9cWhich is just the case with _mine_,\\xe2\\x80\\x9d said the Hatter.\\r\\n\\r\\nAlice felt dreadfully puzzled. The Hatter\\xe2\\x80\\x99s remark seemed to have no\\r\\nsort of meaning in it, and yet it was certainly English. \\xe2\\x80\\x9cI don\\xe2\\x80\\x99t quite\\r\\nunderstand you,\\xe2\\x80\\x9d she said, as politely as she could.\\r\\n\\r\\n\\xe2\\x80\\x9cThe Dormouse is asleep again,\\xe2\\x80\\x9d said the Hatter, and he poured a little\\r\\nhot tea upon its nose.\\r\\n\\r\\nThe Dormouse shook its head impatiently, and said, without opening its\\r\\neyes, \\xe2\\x80\\x9cOf course, of course; just what I was going to remark myself.\\xe2\\x80\\x9d\\r\\n\\r\\n\\xe2\\x80\\x9cHave you guessed the riddle yet?\\xe2\\x80\\x9d the Hatter said, turning to Alice\\r\\nagain.\\r\\n\\r\\n\\xe2\\x80\\x9cNo, I give it up,\\xe2\\x80\\x9d Alice replied: \\xe2\\x80\\x9cwhat\\xe2\\x80\\x99s the answer?\\xe2\\x80\\x9d\\r\\n\\r\\n\\xe2\\x80\\x9cI haven\\xe2\\x80\\x99t the slightest idea,\\xe2\\x80\\x9d said the Hatter.\\r\\n\\r\\n\\xe2\\x80\\x9cNor I,\\xe2\\x80\\x9d said the March Hare.\\r\\n\\r\\nAlice sighed wearily. \\xe2\\x80\\x9cI think you might do something better with the\\r\\ntime,\\xe2\\x80\\x9d she said, \\xe2\\x80\\x9cthan waste it in asking riddles that have no\\r\\nanswers.\\xe2\\x80\\x9d\\r\\n\\r\\n\\xe2\\x80\\x9cIf you knew Time as well as I do,\\xe2\\x80\\x9d said the Hatter, \\xe2\\x80\\x9cyou wouldn\\xe2\\x80\\x99t talk\\r\\nabout wasting _it_. It\\xe2\\x80\\x99s _him_.\\xe2\\x80\\x9d\\r\\n\\r\\n\\xe2\\x80\\x9cI don\\xe2\\x80\\x99t know what you mean,\\xe2\\x80\\x9d said Alice.\\r\\n\\r\\n\\xe2\\x80\\x9cOf course you don\\xe2\\x80\\x99t!\\xe2\\x80\\x9d the Hatter said, tossing his head\\r\\ncontemptuously. \\xe2\\x80\\x9cI dare say you never even spoke to Time!\\xe2\\x80\\x9d\\r\\n\\r\\n\\xe2\\x80\\x9cPerhaps not,\\xe2\\x80\\x9d Alice cautiously replied: \\xe2\\x80\\x9cbut I know I have to beat\\r\\ntime when I learn music.\\xe2\\x80\\x9d\\r\\n\\r\\n\\xe2\\x80\\x9cAh! that accounts for it,\\xe2\\x80\\x9d said the Hatter. \\xe2\\x80\\x9cHe won\\xe2\\x80\\x99t stand beating.\\r\\nNow, if you only kept on good terms with him, he\\xe2\\x80\\x99d do almost anything\\r\\nyou liked with the clock. For instance, suppose it were nine o\\xe2\\x80\\x99clock in\\r\\nthe morning, just time to begin lessons: you\\xe2\\x80\\x99d only have to whisper a\\r\\nhint to Time, and round goes the clock in a twinkling! Half-past one,\\r\\ntime for dinner!\\xe2\\x80\\x9d\\r\\n\\r\\n(\\xe2\\x80\\x9cI only wish it was,\\xe2\\x80\\x9d the March Hare said to itself in a whisper.)\\r\\n\\r\\n\\xe2\\x80\\x9cThat would be grand, certainly,\\xe2\\x80\\x9d said Alice thoughtfully: \\xe2\\x80\\x9cbut then\\xe2\\x80\\x94I\\r\\nshouldn\\xe2\\x80\\x99t be hungry for it, you know.\\xe2\\x80\\x9d\\r\\n\\r\\n\\xe2\\x80\\x9cNot at first, perhaps,\\xe2\\x80\\x9d said the Hatter: \\xe2\\x80\\x9cbut you could keep it to\\r\\nhalf-past one as long as you liked.\\xe2\\x80\\x9d\\r\\n\\r\\n\\xe2\\x80\\x9cIs that the way _you_ manage?\\xe2\\x80\\x9d Alice asked.\\r\\n\\r\\nThe Hatter shook his head mournfully. \\xe2\\x80\\x9cNot I!\\xe2\\x80\\x9d he replied. \\xe2\\x80\\x9cWe\\r\\nquarrelled last March\\xe2\\x80\\x94just before _he_ went mad, you know\\xe2\\x80\\x94\\xe2\\x80\\x9d (pointing\\r\\nwith his tea spoon at the March Hare,) \\xe2\\x80\\x9c\\xe2\\x80\\x94it was at the great concert\\r\\ngiven by the Queen of Hearts, and I had to sing\\r\\n\\r\\n\\xe2\\x80\\x98Twinkle, twinkle, little bat!\\r\\nHow I wonder what you\\xe2\\x80\\x99re at!\\xe2\\x80\\x99\\r\\n\\r\\n\\r\\nYou know the song, perhaps?\\xe2\\x80\\x9d\\r\\n\\r\\n\\xe2\\x80\\x9cI\\xe2\\x80\\x99ve heard something like it,\\xe2\\x80\\x9d said Alice.\\r\\n\\r\\n\\xe2\\x80\\x9cIt goes on, you know,\\xe2\\x80\\x9d the Hatter continued, \\xe2\\x80\\x9cin this way:\\xe2\\x80\\x94\\r\\n\\r\\n\\xe2\\x80\\x98Up above the world you fly,\\r\\nLike a tea-tray in the sky.\\r\\n                    Twinkle, twinkle\\xe2\\x80\\x94\\xe2\\x80\\x99\\xe2\\x80\\x9d\\r\\n\\r\\n\\r\\nHere the Dormouse shook itself, and began singing in its sleep\\r\\n\\xe2\\x80\\x9c_Twinkle, twinkle, twinkle, twinkle_\\xe2\\x80\\x94\\xe2\\x80\\x9d and went on so long that they\\r\\nhad to pinch it to make it stop.\\r\\n\\r\\n\\xe2\\x80\\x9cWell, I\\xe2\\x80\\x99d hardly finished the first verse,\\xe2\\x80\\x9d said the Hatter, \\xe2\\x80\\x9cwhen the\\r\\nQueen jumped up and bawled out, \\xe2\\x80\\x98He\\xe2\\x80\\x99s murdering the time! Off with his\\r\\nhead!\\xe2\\x80\\x99\\xe2\\x80\\x9d\\r\\n\\r\\n\\xe2\\x80\\x9cHow dreadfully savage!\\xe2\\x80\\x9d exclaimed Alice.\\r\\n\\r\\n\\xe2\\x80\\x9cAnd ever since that,\\xe2\\x80\\x9d the Hatter went on in a mournful tone, \\xe2\\x80\\x9che won\\xe2\\x80\\x99t\\r\\ndo a thing I ask! It\\xe2\\x80\\x99s always six o\\xe2\\x80\\x99clock now.\\xe2\\x80\\x9d\\r\\n\\r\\nA bright idea came into Alice\\xe2\\x80\\x99s head. \\xe2\\x80\\x9cIs that the reason so many\\r\\ntea-things are put out here?\\xe2\\x80\\x9d she asked.\\r\\n\\r\\n\\xe2\\x80\\x9cYes, that\\xe2\\x80\\x99s it,\\xe2\\x80\\x9d said the Hatter with a sigh: \\xe2\\x80\\x9cit\\xe2\\x80\\x99s always tea-time,\\r\\nand we\\xe2\\x80\\x99ve no time to wash the things between whiles.\\xe2\\x80\\x9d\\r\\n\\r\\n\\xe2\\x80\\x9cThen you keep moving round, I suppose?\\xe2\\x80\\x9d said Alice.\\r\\n\\r\\n\\xe2\\x80\\x9cExactly so,\\xe2\\x80\\x9d said the Hatter: \\xe2\\x80\\x9cas the things get used up.\\xe2\\x80\\x9d\\r\\n\\r\\n\\xe2\\x80\\x9cBut what happens when you come to the beginning again?\\xe2\\x80\\x9d Alice ventured\\r\\nto ask.\\r\\n\\r\\n\\xe2\\x80\\x9cSuppose we change the subject,\\xe2\\x80\\x9d the March Hare interrupted, yawning.\\r\\n\\xe2\\x80\\x9cI\\xe2\\x80\\x99m getting tired of this. I vote the young lady tells us a story.\\xe2\\x80\\x9d\\r\\n\\r\\n\\xe2\\x80\\x9cI\\xe2\\x80\\x99m afraid I don\\xe2\\x80\\x99t know one,\\xe2\\x80\\x9d said Alice, rather alarmed at the\\r\\nproposal.\\r\\n\\r\\n\\xe2\\x80\\x9cThen the Dormouse shall!\\xe2\\x80\\x9d they both cried. \\xe2\\x80\\x9cWake up, Dormouse!\\xe2\\x80\\x9d And\\r\\nthey pinched it on both sides at once.\\r\\n\\r\\nThe Dormouse slowly opened his eyes. \\xe2\\x80\\x9cI wasn\\xe2\\x80\\x99t asleep,\\xe2\\x80\\x9d he said in a\\r\\nhoarse, feeble voice: \\xe2\\x80\\x9cI heard every word you fellows were saying.\\xe2\\x80\\x9d\\r\\n\\r\\n\\xe2\\x80\\x9cTell us a story!\\xe2\\x80\\x9d said the March Hare.\\r\\n\\r\\n\\xe2\\x80\\x9cYes, please do!\\xe2\\x80\\x9d pleaded Alice.\\r\\n\\r\\n\\xe2\\x80\\x9cAnd be quick about it,\\xe2\\x80\\x9d added the Hatter, \\xe2\\x80\\x9cor you\\xe2\\x80\\x99ll be asleep again\\r\\nbefore it\\xe2\\x80\\x99s done.\\xe2\\x80\\x9d\\r\\n\\r\\n\\xe2\\x80\\x9cOnce upon a time there were three little sisters,\\xe2\\x80\\x9d the Dormouse began\\r\\nin a great hurry; \\xe2\\x80\\x9cand their names were Elsie, Lacie, and Tillie; and\\r\\nthey lived at the bottom of a well\\xe2\\x80\\x94\\xe2\\x80\\x9d\\r\\n\\r\\n\\xe2\\x80\\x9cWhat did they live on?\\xe2\\x80\\x9d said Alice, who always took a great interest\\r\\nin questions of eating and drinking.\\r\\n\\r\\n\\xe2\\x80\\x9cThey lived on treacle,\\xe2\\x80\\x9d said the Dormouse, after thinking a minute or\\r\\ntwo.\\r\\n\\r\\n\\xe2\\x80\\x9cThey couldn\\xe2\\x80\\x99t have done that, you know,\\xe2\\x80\\x9d Alice gently remarked;\\r\\n\\xe2\\x80\\x9cthey\\xe2\\x80\\x99d have been ill.\\xe2\\x80\\x9d\\r\\n\\r\\n\\xe2\\x80\\x9cSo they were,\\xe2\\x80\\x9d said the Dormouse; \\xe2\\x80\\x9c_very_ ill.\\xe2\\x80\\x9d\\r\\n\\r\\nAlice tried to fancy to herself what such an extraordinary ways of\\r\\nliving would be like, but it puzzled her too much, so she went on: \\xe2\\x80\\x9cBut\\r\\nwhy did they live at the bottom of a well?\\xe2\\x80\\x9d\\r\\n\\r\\n\\xe2\\x80\\x9cTake some more tea,\\xe2\\x80\\x9d the March Hare said to Alice, very earnestly.\\r\\n\\r\\n\\xe2\\x80\\x9cI\\xe2\\x80\\x99ve had nothing yet,\\xe2\\x80\\x9d Alice replied in an offended tone, \\xe2\\x80\\x9cso I can\\xe2\\x80\\x99t\\r\\ntake more.\\xe2\\x80\\x9d\\r\\n\\r\\n\\xe2\\x80\\x9cYou mean you can\\xe2\\x80\\x99t take _less_,\\xe2\\x80\\x9d said the Hatter: \\xe2\\x80\\x9cit\\xe2\\x80\\x99s very easy to\\r\\ntake _more_ than nothing.\\xe2\\x80\\x9d\\r\\n\\r\\n\\xe2\\x80\\x9cNobody asked _your_ opinion,\\xe2\\x80\\x9d said Alice.\\r\\n\\r\\n\\xe2\\x80\\x9cWho\\xe2\\x80\\x99s making personal remarks now?\\xe2\\x80\\x9d the Hatter asked triumphantly.\\r\\n\\r\\nAlice did not quite know what to say to this: so she helped herself to\\r\\nsome tea and bread-and-butter, and then turned to the Dormouse, and\\r\\nrepeated her question. \\xe2\\x80\\x9cWhy did they live at the bottom of a well?\\xe2\\x80\\x9d\\r\\n\\r\\nThe Dormouse again took a minute or two to think about it, and then\\r\\nsaid, \\xe2\\x80\\x9cIt was a treacle-well.\\xe2\\x80\\x9d\\r\\n\\r\\n\\xe2\\x80\\x9cThere\\xe2\\x80\\x99s no such thing!\\xe2\\x80\\x9d Alice was beginning very angrily, but the\\r\\nHatter and the March Hare went \\xe2\\x80\\x9cSh! sh!\\xe2\\x80\\x9d and the Dormouse sulkily\\r\\nremarked, \\xe2\\x80\\x9cIf you can\\xe2\\x80\\x99t be civil, you\\xe2\\x80\\x99d better finish the story for\\r\\nyourself.\\xe2\\x80\\x9d\\r\\n\\r\\n\\xe2\\x80\\x9cNo, please go on!\\xe2\\x80\\x9d Alice said very humbly; \\xe2\\x80\\x9cI won\\xe2\\x80\\x99t interrupt again. I\\r\\ndare say there may be _one_.\\xe2\\x80\\x9d\\r\\n\\r\\n\\xe2\\x80\\x9cOne, indeed!\\xe2\\x80\\x9d said the Dormouse indignantly. However, he consented to\\r\\ngo on. \\xe2\\x80\\x9cAnd so these three little sisters\\xe2\\x80\\x94they were learning to draw,\\r\\nyou know\\xe2\\x80\\x94\\xe2\\x80\\x9d\\r\\n\\r\\n\\xe2\\x80\\x9cWhat did they draw?\\xe2\\x80\\x9d said Alice, quite forgetting her promise.\\r\\n\\r\\n\\xe2\\x80\\x9cTreacle,\\xe2\\x80\\x9d said the Dormouse, without considering at all this time.\\r\\n\\r\\n\\xe2\\x80\\x9cI want a clean cup,\\xe2\\x80\\x9d interrupted the Hatter: \\xe2\\x80\\x9clet\\xe2\\x80\\x99s all move one place\\r\\non.\\xe2\\x80\\x9d\\r\\n\\r\\nHe moved on as he spoke, and the Dormouse followed him: the March Hare\\r\\nmoved into the Dormouse\\xe2\\x80\\x99s place, and Alice rather unwillingly took the\\r\\nplace of the March Hare. The Hatter was the only one who got any\\r\\nadvantage from the change: and Alice was a good deal worse off than\\r\\nbefore, as the March Hare had just upset the milk-jug into his plate.\\r\\n\\r\\nAlice did not wish to offend the Dormouse again, so she began very\\r\\ncautiously: \\xe2\\x80\\x9cBut I don\\xe2\\x80\\x99t understand. Where did they draw the treacle\\r\\nfrom?\\xe2\\x80\\x9d\\r\\n\\r\\n\\xe2\\x80\\x9cYou can draw water out of a water-well,\\xe2\\x80\\x9d said the Hatter; \\xe2\\x80\\x9cso I should\\r\\nthink you could draw treacle out of a treacle-well\\xe2\\x80\\x94eh, stupid?\\xe2\\x80\\x9d\\r\\n\\r\\n\\xe2\\x80\\x9cBut they were _in_ the well,\\xe2\\x80\\x9d Alice said to the Dormouse, not choosing\\r\\nto notice this last remark.\\r\\n\\r\\n\\xe2\\x80\\x9cOf course they were,\\xe2\\x80\\x9d said the Dormouse; \\xe2\\x80\\x9c\\xe2\\x80\\x94well in.\\xe2\\x80\\x9d\\r\\n\\r\\nThis answer so confused poor Alice, that she let the Dormouse go on for\\r\\nsome time without interrupting it.\\r\\n\\r\\n\\xe2\\x80\\x9cThey were learning to draw,\\xe2\\x80\\x9d the Dormouse went on, yawning and rubbing\\r\\nits eyes, for it was getting very sleepy; \\xe2\\x80\\x9cand they drew all manner of\\r\\nthings\\xe2\\x80\\x94everything that begins with an M\\xe2\\x80\\x94\\xe2\\x80\\x9d\\r\\n\\r\\n\\xe2\\x80\\x9cWhy with an M?\\xe2\\x80\\x9d said Alice.\\r\\n\\r\\n\\xe2\\x80\\x9cWhy not?\\xe2\\x80\\x9d said the March Hare.\\r\\n\\r\\nAlice was silent.\\r\\n\\r\\nThe Dormouse had closed its eyes by this time, and was going off into a\\r\\ndoze; but, on being pinched by the Hatter, it woke up again with a\\r\\nlittle shriek, and went on: \\xe2\\x80\\x9c\\xe2\\x80\\x94that begins with an M, such as\\r\\nmouse-traps, and the moon, and memory, and muchness\\xe2\\x80\\x94you know you say\\r\\nthings are \\xe2\\x80\\x9cmuch of a muchness\\xe2\\x80\\x9d\\xe2\\x80\\x94did you ever see such a thing as a\\r\\ndrawing of a muchness?\\xe2\\x80\\x9d\\r\\n\\r\\n\\xe2\\x80\\x9cReally, now you ask me,\\xe2\\x80\\x9d said Alice, very much confused, \\xe2\\x80\\x9cI don\\xe2\\x80\\x99t\\r\\nthink\\xe2\\x80\\x94\\xe2\\x80\\x9d\\r\\n\\r\\n\\xe2\\x80\\x9cThen you shouldn\\xe2\\x80\\x99t talk,\\xe2\\x80\\x9d said the Hatter.\\r\\n\\r\\nThis piece of rudeness was more than Alice could bear: she got up in\\r\\ngreat disgust, and walked off; the Dormouse fell asleep instantly, and\\r\\nneither of the others took the least notice of her going, though she\\r\\nlooked back once or twice, half hoping that they would call after her:\\r\\nthe last time she saw them, they were trying to put the Dormouse into\\r\\nthe teapot.\\r\\n\\r\\n\\xe2\\x80\\x9cAt any rate I\\xe2\\x80\\x99ll never go _there_ again!\\xe2\\x80\\x9d said Alice as she picked her\\r\\nway through the wood. \\xe2\\x80\\x9cIt\\xe2\\x80\\x99s the stupidest tea-party I ever was at in\\r\\nall my life!\\xe2\\x80\\x9d\\r\\n\\r\\nJust as she said this, she noticed that one of the trees had a door\\r\\nleading right into it. \\xe2\\x80\\x9cThat\\xe2\\x80\\x99s very curious!\\xe2\\x80\\x9d she thought. \\xe2\\x80\\x9cBut\\r\\neverything\\xe2\\x80\\x99s curious today. I think I may as well go in at once.\\xe2\\x80\\x9d And\\r\\nin she went.\\r\\n\\r\\nOnce more she found herself in the long hall, and close to the little\\r\\nglass table. \\xe2\\x80\\x9cNow, I\\xe2\\x80\\x99ll manage better this time,\\xe2\\x80\\x9d she said to herself,\\r\\nand began by taking the little golden key, and unlocking the door that\\r\\nled into the garden. Then she went to work nibbling at the mushroom\\r\\n(she had kept a piece of it in her pocket) till she was about a foot\\r\\nhigh: then she walked down the little passage: and _then_\\xe2\\x80\\x94she found\\r\\nherself at last in the beautiful garden, among the bright flower-beds\\r\\nand the cool fountains.\\r\\n\\r\\n\\r\\n\\r\\n\\r\\nCHAPTER VIII.\\r\\nThe Queen\\xe2\\x80\\x99s Croquet-Ground\\r\\n\\r\\n\\r\\nA large rose-tree stood near the entrance of the garden: the roses\\r\\ngrowing on it were white, but there were three gardeners at it, busily\\r\\npainting them red. Alice thought this a very curious thing, and she\\r\\nwent nearer to watch them, and just as she came up to them she heard\\r\\none of them say, \\xe2\\x80\\x9cLook out now, Five! Don\\xe2\\x80\\x99t go splashing paint over me\\r\\nlike that!\\xe2\\x80\\x9d\\r\\n\\r\\n\\xe2\\x80\\x9cI couldn\\xe2\\x80\\x99t help it,\\xe2\\x80\\x9d said Five, in a sulky tone; \\xe2\\x80\\x9cSeven jogged my\\r\\nelbow.\\xe2\\x80\\x9d\\r\\n\\r\\nOn which Seven looked up and said, \\xe2\\x80\\x9cThat\\xe2\\x80\\x99s right, Five! Always lay the\\r\\nblame on others!\\xe2\\x80\\x9d\\r\\n\\r\\n\\xe2\\x80\\x9c_You\\xe2\\x80\\x99d_ better not talk!\\xe2\\x80\\x9d said Five. \\xe2\\x80\\x9cI heard the Queen say only\\r\\nyesterday you deserved to be beheaded!\\xe2\\x80\\x9d\\r\\n\\r\\n\\xe2\\x80\\x9cWhat for?\\xe2\\x80\\x9d said the one who had spoken first.\\r\\n\\r\\n\\xe2\\x80\\x9cThat\\xe2\\x80\\x99s none of _your_ business, Two!\\xe2\\x80\\x9d said Seven.\\r\\n\\r\\n\\xe2\\x80\\x9cYes, it _is_ his business!\\xe2\\x80\\x9d said Five, \\xe2\\x80\\x9cand I\\xe2\\x80\\x99ll tell him\\xe2\\x80\\x94it was for\\r\\nbringing the cook tulip-roots instead of onions.\\xe2\\x80\\x9d\\r\\n\\r\\nSeven flung down his brush, and had just begun \\xe2\\x80\\x9cWell, of all the unjust\\r\\nthings\\xe2\\x80\\x94\\xe2\\x80\\x9d when his eye chanced to fall upon Alice, as she stood watching\\r\\nthem, and he checked himself suddenly: the others looked round also,\\r\\nand all of them bowed low.\\r\\n\\r\\n\\xe2\\x80\\x9cWould you tell me,\\xe2\\x80\\x9d said Alice, a little timidly, \\xe2\\x80\\x9cwhy you are\\r\\npainting those roses?\\xe2\\x80\\x9d\\r\\n\\r\\nFive and Seven said nothing, but looked at Two. Two began in a low\\r\\nvoice, \\xe2\\x80\\x9cWhy the fact is, you see, Miss, this here ought to have been a\\r\\n_red_ rose-tree, and we put a white one in by mistake; and if the Queen\\r\\nwas to find it out, we should all have our heads cut off, you know. So\\r\\nyou see, Miss, we\\xe2\\x80\\x99re doing our best, afore she comes, to\\xe2\\x80\\x94\\xe2\\x80\\x9d At this\\r\\nmoment Five, who had been anxiously looking across the garden, called\\r\\nout \\xe2\\x80\\x9cThe Queen! The Queen!\\xe2\\x80\\x9d and the three gardeners instantly threw\\r\\nthemselves flat upon their faces. There was a sound of many footsteps,\\r\\nand Alice looked round, eager to see the Queen.\\r\\n\\r\\nFirst came ten soldiers carrying clubs; these were all shaped like the\\r\\nthree gardeners, oblong and flat, with their hands and feet at the\\r\\ncorners: next the ten courtiers; these were ornamented all over with\\r\\ndiamonds, and walked two and two, as the soldiers did. After these came\\r\\nthe royal children; there were ten of them, and the little dears came\\r\\njumping merrily along hand in hand, in couples: they were all\\r\\nornamented with hearts. Next came the guests, mostly Kings and Queens,\\r\\nand among them Alice recognised the White Rabbit: it was talking in a\\r\\nhurried nervous manner, smiling at everything that was said, and went\\r\\nby without noticing her. Then followed the Knave of Hearts, carrying\\r\\nthe King\\xe2\\x80\\x99s crown on a crimson velvet cushion; and, last of all this\\r\\ngrand procession, came THE KING AND QUEEN OF HEARTS.\\r\\n\\r\\nAlice was rather doubtful whether she ought not to lie down on her face\\r\\nlike the three gardeners, but she could not remember ever having heard\\r\\nof such a rule at processions; \\xe2\\x80\\x9cand besides, what would be the use of a\\r\\nprocession,\\xe2\\x80\\x9d thought she, \\xe2\\x80\\x9cif people had all to lie down upon their\\r\\nfaces, so that they couldn\\xe2\\x80\\x99t see it?\\xe2\\x80\\x9d So she stood still where she was,\\r\\nand waited.\\r\\n\\r\\nWhen the procession came opposite to Alice, they all stopped and looked\\r\\nat her, and the Queen said severely \\xe2\\x80\\x9cWho is this?\\xe2\\x80\\x9d She said it to the\\r\\nKnave of Hearts, who only bowed and smiled in reply.\\r\\n\\r\\n\\xe2\\x80\\x9cIdiot!\\xe2\\x80\\x9d said the Queen, tossing her head impatiently; and, turning to\\r\\nAlice, she went on, \\xe2\\x80\\x9cWhat\\xe2\\x80\\x99s your name, child?\\xe2\\x80\\x9d\\r\\n\\r\\n\\xe2\\x80\\x9cMy name is Alice, so please your Majesty,\\xe2\\x80\\x9d said Alice very politely;\\r\\nbut she added, to herself, \\xe2\\x80\\x9cWhy, they\\xe2\\x80\\x99re only a pack of cards, after\\r\\nall. I needn\\xe2\\x80\\x99t be afraid of them!\\xe2\\x80\\x9d\\r\\n\\r\\n\\xe2\\x80\\x9cAnd who are _these?_\\xe2\\x80\\x9d said the Queen, pointing to the three gardeners\\r\\nwho were lying round the rose-tree; for, you see, as they were lying on\\r\\ntheir faces, and the pattern on their backs was the same as the rest of\\r\\nthe pack, she could not tell whether they were gardeners, or soldiers,\\r\\nor courtiers, or three of her own children.\\r\\n\\r\\n\\xe2\\x80\\x9cHow should _I_ know?\\xe2\\x80\\x9d said Alice, surprised at her own courage. \\xe2\\x80\\x9cIt\\xe2\\x80\\x99s\\r\\nno business of _mine_.\\xe2\\x80\\x9d\\r\\n\\r\\nThe Queen turned crimson with fury, and, after glaring at her for a\\r\\nmoment like a wild beast, screamed \\xe2\\x80\\x9cOff with her head! Off\\xe2\\x80\\x94\\xe2\\x80\\x9d\\r\\n\\r\\n\\xe2\\x80\\x9cNonsense!\\xe2\\x80\\x9d said Alice, very loudly and decidedly, and the Queen was\\r\\nsilent.\\r\\n\\r\\nThe King laid his hand upon her arm, and timidly said \\xe2\\x80\\x9cConsider, my\\r\\ndear: she is only a child!\\xe2\\x80\\x9d\\r\\n\\r\\nThe Queen turned angrily away from him, and said to the Knave \\xe2\\x80\\x9cTurn\\r\\nthem over!\\xe2\\x80\\x9d\\r\\n\\r\\nThe Knave did so, very carefully, with one foot.\\r\\n\\r\\n\\xe2\\x80\\x9cGet up!\\xe2\\x80\\x9d said the Queen, in a shrill, loud voice, and the three\\r\\ngardeners instantly jumped up, and began bowing to the King, the Queen,\\r\\nthe royal children, and everybody else.\\r\\n\\r\\n\\xe2\\x80\\x9cLeave off that!\\xe2\\x80\\x9d screamed the Queen. \\xe2\\x80\\x9cYou make me giddy.\\xe2\\x80\\x9d And then,\\r\\nturning to the rose-tree, she went on, \\xe2\\x80\\x9cWhat _have_ you been doing\\r\\nhere?\\xe2\\x80\\x9d\\r\\n\\r\\n\\xe2\\x80\\x9cMay it please your Majesty,\\xe2\\x80\\x9d said Two, in a very humble tone, going\\r\\ndown on one knee as he spoke, \\xe2\\x80\\x9cwe were trying\\xe2\\x80\\x94\\xe2\\x80\\x9d\\r\\n\\r\\n\\xe2\\x80\\x9c_I_ see!\\xe2\\x80\\x9d said the Queen, who had meanwhile been examining the roses.\\r\\n\\xe2\\x80\\x9cOff with their heads!\\xe2\\x80\\x9d and the procession moved on, three of the\\r\\nsoldiers remaining behind to execute the unfortunate gardeners, who ran\\r\\nto Alice for protection.\\r\\n\\r\\n\\xe2\\x80\\x9cYou shan\\xe2\\x80\\x99t be beheaded!\\xe2\\x80\\x9d said Alice, and she put them into a large\\r\\nflower-pot that stood near. The three soldiers wandered about for a\\r\\nminute or two, looking for them, and then quietly marched off after the\\r\\nothers.\\r\\n\\r\\n\\xe2\\x80\\x9cAre their heads off?\\xe2\\x80\\x9d shouted the Queen.\\r\\n\\r\\n\\xe2\\x80\\x9cTheir heads are gone, if it please your Majesty!\\xe2\\x80\\x9d the soldiers shouted\\r\\nin reply.\\r\\n\\r\\n\\xe2\\x80\\x9cThat\\xe2\\x80\\x99s right!\\xe2\\x80\\x9d shouted the Queen. \\xe2\\x80\\x9cCan you play croquet?\\xe2\\x80\\x9d\\r\\n\\r\\nThe soldiers were silent, and looked at Alice, as the question was\\r\\nevidently meant for her.\\r\\n\\r\\n\\xe2\\x80\\x9cYes!\\xe2\\x80\\x9d shouted Alice.\\r\\n\\r\\n\\xe2\\x80\\x9cCome on, then!\\xe2\\x80\\x9d roared the Queen, and Alice joined the procession,\\r\\nwondering very much what would happen next.\\r\\n\\r\\n\\xe2\\x80\\x9cIt\\xe2\\x80\\x99s\\xe2\\x80\\x94it\\xe2\\x80\\x99s a very fine day!\\xe2\\x80\\x9d said a timid voice at her side. She was\\r\\nwalking by the White Rabbit, who was peeping anxiously into her face.\\r\\n\\r\\n\\xe2\\x80\\x9cVery,\\xe2\\x80\\x9d said Alice: \\xe2\\x80\\x9c\\xe2\\x80\\x94where\\xe2\\x80\\x99s the Duchess?\\xe2\\x80\\x9d\\r\\n\\r\\n\\xe2\\x80\\x9cHush! Hush!\\xe2\\x80\\x9d said the Rabbit in a low, hurried tone. He looked\\r\\nanxiously over his shoulder as he spoke, and then raised himself upon\\r\\ntiptoe, put his mouth close to her ear, and whispered \\xe2\\x80\\x9cShe\\xe2\\x80\\x99s under\\r\\nsentence of execution.\\xe2\\x80\\x9d\\r\\n\\r\\n\\xe2\\x80\\x9cWhat for?\\xe2\\x80\\x9d said Alice.\\r\\n\\r\\n\\xe2\\x80\\x9cDid you say \\xe2\\x80\\x98What a pity!\\xe2\\x80\\x99?\\xe2\\x80\\x9d the Rabbit asked.\\r\\n\\r\\n\\xe2\\x80\\x9cNo, I didn\\xe2\\x80\\x99t,\\xe2\\x80\\x9d said Alice: \\xe2\\x80\\x9cI don\\xe2\\x80\\x99t think it\\xe2\\x80\\x99s at all a pity. I said\\r\\n\\xe2\\x80\\x98What for?\\xe2\\x80\\x99\\xe2\\x80\\x9d\\r\\n\\r\\n\\xe2\\x80\\x9cShe boxed the Queen\\xe2\\x80\\x99s ears\\xe2\\x80\\x94\\xe2\\x80\\x9d the Rabbit began. Alice gave a little\\r\\nscream of laughter. \\xe2\\x80\\x9cOh, hush!\\xe2\\x80\\x9d the Rabbit whispered in a frightened\\r\\ntone. \\xe2\\x80\\x9cThe Queen will hear you! You see, she came rather late, and the\\r\\nQueen said\\xe2\\x80\\x94\\xe2\\x80\\x9d\\r\\n\\r\\n\\xe2\\x80\\x9cGet to your places!\\xe2\\x80\\x9d shouted the Queen in a voice of thunder, and\\r\\npeople began running about in all directions, tumbling up against each\\r\\nother; however, they got settled down in a minute or two, and the game\\r\\nbegan. Alice thought she had never seen such a curious croquet-ground\\r\\nin her life; it was all ridges and furrows; the balls were live\\r\\nhedgehogs, the mallets live flamingoes, and the soldiers had to double\\r\\nthemselves up and to stand on their hands and feet, to make the arches.\\r\\n\\r\\nThe chief difficulty Alice found at first was in managing her flamingo:\\r\\nshe succeeded in getting its body tucked away, comfortably enough,\\r\\nunder her arm, with its legs hanging down, but generally, just as she\\r\\nhad got its neck nicely straightened out, and was going to give the\\r\\nhedgehog a blow with its head, it _would_ twist itself round and look\\r\\nup in her face, with such a puzzled expression that she could not help\\r\\nbursting out laughing: and when she had got its head down, and was\\r\\ngoing to begin again, it was very provoking to find that the hedgehog\\r\\nhad unrolled itself, and was in the act of crawling away: besides all\\r\\nthis, there was generally a ridge or furrow in the way wherever she\\r\\nwanted to send the hedgehog to, and, as the doubled-up soldiers were\\r\\nalways getting up and walking off to other parts of the ground, Alice\\r\\nsoon came to the conclusion that it was a very difficult game indeed.\\r\\n\\r\\nThe players all played at once without waiting for turns, quarrelling\\r\\nall the while, and fighting for the hedgehogs; and in a very short time\\r\\nthe Queen was in a furious passion, and went stamping about, and\\r\\nshouting \\xe2\\x80\\x9cOff with his head!\\xe2\\x80\\x9d or \\xe2\\x80\\x9cOff with her head!\\xe2\\x80\\x9d about once in a\\r\\nminute.\\r\\n\\r\\nAlice began to feel very uneasy: to be sure, she had not as yet had any\\r\\ndispute with the Queen, but she knew that it might happen any minute,\\r\\n\\xe2\\x80\\x9cand then,\\xe2\\x80\\x9d thought she, \\xe2\\x80\\x9cwhat would become of me? They\\xe2\\x80\\x99re dreadfully\\r\\nfond of beheading people here; the great wonder is, that there\\xe2\\x80\\x99s any\\r\\none left alive!\\xe2\\x80\\x9d\\r\\n\\r\\nShe was looking about for some way of escape, and wondering whether she\\r\\ncould get away without being seen, when she noticed a curious\\r\\nappearance in the air: it puzzled her very much at first, but, after\\r\\nwatching it a minute or two, she made it out to be a grin, and she said\\r\\nto herself \\xe2\\x80\\x9cIt\\xe2\\x80\\x99s the Cheshire Cat: now I shall have somebody to talk\\r\\nto.\\xe2\\x80\\x9d\\r\\n\\r\\n\\xe2\\x80\\x9cHow are you getting on?\\xe2\\x80\\x9d said the Cat, as soon as there was mouth\\r\\nenough for it to speak with.\\r\\n\\r\\nAlice waited till the eyes appeared, and then nodded. \\xe2\\x80\\x9cIt\\xe2\\x80\\x99s no use\\r\\nspeaking to it,\\xe2\\x80\\x9d she thought, \\xe2\\x80\\x9ctill its ears have come, or at least one\\r\\nof them.\\xe2\\x80\\x9d In another minute the whole head appeared, and then Alice put\\r\\ndown her flamingo, and began an account of the game, feeling very glad\\r\\nshe had someone to listen to her. The Cat seemed to think that there\\r\\nwas enough of it now in sight, and no more of it appeared.\\r\\n\\r\\n\\xe2\\x80\\x9cI don\\xe2\\x80\\x99t think they play at all fairly,\\xe2\\x80\\x9d Alice began, in rather a\\r\\ncomplaining tone, \\xe2\\x80\\x9cand they all quarrel so dreadfully one can\\xe2\\x80\\x99t hear\\r\\noneself speak\\xe2\\x80\\x94and they don\\xe2\\x80\\x99t seem to have any rules in particular; at\\r\\nleast, if there are, nobody attends to them\\xe2\\x80\\x94and you\\xe2\\x80\\x99ve no idea how\\r\\nconfusing it is all the things being alive; for instance, there\\xe2\\x80\\x99s the\\r\\narch I\\xe2\\x80\\x99ve got to go through next walking about at the other end of the\\r\\nground\\xe2\\x80\\x94and I should have croqueted the Queen\\xe2\\x80\\x99s hedgehog just now, only\\r\\nit ran away when it saw mine coming!\\xe2\\x80\\x9d\\r\\n\\r\\n\\xe2\\x80\\x9cHow do you like the Queen?\\xe2\\x80\\x9d said the Cat in a low voice.\\r\\n\\r\\n\\xe2\\x80\\x9cNot at all,\\xe2\\x80\\x9d said Alice: \\xe2\\x80\\x9cshe\\xe2\\x80\\x99s so extremely\\xe2\\x80\\x94\\xe2\\x80\\x9d Just then she noticed\\r\\nthat the Queen was close behind her, listening: so she went on,\\r\\n\\xe2\\x80\\x9c\\xe2\\x80\\x94likely to win, that it\\xe2\\x80\\x99s hardly worth while finishing the game.\\xe2\\x80\\x9d\\r\\n\\r\\nThe Queen smiled and passed on.\\r\\n\\r\\n\\xe2\\x80\\x9cWho _are_ you talking to?\\xe2\\x80\\x9d said the King, going up to Alice, and\\r\\nlooking at the Cat\\xe2\\x80\\x99s head with great curiosity.\\r\\n\\r\\n\\xe2\\x80\\x9cIt\\xe2\\x80\\x99s a friend of mine\\xe2\\x80\\x94a Cheshire Cat,\\xe2\\x80\\x9d said Alice: \\xe2\\x80\\x9callow me to\\r\\nintroduce it.\\xe2\\x80\\x9d\\r\\n\\r\\n\\xe2\\x80\\x9cI don\\xe2\\x80\\x99t like the look of it at all,\\xe2\\x80\\x9d said the King: \\xe2\\x80\\x9chowever, it may\\r\\nkiss my hand if it likes.\\xe2\\x80\\x9d\\r\\n\\r\\n\\xe2\\x80\\x9cI\\xe2\\x80\\x99d rather not,\\xe2\\x80\\x9d the Cat remarked.\\r\\n\\r\\n\\xe2\\x80\\x9cDon\\xe2\\x80\\x99t be impertinent,\\xe2\\x80\\x9d said the King, \\xe2\\x80\\x9cand don\\xe2\\x80\\x99t look at me like\\r\\nthat!\\xe2\\x80\\x9d He got behind Alice as he spoke.\\r\\n\\r\\n\\xe2\\x80\\x9cA cat may look at a king,\\xe2\\x80\\x9d said Alice. \\xe2\\x80\\x9cI\\xe2\\x80\\x99ve read that in some book,\\r\\nbut I don\\xe2\\x80\\x99t remember where.\\xe2\\x80\\x9d\\r\\n\\r\\n\\xe2\\x80\\x9cWell, it must be removed,\\xe2\\x80\\x9d said the King very decidedly, and he called\\r\\nthe Queen, who was passing at the moment, \\xe2\\x80\\x9cMy dear! I wish you would\\r\\nhave this cat removed!\\xe2\\x80\\x9d\\r\\n\\r\\nThe Queen had only one way of settling all difficulties, great or\\r\\nsmall. \\xe2\\x80\\x9cOff with his head!\\xe2\\x80\\x9d she said, without even looking round.\\r\\n\\r\\n\\xe2\\x80\\x9cI\\xe2\\x80\\x99ll fetch the executioner myself,\\xe2\\x80\\x9d said the King eagerly, and he\\r\\nhurried off.\\r\\n\\r\\nAlice thought she might as well go back, and see how the game was going\\r\\non, as she heard the Queen\\xe2\\x80\\x99s voice in the distance, screaming with\\r\\npassion. She had already heard her sentence three of the players to be\\r\\nexecuted for having missed their turns, and she did not like the look\\r\\nof things at all, as the game was in such confusion that she never knew\\r\\nwhether it was her turn or not. So she went in search of her hedgehog.\\r\\n\\r\\nThe hedgehog was engaged in a fight with another hedgehog, which seemed\\r\\nto Alice an excellent opportunity for croqueting one of them with the\\r\\nother: the only difficulty was, that her flamingo was gone across to\\r\\nthe other side of the garden, where Alice could see it trying in a\\r\\nhelpless sort of way to fly up into a tree.\\r\\n\\r\\nBy the time she had caught the flamingo and brought it back, the fight\\r\\nwas over, and both the hedgehogs were out of sight: \\xe2\\x80\\x9cbut it doesn\\xe2\\x80\\x99t\\r\\nmatter much,\\xe2\\x80\\x9d thought Alice, \\xe2\\x80\\x9cas all the arches are gone from this side\\r\\nof the ground.\\xe2\\x80\\x9d So she tucked it away under her arm, that it might not\\r\\nescape again, and went back for a little more conversation with her\\r\\nfriend.\\r\\n\\r\\nWhen she got back to the Cheshire Cat, she was surprised to find quite\\r\\na large crowd collected round it: there was a dispute going on between\\r\\nthe executioner, the King, and the Queen, who were all talking at once,\\r\\nwhile all the rest were quite silent, and looked very uncomfortable.\\r\\n\\r\\nThe moment Alice appeared, she was appealed to by all three to settle\\r\\nthe question, and they repeated their arguments to her, though, as they\\r\\nall spoke at once, she found it very hard indeed to make out exactly\\r\\nwhat they said.\\r\\n\\r\\nThe executioner\\xe2\\x80\\x99s argument was, that you couldn\\xe2\\x80\\x99t cut off a head unless\\r\\nthere was a body to cut it off from: that he had never had to do such a\\r\\nthing before, and he wasn\\xe2\\x80\\x99t going to begin at _his_ time of life.\\r\\n\\r\\nThe King\\xe2\\x80\\x99s argument was, that anything that had a head could be\\r\\nbeheaded, and that you weren\\xe2\\x80\\x99t to talk nonsense.\\r\\n\\r\\nThe Queen\\xe2\\x80\\x99s argument was, that if something wasn\\xe2\\x80\\x99t done about it in\\r\\nless than no time she\\xe2\\x80\\x99d have everybody executed, all round. (It was\\r\\nthis last remark that had made the whole party look so grave and\\r\\nanxious.)\\r\\n\\r\\nAlice could think of nothing else to say but \\xe2\\x80\\x9cIt belongs to the\\r\\nDuchess: you\\xe2\\x80\\x99d better ask _her_ about it.\\xe2\\x80\\x9d\\r\\n\\r\\n\\xe2\\x80\\x9cShe\\xe2\\x80\\x99s in prison,\\xe2\\x80\\x9d the Queen said to the executioner: \\xe2\\x80\\x9cfetch her here.\\xe2\\x80\\x9d\\r\\nAnd the executioner went off like an arrow.\\r\\n\\r\\nThe Cat\\xe2\\x80\\x99s head began fading away the moment he was gone, and, by the\\r\\ntime he had come back with the Duchess, it had entirely disappeared; so\\r\\nthe King and the executioner ran wildly up and down looking for it,\\r\\nwhile the rest of the party went back to the game.\\r\\n\\r\\n\\r\\n\\r\\n\\r\\nCHAPTER IX.\\r\\nThe Mock Turtle\\xe2\\x80\\x99s Story\\r\\n\\r\\n\\r\\n\\xe2\\x80\\x9cYou can\\xe2\\x80\\x99t think how glad I am to see you again, you dear old thing!\\xe2\\x80\\x9d\\r\\nsaid the Duchess, as she tucked her arm affectionately into Alice\\xe2\\x80\\x99s,\\r\\nand they walked off together.\\r\\n\\r\\nAlice was very glad to find her in such a pleasant temper, and thought\\r\\nto herself that perhaps it was only the pepper that had made her so\\r\\nsavage when they met in the kitchen.\\r\\n\\r\\n\\xe2\\x80\\x9cWhen _I\\xe2\\x80\\x99m_ a Duchess,\\xe2\\x80\\x9d she said to herself, (not in a very hopeful\\r\\ntone though), \\xe2\\x80\\x9cI won\\xe2\\x80\\x99t have any pepper in my kitchen _at all_. Soup\\r\\ndoes very well without\\xe2\\x80\\x94Maybe it\\xe2\\x80\\x99s always pepper that makes people\\r\\nhot-tempered,\\xe2\\x80\\x9d she went on, very much pleased at having found out a new\\r\\nkind of rule, \\xe2\\x80\\x9cand vinegar that makes them sour\\xe2\\x80\\x94and camomile that makes\\r\\nthem bitter\\xe2\\x80\\x94and\\xe2\\x80\\x94and barley-sugar and such things that make children\\r\\nsweet-tempered. I only wish people knew _that_: then they wouldn\\xe2\\x80\\x99t be\\r\\nso stingy about it, you know\\xe2\\x80\\x94\\xe2\\x80\\x9d\\r\\n\\r\\nShe had quite forgotten the Duchess by this time, and was a little\\r\\nstartled when she heard her voice close to her ear. \\xe2\\x80\\x9cYou\\xe2\\x80\\x99re thinking\\r\\nabout something, my dear, and that makes you forget to talk. I can\\xe2\\x80\\x99t\\r\\ntell you just now what the moral of that is, but I shall remember it in\\r\\na bit.\\xe2\\x80\\x9d\\r\\n\\r\\n\\xe2\\x80\\x9cPerhaps it hasn\\xe2\\x80\\x99t one,\\xe2\\x80\\x9d Alice ventured to remark.\\r\\n\\r\\n\\xe2\\x80\\x9cTut, tut, child!\\xe2\\x80\\x9d said the Duchess. \\xe2\\x80\\x9cEverything\\xe2\\x80\\x99s got a moral, if only\\r\\nyou can find it.\\xe2\\x80\\x9d And she squeezed herself up closer to Alice\\xe2\\x80\\x99s side as\\r\\nshe spoke.\\r\\n\\r\\nAlice did not much like keeping so close to her: first, because the\\r\\nDuchess was _very_ ugly; and secondly, because she was exactly the\\r\\nright height to rest her chin upon Alice\\xe2\\x80\\x99s shoulder, and it was an\\r\\nuncomfortably sharp chin. However, she did not like to be rude, so she\\r\\nbore it as well as she could.\\r\\n\\r\\n\\xe2\\x80\\x9cThe game\\xe2\\x80\\x99s going on rather better now,\\xe2\\x80\\x9d she said, by way of keeping up\\r\\nthe conversation a little.\\r\\n\\r\\n\\xe2\\x80\\x9c\\xe2\\x80\\x99Tis so,\\xe2\\x80\\x9d said the Duchess: \\xe2\\x80\\x9cand the moral of that is\\xe2\\x80\\x94\\xe2\\x80\\x98Oh, \\xe2\\x80\\x99tis love,\\r\\n\\xe2\\x80\\x99tis love, that makes the world go round!\\xe2\\x80\\x99\\xe2\\x80\\x9d\\r\\n\\r\\n\\xe2\\x80\\x9cSomebody said,\\xe2\\x80\\x9d Alice whispered, \\xe2\\x80\\x9cthat it\\xe2\\x80\\x99s done by everybody minding\\r\\ntheir own business!\\xe2\\x80\\x9d\\r\\n\\r\\n\\xe2\\x80\\x9cAh, well! It means much the same thing,\\xe2\\x80\\x9d said the Duchess, digging her\\r\\nsharp little chin into Alice\\xe2\\x80\\x99s shoulder as she added, \\xe2\\x80\\x9cand the moral of\\r\\n_that_ is\\xe2\\x80\\x94\\xe2\\x80\\x98Take care of the sense, and the sounds will take care of\\r\\nthemselves.\\xe2\\x80\\x99\\xe2\\x80\\x9d\\r\\n\\r\\n\\xe2\\x80\\x9cHow fond she is of finding morals in things!\\xe2\\x80\\x9d Alice thought to\\r\\nherself.\\r\\n\\r\\n\\xe2\\x80\\x9cI dare say you\\xe2\\x80\\x99re wondering why I don\\xe2\\x80\\x99t put my arm round your waist,\\xe2\\x80\\x9d\\r\\nthe Duchess said after a pause: \\xe2\\x80\\x9cthe reason is, that I\\xe2\\x80\\x99m doubtful about\\r\\nthe temper of your flamingo. Shall I try the experiment?\\xe2\\x80\\x9d\\r\\n\\r\\n\\xe2\\x80\\x9cHe might bite,\\xe2\\x80\\x9d Alice cautiously replied, not feeling at all anxious\\r\\nto have the experiment tried.\\r\\n\\r\\n\\xe2\\x80\\x9cVery true,\\xe2\\x80\\x9d said the Duchess: \\xe2\\x80\\x9cflamingoes and mustard both bite. And\\r\\nthe moral of that is\\xe2\\x80\\x94\\xe2\\x80\\x98Birds of a feather flock together.\\xe2\\x80\\x99\\xe2\\x80\\x9d\\r\\n\\r\\n\\xe2\\x80\\x9cOnly mustard isn\\xe2\\x80\\x99t a bird,\\xe2\\x80\\x9d Alice remarked.\\r\\n\\r\\n\\xe2\\x80\\x9cRight, as usual,\\xe2\\x80\\x9d said the Duchess: \\xe2\\x80\\x9cwhat a clear way you have of\\r\\nputting things!\\xe2\\x80\\x9d\\r\\n\\r\\n\\xe2\\x80\\x9cIt\\xe2\\x80\\x99s a mineral, I _think_,\\xe2\\x80\\x9d said Alice.\\r\\n\\r\\n\\xe2\\x80\\x9cOf course it is,\\xe2\\x80\\x9d said the Duchess, who seemed ready to agree to\\r\\neverything that Alice said; \\xe2\\x80\\x9cthere\\xe2\\x80\\x99s a large mustard-mine near here.\\r\\nAnd the moral of that is\\xe2\\x80\\x94\\xe2\\x80\\x98The more there is of mine, the less there is\\r\\nof yours.\\xe2\\x80\\x99\\xe2\\x80\\x9d\\r\\n\\r\\n\\xe2\\x80\\x9cOh, I know!\\xe2\\x80\\x9d exclaimed Alice, who had not attended to this last\\r\\nremark, \\xe2\\x80\\x9cit\\xe2\\x80\\x99s a vegetable. It doesn\\xe2\\x80\\x99t look like one, but it is.\\xe2\\x80\\x9d\\r\\n\\r\\n\\xe2\\x80\\x9cI quite agree with you,\\xe2\\x80\\x9d said the Duchess; \\xe2\\x80\\x9cand the moral of that\\r\\nis\\xe2\\x80\\x94\\xe2\\x80\\x98Be what you would seem to be\\xe2\\x80\\x99\\xe2\\x80\\x94or if you\\xe2\\x80\\x99d like it put more\\r\\nsimply\\xe2\\x80\\x94\\xe2\\x80\\x98Never imagine yourself not to be otherwise than what it might\\r\\nappear to others that what you were or might have been was not\\r\\notherwise than what you had been would have appeared to them to be\\r\\notherwise.\\xe2\\x80\\x99\\xe2\\x80\\x9d\\r\\n\\r\\n\\xe2\\x80\\x9cI think I should understand that better,\\xe2\\x80\\x9d Alice said very politely,\\r\\n\\xe2\\x80\\x9cif I had it written down: but I can\\xe2\\x80\\x99t quite follow it as you say it.\\xe2\\x80\\x9d\\r\\n\\r\\n\\xe2\\x80\\x9cThat\\xe2\\x80\\x99s nothing to what I could say if I chose,\\xe2\\x80\\x9d the Duchess replied,\\r\\nin a pleased tone.\\r\\n\\r\\n\\xe2\\x80\\x9cPray don\\xe2\\x80\\x99t trouble yourself to say it any longer than that,\\xe2\\x80\\x9d said\\r\\nAlice.\\r\\n\\r\\n\\xe2\\x80\\x9cOh, don\\xe2\\x80\\x99t talk about trouble!\\xe2\\x80\\x9d said the Duchess. \\xe2\\x80\\x9cI make you a present\\r\\nof everything I\\xe2\\x80\\x99ve said as yet.\\xe2\\x80\\x9d\\r\\n\\r\\n\\xe2\\x80\\x9cA cheap sort of present!\\xe2\\x80\\x9d thought Alice. \\xe2\\x80\\x9cI\\xe2\\x80\\x99m glad they don\\xe2\\x80\\x99t give\\r\\nbirthday presents like that!\\xe2\\x80\\x9d But she did not venture to say it out\\r\\nloud.\\r\\n\\r\\n\\xe2\\x80\\x9cThinking again?\\xe2\\x80\\x9d the Duchess asked, with another dig of her sharp\\r\\nlittle chin.\\r\\n\\r\\n\\xe2\\x80\\x9cI\\xe2\\x80\\x99ve a right to think,\\xe2\\x80\\x9d said Alice sharply, for she was beginning to\\r\\nfeel a little worried.\\r\\n\\r\\n\\xe2\\x80\\x9cJust about as much right,\\xe2\\x80\\x9d said the Duchess, \\xe2\\x80\\x9cas pigs have to fly; and\\r\\nthe m\\xe2\\x80\\x94\\xe2\\x80\\x9d\\r\\n\\r\\nBut here, to Alice\\xe2\\x80\\x99s great surprise, the Duchess\\xe2\\x80\\x99s voice died away,\\r\\neven in the middle of her favourite word \\xe2\\x80\\x98moral,\\xe2\\x80\\x99 and the arm that was\\r\\nlinked into hers began to tremble. Alice looked up, and there stood the\\r\\nQueen in front of them, with her arms folded, frowning like a\\r\\nthunderstorm.\\r\\n\\r\\n\\xe2\\x80\\x9cA fine day, your Majesty!\\xe2\\x80\\x9d the Duchess began in a low, weak voice.\\r\\n\\r\\n\\xe2\\x80\\x9cNow, I give you fair warning,\\xe2\\x80\\x9d shouted the Queen, stamping on the\\r\\nground as she spoke; \\xe2\\x80\\x9ceither you or your head must be off, and that in\\r\\nabout half no time! Take your choice!\\xe2\\x80\\x9d\\r\\n\\r\\nThe Duchess took her choice, and was gone in a moment.\\r\\n\\r\\n\\xe2\\x80\\x9cLet\\xe2\\x80\\x99s go on with the game,\\xe2\\x80\\x9d the Queen said to Alice; and Alice was too\\r\\nmuch frightened to say a word, but slowly followed her back to the\\r\\ncroquet-ground.\\r\\n\\r\\nThe other guests had taken advantage of the Queen\\xe2\\x80\\x99s absence, and were\\r\\nresting in the shade: however, the moment they saw her, they hurried\\r\\nback to the game, the Queen merely remarking that a moment\\xe2\\x80\\x99s delay\\r\\nwould cost them their lives.\\r\\n\\r\\nAll the time they were playing the Queen never left off quarrelling\\r\\nwith the other players, and shouting \\xe2\\x80\\x9cOff with his head!\\xe2\\x80\\x9d or \\xe2\\x80\\x9cOff with\\r\\nher head!\\xe2\\x80\\x9d Those whom she sentenced were taken into custody by the\\r\\nsoldiers, who of course had to leave off being arches to do this, so\\r\\nthat by the end of half an hour or so there were no arches left, and\\r\\nall the players, except the King, the Queen, and Alice, were in custody\\r\\nand under sentence of execution.\\r\\n\\r\\nThen the Queen left off, quite out of breath, and said to Alice, \\xe2\\x80\\x9cHave\\r\\nyou seen the Mock Turtle yet?\\xe2\\x80\\x9d\\r\\n\\r\\n\\xe2\\x80\\x9cNo,\\xe2\\x80\\x9d said Alice. \\xe2\\x80\\x9cI don\\xe2\\x80\\x99t even know what a Mock Turtle is.\\xe2\\x80\\x9d\\r\\n\\r\\n\\xe2\\x80\\x9cIt\\xe2\\x80\\x99s the thing Mock Turtle Soup is made from,\\xe2\\x80\\x9d said the Queen.\\r\\n\\r\\n\\xe2\\x80\\x9cI never saw one, or heard of one,\\xe2\\x80\\x9d said Alice.\\r\\n\\r\\n\\xe2\\x80\\x9cCome on, then,\\xe2\\x80\\x9d said the Queen, \\xe2\\x80\\x9cand he shall tell you his history,\\xe2\\x80\\x9d\\r\\n\\r\\nAs they walked off together, Alice heard the King say in a low voice,\\r\\nto the company generally, \\xe2\\x80\\x9cYou are all pardoned.\\xe2\\x80\\x9d \\xe2\\x80\\x9cCome, _that\\xe2\\x80\\x99s_ a\\r\\ngood thing!\\xe2\\x80\\x9d she said to herself, for she had felt quite unhappy at the\\r\\nnumber of executions the Queen had ordered.\\r\\n\\r\\nThey very soon came upon a Gryphon, lying fast asleep in the sun. (If\\r\\nyou don\\xe2\\x80\\x99t know what a Gryphon is, look at the picture.) \\xe2\\x80\\x9cUp, lazy\\r\\nthing!\\xe2\\x80\\x9d said the Queen, \\xe2\\x80\\x9cand take this young lady to see the Mock\\r\\nTurtle, and to hear his history. I must go back and see after some\\r\\nexecutions I have ordered;\\xe2\\x80\\x9d and she walked off, leaving Alice alone\\r\\nwith the Gryphon. Alice did not quite like the look of the creature,\\r\\nbut on the whole she thought it would be quite as safe to stay with it\\r\\nas to go after that savage Queen: so she waited.\\r\\n\\r\\nThe Gryphon sat up and rubbed its eyes: then it watched the Queen till\\r\\nshe was out of sight: then it chuckled. \\xe2\\x80\\x9cWhat fun!\\xe2\\x80\\x9d said the Gryphon,\\r\\nhalf to itself, half to Alice.\\r\\n\\r\\n\\xe2\\x80\\x9cWhat _is_ the fun?\\xe2\\x80\\x9d said Alice.\\r\\n\\r\\n\\xe2\\x80\\x9cWhy, _she_,\\xe2\\x80\\x9d said the Gryphon. \\xe2\\x80\\x9cIt\\xe2\\x80\\x99s all her fancy, that: they never\\r\\nexecutes nobody, you know. Come on!\\xe2\\x80\\x9d\\r\\n\\r\\n\\xe2\\x80\\x9cEverybody says \\xe2\\x80\\x98come on!\\xe2\\x80\\x99 here,\\xe2\\x80\\x9d thought Alice, as she went slowly\\r\\nafter it: \\xe2\\x80\\x9cI never was so ordered about in all my life, never!\\xe2\\x80\\x9d\\r\\n\\r\\nThey had not gone far before they saw the Mock Turtle in the distance,\\r\\nsitting sad and lonely on a little ledge of rock, and, as they came\\r\\nnearer, Alice could hear him sighing as if his heart would break. She\\r\\npitied him deeply. \\xe2\\x80\\x9cWhat is his sorrow?\\xe2\\x80\\x9d she asked the Gryphon, and the\\r\\nGryphon answered, very nearly in the same words as before, \\xe2\\x80\\x9cIt\\xe2\\x80\\x99s all\\r\\nhis fancy, that: he hasn\\xe2\\x80\\x99t got no sorrow, you know. Come on!\\xe2\\x80\\x9d\\r\\n\\r\\nSo they went up to the Mock Turtle, who looked at them with large eyes\\r\\nfull of tears, but said nothing.\\r\\n\\r\\n\\xe2\\x80\\x9cThis here young lady,\\xe2\\x80\\x9d said the Gryphon, \\xe2\\x80\\x9cshe wants for to know your\\r\\nhistory, she do.\\xe2\\x80\\x9d\\r\\n\\r\\n\\xe2\\x80\\x9cI\\xe2\\x80\\x99ll tell it her,\\xe2\\x80\\x9d said the Mock Turtle in a deep, hollow tone: \\xe2\\x80\\x9csit\\r\\ndown, both of you, and don\\xe2\\x80\\x99t speak a word till I\\xe2\\x80\\x99ve finished.\\xe2\\x80\\x9d\\r\\n\\r\\nSo they sat down, and nobody spoke for some minutes. Alice thought to\\r\\nherself, \\xe2\\x80\\x9cI don\\xe2\\x80\\x99t see how he can _ever_ finish, if he doesn\\xe2\\x80\\x99t begin.\\xe2\\x80\\x9d\\r\\nBut she waited patiently.\\r\\n\\r\\n\\xe2\\x80\\x9cOnce,\\xe2\\x80\\x9d said the Mock Turtle at last, with a deep sigh, \\xe2\\x80\\x9cI was a real\\r\\nTurtle.\\xe2\\x80\\x9d\\r\\n\\r\\nThese words were followed by a very long silence, broken only by an\\r\\noccasional exclamation of \\xe2\\x80\\x9cHjckrrh!\\xe2\\x80\\x9d from the Gryphon, and the constant\\r\\nheavy sobbing of the Mock Turtle. Alice was very nearly getting up and\\r\\nsaying, \\xe2\\x80\\x9cThank you, sir, for your interesting story,\\xe2\\x80\\x9d but she could not\\r\\nhelp thinking there _must_ be more to come, so she sat still and said\\r\\nnothing.\\r\\n\\r\\n\\xe2\\x80\\x9cWhen we were little,\\xe2\\x80\\x9d the Mock Turtle went on at last, more calmly,\\r\\nthough still sobbing a little now and then, \\xe2\\x80\\x9cwe went to school in the\\r\\nsea. The master was an old Turtle\\xe2\\x80\\x94we used to call him Tortoise\\xe2\\x80\\x94\\xe2\\x80\\x9d\\r\\n\\r\\n\\xe2\\x80\\x9cWhy did you call him Tortoise, if he wasn\\xe2\\x80\\x99t one?\\xe2\\x80\\x9d Alice asked.\\r\\n\\r\\n\\xe2\\x80\\x9cWe called him Tortoise because he taught us,\\xe2\\x80\\x9d said the Mock Turtle\\r\\nangrily: \\xe2\\x80\\x9creally you are very dull!\\xe2\\x80\\x9d\\r\\n\\r\\n\\xe2\\x80\\x9cYou ought to be ashamed of yourself for asking such a simple\\r\\nquestion,\\xe2\\x80\\x9d added the Gryphon; and then they both sat silent and looked\\r\\nat poor Alice, who felt ready to sink into the earth. At last the\\r\\nGryphon said to the Mock Turtle, \\xe2\\x80\\x9cDrive on, old fellow! Don\\xe2\\x80\\x99t be all\\r\\nday about it!\\xe2\\x80\\x9d and he went on in these words:\\r\\n\\r\\n\\xe2\\x80\\x9cYes, we went to school in the sea, though you mayn\\xe2\\x80\\x99t believe it\\xe2\\x80\\x94\\xe2\\x80\\x9d\\r\\n\\r\\n\\xe2\\x80\\x9cI never said I didn\\xe2\\x80\\x99t!\\xe2\\x80\\x9d interrupted Alice.\\r\\n\\r\\n\\xe2\\x80\\x9cYou did,\\xe2\\x80\\x9d said the Mock Turtle.\\r\\n\\r\\n\\xe2\\x80\\x9cHold your tongue!\\xe2\\x80\\x9d added the Gryphon, before Alice could speak again.\\r\\nThe Mock Turtle went on.\\r\\n\\r\\n\\xe2\\x80\\x9cWe had the best of educations\\xe2\\x80\\x94in fact, we went to school every day\\xe2\\x80\\x94\\xe2\\x80\\x9d\\r\\n\\r\\n\\xe2\\x80\\x9c_I\\xe2\\x80\\x99ve_ been to a day-school, too,\\xe2\\x80\\x9d said Alice; \\xe2\\x80\\x9cyou needn\\xe2\\x80\\x99t be so\\r\\nproud as all that.\\xe2\\x80\\x9d\\r\\n\\r\\n\\xe2\\x80\\x9cWith extras?\\xe2\\x80\\x9d asked the Mock Turtle a little anxiously.\\r\\n\\r\\n\\xe2\\x80\\x9cYes,\\xe2\\x80\\x9d said Alice, \\xe2\\x80\\x9cwe learned French and music.\\xe2\\x80\\x9d\\r\\n\\r\\n\\xe2\\x80\\x9cAnd washing?\\xe2\\x80\\x9d said the Mock Turtle.\\r\\n\\r\\n\\xe2\\x80\\x9cCertainly not!\\xe2\\x80\\x9d said Alice indignantly.\\r\\n\\r\\n\\xe2\\x80\\x9cAh! then yours wasn\\xe2\\x80\\x99t a really good school,\\xe2\\x80\\x9d said the Mock Turtle in a\\r\\ntone of great relief. \\xe2\\x80\\x9cNow at _ours_ they had at the end of the bill,\\r\\n\\xe2\\x80\\x98French, music, _and washing_\\xe2\\x80\\x94extra.\\xe2\\x80\\x99\\xe2\\x80\\x9d\\r\\n\\r\\n\\xe2\\x80\\x9cYou couldn\\xe2\\x80\\x99t have wanted it much,\\xe2\\x80\\x9d said Alice; \\xe2\\x80\\x9cliving at the bottom\\r\\nof the sea.\\xe2\\x80\\x9d\\r\\n\\r\\n\\xe2\\x80\\x9cI couldn\\xe2\\x80\\x99t afford to learn it.\\xe2\\x80\\x9d said the Mock Turtle with a sigh. \\xe2\\x80\\x9cI\\r\\nonly took the regular course.\\xe2\\x80\\x9d\\r\\n\\r\\n\\xe2\\x80\\x9cWhat was that?\\xe2\\x80\\x9d inquired Alice.\\r\\n\\r\\n\\xe2\\x80\\x9cReeling and Writhing, of course, to begin with,\\xe2\\x80\\x9d the Mock Turtle\\r\\nreplied; \\xe2\\x80\\x9cand then the different branches of Arithmetic\\xe2\\x80\\x94Ambition,\\r\\nDistraction, Uglification, and Derision.\\xe2\\x80\\x9d\\r\\n\\r\\n\\xe2\\x80\\x9cI never heard of \\xe2\\x80\\x98Uglification,\\xe2\\x80\\x99\\xe2\\x80\\x9d Alice ventured to say. \\xe2\\x80\\x9cWhat is it?\\xe2\\x80\\x9d\\r\\n\\r\\nThe Gryphon lifted up both its paws in surprise. \\xe2\\x80\\x9cWhat! Never heard of\\r\\nuglifying!\\xe2\\x80\\x9d it exclaimed. \\xe2\\x80\\x9cYou know what to beautify is, I suppose?\\xe2\\x80\\x9d\\r\\n\\r\\n\\xe2\\x80\\x9cYes,\\xe2\\x80\\x9d said Alice doubtfully: \\xe2\\x80\\x9cit means\\xe2\\x80\\x94to\\xe2\\x80\\x94make\\xe2\\x80\\x94anything\\xe2\\x80\\x94prettier.\\xe2\\x80\\x9d\\r\\n\\r\\n\\xe2\\x80\\x9cWell, then,\\xe2\\x80\\x9d the Gryphon went on, \\xe2\\x80\\x9cif you don\\xe2\\x80\\x99t know what to uglify\\r\\nis, you _are_ a simpleton.\\xe2\\x80\\x9d\\r\\n\\r\\nAlice did not feel encouraged to ask any more questions about it, so\\r\\nshe turned to the Mock Turtle, and said \\xe2\\x80\\x9cWhat else had you to learn?\\xe2\\x80\\x9d\\r\\n\\r\\n\\xe2\\x80\\x9cWell, there was Mystery,\\xe2\\x80\\x9d the Mock Turtle replied, counting off the\\r\\nsubjects on his flappers, \\xe2\\x80\\x9c\\xe2\\x80\\x94Mystery, ancient and modern, with\\r\\nSeaography: then Drawling\\xe2\\x80\\x94the Drawling-master was an old conger-eel,\\r\\nthat used to come once a week: _he_ taught us Drawling, Stretching, and\\r\\nFainting in Coils.\\xe2\\x80\\x9d\\r\\n\\r\\n\\xe2\\x80\\x9cWhat was _that_ like?\\xe2\\x80\\x9d said Alice.\\r\\n\\r\\n\\xe2\\x80\\x9cWell, I can\\xe2\\x80\\x99t show it you myself,\\xe2\\x80\\x9d the Mock Turtle said: \\xe2\\x80\\x9cI\\xe2\\x80\\x99m too\\r\\nstiff. And the Gryphon never learnt it.\\xe2\\x80\\x9d\\r\\n\\r\\n\\xe2\\x80\\x9cHadn\\xe2\\x80\\x99t time,\\xe2\\x80\\x9d said the Gryphon: \\xe2\\x80\\x9cI went to the Classics master,\\r\\nthough. He was an old crab, _he_ was.\\xe2\\x80\\x9d\\r\\n\\r\\n\\xe2\\x80\\x9cI never went to him,\\xe2\\x80\\x9d the Mock Turtle said with a sigh: \\xe2\\x80\\x9che taught\\r\\nLaughing and Grief, they used to say.\\xe2\\x80\\x9d\\r\\n\\r\\n\\xe2\\x80\\x9cSo he did, so he did,\\xe2\\x80\\x9d said the Gryphon, sighing in his turn; and both\\r\\ncreatures hid their faces in their paws.\\r\\n\\r\\n\\xe2\\x80\\x9cAnd how many hours a day did you do lessons?\\xe2\\x80\\x9d said Alice, in a hurry\\r\\nto change the subject.\\r\\n\\r\\n\\xe2\\x80\\x9cTen hours the first day,\\xe2\\x80\\x9d said the Mock Turtle: \\xe2\\x80\\x9cnine the next, and so\\r\\non.\\xe2\\x80\\x9d\\r\\n\\r\\n\\xe2\\x80\\x9cWhat a curious plan!\\xe2\\x80\\x9d exclaimed Alice.\\r\\n\\r\\n\\xe2\\x80\\x9cThat\\xe2\\x80\\x99s the reason they\\xe2\\x80\\x99re called lessons,\\xe2\\x80\\x9d the Gryphon remarked:\\r\\n\\xe2\\x80\\x9cbecause they lessen from day to day.\\xe2\\x80\\x9d\\r\\n\\r\\nThis was quite a new idea to Alice, and she thought it over a little\\r\\nbefore she made her next remark. \\xe2\\x80\\x9cThen the eleventh day must have been\\r\\na holiday?\\xe2\\x80\\x9d\\r\\n\\r\\n\\xe2\\x80\\x9cOf course it was,\\xe2\\x80\\x9d said the Mock Turtle.\\r\\n\\r\\n\\xe2\\x80\\x9cAnd how did you manage on the twelfth?\\xe2\\x80\\x9d Alice went on eagerly.\\r\\n\\r\\n\\xe2\\x80\\x9cThat\\xe2\\x80\\x99s enough about lessons,\\xe2\\x80\\x9d the Gryphon interrupted in a very\\r\\ndecided tone: \\xe2\\x80\\x9ctell her something about the games now.\\xe2\\x80\\x9d\\r\\n\\r\\n\\r\\n\\r\\n\\r\\nCHAPTER X.\\r\\nThe Lobster Quadrille\\r\\n\\r\\n\\r\\nThe Mock Turtle sighed deeply, and drew the back of one flapper across\\r\\nhis eyes. He looked at Alice, and tried to speak, but for a minute or\\r\\ntwo sobs choked his voice. \\xe2\\x80\\x9cSame as if he had a bone in his throat,\\xe2\\x80\\x9d\\r\\nsaid the Gryphon: and it set to work shaking him and punching him in\\r\\nthe back. At last the Mock Turtle recovered his voice, and, with tears\\r\\nrunning down his cheeks, he went on again:\\xe2\\x80\\x94\\r\\n\\r\\n\\xe2\\x80\\x9cYou may not have lived much under the sea\\xe2\\x80\\x94\\xe2\\x80\\x9d (\\xe2\\x80\\x9cI haven\\xe2\\x80\\x99t,\\xe2\\x80\\x9d said\\r\\nAlice)\\xe2\\x80\\x94\\xe2\\x80\\x9cand perhaps you were never even introduced to a lobster\\xe2\\x80\\x94\\xe2\\x80\\x9d\\r\\n(Alice began to say \\xe2\\x80\\x9cI once tasted\\xe2\\x80\\x94\\xe2\\x80\\x9d but checked herself hastily, and\\r\\nsaid \\xe2\\x80\\x9cNo, never\\xe2\\x80\\x9d) \\xe2\\x80\\x9c\\xe2\\x80\\x94so you can have no idea what a delightful thing a\\r\\nLobster Quadrille is!\\xe2\\x80\\x9d\\r\\n\\r\\n\\xe2\\x80\\x9cNo, indeed,\\xe2\\x80\\x9d said Alice. \\xe2\\x80\\x9cWhat sort of a dance is it?\\xe2\\x80\\x9d\\r\\n\\r\\n\\xe2\\x80\\x9cWhy,\\xe2\\x80\\x9d said the Gryphon, \\xe2\\x80\\x9cyou first form into a line along the\\r\\nsea-shore\\xe2\\x80\\x94\\xe2\\x80\\x9d\\r\\n\\r\\n\\xe2\\x80\\x9cTwo lines!\\xe2\\x80\\x9d cried the Mock Turtle. \\xe2\\x80\\x9cSeals, turtles, salmon, and so on;\\r\\nthen, when you\\xe2\\x80\\x99ve cleared all the jelly-fish out of the way\\xe2\\x80\\x94\\xe2\\x80\\x9d\\r\\n\\r\\n\\xe2\\x80\\x9c_That_ generally takes some time,\\xe2\\x80\\x9d interrupted the Gryphon.\\r\\n\\r\\n\\xe2\\x80\\x9c\\xe2\\x80\\x94you advance twice\\xe2\\x80\\x94\\xe2\\x80\\x9d\\r\\n\\r\\n\\xe2\\x80\\x9cEach with a lobster as a partner!\\xe2\\x80\\x9d cried the Gryphon.\\r\\n\\r\\n\\xe2\\x80\\x9cOf course,\\xe2\\x80\\x9d the Mock Turtle said: \\xe2\\x80\\x9cadvance twice, set to partners\\xe2\\x80\\x94\\xe2\\x80\\x9d\\r\\n\\r\\n\\xe2\\x80\\x9c\\xe2\\x80\\x94change lobsters, and retire in same order,\\xe2\\x80\\x9d continued the Gryphon.\\r\\n\\r\\n\\xe2\\x80\\x9cThen, you know,\\xe2\\x80\\x9d the Mock Turtle went on, \\xe2\\x80\\x9cyou throw the\\xe2\\x80\\x94\\xe2\\x80\\x9d\\r\\n\\r\\n\\xe2\\x80\\x9cThe lobsters!\\xe2\\x80\\x9d shouted the Gryphon, with a bound into the air.\\r\\n\\r\\n\\xe2\\x80\\x9c\\xe2\\x80\\x94as far out to sea as you can\\xe2\\x80\\x94\\xe2\\x80\\x9d\\r\\n\\r\\n\\xe2\\x80\\x9cSwim after them!\\xe2\\x80\\x9d screamed the Gryphon.\\r\\n\\r\\n\\xe2\\x80\\x9cTurn a somersault in the sea!\\xe2\\x80\\x9d cried the Mock Turtle, capering wildly\\r\\nabout.\\r\\n\\r\\n\\xe2\\x80\\x9cChange lobsters again!\\xe2\\x80\\x9d yelled the Gryphon at the top of its voice.\\r\\n\\r\\n\\xe2\\x80\\x9cBack to land again, and that\\xe2\\x80\\x99s all the first figure,\\xe2\\x80\\x9d said the Mock\\r\\nTurtle, suddenly dropping his voice; and the two creatures, who had\\r\\nbeen jumping about like mad things all this time, sat down again very\\r\\nsadly and quietly, and looked at Alice.\\r\\n\\r\\n\\xe2\\x80\\x9cIt must be a very pretty dance,\\xe2\\x80\\x9d said Alice timidly.\\r\\n\\r\\n\\xe2\\x80\\x9cWould you like to see a little of it?\\xe2\\x80\\x9d said the Mock Turtle.\\r\\n\\r\\n\\xe2\\x80\\x9cVery much indeed,\\xe2\\x80\\x9d said Alice.\\r\\n\\r\\n\\xe2\\x80\\x9cCome, let\\xe2\\x80\\x99s try the first figure!\\xe2\\x80\\x9d said the Mock Turtle to the\\r\\nGryphon. \\xe2\\x80\\x9cWe can do without lobsters, you know. Which shall sing?\\xe2\\x80\\x9d\\r\\n\\r\\n\\xe2\\x80\\x9cOh, _you_ sing,\\xe2\\x80\\x9d said the Gryphon. \\xe2\\x80\\x9cI\\xe2\\x80\\x99ve forgotten the words.\\xe2\\x80\\x9d\\r\\n\\r\\nSo they began solemnly dancing round and round Alice, every now and\\r\\nthen treading on her toes when they passed too close, and waving their\\r\\nforepaws to mark the time, while the Mock Turtle sang this, very slowly\\r\\nand sadly:\\xe2\\x80\\x94\\r\\n\\r\\n\\xe2\\x80\\x9cWill you walk a little faster?\\xe2\\x80\\x9d said a whiting to a snail.\\r\\n\\xe2\\x80\\x9cThere\\xe2\\x80\\x99s a porpoise close behind us, and he\\xe2\\x80\\x99s treading on my tail.\\r\\nSee how eagerly the lobsters and the turtles all advance!\\r\\nThey are waiting on the shingle\\xe2\\x80\\x94will you come and join the dance?\\r\\nWill you, won\\xe2\\x80\\x99t you, will you, won\\xe2\\x80\\x99t you, will you join the dance?\\r\\nWill you, won\\xe2\\x80\\x99t you, will you, won\\xe2\\x80\\x99t you, won\\xe2\\x80\\x99t you join the dance?\\r\\n\\r\\n\\xe2\\x80\\x9cYou can really have no notion how delightful it will be\\r\\nWhen they take us up and throw us, with the lobsters, out to sea!\\xe2\\x80\\x9d\\r\\nBut the snail replied \\xe2\\x80\\x9cToo far, too far!\\xe2\\x80\\x9d and gave a look askance\\xe2\\x80\\x94\\r\\nSaid he thanked the whiting kindly, but he would not join the dance.\\r\\nWould not, could not, would not, could not, would not join the dance.\\r\\nWould not, could not, would not, could not, could not join the dance.\\r\\n\\r\\n\\xe2\\x80\\x9cWhat matters it how far we go?\\xe2\\x80\\x9d his scaly friend replied.\\r\\n\\xe2\\x80\\x9cThere is another shore, you know, upon the other side.\\r\\nThe further off from England the nearer is to France\\xe2\\x80\\x94\\r\\nThen turn not pale, beloved snail, but come and join the dance.\\r\\nWill you, won\\xe2\\x80\\x99t you, will you, won\\xe2\\x80\\x99t you, will you join the dance?\\r\\nWill you, won\\xe2\\x80\\x99t you, will you, won\\xe2\\x80\\x99t you, won\\xe2\\x80\\x99t you join the dance?\\xe2\\x80\\x9d\\r\\n\\r\\n\\r\\n\\xe2\\x80\\x9cThank you, it\\xe2\\x80\\x99s a very interesting dance to watch,\\xe2\\x80\\x9d said Alice,\\r\\nfeeling very glad that it was over at last: \\xe2\\x80\\x9cand I do so like that\\r\\ncurious song about the whiting!\\xe2\\x80\\x9d\\r\\n\\r\\n\\xe2\\x80\\x9cOh, as to the whiting,\\xe2\\x80\\x9d said the Mock Turtle, \\xe2\\x80\\x9cthey\\xe2\\x80\\x94you\\xe2\\x80\\x99ve seen them,\\r\\nof course?\\xe2\\x80\\x9d\\r\\n\\r\\n\\xe2\\x80\\x9cYes,\\xe2\\x80\\x9d said Alice, \\xe2\\x80\\x9cI\\xe2\\x80\\x99ve often seen them at dinn\\xe2\\x80\\x94\\xe2\\x80\\x9d she checked herself\\r\\nhastily.\\r\\n\\r\\n\\xe2\\x80\\x9cI don\\xe2\\x80\\x99t know where Dinn may be,\\xe2\\x80\\x9d said the Mock Turtle, \\xe2\\x80\\x9cbut if you\\xe2\\x80\\x99ve\\r\\nseen them so often, of course you know what they\\xe2\\x80\\x99re like.\\xe2\\x80\\x9d\\r\\n\\r\\n\\xe2\\x80\\x9cI believe so,\\xe2\\x80\\x9d Alice replied thoughtfully. \\xe2\\x80\\x9cThey have their tails in\\r\\ntheir mouths\\xe2\\x80\\x94and they\\xe2\\x80\\x99re all over crumbs.\\xe2\\x80\\x9d\\r\\n\\r\\n\\xe2\\x80\\x9cYou\\xe2\\x80\\x99re wrong about the crumbs,\\xe2\\x80\\x9d said the Mock Turtle: \\xe2\\x80\\x9ccrumbs would\\r\\nall wash off in the sea. But they _have_ their tails in their mouths;\\r\\nand the reason is\\xe2\\x80\\x94\\xe2\\x80\\x9d here the Mock Turtle yawned and shut his\\r\\neyes.\\xe2\\x80\\x94\\xe2\\x80\\x9cTell her about the reason and all that,\\xe2\\x80\\x9d he said to the Gryphon.\\r\\n\\r\\n\\xe2\\x80\\x9cThe reason is,\\xe2\\x80\\x9d said the Gryphon, \\xe2\\x80\\x9cthat they _would_ go with the\\r\\nlobsters to the dance. So they got thrown out to sea. So they had to\\r\\nfall a long way. So they got their tails fast in their mouths. So they\\r\\ncouldn\\xe2\\x80\\x99t get them out again. That\\xe2\\x80\\x99s all.\\xe2\\x80\\x9d\\r\\n\\r\\n\\xe2\\x80\\x9cThank you,\\xe2\\x80\\x9d said Alice, \\xe2\\x80\\x9cit\\xe2\\x80\\x99s very interesting. I never knew so much\\r\\nabout a whiting before.\\xe2\\x80\\x9d\\r\\n\\r\\n\\xe2\\x80\\x9cI can tell you more than that, if you like,\\xe2\\x80\\x9d said the Gryphon. \\xe2\\x80\\x9cDo you\\r\\nknow why it\\xe2\\x80\\x99s called a whiting?\\xe2\\x80\\x9d\\r\\n\\r\\n\\xe2\\x80\\x9cI never thought about it,\\xe2\\x80\\x9d said Alice. \\xe2\\x80\\x9cWhy?\\xe2\\x80\\x9d\\r\\n\\r\\n\\xe2\\x80\\x9c_It does the boots and shoes_,\\xe2\\x80\\x9d the Gryphon replied very solemnly.\\r\\n\\r\\nAlice was thoroughly puzzled. \\xe2\\x80\\x9cDoes the boots and shoes!\\xe2\\x80\\x9d she repeated\\r\\nin a wondering tone.\\r\\n\\r\\n\\xe2\\x80\\x9cWhy, what are _your_ shoes done with?\\xe2\\x80\\x9d said the Gryphon. \\xe2\\x80\\x9cI mean, what\\r\\nmakes them so shiny?\\xe2\\x80\\x9d\\r\\n\\r\\nAlice looked down at them, and considered a little before she gave her\\r\\nanswer. \\xe2\\x80\\x9cThey\\xe2\\x80\\x99re done with blacking, I believe.\\xe2\\x80\\x9d\\r\\n\\r\\n\\xe2\\x80\\x9cBoots and shoes under the sea,\\xe2\\x80\\x9d the Gryphon went on in a deep voice,\\r\\n\\xe2\\x80\\x9care done with a whiting. Now you know.\\xe2\\x80\\x9d\\r\\n\\r\\n\\xe2\\x80\\x9cAnd what are they made of?\\xe2\\x80\\x9d Alice asked in a tone of great curiosity.\\r\\n\\r\\n\\xe2\\x80\\x9cSoles and eels, of course,\\xe2\\x80\\x9d the Gryphon replied rather impatiently:\\r\\n\\xe2\\x80\\x9cany shrimp could have told you that.\\xe2\\x80\\x9d\\r\\n\\r\\n\\xe2\\x80\\x9cIf I\\xe2\\x80\\x99d been the whiting,\\xe2\\x80\\x9d said Alice, whose thoughts were still\\r\\nrunning on the song, \\xe2\\x80\\x9cI\\xe2\\x80\\x99d have said to the porpoise, \\xe2\\x80\\x98Keep back,\\r\\nplease: we don\\xe2\\x80\\x99t want _you_ with us!\\xe2\\x80\\x99\\xe2\\x80\\x9d\\r\\n\\r\\n\\xe2\\x80\\x9cThey were obliged to have him with them,\\xe2\\x80\\x9d the Mock Turtle said: \\xe2\\x80\\x9cno\\r\\nwise fish would go anywhere without a porpoise.\\xe2\\x80\\x9d\\r\\n\\r\\n\\xe2\\x80\\x9cWouldn\\xe2\\x80\\x99t it really?\\xe2\\x80\\x9d said Alice in a tone of great surprise.\\r\\n\\r\\n\\xe2\\x80\\x9cOf course not,\\xe2\\x80\\x9d said the Mock Turtle: \\xe2\\x80\\x9cwhy, if a fish came to _me_,\\r\\nand told me he was going a journey, I should say \\xe2\\x80\\x98With what porpoise?\\xe2\\x80\\x99\\xe2\\x80\\x9d\\r\\n\\r\\n\\xe2\\x80\\x9cDon\\xe2\\x80\\x99t you mean \\xe2\\x80\\x98purpose\\xe2\\x80\\x99?\\xe2\\x80\\x9d said Alice.\\r\\n\\r\\n\\xe2\\x80\\x9cI mean what I say,\\xe2\\x80\\x9d the Mock Turtle replied in an offended tone. And\\r\\nthe Gryphon added \\xe2\\x80\\x9cCome, let\\xe2\\x80\\x99s hear some of _your_ adventures.\\xe2\\x80\\x9d\\r\\n\\r\\n\\xe2\\x80\\x9cI could tell you my adventures\\xe2\\x80\\x94beginning from this morning,\\xe2\\x80\\x9d said\\r\\nAlice a little timidly: \\xe2\\x80\\x9cbut it\\xe2\\x80\\x99s no use going back to yesterday,\\r\\nbecause I was a different person then.\\xe2\\x80\\x9d\\r\\n\\r\\n\\xe2\\x80\\x9cExplain all that,\\xe2\\x80\\x9d said the Mock Turtle.\\r\\n\\r\\n\\xe2\\x80\\x9cNo, no! The adventures first,\\xe2\\x80\\x9d said the Gryphon in an impatient tone:\\r\\n\\xe2\\x80\\x9cexplanations take such a dreadful time.\\xe2\\x80\\x9d\\r\\n\\r\\nSo Alice began telling them her adventures from the time when she first\\r\\nsaw the White Rabbit. She was a little nervous about it just at first,\\r\\nthe two creatures got so close to her, one on each side, and opened\\r\\ntheir eyes and mouths so _very_ wide, but she gained courage as she\\r\\nwent on. Her listeners were perfectly quiet till she got to the part\\r\\nabout her repeating \\xe2\\x80\\x9c_You are old, Father William_,\\xe2\\x80\\x9d to the\\r\\nCaterpillar, and the words all coming different, and then the Mock\\r\\nTurtle drew a long breath, and said \\xe2\\x80\\x9cThat\\xe2\\x80\\x99s very curious.\\xe2\\x80\\x9d\\r\\n\\r\\n\\xe2\\x80\\x9cIt\\xe2\\x80\\x99s all about as curious as it can be,\\xe2\\x80\\x9d said the Gryphon.\\r\\n\\r\\n\\xe2\\x80\\x9cIt all came different!\\xe2\\x80\\x9d the Mock Turtle repeated thoughtfully. \\xe2\\x80\\x9cI\\r\\nshould like to hear her try and repeat something now. Tell her to\\r\\nbegin.\\xe2\\x80\\x9d He looked at the Gryphon as if he thought it had some kind of\\r\\nauthority over Alice.\\r\\n\\r\\n\\xe2\\x80\\x9cStand up and repeat \\xe2\\x80\\x98\\xe2\\x80\\x99_Tis the voice of the sluggard_,\\xe2\\x80\\x99\\xe2\\x80\\x9d said the\\r\\nGryphon.\\r\\n\\r\\n\\xe2\\x80\\x9cHow the creatures order one about, and make one repeat lessons!\\xe2\\x80\\x9d\\r\\nthought Alice; \\xe2\\x80\\x9cI might as well be at school at once.\\xe2\\x80\\x9d However, she got\\r\\nup, and began to repeat it, but her head was so full of the Lobster\\r\\nQuadrille, that she hardly knew what she was saying, and the words came\\r\\nvery queer indeed:\\xe2\\x80\\x94\\r\\n\\r\\n\\xe2\\x80\\x9c\\xe2\\x80\\x99Tis the voice of the Lobster; I heard him declare,\\r\\n\\xe2\\x80\\x9cYou have baked me too brown, I must sugar my hair.\\xe2\\x80\\x9d\\r\\nAs a duck with its eyelids, so he with his nose\\r\\nTrims his belt and his buttons, and turns out his toes.\\xe2\\x80\\x9d\\r\\n\\r\\n[later editions continued as follows\\r\\nWhen the sands are all dry, he is gay as a lark,\\r\\nAnd will talk in contemptuous tones of the Shark,\\r\\nBut, when the tide rises and sharks are around,\\r\\nHis voice has a timid and tremulous sound.]\\r\\n\\r\\n\\r\\n\\xe2\\x80\\x9cThat\\xe2\\x80\\x99s different from what _I_ used to say when I was a child,\\xe2\\x80\\x9d said\\r\\nthe Gryphon.\\r\\n\\r\\n\\xe2\\x80\\x9cWell, I never heard it before,\\xe2\\x80\\x9d said the Mock Turtle; \\xe2\\x80\\x9cbut it sounds\\r\\nuncommon nonsense.\\xe2\\x80\\x9d\\r\\n\\r\\nAlice said nothing; she had sat down with her face in her hands,\\r\\nwondering if anything would _ever_ happen in a natural way again.\\r\\n\\r\\n\\xe2\\x80\\x9cI should like to have it explained,\\xe2\\x80\\x9d said the Mock Turtle.\\r\\n\\r\\n\\xe2\\x80\\x9cShe can\\xe2\\x80\\x99t explain it,\\xe2\\x80\\x9d said the Gryphon hastily. \\xe2\\x80\\x9cGo on with the next\\r\\nverse.\\xe2\\x80\\x9d\\r\\n\\r\\n\\xe2\\x80\\x9cBut about his toes?\\xe2\\x80\\x9d the Mock Turtle persisted. \\xe2\\x80\\x9cHow _could_ he turn\\r\\nthem out with his nose, you know?\\xe2\\x80\\x9d\\r\\n\\r\\n\\xe2\\x80\\x9cIt\\xe2\\x80\\x99s the first position in dancing.\\xe2\\x80\\x9d Alice said; but was dreadfully\\r\\npuzzled by the whole thing, and longed to change the subject.\\r\\n\\r\\n\\xe2\\x80\\x9cGo on with the next verse,\\xe2\\x80\\x9d the Gryphon repeated impatiently: \\xe2\\x80\\x9cit\\r\\nbegins \\xe2\\x80\\x98_I passed by his garden_.\\xe2\\x80\\x99\\xe2\\x80\\x9d\\r\\n\\r\\nAlice did not dare to disobey, though she felt sure it would all come\\r\\nwrong, and she went on in a trembling voice:\\xe2\\x80\\x94\\r\\n\\r\\n\\xe2\\x80\\x9cI passed by his garden, and marked, with one eye,\\r\\nHow the Owl and the Panther were sharing a pie\\xe2\\x80\\x94\\xe2\\x80\\x9d\\r\\n\\r\\n[later editions continued as follows\\r\\nThe Panther took pie-crust, and gravy, and meat,\\r\\nWhile the Owl had the dish as its share of the treat.\\r\\nWhen the pie was all finished, the Owl, as a boon,\\r\\nWas kindly permitted to pocket the spoon:\\r\\nWhile the Panther received knife and fork with a growl,\\r\\nAnd concluded the banquet\\xe2\\x80\\x94]\\r\\n\\r\\n\\r\\n\\xe2\\x80\\x9cWhat _is_ the use of repeating all that stuff,\\xe2\\x80\\x9d the Mock Turtle\\r\\ninterrupted, \\xe2\\x80\\x9cif you don\\xe2\\x80\\x99t explain it as you go on? It\\xe2\\x80\\x99s by far the\\r\\nmost confusing thing _I_ ever heard!\\xe2\\x80\\x9d\\r\\n\\r\\n\\xe2\\x80\\x9cYes, I think you\\xe2\\x80\\x99d better leave off,\\xe2\\x80\\x9d said the Gryphon: and Alice was\\r\\nonly too glad to do so.\\r\\n\\r\\n\\xe2\\x80\\x9cShall we try another figure of the Lobster Quadrille?\\xe2\\x80\\x9d the Gryphon\\r\\nwent on. \\xe2\\x80\\x9cOr would you like the Mock Turtle to sing you a song?\\xe2\\x80\\x9d\\r\\n\\r\\n\\xe2\\x80\\x9cOh, a song, please, if the Mock Turtle would be so kind,\\xe2\\x80\\x9d Alice\\r\\nreplied, so eagerly that the Gryphon said, in a rather offended tone,\\r\\n\\xe2\\x80\\x9cHm! No accounting for tastes! Sing her \\xe2\\x80\\x98_Turtle Soup_,\\xe2\\x80\\x99 will you, old\\r\\nfellow?\\xe2\\x80\\x9d\\r\\n\\r\\nThe Mock Turtle sighed deeply, and began, in a voice sometimes choked\\r\\nwith sobs, to sing this:\\xe2\\x80\\x94\\r\\n\\r\\n\\xe2\\x80\\x9cBeautiful Soup, so rich and green,\\r\\nWaiting in a hot tureen!\\r\\nWho for such dainties would not stoop?\\r\\nSoup of the evening, beautiful Soup!\\r\\nSoup of the evening, beautiful Soup!\\r\\n    Beau\\xe2\\x80\\x94ootiful Soo\\xe2\\x80\\x94oop!\\r\\n    Beau\\xe2\\x80\\x94ootiful Soo\\xe2\\x80\\x94oop!\\r\\nSoo\\xe2\\x80\\x94oop of the e\\xe2\\x80\\x94e\\xe2\\x80\\x94evening,\\r\\n    Beautiful, beautiful Soup!\\r\\n\\r\\n\\xe2\\x80\\x9cBeautiful Soup! Who cares for fish,\\r\\nGame, or any other dish?\\r\\nWho would not give all else for two p\\r\\nennyworth only of beautiful Soup?\\r\\nPennyworth only of beautiful Soup?\\r\\n    Beau\\xe2\\x80\\x94ootiful Soo\\xe2\\x80\\x94oop!\\r\\n    Beau\\xe2\\x80\\x94ootiful Soo\\xe2\\x80\\x94oop!\\r\\nSoo\\xe2\\x80\\x94oop of the e\\xe2\\x80\\x94e\\xe2\\x80\\x94evening,\\r\\n    Beautiful, beauti\\xe2\\x80\\x94FUL SOUP!\\xe2\\x80\\x9d\\r\\n\\r\\n\\r\\n\\xe2\\x80\\x9cChorus again!\\xe2\\x80\\x9d cried the Gryphon, and the Mock Turtle had just begun\\r\\nto repeat it, when a cry of \\xe2\\x80\\x9cThe trial\\xe2\\x80\\x99s beginning!\\xe2\\x80\\x9d was heard in the\\r\\ndistance.\\r\\n\\r\\n\\xe2\\x80\\x9cCome on!\\xe2\\x80\\x9d cried the Gryphon, and, taking Alice by the hand, it hurried\\r\\noff, without waiting for the end of the song.\\r\\n\\r\\n\\xe2\\x80\\x9cWhat trial is it?\\xe2\\x80\\x9d Alice panted as she ran; but the Gryphon only\\r\\nanswered \\xe2\\x80\\x9cCome on!\\xe2\\x80\\x9d and ran the faster, while more and more faintly\\r\\ncame, carried on the breeze that followed them, the melancholy words:\\xe2\\x80\\x94\\r\\n\\r\\n\\xe2\\x80\\x9cSoo\\xe2\\x80\\x94oop of the e\\xe2\\x80\\x94e\\xe2\\x80\\x94evening,\\r\\n    Beautiful, beautiful Soup!\\xe2\\x80\\x9d\\r\\n\\r\\n\\r\\n\\r\\n\\r\\nCHAPTER XI.\\r\\nWho Stole the Tarts?\\r\\n\\r\\n\\r\\nThe King and Queen of Hearts were seated on their throne when they\\r\\narrived, with a great crowd assembled about them\\xe2\\x80\\x94all sorts of little\\r\\nbirds and beasts, as well as the whole pack of cards: the Knave was\\r\\nstanding before them, in chains, with a soldier on each side to guard\\r\\nhim; and near the King was the White Rabbit, with a trumpet in one\\r\\nhand, and a scroll of parchment in the other. In the very middle of the\\r\\ncourt was a table, with a large dish of tarts upon it: they looked so\\r\\ngood, that it made Alice quite hungry to look at them\\xe2\\x80\\x94\\xe2\\x80\\x9cI wish they\\xe2\\x80\\x99d\\r\\nget the trial done,\\xe2\\x80\\x9d she thought, \\xe2\\x80\\x9cand hand round the refreshments!\\xe2\\x80\\x9d\\r\\nBut there seemed to be no chance of this, so she began looking at\\r\\neverything about her, to pass away the time.\\r\\n\\r\\nAlice had never been in a court of justice before, but she had read\\r\\nabout them in books, and she was quite pleased to find that she knew\\r\\nthe name of nearly everything there. \\xe2\\x80\\x9cThat\\xe2\\x80\\x99s the judge,\\xe2\\x80\\x9d she said to\\r\\nherself, \\xe2\\x80\\x9cbecause of his great wig.\\xe2\\x80\\x9d\\r\\n\\r\\nThe judge, by the way, was the King; and as he wore his crown over the\\r\\nwig, (look at the frontispiece if you want to see how he did it,) he\\r\\ndid not look at all comfortable, and it was certainly not becoming.\\r\\n\\r\\n\\xe2\\x80\\x9cAnd that\\xe2\\x80\\x99s the jury-box,\\xe2\\x80\\x9d thought Alice, \\xe2\\x80\\x9cand those twelve creatures,\\xe2\\x80\\x9d\\r\\n(she was obliged to say \\xe2\\x80\\x9ccreatures,\\xe2\\x80\\x9d you see, because some of them were\\r\\nanimals, and some were birds,) \\xe2\\x80\\x9cI suppose they are the jurors.\\xe2\\x80\\x9d She\\r\\nsaid this last word two or three times over to herself, being rather\\r\\nproud of it: for she thought, and rightly too, that very few little\\r\\ngirls of her age knew the meaning of it at all. However, \\xe2\\x80\\x9cjury-men\\xe2\\x80\\x9d\\r\\nwould have done just as well.\\r\\n\\r\\nThe twelve jurors were all writing very busily on slates. \\xe2\\x80\\x9cWhat are\\r\\nthey doing?\\xe2\\x80\\x9d Alice whispered to the Gryphon. \\xe2\\x80\\x9cThey can\\xe2\\x80\\x99t have anything\\r\\nto put down yet, before the trial\\xe2\\x80\\x99s begun.\\xe2\\x80\\x9d\\r\\n\\r\\n\\xe2\\x80\\x9cThey\\xe2\\x80\\x99re putting down their names,\\xe2\\x80\\x9d the Gryphon whispered in reply,\\r\\n\\xe2\\x80\\x9cfor fear they should forget them before the end of the trial.\\xe2\\x80\\x9d\\r\\n\\r\\n\\xe2\\x80\\x9cStupid things!\\xe2\\x80\\x9d Alice began in a loud, indignant voice, but she\\r\\nstopped hastily, for the White Rabbit cried out, \\xe2\\x80\\x9cSilence in the\\r\\ncourt!\\xe2\\x80\\x9d and the King put on his spectacles and looked anxiously round,\\r\\nto make out who was talking.\\r\\n\\r\\nAlice could see, as well as if she were looking over their shoulders,\\r\\nthat all the jurors were writing down \\xe2\\x80\\x9cstupid things!\\xe2\\x80\\x9d on their slates,\\r\\nand she could even make out that one of them didn\\xe2\\x80\\x99t know how to spell\\r\\n\\xe2\\x80\\x9cstupid,\\xe2\\x80\\x9d and that he had to ask his neighbour to tell him. \\xe2\\x80\\x9cA nice\\r\\nmuddle their slates\\xe2\\x80\\x99ll be in before the trial\\xe2\\x80\\x99s over!\\xe2\\x80\\x9d thought Alice.\\r\\n\\r\\nOne of the jurors had a pencil that squeaked. This of course, Alice\\r\\ncould _not_ stand, and she went round the court and got behind him, and\\r\\nvery soon found an opportunity of taking it away. She did it so quickly\\r\\nthat the poor little juror (it was Bill, the Lizard) could not make out\\r\\nat all what had become of it; so, after hunting all about for it, he\\r\\nwas obliged to write with one finger for the rest of the day; and this\\r\\nwas of very little use, as it left no mark on the slate.\\r\\n\\r\\n\\xe2\\x80\\x9cHerald, read the accusation!\\xe2\\x80\\x9d said the King.\\r\\n\\r\\nOn this the White Rabbit blew three blasts on the trumpet, and then\\r\\nunrolled the parchment scroll, and read as follows:\\xe2\\x80\\x94\\r\\n\\r\\n\\xe2\\x80\\x9cThe Queen of Hearts, she made some tarts,\\r\\n    All on a summer day:\\r\\nThe Knave of Hearts, he stole those tarts,\\r\\n    And took them quite away!\\xe2\\x80\\x9d\\r\\n\\r\\n\\r\\n\\xe2\\x80\\x9cConsider your verdict,\\xe2\\x80\\x9d the King said to the jury.\\r\\n\\r\\n\\xe2\\x80\\x9cNot yet, not yet!\\xe2\\x80\\x9d the Rabbit hastily interrupted. \\xe2\\x80\\x9cThere\\xe2\\x80\\x99s a great\\r\\ndeal to come before that!\\xe2\\x80\\x9d\\r\\n\\r\\n\\xe2\\x80\\x9cCall the first witness,\\xe2\\x80\\x9d said the King; and the White Rabbit blew\\r\\nthree blasts on the trumpet, and called out, \\xe2\\x80\\x9cFirst witness!\\xe2\\x80\\x9d\\r\\n\\r\\nThe first witness was the Hatter. He came in with a teacup in one hand\\r\\nand a piece of bread-and-butter in the other. \\xe2\\x80\\x9cI beg pardon, your\\r\\nMajesty,\\xe2\\x80\\x9d he began, \\xe2\\x80\\x9cfor bringing these in: but I hadn\\xe2\\x80\\x99t quite finished\\r\\nmy tea when I was sent for.\\xe2\\x80\\x9d\\r\\n\\r\\n\\xe2\\x80\\x9cYou ought to have finished,\\xe2\\x80\\x9d said the King. \\xe2\\x80\\x9cWhen did you begin?\\xe2\\x80\\x9d\\r\\n\\r\\nThe Hatter looked at the March Hare, who had followed him into the\\r\\ncourt, arm-in-arm with the Dormouse. \\xe2\\x80\\x9cFourteenth of March, I _think_ it\\r\\nwas,\\xe2\\x80\\x9d he said.\\r\\n\\r\\n\\xe2\\x80\\x9cFifteenth,\\xe2\\x80\\x9d said the March Hare.\\r\\n\\r\\n\\xe2\\x80\\x9cSixteenth,\\xe2\\x80\\x9d added the Dormouse.\\r\\n\\r\\n\\xe2\\x80\\x9cWrite that down,\\xe2\\x80\\x9d the King said to the jury, and the jury eagerly\\r\\nwrote down all three dates on their slates, and then added them up, and\\r\\nreduced the answer to shillings and pence.\\r\\n\\r\\n\\xe2\\x80\\x9cTake off your hat,\\xe2\\x80\\x9d the King said to the Hatter.\\r\\n\\r\\n\\xe2\\x80\\x9cIt isn\\xe2\\x80\\x99t mine,\\xe2\\x80\\x9d said the Hatter.\\r\\n\\r\\n\\xe2\\x80\\x9c_Stolen!_\\xe2\\x80\\x9d the King exclaimed, turning to the jury, who instantly made\\r\\na memorandum of the fact.\\r\\n\\r\\n\\xe2\\x80\\x9cI keep them to sell,\\xe2\\x80\\x9d the Hatter added as an explanation; \\xe2\\x80\\x9cI\\xe2\\x80\\x99ve none\\r\\nof my own. I\\xe2\\x80\\x99m a hatter.\\xe2\\x80\\x9d\\r\\n\\r\\nHere the Queen put on her spectacles, and began staring at the Hatter,\\r\\nwho turned pale and fidgeted.\\r\\n\\r\\n\\xe2\\x80\\x9cGive your evidence,\\xe2\\x80\\x9d said the King; \\xe2\\x80\\x9cand don\\xe2\\x80\\x99t be nervous, or I\\xe2\\x80\\x99ll\\r\\nhave you executed on the spot.\\xe2\\x80\\x9d\\r\\n\\r\\nThis did not seem to encourage the witness at all: he kept shifting\\r\\nfrom one foot to the other, looking uneasily at the Queen, and in his\\r\\nconfusion he bit a large piece out of his teacup instead of the\\r\\nbread-and-butter.\\r\\n\\r\\nJust at this moment Alice felt a very curious sensation, which puzzled\\r\\nher a good deal until she made out what it was: she was beginning to\\r\\ngrow larger again, and she thought at first she would get up and leave\\r\\nthe court; but on second thoughts she decided to remain where she was\\r\\nas long as there was room for her.\\r\\n\\r\\n\\xe2\\x80\\x9cI wish you wouldn\\xe2\\x80\\x99t squeeze so.\\xe2\\x80\\x9d said the Dormouse, who was sitting\\r\\nnext to her. \\xe2\\x80\\x9cI can hardly breathe.\\xe2\\x80\\x9d\\r\\n\\r\\n\\xe2\\x80\\x9cI can\\xe2\\x80\\x99t help it,\\xe2\\x80\\x9d said Alice very meekly: \\xe2\\x80\\x9cI\\xe2\\x80\\x99m growing.\\xe2\\x80\\x9d\\r\\n\\r\\n\\xe2\\x80\\x9cYou\\xe2\\x80\\x99ve no right to grow _here_,\\xe2\\x80\\x9d said the Dormouse.\\r\\n\\r\\n\\xe2\\x80\\x9cDon\\xe2\\x80\\x99t talk nonsense,\\xe2\\x80\\x9d said Alice more boldly: \\xe2\\x80\\x9cyou know you\\xe2\\x80\\x99re growing\\r\\ntoo.\\xe2\\x80\\x9d\\r\\n\\r\\n\\xe2\\x80\\x9cYes, but _I_ grow at a reasonable pace,\\xe2\\x80\\x9d said the Dormouse: \\xe2\\x80\\x9cnot in\\r\\nthat ridiculous fashion.\\xe2\\x80\\x9d And he got up very sulkily and crossed over\\r\\nto the other side of the court.\\r\\n\\r\\nAll this time the Queen had never left off staring at the Hatter, and,\\r\\njust as the Dormouse crossed the court, she said to one of the officers\\r\\nof the court, \\xe2\\x80\\x9cBring me the list of the singers in the last concert!\\xe2\\x80\\x9d\\r\\non which the wretched Hatter trembled so, that he shook both his shoes\\r\\noff.\\r\\n\\r\\n\\xe2\\x80\\x9cGive your evidence,\\xe2\\x80\\x9d the King repeated angrily, \\xe2\\x80\\x9cor I\\xe2\\x80\\x99ll have you\\r\\nexecuted, whether you\\xe2\\x80\\x99re nervous or not.\\xe2\\x80\\x9d\\r\\n\\r\\n\\xe2\\x80\\x9cI\\xe2\\x80\\x99m a poor man, your Majesty,\\xe2\\x80\\x9d the Hatter began, in a trembling voice,\\r\\n\\xe2\\x80\\x9c\\xe2\\x80\\x94and I hadn\\xe2\\x80\\x99t begun my tea\\xe2\\x80\\x94not above a week or so\\xe2\\x80\\x94and what with the\\r\\nbread-and-butter getting so thin\\xe2\\x80\\x94and the twinkling of the tea\\xe2\\x80\\x94\\xe2\\x80\\x9d\\r\\n\\r\\n\\xe2\\x80\\x9cThe twinkling of the _what?_\\xe2\\x80\\x9d said the King.\\r\\n\\r\\n\\xe2\\x80\\x9cIt _began_ with the tea,\\xe2\\x80\\x9d the Hatter replied.\\r\\n\\r\\n\\xe2\\x80\\x9cOf course twinkling begins with a T!\\xe2\\x80\\x9d said the King sharply. \\xe2\\x80\\x9cDo you\\r\\ntake me for a dunce? Go on!\\xe2\\x80\\x9d\\r\\n\\r\\n\\xe2\\x80\\x9cI\\xe2\\x80\\x99m a poor man,\\xe2\\x80\\x9d the Hatter went on, \\xe2\\x80\\x9cand most things twinkled after\\r\\nthat\\xe2\\x80\\x94only the March Hare said\\xe2\\x80\\x94\\xe2\\x80\\x9d\\r\\n\\r\\n\\xe2\\x80\\x9cI didn\\xe2\\x80\\x99t!\\xe2\\x80\\x9d the March Hare interrupted in a great hurry.\\r\\n\\r\\n\\xe2\\x80\\x9cYou did!\\xe2\\x80\\x9d said the Hatter.\\r\\n\\r\\n\\xe2\\x80\\x9cI deny it!\\xe2\\x80\\x9d said the March Hare.\\r\\n\\r\\n\\xe2\\x80\\x9cHe denies it,\\xe2\\x80\\x9d said the King: \\xe2\\x80\\x9cleave out that part.\\xe2\\x80\\x9d\\r\\n\\r\\n\\xe2\\x80\\x9cWell, at any rate, the Dormouse said\\xe2\\x80\\x94\\xe2\\x80\\x9d the Hatter went on, looking\\r\\nanxiously round to see if he would deny it too: but the Dormouse denied\\r\\nnothing, being fast asleep.\\r\\n\\r\\n\\xe2\\x80\\x9cAfter that,\\xe2\\x80\\x9d continued the Hatter, \\xe2\\x80\\x9cI cut some more bread-and-butter\\xe2\\x80\\x94\\xe2\\x80\\x9d\\r\\n\\r\\n\\xe2\\x80\\x9cBut what did the Dormouse say?\\xe2\\x80\\x9d one of the jury asked.\\r\\n\\r\\n\\xe2\\x80\\x9cThat I can\\xe2\\x80\\x99t remember,\\xe2\\x80\\x9d said the Hatter.\\r\\n\\r\\n\\xe2\\x80\\x9cYou _must_ remember,\\xe2\\x80\\x9d remarked the King, \\xe2\\x80\\x9cor I\\xe2\\x80\\x99ll have you executed.\\xe2\\x80\\x9d\\r\\n\\r\\nThe miserable Hatter dropped his teacup and bread-and-butter, and went\\r\\ndown on one knee. \\xe2\\x80\\x9cI\\xe2\\x80\\x99m a poor man, your Majesty,\\xe2\\x80\\x9d he began.\\r\\n\\r\\n\\xe2\\x80\\x9cYou\\xe2\\x80\\x99re a _very_ poor _speaker_,\\xe2\\x80\\x9d said the King.\\r\\n\\r\\nHere one of the guinea-pigs cheered, and was immediately suppressed by\\r\\nthe officers of the court. (As that is rather a hard word, I will just\\r\\nexplain to you how it was done. They had a large canvas bag, which tied\\r\\nup at the mouth with strings: into this they slipped the guinea-pig,\\r\\nhead first, and then sat upon it.)\\r\\n\\r\\n\\xe2\\x80\\x9cI\\xe2\\x80\\x99m glad I\\xe2\\x80\\x99ve seen that done,\\xe2\\x80\\x9d thought Alice. \\xe2\\x80\\x9cI\\xe2\\x80\\x99ve so often read in\\r\\nthe newspapers, at the end of trials, \\xe2\\x80\\x9cThere was some attempts at\\r\\napplause, which was immediately suppressed by the officers of the\\r\\ncourt,\\xe2\\x80\\x9d and I never understood what it meant till now.\\xe2\\x80\\x9d\\r\\n\\r\\n\\xe2\\x80\\x9cIf that\\xe2\\x80\\x99s all you know about it, you may stand down,\\xe2\\x80\\x9d continued the\\r\\nKing.\\r\\n\\r\\n\\xe2\\x80\\x9cI can\\xe2\\x80\\x99t go no lower,\\xe2\\x80\\x9d said the Hatter: \\xe2\\x80\\x9cI\\xe2\\x80\\x99m on the floor, as it is.\\xe2\\x80\\x9d\\r\\n\\r\\n\\xe2\\x80\\x9cThen you may _sit_ down,\\xe2\\x80\\x9d the King replied.\\r\\n\\r\\nHere the other guinea-pig cheered, and was suppressed.\\r\\n\\r\\n\\xe2\\x80\\x9cCome, that finished the guinea-pigs!\\xe2\\x80\\x9d thought Alice. \\xe2\\x80\\x9cNow we shall get\\r\\non better.\\xe2\\x80\\x9d\\r\\n\\r\\n\\xe2\\x80\\x9cI\\xe2\\x80\\x99d rather finish my tea,\\xe2\\x80\\x9d said the Hatter, with an anxious look at\\r\\nthe Queen, who was reading the list of singers.\\r\\n\\r\\n\\xe2\\x80\\x9cYou may go,\\xe2\\x80\\x9d said the King, and the Hatter hurriedly left the court,\\r\\nwithout even waiting to put his shoes on.\\r\\n\\r\\n\\xe2\\x80\\x9c\\xe2\\x80\\x94and just take his head off outside,\\xe2\\x80\\x9d the Queen added to one of the\\r\\nofficers: but the Hatter was out of sight before the officer could get\\r\\nto the door.\\r\\n\\r\\n\\xe2\\x80\\x9cCall the next witness!\\xe2\\x80\\x9d said the King.\\r\\n\\r\\nThe next witness was the Duchess\\xe2\\x80\\x99s cook. She carried the pepper-box in\\r\\nher hand, and Alice guessed who it was, even before she got into the\\r\\ncourt, by the way the people near the door began sneezing all at once.\\r\\n\\r\\n\\xe2\\x80\\x9cGive your evidence,\\xe2\\x80\\x9d said the King.\\r\\n\\r\\n\\xe2\\x80\\x9cShan\\xe2\\x80\\x99t,\\xe2\\x80\\x9d said the cook.\\r\\n\\r\\nThe King looked anxiously at the White Rabbit, who said in a low voice,\\r\\n\\xe2\\x80\\x9cYour Majesty must cross-examine _this_ witness.\\xe2\\x80\\x9d\\r\\n\\r\\n\\xe2\\x80\\x9cWell, if I must, I must,\\xe2\\x80\\x9d the King said, with a melancholy air, and,\\r\\nafter folding his arms and frowning at the cook till his eyes were\\r\\nnearly out of sight, he said in a deep voice, \\xe2\\x80\\x9cWhat are tarts made of?\\xe2\\x80\\x9d\\r\\n\\r\\n\\xe2\\x80\\x9cPepper, mostly,\\xe2\\x80\\x9d said the cook.\\r\\n\\r\\n\\xe2\\x80\\x9cTreacle,\\xe2\\x80\\x9d said a sleepy voice behind her.\\r\\n\\r\\n\\xe2\\x80\\x9cCollar that Dormouse,\\xe2\\x80\\x9d the Queen shrieked out. \\xe2\\x80\\x9cBehead that Dormouse!\\r\\nTurn that Dormouse out of court! Suppress him! Pinch him! Off with his\\r\\nwhiskers!\\xe2\\x80\\x9d\\r\\n\\r\\nFor some minutes the whole court was in confusion, getting the Dormouse\\r\\nturned out, and, by the time they had settled down again, the cook had\\r\\ndisappeared.\\r\\n\\r\\n\\xe2\\x80\\x9cNever mind!\\xe2\\x80\\x9d said the King, with an air of great relief. \\xe2\\x80\\x9cCall the\\r\\nnext witness.\\xe2\\x80\\x9d And he added in an undertone to the Queen, \\xe2\\x80\\x9cReally, my\\r\\ndear, _you_ must cross-examine the next witness. It quite makes my\\r\\nforehead ache!\\xe2\\x80\\x9d\\r\\n\\r\\nAlice watched the White Rabbit as he fumbled over the list, feeling\\r\\nvery curious to see what the next witness would be like, \\xe2\\x80\\x9c\\xe2\\x80\\x94for they\\r\\nhaven\\xe2\\x80\\x99t got much evidence _yet_,\\xe2\\x80\\x9d she said to herself. Imagine her\\r\\nsurprise, when the White Rabbit read out, at the top of his shrill\\r\\nlittle voice, the name \\xe2\\x80\\x9cAlice!\\xe2\\x80\\x9d\\r\\n\\r\\n\\r\\n\\r\\n\\r\\nCHAPTER XII.\\r\\nAlice\\xe2\\x80\\x99s Evidence\\r\\n\\r\\n\\r\\n\\xe2\\x80\\x9cHere!\\xe2\\x80\\x9d cried Alice, quite forgetting in the flurry of the moment how\\r\\nlarge she had grown in the last few minutes, and she jumped up in such\\r\\na hurry that she tipped over the jury-box with the edge of her skirt,\\r\\nupsetting all the jurymen on to the heads of the crowd below, and there\\r\\nthey lay sprawling about, reminding her very much of a globe of\\r\\ngoldfish she had accidentally upset the week before.\\r\\n\\r\\n\\xe2\\x80\\x9cOh, I _beg_ your pardon!\\xe2\\x80\\x9d she exclaimed in a tone of great dismay, and\\r\\nbegan picking them up again as quickly as she could, for the accident\\r\\nof the goldfish kept running in her head, and she had a vague sort of\\r\\nidea that they must be collected at once and put back into the\\r\\njury-box, or they would die.\\r\\n\\r\\n\\xe2\\x80\\x9cThe trial cannot proceed,\\xe2\\x80\\x9d said the King in a very grave voice, \\xe2\\x80\\x9cuntil\\r\\nall the jurymen are back in their proper places\\xe2\\x80\\x94_all_,\\xe2\\x80\\x9d he repeated\\r\\nwith great emphasis, looking hard at Alice as he said so.\\r\\n\\r\\nAlice looked at the jury-box, and saw that, in her haste, she had put\\r\\nthe Lizard in head downwards, and the poor little thing was waving its\\r\\ntail about in a melancholy way, being quite unable to move. She soon\\r\\ngot it out again, and put it right; \\xe2\\x80\\x9cnot that it signifies much,\\xe2\\x80\\x9d she\\r\\nsaid to herself; \\xe2\\x80\\x9cI should think it would be _quite_ as much use in the\\r\\ntrial one way up as the other.\\xe2\\x80\\x9d\\r\\n\\r\\nAs soon as the jury had a little recovered from the shock of being\\r\\nupset, and their slates and pencils had been found and handed back to\\r\\nthem, they set to work very diligently to write out a history of the\\r\\naccident, all except the Lizard, who seemed too much overcome to do\\r\\nanything but sit with its mouth open, gazing up into the roof of the\\r\\ncourt.\\r\\n\\r\\n\\xe2\\x80\\x9cWhat do you know about this business?\\xe2\\x80\\x9d the King said to Alice.\\r\\n\\r\\n\\xe2\\x80\\x9cNothing,\\xe2\\x80\\x9d said Alice.\\r\\n\\r\\n\\xe2\\x80\\x9cNothing _whatever?_\\xe2\\x80\\x9d persisted the King.\\r\\n\\r\\n\\xe2\\x80\\x9cNothing whatever,\\xe2\\x80\\x9d said Alice.\\r\\n\\r\\n\\xe2\\x80\\x9cThat\\xe2\\x80\\x99s very important,\\xe2\\x80\\x9d the King said, turning to the jury. They were\\r\\njust beginning to write this down on their slates, when the White\\r\\nRabbit interrupted: \\xe2\\x80\\x9c_Un_important, your Majesty means, of course,\\xe2\\x80\\x9d he\\r\\nsaid in a very respectful tone, but frowning and making faces at him as\\r\\nhe spoke.\\r\\n\\r\\n\\xe2\\x80\\x9c_Un_important, of course, I meant,\\xe2\\x80\\x9d the King hastily said, and went on\\r\\nto himself in an undertone,\\r\\n\\r\\n\\xe2\\x80\\x9cimportant\\xe2\\x80\\x94unimportant\\xe2\\x80\\x94unimportant\\xe2\\x80\\x94important\\xe2\\x80\\x94\\xe2\\x80\\x9d as if he were trying\\r\\nwhich word sounded best.\\r\\n\\r\\nSome of the jury wrote it down \\xe2\\x80\\x9cimportant,\\xe2\\x80\\x9d and some \\xe2\\x80\\x9cunimportant.\\xe2\\x80\\x9d\\r\\nAlice could see this, as she was near enough to look over their slates;\\r\\n\\xe2\\x80\\x9cbut it doesn\\xe2\\x80\\x99t matter a bit,\\xe2\\x80\\x9d she thought to herself.\\r\\n\\r\\nAt this moment the King, who had been for some time busily writing in\\r\\nhis note-book, cackled out \\xe2\\x80\\x9cSilence!\\xe2\\x80\\x9d and read out from his book, \\xe2\\x80\\x9cRule\\r\\nForty-two. _All persons more than a mile high to leave the court_.\\xe2\\x80\\x9d\\r\\n\\r\\nEverybody looked at Alice.\\r\\n\\r\\n\\xe2\\x80\\x9c_I\\xe2\\x80\\x99m_ not a mile high,\\xe2\\x80\\x9d said Alice.\\r\\n\\r\\n\\xe2\\x80\\x9cYou are,\\xe2\\x80\\x9d said the King.\\r\\n\\r\\n\\xe2\\x80\\x9cNearly two miles high,\\xe2\\x80\\x9d added the Queen.\\r\\n\\r\\n\\xe2\\x80\\x9cWell, I shan\\xe2\\x80\\x99t go, at any rate,\\xe2\\x80\\x9d said Alice: \\xe2\\x80\\x9cbesides, that\\xe2\\x80\\x99s not a\\r\\nregular rule: you invented it just now.\\xe2\\x80\\x9d\\r\\n\\r\\n\\xe2\\x80\\x9cIt\\xe2\\x80\\x99s the oldest rule in the book,\\xe2\\x80\\x9d said the King.\\r\\n\\r\\n\\xe2\\x80\\x9cThen it ought to be Number One,\\xe2\\x80\\x9d said Alice.\\r\\n\\r\\nThe King turned pale, and shut his note-book hastily. \\xe2\\x80\\x9cConsider your\\r\\nverdict,\\xe2\\x80\\x9d he said to the jury, in a low, trembling voice.\\r\\n\\r\\n\\xe2\\x80\\x9cThere\\xe2\\x80\\x99s more evidence to come yet, please your Majesty,\\xe2\\x80\\x9d said the\\r\\nWhite Rabbit, jumping up in a great hurry; \\xe2\\x80\\x9cthis paper has just been\\r\\npicked up.\\xe2\\x80\\x9d\\r\\n\\r\\n\\xe2\\x80\\x9cWhat\\xe2\\x80\\x99s in it?\\xe2\\x80\\x9d said the Queen.\\r\\n\\r\\n\\xe2\\x80\\x9cI haven\\xe2\\x80\\x99t opened it yet,\\xe2\\x80\\x9d said the White Rabbit, \\xe2\\x80\\x9cbut it seems to be a\\r\\nletter, written by the prisoner to\\xe2\\x80\\x94to somebody.\\xe2\\x80\\x9d\\r\\n\\r\\n\\xe2\\x80\\x9cIt must have been that,\\xe2\\x80\\x9d said the King, \\xe2\\x80\\x9cunless it was written to\\r\\nnobody, which isn\\xe2\\x80\\x99t usual, you know.\\xe2\\x80\\x9d\\r\\n\\r\\n\\xe2\\x80\\x9cWho is it directed to?\\xe2\\x80\\x9d said one of the jurymen.\\r\\n\\r\\n\\xe2\\x80\\x9cIt isn\\xe2\\x80\\x99t directed at all,\\xe2\\x80\\x9d said the White Rabbit; \\xe2\\x80\\x9cin fact, there\\xe2\\x80\\x99s\\r\\nnothing written on the _outside_.\\xe2\\x80\\x9d He unfolded the paper as he spoke,\\r\\nand added \\xe2\\x80\\x9cIt isn\\xe2\\x80\\x99t a letter, after all: it\\xe2\\x80\\x99s a set of verses.\\xe2\\x80\\x9d\\r\\n\\r\\n\\xe2\\x80\\x9cAre they in the prisoner\\xe2\\x80\\x99s handwriting?\\xe2\\x80\\x9d asked another of the jurymen.\\r\\n\\r\\n\\xe2\\x80\\x9cNo, they\\xe2\\x80\\x99re not,\\xe2\\x80\\x9d said the White Rabbit, \\xe2\\x80\\x9cand that\\xe2\\x80\\x99s the queerest\\r\\nthing about it.\\xe2\\x80\\x9d (The jury all looked puzzled.)\\r\\n\\r\\n\\xe2\\x80\\x9cHe must have imitated somebody else\\xe2\\x80\\x99s hand,\\xe2\\x80\\x9d said the King. (The jury\\r\\nall brightened up again.)\\r\\n\\r\\n\\xe2\\x80\\x9cPlease your Majesty,\\xe2\\x80\\x9d said the Knave, \\xe2\\x80\\x9cI didn\\xe2\\x80\\x99t write it, and they\\r\\ncan\\xe2\\x80\\x99t prove I did: there\\xe2\\x80\\x99s no name signed at the end.\\xe2\\x80\\x9d\\r\\n\\r\\n\\xe2\\x80\\x9cIf you didn\\xe2\\x80\\x99t sign it,\\xe2\\x80\\x9d said the King, \\xe2\\x80\\x9cthat only makes the matter\\r\\nworse. You _must_ have meant some mischief, or else you\\xe2\\x80\\x99d have signed\\r\\nyour name like an honest man.\\xe2\\x80\\x9d\\r\\n\\r\\nThere was a general clapping of hands at this: it was the first really\\r\\nclever thing the King had said that day.\\r\\n\\r\\n\\xe2\\x80\\x9cThat _proves_ his guilt,\\xe2\\x80\\x9d said the Queen.\\r\\n\\r\\n\\xe2\\x80\\x9cIt proves nothing of the sort!\\xe2\\x80\\x9d said Alice. \\xe2\\x80\\x9cWhy, you don\\xe2\\x80\\x99t even know\\r\\nwhat they\\xe2\\x80\\x99re about!\\xe2\\x80\\x9d\\r\\n\\r\\n\\xe2\\x80\\x9cRead them,\\xe2\\x80\\x9d said the King.\\r\\n\\r\\nThe White Rabbit put on his spectacles. \\xe2\\x80\\x9cWhere shall I begin, please\\r\\nyour Majesty?\\xe2\\x80\\x9d he asked.\\r\\n\\r\\n\\xe2\\x80\\x9cBegin at the beginning,\\xe2\\x80\\x9d the King said gravely, \\xe2\\x80\\x9cand go on till you\\r\\ncome to the end: then stop.\\xe2\\x80\\x9d\\r\\n\\r\\nThese were the verses the White Rabbit read:\\xe2\\x80\\x94\\r\\n\\r\\n\\xe2\\x80\\x9cThey told me you had been to her,\\r\\n    And mentioned me to him:\\r\\nShe gave me a good character,\\r\\n    But said I could not swim.\\r\\n\\r\\nHe sent them word I had not gone\\r\\n    (We know it to be true):\\r\\nIf she should push the matter on,\\r\\n    What would become of you?\\r\\n\\r\\nI gave her one, they gave him two,\\r\\n    You gave us three or more;\\r\\nThey all returned from him to you,\\r\\n    Though they were mine before.\\r\\n\\r\\nIf I or she should chance to be\\r\\n    Involved in this affair,\\r\\nHe trusts to you to set them free,\\r\\n    Exactly as we were.\\r\\n\\r\\nMy notion was that you had been\\r\\n    (Before she had this fit)\\r\\nAn obstacle that came between\\r\\n    Him, and ourselves, and it.\\r\\n\\r\\nDon\\xe2\\x80\\x99t let him know she liked them best,\\r\\n    For this must ever be\\r\\nA secret, kept from all the rest,\\r\\n    Between yourself and me.\\xe2\\x80\\x9d\\r\\n\\r\\n\\r\\n\\xe2\\x80\\x9cThat\\xe2\\x80\\x99s the most important piece of evidence we\\xe2\\x80\\x99ve heard yet,\\xe2\\x80\\x9d said the\\r\\nKing, rubbing his hands; \\xe2\\x80\\x9cso now let the jury\\xe2\\x80\\x94\\xe2\\x80\\x9d\\r\\n\\r\\n\\xe2\\x80\\x9cIf any one of them can explain it,\\xe2\\x80\\x9d said Alice, (she had grown so\\r\\nlarge in the last few minutes that she wasn\\xe2\\x80\\x99t a bit afraid of\\r\\ninterrupting him,) \\xe2\\x80\\x9cI\\xe2\\x80\\x99ll give him sixpence. _I_ don\\xe2\\x80\\x99t believe there\\xe2\\x80\\x99s\\r\\nan atom of meaning in it.\\xe2\\x80\\x9d\\r\\n\\r\\nThe jury all wrote down on their slates, \\xe2\\x80\\x9c_She_ doesn\\xe2\\x80\\x99t believe there\\xe2\\x80\\x99s\\r\\nan atom of meaning in it,\\xe2\\x80\\x9d but none of them attempted to explain the\\r\\npaper.\\r\\n\\r\\n\\xe2\\x80\\x9cIf there\\xe2\\x80\\x99s no meaning in it,\\xe2\\x80\\x9d said the King, \\xe2\\x80\\x9cthat saves a world of\\r\\ntrouble, you know, as we needn\\xe2\\x80\\x99t try to find any. And yet I don\\xe2\\x80\\x99t\\r\\nknow,\\xe2\\x80\\x9d he went on, spreading out the verses on his knee, and looking at\\r\\nthem with one eye; \\xe2\\x80\\x9cI seem to see some meaning in them, after all.\\r\\n\\xe2\\x80\\x9c\\xe2\\x80\\x94_said I could not swim_\\xe2\\x80\\x94\\xe2\\x80\\x9d you can\\xe2\\x80\\x99t swim, can you?\\xe2\\x80\\x9d he added, turning\\r\\nto the Knave.\\r\\n\\r\\nThe Knave shook his head sadly. \\xe2\\x80\\x9cDo I look like it?\\xe2\\x80\\x9d he said. (Which he\\r\\ncertainly did _not_, being made entirely of cardboard.)\\r\\n\\r\\n\\xe2\\x80\\x9cAll right, so far,\\xe2\\x80\\x9d said the King, and he went on muttering over the\\r\\nverses to himself: \\xe2\\x80\\x9c\\xe2\\x80\\x98_We know it to be true_\\xe2\\x80\\x94\\xe2\\x80\\x99 that\\xe2\\x80\\x99s the jury, of\\r\\ncourse\\xe2\\x80\\x94\\xe2\\x80\\x98_I gave her one, they gave him two_\\xe2\\x80\\x94\\xe2\\x80\\x99 why, that must be what he\\r\\ndid with the tarts, you know\\xe2\\x80\\x94\\xe2\\x80\\x9d\\r\\n\\r\\n\\xe2\\x80\\x9cBut, it goes on \\xe2\\x80\\x98_they all returned from him to you_,\\xe2\\x80\\x99\\xe2\\x80\\x9d said Alice.\\r\\n\\r\\n\\xe2\\x80\\x9cWhy, there they are!\\xe2\\x80\\x9d said the King triumphantly, pointing to the\\r\\ntarts on the table. \\xe2\\x80\\x9cNothing can be clearer than _that_. Then\\r\\nagain\\xe2\\x80\\x94\\xe2\\x80\\x98_before she had this fit_\\xe2\\x80\\x94\\xe2\\x80\\x99 you never had fits, my dear, I\\r\\nthink?\\xe2\\x80\\x9d he said to the Queen.\\r\\n\\r\\n\\xe2\\x80\\x9cNever!\\xe2\\x80\\x9d said the Queen furiously, throwing an inkstand at the Lizard\\r\\nas she spoke. (The unfortunate little Bill had left off writing on his\\r\\nslate with one finger, as he found it made no mark; but he now hastily\\r\\nbegan again, using the ink, that was trickling down his face, as long\\r\\nas it lasted.)\\r\\n\\r\\n\\xe2\\x80\\x9cThen the words don\\xe2\\x80\\x99t _fit_ you,\\xe2\\x80\\x9d said the King, looking round the\\r\\ncourt with a smile. There was a dead silence.\\r\\n\\r\\n\\xe2\\x80\\x9cIt\\xe2\\x80\\x99s a pun!\\xe2\\x80\\x9d the King added in an offended tone, and everybody\\r\\nlaughed, \\xe2\\x80\\x9cLet the jury consider their verdict,\\xe2\\x80\\x9d the King said, for\\r\\nabout the twentieth time that day.\\r\\n\\r\\n\\xe2\\x80\\x9cNo, no!\\xe2\\x80\\x9d said the Queen. \\xe2\\x80\\x9cSentence first\\xe2\\x80\\x94verdict afterwards.\\xe2\\x80\\x9d\\r\\n\\r\\n\\xe2\\x80\\x9cStuff and nonsense!\\xe2\\x80\\x9d said Alice loudly. \\xe2\\x80\\x9cThe idea of having the\\r\\nsentence first!\\xe2\\x80\\x9d\\r\\n\\r\\n\\xe2\\x80\\x9cHold your tongue!\\xe2\\x80\\x9d said the Queen, turning purple.\\r\\n\\r\\n\\xe2\\x80\\x9cI won\\xe2\\x80\\x99t!\\xe2\\x80\\x9d said Alice.\\r\\n\\r\\n\\xe2\\x80\\x9cOff with her head!\\xe2\\x80\\x9d the Queen shouted at the top of her voice. Nobody\\r\\nmoved.\\r\\n\\r\\n\\xe2\\x80\\x9cWho cares for you?\\xe2\\x80\\x9d said Alice, (she had grown to her full size by\\r\\nthis time.) \\xe2\\x80\\x9cYou\\xe2\\x80\\x99re nothing but a pack of cards!\\xe2\\x80\\x9d\\r\\n\\r\\nAt this the whole pack rose up into the air, and came flying down upon\\r\\nher: she gave a little scream, half of fright and half of anger, and\\r\\ntried to beat them off, and found herself lying on the bank, with her\\r\\nhead in the lap of her sister, who was gently brushing away some dead\\r\\nleaves that had fluttered down from the trees upon her face.\\r\\n\\r\\n\\xe2\\x80\\x9cWake up, Alice dear!\\xe2\\x80\\x9d said her sister; \\xe2\\x80\\x9cWhy, what a long sleep you\\xe2\\x80\\x99ve\\r\\nhad!\\xe2\\x80\\x9d\\r\\n\\r\\n\\xe2\\x80\\x9cOh, I\\xe2\\x80\\x99ve had such a curious dream!\\xe2\\x80\\x9d said Alice, and she told her\\r\\nsister, as well as she could remember them, all these strange\\r\\nAdventures of hers that you have just been reading about; and when she\\r\\nhad finished, her sister kissed her, and said, \\xe2\\x80\\x9cIt _was_ a curious\\r\\ndream, dear, certainly: but now run in to your tea; it\\xe2\\x80\\x99s getting late.\\xe2\\x80\\x9d\\r\\nSo Alice got up and ran off, thinking while she ran, as well she might,\\r\\nwhat a wonderful dream it had been.\\r\\n\\r\\n\\r\\nBut her sister sat still just as she left her, leaning her head on her\\r\\nhand, watching the setting sun, and thinking of little Alice and all\\r\\nher wonderful Adventures, till she too began dreaming after a fashion,\\r\\nand this was her dream:\\xe2\\x80\\x94\\r\\n\\r\\nFirst, she dreamed of little Alice herself, and once again the tiny\\r\\nhands were clasped upon her knee, and the bright eager eyes were\\r\\nlooking up into hers\\xe2\\x80\\x94she could hear the very tones of her voice, and\\r\\nsee that queer little toss of her head to keep back the wandering hair\\r\\nthat _would_ always get into her eyes\\xe2\\x80\\x94and still as she listened, or\\r\\nseemed to listen, the whole place around her became alive with the\\r\\nstrange creatures of her little sister\\xe2\\x80\\x99s dream.\\r\\n\\r\\nThe long grass rustled at her feet as the White Rabbit hurried by\\xe2\\x80\\x94the\\r\\nfrightened Mouse splashed his way through the neighbouring pool\\xe2\\x80\\x94she\\r\\ncould hear the rattle of the teacups as the March Hare and his friends\\r\\nshared their never-ending meal, and the shrill voice of the Queen\\r\\nordering off her unfortunate guests to execution\\xe2\\x80\\x94once more the pig-baby\\r\\nwas sneezing on the Duchess\\xe2\\x80\\x99s knee, while plates and dishes crashed\\r\\naround it\\xe2\\x80\\x94once more the shriek of the Gryphon, the squeaking of the\\r\\nLizard\\xe2\\x80\\x99s slate-pencil, and the choking of the suppressed guinea-pigs,\\r\\nfilled the air, mixed up with the distant sobs of the miserable Mock\\r\\nTurtle.\\r\\n\\r\\nSo she sat on, with closed eyes, and half believed herself in\\r\\nWonderland, though she knew she had but to open them again, and all\\r\\nwould change to dull reality\\xe2\\x80\\x94the grass would be only rustling in the\\r\\nwind, and the pool rippling to the waving of the reeds\\xe2\\x80\\x94the rattling\\r\\nteacups would change to tinkling sheep-bells, and the Queen\\xe2\\x80\\x99s shrill\\r\\ncries to the voice of the shepherd boy\\xe2\\x80\\x94and the sneeze of the baby, the\\r\\nshriek of the Gryphon, and all the other queer noises, would change\\r\\n(she knew) to the confused clamour of the busy farm-yard\\xe2\\x80\\x94while the\\r\\nlowing of the cattle in the distance would take the place of the Mock\\r\\nTurtle\\xe2\\x80\\x99s heavy sobs.\\r\\n\\r\\nLastly, she pictured to herself how this same little sister of hers\\r\\nwould, in the after-time, be herself a grown woman; and how she would\\r\\nkeep, through all her riper years, the simple and loving heart of her\\r\\nchildhood: and how she would gather about her other little children,\\r\\nand make _their_ eyes bright and eager with many a strange tale,\\r\\nperhaps even with the dream of Wonderland of long ago: and how she\\r\\nwould feel with all their simple sorrows, and find a pleasure in all\\r\\ntheir simple joys, remembering her own child-life, and the happy summer\\r\\ndays.\\r\\n\\r\\nTHE END \\r\\n\\r\\n\\r\\n\\r\\n\\r\\nEnd of Project Gutenberg\\xe2\\x80\\x99s Alice\\xe2\\x80\\x99s Adventures in Wonderland, by Lewis Carroll\\r\\n\\r\\n*** END OF THIS PROJECT GUTENBERG EBOOK ALICE\\xe2\\x80\\x99S ADVENTURES IN WONDERLAND ***\\r\\n\\r\\n***** This file should be named 11-0.txt or 11-0.zip *****\\r\\nThis and all associated files of various formats will be found in:\\r\\n        http://www.gutenberg.org/1/11/\\r\\n\\r\\nProduced by Arthur DiBianca and David Widger\\r\\n\\r\\nUpdated editions will replace the previous one--the old editions will\\r\\nbe renamed.\\r\\n\\r\\nCreating the works from print editions not protected by U.S. copyright\\r\\nlaw means that no one owns a United States copyright in these works,\\r\\nso the Foundation (and you!) can copy and distribute it in the United\\r\\nStates without permission and without paying copyright\\r\\nroyalties. Special rules, set forth in the General Terms of Use part\\r\\nof this license, apply to copying and distributing Project\\r\\nGutenberg-tm electronic works to protect the PROJECT GUTENBERG-tm\\r\\nconcept and trademark. Project Gutenberg is a registered trademark,\\r\\nand may not be used if you charge for the eBooks, unless you receive\\r\\nspecific permission. If you do not charge anything for copies of this\\r\\neBook, complying with the rules is very easy. You may use this eBook\\r\\nfor nearly any purpose such as creation of derivative works, reports,\\r\\nperformances and research. They may be modified and printed and given\\r\\naway--you may do practically ANYTHING in the United States with eBooks\\r\\nnot protected by U.S. copyright law. Redistribution is subject to the\\r\\ntrademark license, especially commercial redistribution.\\r\\n\\r\\nSTART: FULL LICENSE\\r\\n\\r\\nTHE FULL PROJECT GUTENBERG LICENSE\\r\\nPLEASE READ THIS BEFORE YOU DISTRIBUTE OR USE THIS WORK\\r\\n\\r\\nTo protect the Project Gutenberg-tm mission of promoting the free\\r\\ndistribution of electronic works, by using or distributing this work\\r\\n(or any other work associated in any way with the phrase \"Project\\r\\nGutenberg\"), you agree to comply with all the terms of the Full\\r\\nProject Gutenberg-tm License available with this file or online at\\r\\nwww.gutenberg.org/license.\\r\\n\\r\\nSection 1. General Terms of Use and Redistributing Project\\r\\nGutenberg-tm electronic works\\r\\n\\r\\n1.A. By reading or using any part of this Project Gutenberg-tm\\r\\nelectronic work, you indicate that you have read, understand, agree to\\r\\nand accept all the terms of this license and intellectual property\\r\\n(trademark/copyright) agreement. If you do not agree to abide by all\\r\\nthe terms of this agreement, you must cease using and return or\\r\\ndestroy all copies of Project Gutenberg-tm electronic works in your\\r\\npossession. If you paid a fee for obtaining a copy of or access to a\\r\\nProject Gutenberg-tm electronic work and you do not agree to be bound\\r\\nby the terms of this agreement, you may obtain a refund from the\\r\\nperson or entity to whom you paid the fee as set forth in paragraph\\r\\n1.E.8.\\r\\n\\r\\n1.B. \"Project Gutenberg\" is a registered trademark. It may only be\\r\\nused on or associated in any way with an electronic work by people who\\r\\nagree to be bound by the terms of this agreement. There are a few\\r\\nthings that you can do with most Project Gutenberg-tm electronic works\\r\\neven without complying with the full terms of this agreement. See\\r\\nparagraph 1.C below. There are a lot of things you can do with Project\\r\\nGutenberg-tm electronic works if you follow the terms of this\\r\\nagreement and help preserve free future access to Project Gutenberg-tm\\r\\nelectronic works. See paragraph 1.E below.\\r\\n\\r\\n1.C. The Project Gutenberg Literary Archive Foundation (\"the\\r\\nFoundation\" or PGLAF), owns a compilation copyright in the collection\\r\\nof Project Gutenberg-tm electronic works. Nearly all the individual\\r\\nworks in the collection are in the public domain in the United\\r\\nStates. If an individual work is unprotected by copyright law in the\\r\\nUnited States and you are located in the United States, we do not\\r\\nclaim a right to prevent you from copying, distributing, performing,\\r\\ndisplaying or creating derivative works based on the work as long as\\r\\nall references to Project Gutenberg are removed. Of course, we hope\\r\\nthat you will support the Project Gutenberg-tm mission of promoting\\r\\nfree access to electronic works by freely sharing Project Gutenberg-tm\\r\\nworks in compliance with the terms of this agreement for keeping the\\r\\nProject Gutenberg-tm name associated with the work. You can easily\\r\\ncomply with the terms of this agreement by keeping this work in the\\r\\nsame format with its attached full Project Gutenberg-tm License when\\r\\nyou share it without charge with others.\\r\\n\\r\\n1.D. The copyright laws of the place where you are located also govern\\r\\nwhat you can do with this work. Copyright laws in most countries are\\r\\nin a constant state of change. If you are outside the United States,\\r\\ncheck the laws of your country in addition to the terms of this\\r\\nagreement before downloading, copying, displaying, performing,\\r\\ndistributing or creating derivative works based on this work or any\\r\\nother Project Gutenberg-tm work. The Foundation makes no\\r\\nrepresentations concerning the copyright status of any work in any\\r\\ncountry outside the United States.\\r\\n\\r\\n1.E. Unless you have removed all references to Project Gutenberg:\\r\\n\\r\\n1.E.1. The following sentence, with active links to, or other\\r\\nimmediate access to, the full Project Gutenberg-tm License must appear\\r\\nprominently whenever any copy of a Project Gutenberg-tm work (any work\\r\\non which the phrase \"Project Gutenberg\" appears, or with which the\\r\\nphrase \"Project Gutenberg\" is associated) is accessed, displayed,\\r\\nperformed, viewed, copied or distributed:\\r\\n\\r\\n  This eBook is for the use of anyone anywhere in the United States and\\r\\n  most other parts of the world at no cost and with almost no\\r\\n  restrictions whatsoever. You may copy it, give it away or re-use it\\r\\n  under the terms of the Project Gutenberg License included with this\\r\\n  eBook or online at www.gutenberg.org. If you are not located in the\\r\\n  United States, you\\'ll have to check the laws of the country where you\\r\\n  are located before using this ebook.\\r\\n\\r\\n1.E.2. If an individual Project Gutenberg-tm electronic work is\\r\\nderived from texts not protected by U.S. copyright law (does not\\r\\ncontain a notice indicating that it is posted with permission of the\\r\\ncopyright holder), the work can be copied and distributed to anyone in\\r\\nthe United States without paying any fees or charges. If you are\\r\\nredistributing or providing access to a work with the phrase \"Project\\r\\nGutenberg\" associated with or appearing on the work, you must comply\\r\\neither with the requirements of paragraphs 1.E.1 through 1.E.7 or\\r\\nobtain permission for the use of the work and the Project Gutenberg-tm\\r\\ntrademark as set forth in paragraphs 1.E.8 or 1.E.9.\\r\\n\\r\\n1.E.3. If an individual Project Gutenberg-tm electronic work is posted\\r\\nwith the permission of the copyright holder, your use and distribution\\r\\nmust comply with both paragraphs 1.E.1 through 1.E.7 and any\\r\\nadditional terms imposed by the copyright holder. Additional terms\\r\\nwill be linked to the Project Gutenberg-tm License for all works\\r\\nposted with the permission of the copyright holder found at the\\r\\nbeginning of this work.\\r\\n\\r\\n1.E.4. Do not unlink or detach or remove the full Project Gutenberg-tm\\r\\nLicense terms from this work, or any files containing a part of this\\r\\nwork or any other work associated with Project Gutenberg-tm.\\r\\n\\r\\n1.E.5. Do not copy, display, perform, distribute or redistribute this\\r\\nelectronic work, or any part of this electronic work, without\\r\\nprominently displaying the sentence set forth in paragraph 1.E.1 with\\r\\nactive links or immediate access to the full terms of the Project\\r\\nGutenberg-tm License.\\r\\n\\r\\n1.E.6. You may convert to and distribute this work in any binary,\\r\\ncompressed, marked up, nonproprietary or proprietary form, including\\r\\nany word processing or hypertext form. However, if you provide access\\r\\nto or distribute copies of a Project Gutenberg-tm work in a format\\r\\nother than \"Plain Vanilla ASCII\" or other format used in the official\\r\\nversion posted on the official Project Gutenberg-tm web site\\r\\n(www.gutenberg.org), you must, at no additional cost, fee or expense\\r\\nto the user, provide a copy, a means of exporting a copy, or a means\\r\\nof obtaining a copy upon request, of the work in its original \"Plain\\r\\nVanilla ASCII\" or other form. Any alternate format must include the\\r\\nfull Project Gutenberg-tm License as specified in paragraph 1.E.1.\\r\\n\\r\\n1.E.7. Do not charge a fee for access to, viewing, displaying,\\r\\nperforming, copying or distributing any Project Gutenberg-tm works\\r\\nunless you comply with paragraph 1.E.8 or 1.E.9.\\r\\n\\r\\n1.E.8. You may charge a reasonable fee for copies of or providing\\r\\naccess to or distributing Project Gutenberg-tm electronic works\\r\\nprovided that\\r\\n\\r\\n* You pay a royalty fee of 20% of the gross profits you derive from\\r\\n  the use of Project Gutenberg-tm works calculated using the method\\r\\n  you already use to calculate your applicable taxes. The fee is owed\\r\\n  to the owner of the Project Gutenberg-tm trademark, but he has\\r\\n  agreed to donate royalties under this paragraph to the Project\\r\\n  Gutenberg Literary Archive Foundation. Royalty payments must be paid\\r\\n  within 60 days following each date on which you prepare (or are\\r\\n  legally required to prepare) your periodic tax returns. Royalty\\r\\n  payments should be clearly marked as such and sent to the Project\\r\\n  Gutenberg Literary Archive Foundation at the address specified in\\r\\n  Section 4, \"Information about donations to the Project Gutenberg\\r\\n  Literary Archive Foundation.\"\\r\\n\\r\\n* You provide a full refund of any money paid by a user who notifies\\r\\n  you in writing (or by e-mail) within 30 days of receipt that s/he\\r\\n  does not agree to the terms of the full Project Gutenberg-tm\\r\\n  License. You must require such a user to return or destroy all\\r\\n  copies of the works possessed in a physical medium and discontinue\\r\\n  all use of and all access to other copies of Project Gutenberg-tm\\r\\n  works.\\r\\n\\r\\n* You provide, in accordance with paragraph 1.F.3, a full refund of\\r\\n  any money paid for a work or a replacement copy, if a defect in the\\r\\n  electronic work is discovered and reported to you within 90 days of\\r\\n  receipt of the work.\\r\\n\\r\\n* You comply with all other terms of this agreement for free\\r\\n  distribution of Project Gutenberg-tm works.\\r\\n\\r\\n1.E.9. If you wish to charge a fee or distribute a Project\\r\\nGutenberg-tm electronic work or group of works on different terms than\\r\\nare set forth in this agreement, you must obtain permission in writing\\r\\nfrom both the Project Gutenberg Literary Archive Foundation and The\\r\\nProject Gutenberg Trademark LLC, the owner of the Project Gutenberg-tm\\r\\ntrademark. Contact the Foundation as set forth in Section 3 below.\\r\\n\\r\\n1.F.\\r\\n\\r\\n1.F.1. Project Gutenberg volunteers and employees expend considerable\\r\\neffort to identify, do copyright research on, transcribe and proofread\\r\\nworks not protected by U.S. copyright law in creating the Project\\r\\nGutenberg-tm collection. Despite these efforts, Project Gutenberg-tm\\r\\nelectronic works, and the medium on which they may be stored, may\\r\\ncontain \"Defects,\" such as, but not limited to, incomplete, inaccurate\\r\\nor corrupt data, transcription errors, a copyright or other\\r\\nintellectual property infringement, a defective or damaged disk or\\r\\nother medium, a computer virus, or computer codes that damage or\\r\\ncannot be read by your equipment.\\r\\n\\r\\n1.F.2. LIMITED WARRANTY, DISCLAIMER OF DAMAGES - Except for the \"Right\\r\\nof Replacement or Refund\" described in paragraph 1.F.3, the Project\\r\\nGutenberg Literary Archive Foundation, the owner of the Project\\r\\nGutenberg-tm trademark, and any other party distributing a Project\\r\\nGutenberg-tm electronic work under this agreement, disclaim all\\r\\nliability to you for damages, costs and expenses, including legal\\r\\nfees. YOU AGREE THAT YOU HAVE NO REMEDIES FOR NEGLIGENCE, STRICT\\r\\nLIABILITY, BREACH OF WARRANTY OR BREACH OF CONTRACT EXCEPT THOSE\\r\\nPROVIDED IN PARAGRAPH 1.F.3. YOU AGREE THAT THE FOUNDATION, THE\\r\\nTRADEMARK OWNER, AND ANY DISTRIBUTOR UNDER THIS AGREEMENT WILL NOT BE\\r\\nLIABLE TO YOU FOR ACTUAL, DIRECT, INDIRECT, CONSEQUENTIAL, PUNITIVE OR\\r\\nINCIDENTAL DAMAGES EVEN IF YOU GIVE NOTICE OF THE POSSIBILITY OF SUCH\\r\\nDAMAGE.\\r\\n\\r\\n1.F.3. LIMITED RIGHT OF REPLACEMENT OR REFUND - If you discover a\\r\\ndefect in this electronic work within 90 days of receiving it, you can\\r\\nreceive a refund of the money (if any) you paid for it by sending a\\r\\nwritten explanation to the person you received the work from. If you\\r\\nreceived the work on a physical medium, you must return the medium\\r\\nwith your written explanation. The person or entity that provided you\\r\\nwith the defective work may elect to provide a replacement copy in\\r\\nlieu of a refund. If you received the work electronically, the person\\r\\nor entity providing it to you may choose to give you a second\\r\\nopportunity to receive the work electronically in lieu of a refund. If\\r\\nthe second copy is also defective, you may demand a refund in writing\\r\\nwithout further opportunities to fix the problem.\\r\\n\\r\\n1.F.4. Except for the limited right of replacement or refund set forth\\r\\nin paragraph 1.F.3, this work is provided to you \\'AS-IS\\', WITH NO\\r\\nOTHER WARRANTIES OF ANY KIND, EXPRESS OR IMPLIED, INCLUDING BUT NOT\\r\\nLIMITED TO WARRANTIES OF MERCHANTABILITY OR FITNESS FOR ANY PURPOSE.\\r\\n\\r\\n1.F.5. Some states do not allow disclaimers of certain implied\\r\\nwarranties or the exclusion or limitation of certain types of\\r\\ndamages. If any disclaimer or limitation set forth in this agreement\\r\\nviolates the law of the state applicable to this agreement, the\\r\\nagreement shall be interpreted to make the maximum disclaimer or\\r\\nlimitation permitted by the applicable state law. The invalidity or\\r\\nunenforceability of any provision of this agreement shall not void the\\r\\nremaining provisions.\\r\\n\\r\\n1.F.6. INDEMNITY - You agree to indemnify and hold the Foundation, the\\r\\ntrademark owner, any agent or employee of the Foundation, anyone\\r\\nproviding copies of Project Gutenberg-tm electronic works in\\r\\naccordance with this agreement, and any volunteers associated with the\\r\\nproduction, promotion and distribution of Project Gutenberg-tm\\r\\nelectronic works, harmless from all liability, costs and expenses,\\r\\nincluding legal fees, that arise directly or indirectly from any of\\r\\nthe following which you do or cause to occur: (a) distribution of this\\r\\nor any Project Gutenberg-tm work, (b) alteration, modification, or\\r\\nadditions or deletions to any Project Gutenberg-tm work, and (c) any\\r\\nDefect you cause.\\r\\n\\r\\nSection 2. Information about the Mission of Project Gutenberg-tm\\r\\n\\r\\nProject Gutenberg-tm is synonymous with the free distribution of\\r\\nelectronic works in formats readable by the widest variety of\\r\\ncomputers including obsolete, old, middle-aged and new computers. It\\r\\nexists because of the efforts of hundreds of volunteers and donations\\r\\nfrom people in all walks of life.\\r\\n\\r\\nVolunteers and financial support to provide volunteers with the\\r\\nassistance they need are critical to reaching Project Gutenberg-tm\\'s\\r\\ngoals and ensuring that the Project Gutenberg-tm collection will\\r\\nremain freely available for generations to come. In 2001, the Project\\r\\nGutenberg Literary Archive Foundation was created to provide a secure\\r\\nand permanent future for Project Gutenberg-tm and future\\r\\ngenerations. To learn more about the Project Gutenberg Literary\\r\\nArchive Foundation and how your efforts and donations can help, see\\r\\nSections 3 and 4 and the Foundation information page at\\r\\nwww.gutenberg.org\\r\\n\\r\\n\\r\\n\\r\\nSection 3. Information about the Project Gutenberg Literary Archive Foundation\\r\\n\\r\\nThe Project Gutenberg Literary Archive Foundation is a non profit\\r\\n501(c)(3) educational corporation organized under the laws of the\\r\\nstate of Mississippi and granted tax exempt status by the Internal\\r\\nRevenue Service. The Foundation\\'s EIN or federal tax identification\\r\\nnumber is 64-6221541. Contributions to the Project Gutenberg Literary\\r\\nArchive Foundation are tax deductible to the full extent permitted by\\r\\nU.S. federal laws and your state\\'s laws.\\r\\n\\r\\nThe Foundation\\'s principal office is in Fairbanks, Alaska, with the\\r\\nmailing address: PO Box 750175, Fairbanks, AK 99775, but its\\r\\nvolunteers and employees are scattered throughout numerous\\r\\nlocations. Its business office is located at 809 North 1500 West, Salt\\r\\nLake City, UT 84116, (801) 596-1887. Email contact links and up to\\r\\ndate contact information can be found at the Foundation\\'s web site and\\r\\nofficial page at www.gutenberg.org/contact\\r\\n\\r\\nFor additional contact information:\\r\\n\\r\\n    Dr. Gregory B. Newby\\r\\n    Chief Executive and Director\\r\\n    gbnewby@pglaf.org\\r\\n\\r\\nSection 4. Information about Donations to the Project Gutenberg\\r\\nLiterary Archive Foundation\\r\\n\\r\\nProject Gutenberg-tm depends upon and cannot survive without wide\\r\\nspread public support and donations to carry out its mission of\\r\\nincreasing the number of public domain and licensed works that can be\\r\\nfreely distributed in machine readable form accessible by the widest\\r\\narray of equipment including outdated equipment. Many small donations\\r\\n($1 to $5,000) are particularly important to maintaining tax exempt\\r\\nstatus with the IRS.\\r\\n\\r\\nThe Foundation is committed to complying with the laws regulating\\r\\ncharities and charitable donations in all 50 states of the United\\r\\nStates. Compliance requirements are not uniform and it takes a\\r\\nconsiderable effort, much paperwork and many fees to meet and keep up\\r\\nwith these requirements. We do not solicit donations in locations\\r\\nwhere we have not received written confirmation of compliance. To SEND\\r\\nDONATIONS or determine the status of compliance for any particular\\r\\nstate visit www.gutenberg.org/donate\\r\\n\\r\\nWhile we cannot and do not solicit contributions from states where we\\r\\nhave not met the solicitation requirements, we know of no prohibition\\r\\nagainst accepting unsolicited donations from donors in such states who\\r\\napproach us with offers to donate.\\r\\n\\r\\nInternational donations are gratefully accepted, but we cannot make\\r\\nany statements concerning tax treatment of donations received from\\r\\noutside the United States. U.S. laws alone swamp our small staff.\\r\\n\\r\\nPlease check the Project Gutenberg Web pages for current donation\\r\\nmethods and addresses. Donations are accepted in a number of other\\r\\nways including checks, online payments and credit card donations. To\\r\\ndonate, please visit: www.gutenberg.org/donate\\r\\n\\r\\nSection 5. General Information About Project Gutenberg-tm electronic works.\\r\\n\\r\\nProfessor Michael S. Hart was the originator of the Project\\r\\nGutenberg-tm concept of a library of electronic works that could be\\r\\nfreely shared with anyone. For forty years, he produced and\\r\\ndistributed Project Gutenberg-tm eBooks with only a loose network of\\r\\nvolunteer support.\\r\\n\\r\\nProject Gutenberg-tm eBooks are often created from several printed\\r\\neditions, all of which are confirmed as not protected by copyright in\\r\\nthe U.S. unless a copyright notice is included. Thus, we do not\\r\\nnecessarily keep eBooks in compliance with any particular paper\\r\\nedition.\\r\\n\\r\\nMost people start at our Web site which has the main PG search\\r\\nfacility: www.gutenberg.org\\r\\n\\r\\nThis Web site includes information about Project Gutenberg-tm,\\r\\nincluding how to make donations to the Project Gutenberg Literary\\r\\nArchive Foundation, how to help produce our new eBooks, and how to\\r\\nsubscribe to our email newsletter to hear about new eBooks.\\r\\n\\r\\n\\r\\n'"
            ]
          },
          "execution_count": 27,
          "metadata": {
            "tags": []
          },
          "output_type": "execute_result"
        }
      ],
      "source": [
        "document"
      ]
    },
    {
      "cell_type": "code",
      "execution_count": null,
      "metadata": {
        "colab": {},
        "colab_type": "code",
        "id": "4ZiBQSSTMOIV"
      },
      "outputs": [],
      "source": [
        "import numpy\n",
        "from keras.models import Sequential\n",
        "from keras.layers import Dense\n",
        "from keras.layers import Dropout\n",
        "from keras.layers import LSTM\n",
        "from keras.callbacks import ModelCheckpoint\n",
        "from keras.utils import np_utils"
      ]
    },
    {
      "cell_type": "code",
      "execution_count": null,
      "metadata": {
        "colab": {},
        "colab_type": "code",
        "id": "VkCS_H_iMmV1"
      },
      "outputs": [],
      "source": [
        "document=document.lower()"
      ]
    },
    {
      "cell_type": "code",
      "execution_count": null,
      "metadata": {
        "colab": {},
        "colab_type": "code",
        "id": "Szkf9o89NXDL"
      },
      "outputs": [],
      "source": [
        "# create mapping of unique chars to integers\n",
        "chars = sorted(list(set(document)))             #set of all distinct characters\n",
        "char_to_int = dict((c, i) for i, c in enumerate(chars))"
      ]
    },
    {
      "cell_type": "code",
      "execution_count": null,
      "metadata": {
        "colab": {
          "base_uri": "https://localhost:8080/",
          "height": 1000
        },
        "colab_type": "code",
        "id": "pALNH47iI61h",
        "outputId": "d906d636-6f41-4a84-a719-83ef77b4dae5"
      },
      "outputs": [
        {
          "data": {
            "text/plain": [
              "[128,\n",
              " 10,\n",
              " 13,\n",
              " 148,\n",
              " 152,\n",
              " 153,\n",
              " 156,\n",
              " 157,\n",
              " 32,\n",
              " 33,\n",
              " 34,\n",
              " 35,\n",
              " 36,\n",
              " 37,\n",
              " 39,\n",
              " 40,\n",
              " 41,\n",
              " 42,\n",
              " 44,\n",
              " 45,\n",
              " 46,\n",
              " 47,\n",
              " 48,\n",
              " 49,\n",
              " 50,\n",
              " 51,\n",
              " 52,\n",
              " 53,\n",
              " 54,\n",
              " 55,\n",
              " 56,\n",
              " 185,\n",
              " 58,\n",
              " 59,\n",
              " 57,\n",
              " 63,\n",
              " 64,\n",
              " 195,\n",
              " 91,\n",
              " 120,\n",
              " 93,\n",
              " 95,\n",
              " 97,\n",
              " 98,\n",
              " 99,\n",
              " 226,\n",
              " 101,\n",
              " 102,\n",
              " 103,\n",
              " 104,\n",
              " 105,\n",
              " 106,\n",
              " 107,\n",
              " 108,\n",
              " 100,\n",
              " 110,\n",
              " 111,\n",
              " 112,\n",
              " 109,\n",
              " 114,\n",
              " 115,\n",
              " 116,\n",
              " 117,\n",
              " 118,\n",
              " 119,\n",
              " 113,\n",
              " 121,\n",
              " 122]"
            ]
          },
          "execution_count": 14,
          "metadata": {
            "tags": []
          },
          "output_type": "execute_result"
        }
      ],
      "source": [
        "list(set(document))"
      ]
    },
    {
      "cell_type": "code",
      "execution_count": 31,
      "metadata": {
        "colab": {
          "base_uri": "https://localhost:8080/",
          "height": 50
        },
        "colab_type": "code",
        "id": "7Y1kFta-NosD",
        "outputId": "6aff6dab-195c-442c-82bb-ab2cf8185539"
      },
      "outputs": [
        {
          "name": "stdout",
          "output_type": "stream",
          "text": [
            "Total Characters:  174481\n",
            "Total Vocab:  68\n"
          ]
        }
      ],
      "source": [
        "n_chars = len(document)\n",
        "n_vocab = len(chars)\n",
        "print (\"Total Characters: \", n_chars)\n",
        "print (\"Total Vocab: \", n_vocab)"
      ]
    },
    {
      "cell_type": "code",
      "execution_count": null,
      "metadata": {
        "colab": {
          "base_uri": "https://localhost:8080/",
          "height": 34
        },
        "colab_type": "code",
        "id": "lvloititNtxW",
        "outputId": "1a9c2c21-d40f-4e58-8217-74f5119f947d"
      },
      "outputs": [
        {
          "name": "stdout",
          "output_type": "stream",
          "text": [
            "Total Patterns:  174381\n"
          ]
        }
      ],
      "source": [
        "# prepare the dataset of input to output pairs encoded as integers\n",
        "seq_length = 100\n",
        "dataX = []\n",
        "dataY = []\n",
        "for i in range(0, n_chars - seq_length, 1):\n",
        "\tseq_in = document[i:i + seq_length]\n",
        "\tseq_out = document[i + seq_length]\n",
        "\tdataX.append([char_to_int[char] for char in seq_in])\n",
        "\tdataY.append(char_to_int[seq_out])\n",
        "n_patterns = len(dataX)\n",
        "print (\"Total Patterns: \", n_patterns)"
      ]
    },
    {
      "cell_type": "code",
      "execution_count": null,
      "metadata": {
        "colab": {},
        "colab_type": "code",
        "id": "NR3SJ7mbNw-T"
      },
      "outputs": [],
      "source": [
        "# reshape X to be [samples, time steps, features]\n",
        "X = numpy.reshape(dataX, (n_patterns, seq_length, 1))\n",
        "# normalize\n",
        "X = X / float(n_vocab)\n",
        "# one hot encode the output variable\n",
        "y = np_utils.to_categorical(dataY)"
      ]
    },
    {
      "cell_type": "code",
      "execution_count": null,
      "metadata": {
        "colab": {
          "base_uri": "https://localhost:8080/",
          "height": 289
        },
        "colab_type": "code",
        "id": "bAzP_BrUOkw5",
        "outputId": "43f08fc7-5eb3-430b-84d1-32f350b9c2be"
      },
      "outputs": [
        {
          "name": "stdout",
          "output_type": "stream",
          "text": [
            "WARNING:tensorflow:From /usr/local/lib/python3.6/dist-packages/keras/backend/tensorflow_backend.py:66: The name tf.get_default_graph is deprecated. Please use tf.compat.v1.get_default_graph instead.\n",
            "\n",
            "WARNING:tensorflow:From /usr/local/lib/python3.6/dist-packages/keras/backend/tensorflow_backend.py:541: The name tf.placeholder is deprecated. Please use tf.compat.v1.placeholder instead.\n",
            "\n",
            "WARNING:tensorflow:From /usr/local/lib/python3.6/dist-packages/keras/backend/tensorflow_backend.py:4432: The name tf.random_uniform is deprecated. Please use tf.random.uniform instead.\n",
            "\n",
            "WARNING:tensorflow:From /usr/local/lib/python3.6/dist-packages/keras/backend/tensorflow_backend.py:148: The name tf.placeholder_with_default is deprecated. Please use tf.compat.v1.placeholder_with_default instead.\n",
            "\n",
            "WARNING:tensorflow:From /usr/local/lib/python3.6/dist-packages/keras/backend/tensorflow_backend.py:3733: calling dropout (from tensorflow.python.ops.nn_ops) with keep_prob is deprecated and will be removed in a future version.\n",
            "Instructions for updating:\n",
            "Please use `rate` instead of `keep_prob`. Rate should be set to `rate = 1 - keep_prob`.\n",
            "WARNING:tensorflow:From /usr/local/lib/python3.6/dist-packages/keras/optimizers.py:793: The name tf.train.Optimizer is deprecated. Please use tf.compat.v1.train.Optimizer instead.\n",
            "\n",
            "WARNING:tensorflow:From /usr/local/lib/python3.6/dist-packages/keras/backend/tensorflow_backend.py:3576: The name tf.log is deprecated. Please use tf.math.log instead.\n",
            "\n"
          ]
        }
      ],
      "source": [
        "# define the LSTM model\n",
        "model = Sequential()\n",
        "model.add(LSTM(256, input_shape=(X.shape[1], X.shape[2])))\n",
        "model.add(Dropout(0.2))\n",
        "model.add(Dense(y.shape[1], activation='softmax'))\n",
        "model.compile(loss='categorical_crossentropy', optimizer='adam')"
      ]
    },
    {
      "cell_type": "code",
      "execution_count": null,
      "metadata": {
        "colab": {
          "base_uri": "https://localhost:8080/",
          "height": 676
        },
        "colab_type": "code",
        "id": "ksLbh1e_Oph8",
        "outputId": "5e1aad1c-c056-434d-f7f7-41834e6c6a11"
      },
      "outputs": [
        {
          "name": "stdout",
          "output_type": "stream",
          "text": [
            "WARNING:tensorflow:From /tensorflow-1.15.0/python3.6/tensorflow_core/python/ops/math_grad.py:1424: where (from tensorflow.python.ops.array_ops) is deprecated and will be removed in a future version.\n",
            "Instructions for updating:\n",
            "Use tf.where in 2.0, which has the same broadcast rule as np.where\n",
            "WARNING:tensorflow:From /usr/local/lib/python3.6/dist-packages/keras/backend/tensorflow_backend.py:1033: The name tf.assign_add is deprecated. Please use tf.compat.v1.assign_add instead.\n",
            "\n",
            "WARNING:tensorflow:From /usr/local/lib/python3.6/dist-packages/keras/backend/tensorflow_backend.py:1020: The name tf.assign is deprecated. Please use tf.compat.v1.assign instead.\n",
            "\n",
            "WARNING:tensorflow:From /usr/local/lib/python3.6/dist-packages/keras/backend/tensorflow_backend.py:3005: The name tf.Session is deprecated. Please use tf.compat.v1.Session instead.\n",
            "\n",
            "Epoch 1/10\n",
            "WARNING:tensorflow:From /usr/local/lib/python3.6/dist-packages/keras/backend/tensorflow_backend.py:190: The name tf.get_default_session is deprecated. Please use tf.compat.v1.get_default_session instead.\n",
            "\n",
            "WARNING:tensorflow:From /usr/local/lib/python3.6/dist-packages/keras/backend/tensorflow_backend.py:197: The name tf.ConfigProto is deprecated. Please use tf.compat.v1.ConfigProto instead.\n",
            "\n",
            "WARNING:tensorflow:From /usr/local/lib/python3.6/dist-packages/keras/backend/tensorflow_backend.py:207: The name tf.global_variables is deprecated. Please use tf.compat.v1.global_variables instead.\n",
            "\n",
            "WARNING:tensorflow:From /usr/local/lib/python3.6/dist-packages/keras/backend/tensorflow_backend.py:216: The name tf.is_variable_initialized is deprecated. Please use tf.compat.v1.is_variable_initialized instead.\n",
            "\n",
            "WARNING:tensorflow:From /usr/local/lib/python3.6/dist-packages/keras/backend/tensorflow_backend.py:223: The name tf.variables_initializer is deprecated. Please use tf.compat.v1.variables_initializer instead.\n",
            "\n",
            " 29184/174381 [====>.........................] - ETA: 15:55 - loss: 3.2602"
          ]
        },
        {
          "ename": "KeyboardInterrupt",
          "evalue": "ignored",
          "output_type": "error",
          "traceback": [
            "\u001b[0;31m---------------------------------------------------------------------------\u001b[0m",
            "\u001b[0;31mKeyboardInterrupt\u001b[0m                         Traceback (most recent call last)",
            "\u001b[0;32m<ipython-input-23-21ca74a8fe1e>\u001b[0m in \u001b[0;36m<module>\u001b[0;34m()\u001b[0m\n\u001b[0;32m----> 1\u001b[0;31m \u001b[0mmodel\u001b[0m\u001b[0;34m.\u001b[0m\u001b[0mfit\u001b[0m\u001b[0;34m(\u001b[0m\u001b[0mX\u001b[0m\u001b[0;34m,\u001b[0m \u001b[0my\u001b[0m\u001b[0;34m,\u001b[0m \u001b[0mepochs\u001b[0m\u001b[0;34m=\u001b[0m\u001b[0;36m10\u001b[0m\u001b[0;34m,\u001b[0m \u001b[0mbatch_size\u001b[0m\u001b[0;34m=\u001b[0m\u001b[0;36m128\u001b[0m\u001b[0;34m)\u001b[0m\u001b[0;34m\u001b[0m\u001b[0;34m\u001b[0m\u001b[0m\n\u001b[0m",
            "\u001b[0;32m/usr/local/lib/python3.6/dist-packages/keras/engine/training.py\u001b[0m in \u001b[0;36mfit\u001b[0;34m(self, x, y, batch_size, epochs, verbose, callbacks, validation_split, validation_data, shuffle, class_weight, sample_weight, initial_epoch, steps_per_epoch, validation_steps, validation_freq, max_queue_size, workers, use_multiprocessing, **kwargs)\u001b[0m\n\u001b[1;32m   1176\u001b[0m                                         \u001b[0msteps_per_epoch\u001b[0m\u001b[0;34m=\u001b[0m\u001b[0msteps_per_epoch\u001b[0m\u001b[0;34m,\u001b[0m\u001b[0;34m\u001b[0m\u001b[0;34m\u001b[0m\u001b[0m\n\u001b[1;32m   1177\u001b[0m                                         \u001b[0mvalidation_steps\u001b[0m\u001b[0;34m=\u001b[0m\u001b[0mvalidation_steps\u001b[0m\u001b[0;34m,\u001b[0m\u001b[0;34m\u001b[0m\u001b[0;34m\u001b[0m\u001b[0m\n\u001b[0;32m-> 1178\u001b[0;31m                                         validation_freq=validation_freq)\n\u001b[0m\u001b[1;32m   1179\u001b[0m \u001b[0;34m\u001b[0m\u001b[0m\n\u001b[1;32m   1180\u001b[0m     def evaluate(self,\n",
            "\u001b[0;32m/usr/local/lib/python3.6/dist-packages/keras/engine/training_arrays.py\u001b[0m in \u001b[0;36mfit_loop\u001b[0;34m(model, fit_function, fit_inputs, out_labels, batch_size, epochs, verbose, callbacks, val_function, val_inputs, shuffle, callback_metrics, initial_epoch, steps_per_epoch, validation_steps, validation_freq)\u001b[0m\n\u001b[1;32m    202\u001b[0m                     \u001b[0mins_batch\u001b[0m\u001b[0;34m[\u001b[0m\u001b[0mi\u001b[0m\u001b[0;34m]\u001b[0m \u001b[0;34m=\u001b[0m \u001b[0mins_batch\u001b[0m\u001b[0;34m[\u001b[0m\u001b[0mi\u001b[0m\u001b[0;34m]\u001b[0m\u001b[0;34m.\u001b[0m\u001b[0mtoarray\u001b[0m\u001b[0;34m(\u001b[0m\u001b[0;34m)\u001b[0m\u001b[0;34m\u001b[0m\u001b[0;34m\u001b[0m\u001b[0m\n\u001b[1;32m    203\u001b[0m \u001b[0;34m\u001b[0m\u001b[0m\n\u001b[0;32m--> 204\u001b[0;31m                 \u001b[0mouts\u001b[0m \u001b[0;34m=\u001b[0m \u001b[0mfit_function\u001b[0m\u001b[0;34m(\u001b[0m\u001b[0mins_batch\u001b[0m\u001b[0;34m)\u001b[0m\u001b[0;34m\u001b[0m\u001b[0;34m\u001b[0m\u001b[0m\n\u001b[0m\u001b[1;32m    205\u001b[0m                 \u001b[0mouts\u001b[0m \u001b[0;34m=\u001b[0m \u001b[0mto_list\u001b[0m\u001b[0;34m(\u001b[0m\u001b[0mouts\u001b[0m\u001b[0;34m)\u001b[0m\u001b[0;34m\u001b[0m\u001b[0;34m\u001b[0m\u001b[0m\n\u001b[1;32m    206\u001b[0m                 \u001b[0;32mfor\u001b[0m \u001b[0ml\u001b[0m\u001b[0;34m,\u001b[0m \u001b[0mo\u001b[0m \u001b[0;32min\u001b[0m \u001b[0mzip\u001b[0m\u001b[0;34m(\u001b[0m\u001b[0mout_labels\u001b[0m\u001b[0;34m,\u001b[0m \u001b[0mouts\u001b[0m\u001b[0;34m)\u001b[0m\u001b[0;34m:\u001b[0m\u001b[0;34m\u001b[0m\u001b[0;34m\u001b[0m\u001b[0m\n",
            "\u001b[0;32m/usr/local/lib/python3.6/dist-packages/keras/backend/tensorflow_backend.py\u001b[0m in \u001b[0;36m__call__\u001b[0;34m(self, inputs)\u001b[0m\n\u001b[1;32m   2977\u001b[0m                     \u001b[0;32mreturn\u001b[0m \u001b[0mself\u001b[0m\u001b[0;34m.\u001b[0m\u001b[0m_legacy_call\u001b[0m\u001b[0;34m(\u001b[0m\u001b[0minputs\u001b[0m\u001b[0;34m)\u001b[0m\u001b[0;34m\u001b[0m\u001b[0;34m\u001b[0m\u001b[0m\n\u001b[1;32m   2978\u001b[0m \u001b[0;34m\u001b[0m\u001b[0m\n\u001b[0;32m-> 2979\u001b[0;31m             \u001b[0;32mreturn\u001b[0m \u001b[0mself\u001b[0m\u001b[0;34m.\u001b[0m\u001b[0m_call\u001b[0m\u001b[0;34m(\u001b[0m\u001b[0minputs\u001b[0m\u001b[0;34m)\u001b[0m\u001b[0;34m\u001b[0m\u001b[0;34m\u001b[0m\u001b[0m\n\u001b[0m\u001b[1;32m   2980\u001b[0m         \u001b[0;32melse\u001b[0m\u001b[0;34m:\u001b[0m\u001b[0;34m\u001b[0m\u001b[0;34m\u001b[0m\u001b[0m\n\u001b[1;32m   2981\u001b[0m             \u001b[0;32mif\u001b[0m \u001b[0mpy_any\u001b[0m\u001b[0;34m(\u001b[0m\u001b[0mis_tensor\u001b[0m\u001b[0;34m(\u001b[0m\u001b[0mx\u001b[0m\u001b[0;34m)\u001b[0m \u001b[0;32mfor\u001b[0m \u001b[0mx\u001b[0m \u001b[0;32min\u001b[0m \u001b[0minputs\u001b[0m\u001b[0;34m)\u001b[0m\u001b[0;34m:\u001b[0m\u001b[0;34m\u001b[0m\u001b[0;34m\u001b[0m\u001b[0m\n",
            "\u001b[0;32m/usr/local/lib/python3.6/dist-packages/keras/backend/tensorflow_backend.py\u001b[0m in \u001b[0;36m_call\u001b[0;34m(self, inputs)\u001b[0m\n\u001b[1;32m   2935\u001b[0m             \u001b[0mfetched\u001b[0m \u001b[0;34m=\u001b[0m \u001b[0mself\u001b[0m\u001b[0;34m.\u001b[0m\u001b[0m_callable_fn\u001b[0m\u001b[0;34m(\u001b[0m\u001b[0;34m*\u001b[0m\u001b[0marray_vals\u001b[0m\u001b[0;34m,\u001b[0m \u001b[0mrun_metadata\u001b[0m\u001b[0;34m=\u001b[0m\u001b[0mself\u001b[0m\u001b[0;34m.\u001b[0m\u001b[0mrun_metadata\u001b[0m\u001b[0;34m)\u001b[0m\u001b[0;34m\u001b[0m\u001b[0;34m\u001b[0m\u001b[0m\n\u001b[1;32m   2936\u001b[0m         \u001b[0;32melse\u001b[0m\u001b[0;34m:\u001b[0m\u001b[0;34m\u001b[0m\u001b[0;34m\u001b[0m\u001b[0m\n\u001b[0;32m-> 2937\u001b[0;31m             \u001b[0mfetched\u001b[0m \u001b[0;34m=\u001b[0m \u001b[0mself\u001b[0m\u001b[0;34m.\u001b[0m\u001b[0m_callable_fn\u001b[0m\u001b[0;34m(\u001b[0m\u001b[0;34m*\u001b[0m\u001b[0marray_vals\u001b[0m\u001b[0;34m)\u001b[0m\u001b[0;34m\u001b[0m\u001b[0;34m\u001b[0m\u001b[0m\n\u001b[0m\u001b[1;32m   2938\u001b[0m         \u001b[0;32mreturn\u001b[0m \u001b[0mfetched\u001b[0m\u001b[0;34m[\u001b[0m\u001b[0;34m:\u001b[0m\u001b[0mlen\u001b[0m\u001b[0;34m(\u001b[0m\u001b[0mself\u001b[0m\u001b[0;34m.\u001b[0m\u001b[0moutputs\u001b[0m\u001b[0;34m)\u001b[0m\u001b[0;34m]\u001b[0m\u001b[0;34m\u001b[0m\u001b[0;34m\u001b[0m\u001b[0m\n\u001b[1;32m   2939\u001b[0m \u001b[0;34m\u001b[0m\u001b[0m\n",
            "\u001b[0;32m/tensorflow-1.15.0/python3.6/tensorflow_core/python/client/session.py\u001b[0m in \u001b[0;36m__call__\u001b[0;34m(self, *args, **kwargs)\u001b[0m\n\u001b[1;32m   1470\u001b[0m         ret = tf_session.TF_SessionRunCallable(self._session._session,\n\u001b[1;32m   1471\u001b[0m                                                \u001b[0mself\u001b[0m\u001b[0;34m.\u001b[0m\u001b[0m_handle\u001b[0m\u001b[0;34m,\u001b[0m \u001b[0margs\u001b[0m\u001b[0;34m,\u001b[0m\u001b[0;34m\u001b[0m\u001b[0;34m\u001b[0m\u001b[0m\n\u001b[0;32m-> 1472\u001b[0;31m                                                run_metadata_ptr)\n\u001b[0m\u001b[1;32m   1473\u001b[0m         \u001b[0;32mif\u001b[0m \u001b[0mrun_metadata\u001b[0m\u001b[0;34m:\u001b[0m\u001b[0;34m\u001b[0m\u001b[0;34m\u001b[0m\u001b[0m\n\u001b[1;32m   1474\u001b[0m           \u001b[0mproto_data\u001b[0m \u001b[0;34m=\u001b[0m \u001b[0mtf_session\u001b[0m\u001b[0;34m.\u001b[0m\u001b[0mTF_GetBuffer\u001b[0m\u001b[0;34m(\u001b[0m\u001b[0mrun_metadata_ptr\u001b[0m\u001b[0;34m)\u001b[0m\u001b[0;34m\u001b[0m\u001b[0;34m\u001b[0m\u001b[0m\n",
            "\u001b[0;31mKeyboardInterrupt\u001b[0m: "
          ]
        }
      ],
      "source": [
        "model.fit(X, y, epochs=10, batch_size=128)"
      ]
    },
    {
      "cell_type": "code",
      "execution_count": null,
      "metadata": {
        "colab": {},
        "colab_type": "code",
        "id": "d0_sJ3a8O6Rg"
      },
      "outputs": [],
      "source": []
    },
    {
      "cell_type": "code",
      "execution_count": null,
      "metadata": {
        "colab": {},
        "colab_type": "code",
        "id": "-4Ftjtm8gX4d"
      },
      "outputs": [],
      "source": [
        "import numpy\n",
        "from keras.models import Sequential\n",
        "from keras.layers import Dense\n",
        "from keras.layers import Dropout\n",
        "from keras.layers import LSTM\n",
        "from keras.callbacks import ModelCheckpoint\n",
        "from keras.utils import np_utils"
      ]
    },
    {
      "cell_type": "code",
      "execution_count": null,
      "metadata": {
        "colab": {},
        "colab_type": "code",
        "id": "C9HICQ97gZ8s"
      },
      "outputs": [],
      "source": [
        "filename = \"NG Machine Learning/alice.txt\"\n",
        "raw_text = open(filename, 'r', encoding='utf-8').read()\n",
        "raw_text = raw_text.lower()"
      ]
    },
    {
      "cell_type": "code",
      "execution_count": null,
      "metadata": {
        "colab": {
          "base_uri": "https://localhost:8080/",
          "height": 50
        },
        "colab_type": "code",
        "id": "MAaVDCLVgnG4",
        "outputId": "e4b8ef9d-b921-4b22-98f4-742c1928a3fb"
      },
      "outputs": [
        {
          "name": "stdout",
          "output_type": "stream",
          "text": [
            "Total Characters:  151062\n",
            "Total Vocab:  52\n"
          ]
        }
      ],
      "source": [
        "# create mapping of unique chars to integers, and a reverse mapping\n",
        "chars = sorted(list(set(raw_text)))\n",
        "char_to_int = dict((c, i) for i, c in enumerate(chars))\n",
        "int_to_char = dict((i, c) for i, c in enumerate(chars))\n",
        "# summarize the loaded data\n",
        "n_chars = len(raw_text)\n",
        "n_vocab = len(chars)\n",
        "print (\"Total Characters: \", n_chars)\n",
        "print (\"Total Vocab: \", n_vocab)"
      ]
    },
    {
      "cell_type": "code",
      "execution_count": null,
      "metadata": {
        "colab": {
          "base_uri": "https://localhost:8080/",
          "height": 34
        },
        "colab_type": "code",
        "id": "jyO1DXiUgtcC",
        "outputId": "61b0e175-aa57-43a8-a81f-bad475f3e9ec"
      },
      "outputs": [
        {
          "name": "stdout",
          "output_type": "stream",
          "text": [
            "Total Patterns:  150962\n"
          ]
        }
      ],
      "source": [
        "# prepare the dataset of input to output pairs encoded as integers\n",
        "seq_length = 100\n",
        "dataX = []\n",
        "dataY = []\n",
        "for i in range(0, n_chars - seq_length, 1):\n",
        "\tseq_in = raw_text[i:i + seq_length]\n",
        "\tseq_out = raw_text[i + seq_length]\n",
        "\tdataX.append([char_to_int[char] for char in seq_in])\n",
        "\tdataY.append(char_to_int[seq_out])\n",
        "n_patterns = len(dataX)\n",
        "print (\"Total Patterns: \", n_patterns)"
      ]
    },
    {
      "cell_type": "code",
      "execution_count": null,
      "metadata": {
        "colab": {},
        "colab_type": "code",
        "id": "zPkvb6E3gxyE"
      },
      "outputs": [],
      "source": [
        "# reshape X to be [samples, time steps, features]\n",
        "X = numpy.reshape(dataX, (n_patterns, seq_length, 1))\n",
        "# normalize\n",
        "X = X / float(n_vocab)\n",
        "# one hot encode the output variable\n",
        "y = np_utils.to_categorical(dataY)\n",
        "# define the LSTM model\n",
        "model = Sequential()\n",
        "model.add(LSTM(256, input_shape=(X.shape[1], X.shape[2])))\n",
        "model.add(Dropout(0.2))\n",
        "model.add(Dense(y.shape[1], activation='softmax'))\n",
        "model.compile(loss='categorical_crossentropy', optimizer='adam')"
      ]
    },
    {
      "cell_type": "code",
      "execution_count": null,
      "metadata": {
        "colab": {},
        "colab_type": "code",
        "id": "1rhuIJs6hBs2"
      },
      "outputs": [],
      "source": [
        "# define the checkpoint\n",
        "filepath=\"weights-improvement-{epoch:02d}-{loss:.4f}.hdf5\"\n",
        "checkpoint = ModelCheckpoint(filepath, monitor='loss', verbose=1, save_best_only=True, mode='min')\n",
        "callbacks_list = [checkpoint]\n"
      ]
    },
    {
      "cell_type": "code",
      "execution_count": null,
      "metadata": {
        "colab": {
          "base_uri": "https://localhost:8080/",
          "height": 1000
        },
        "colab_type": "code",
        "id": "tbZ9gHWmhF5m",
        "outputId": "1a2b7d2a-8393-46ad-e44f-50905cdcfd01"
      },
      "outputs": [
        {
          "name": "stdout",
          "output_type": "stream",
          "text": [
            "WARNING:tensorflow:From /tensorflow-1.15.0/python3.6/tensorflow_core/python/ops/math_grad.py:1424: where (from tensorflow.python.ops.array_ops) is deprecated and will be removed in a future version.\n",
            "Instructions for updating:\n",
            "Use tf.where in 2.0, which has the same broadcast rule as np.where\n",
            "WARNING:tensorflow:From /usr/local/lib/python3.6/dist-packages/keras/backend/tensorflow_backend.py:1033: The name tf.assign_add is deprecated. Please use tf.compat.v1.assign_add instead.\n",
            "\n",
            "WARNING:tensorflow:From /usr/local/lib/python3.6/dist-packages/keras/backend/tensorflow_backend.py:1020: The name tf.assign is deprecated. Please use tf.compat.v1.assign instead.\n",
            "\n",
            "WARNING:tensorflow:From /usr/local/lib/python3.6/dist-packages/keras/backend/tensorflow_backend.py:3005: The name tf.Session is deprecated. Please use tf.compat.v1.Session instead.\n",
            "\n",
            "Epoch 1/10\n",
            "WARNING:tensorflow:From /usr/local/lib/python3.6/dist-packages/keras/backend/tensorflow_backend.py:190: The name tf.get_default_session is deprecated. Please use tf.compat.v1.get_default_session instead.\n",
            "\n",
            "WARNING:tensorflow:From /usr/local/lib/python3.6/dist-packages/keras/backend/tensorflow_backend.py:197: The name tf.ConfigProto is deprecated. Please use tf.compat.v1.ConfigProto instead.\n",
            "\n",
            "WARNING:tensorflow:From /usr/local/lib/python3.6/dist-packages/keras/backend/tensorflow_backend.py:207: The name tf.global_variables is deprecated. Please use tf.compat.v1.global_variables instead.\n",
            "\n",
            "WARNING:tensorflow:From /usr/local/lib/python3.6/dist-packages/keras/backend/tensorflow_backend.py:216: The name tf.is_variable_initialized is deprecated. Please use tf.compat.v1.is_variable_initialized instead.\n",
            "\n",
            "WARNING:tensorflow:From /usr/local/lib/python3.6/dist-packages/keras/backend/tensorflow_backend.py:223: The name tf.variables_initializer is deprecated. Please use tf.compat.v1.variables_initializer instead.\n",
            "\n",
            "150962/150962 [==============================] - 245s 2ms/step - loss: 3.0410\n",
            "\n",
            "Epoch 00001: loss improved from inf to 3.04098, saving model to weights-improvement-01-3.0410.hdf5\n",
            "Epoch 2/10\n",
            "150962/150962 [==============================] - 236s 2ms/step - loss: 2.6848\n",
            "\n",
            "Epoch 00002: loss improved from 3.04098 to 2.68477, saving model to weights-improvement-02-2.6848.hdf5\n",
            "Epoch 3/10\n",
            "150962/150962 [==============================] - 237s 2ms/step - loss: 2.5457\n",
            "\n",
            "Epoch 00003: loss improved from 2.68477 to 2.54567, saving model to weights-improvement-03-2.5457.hdf5\n",
            "Epoch 4/10\n",
            "150962/150962 [==============================] - 241s 2ms/step - loss: 2.4583\n",
            "\n",
            "Epoch 00004: loss improved from 2.54567 to 2.45830, saving model to weights-improvement-04-2.4583.hdf5\n",
            "Epoch 5/10\n",
            "150962/150962 [==============================] - 246s 2ms/step - loss: 2.3896\n",
            "\n",
            "Epoch 00005: loss improved from 2.45830 to 2.38960, saving model to weights-improvement-05-2.3896.hdf5\n",
            "Epoch 6/10\n",
            "150962/150962 [==============================] - 246s 2ms/step - loss: 2.3342\n",
            "\n",
            "Epoch 00006: loss improved from 2.38960 to 2.33421, saving model to weights-improvement-06-2.3342.hdf5\n",
            "Epoch 7/10\n",
            "150962/150962 [==============================] - 247s 2ms/step - loss: 2.2792\n",
            "\n",
            "Epoch 00007: loss improved from 2.33421 to 2.27919, saving model to weights-improvement-07-2.2792.hdf5\n",
            "Epoch 8/10\n",
            "150962/150962 [==============================] - 246s 2ms/step - loss: 2.2313\n",
            "\n",
            "Epoch 00008: loss improved from 2.27919 to 2.23130, saving model to weights-improvement-08-2.2313.hdf5\n",
            "Epoch 9/10\n",
            "150962/150962 [==============================] - 248s 2ms/step - loss: 2.1889\n",
            "\n",
            "Epoch 00009: loss improved from 2.23130 to 2.18892, saving model to weights-improvement-09-2.1889.hdf5\n",
            "Epoch 10/10\n",
            "150962/150962 [==============================] - 241s 2ms/step - loss: 2.1507\n",
            "\n",
            "Epoch 00010: loss improved from 2.18892 to 2.15075, saving model to weights-improvement-10-2.1507.hdf5\n"
          ]
        },
        {
          "data": {
            "text/plain": [
              "<keras.callbacks.History at 0x7f71c6f0ceb8>"
            ]
          },
          "execution_count": 11,
          "metadata": {
            "tags": []
          },
          "output_type": "execute_result"
        }
      ],
      "source": [
        "model.fit(X, y, epochs=10, batch_size=128, callbacks=callbacks_list)"
      ]
    },
    {
      "cell_type": "code",
      "execution_count": null,
      "metadata": {
        "colab": {
          "base_uri": "https://localhost:8080/",
          "height": 238
        },
        "colab_type": "code",
        "id": "jmLufBsrhJDW",
        "outputId": "91de2086-191d-45c5-867b-5fb93bd734e0"
      },
      "outputs": [
        {
          "name": "stdout",
          "output_type": "stream",
          "text": [
            "WARNING:tensorflow:From /usr/local/lib/python3.6/dist-packages/keras/backend/tensorflow_backend.py:190: The name tf.get_default_session is deprecated. Please use tf.compat.v1.get_default_session instead.\n",
            "\n",
            "WARNING:tensorflow:From /usr/local/lib/python3.6/dist-packages/keras/backend/tensorflow_backend.py:197: The name tf.ConfigProto is deprecated. Please use tf.compat.v1.ConfigProto instead.\n",
            "\n",
            "WARNING:tensorflow:From /usr/local/lib/python3.6/dist-packages/keras/backend/tensorflow_backend.py:203: The name tf.Session is deprecated. Please use tf.compat.v1.Session instead.\n",
            "\n",
            "WARNING:tensorflow:From /usr/local/lib/python3.6/dist-packages/keras/backend/tensorflow_backend.py:207: The name tf.global_variables is deprecated. Please use tf.compat.v1.global_variables instead.\n",
            "\n",
            "WARNING:tensorflow:From /usr/local/lib/python3.6/dist-packages/keras/backend/tensorflow_backend.py:216: The name tf.is_variable_initialized is deprecated. Please use tf.compat.v1.is_variable_initialized instead.\n",
            "\n",
            "WARNING:tensorflow:From /usr/local/lib/python3.6/dist-packages/keras/backend/tensorflow_backend.py:223: The name tf.variables_initializer is deprecated. Please use tf.compat.v1.variables_initializer instead.\n",
            "\n"
          ]
        }
      ],
      "source": [
        "# load the network weights\n",
        "filename = \"weights-improvement-10-2.1507.hdf5\"\n",
        "model.load_weights(filename)\n",
        "model.compile(loss='categorical_crossentropy', optimizer='adam')"
      ]
    },
    {
      "cell_type": "code",
      "execution_count": null,
      "metadata": {
        "colab": {},
        "colab_type": "code",
        "id": "zWk_FWwMqM2u"
      },
      "outputs": [],
      "source": [
        "int_to_char = dict((i, c) for i, c in enumerate(chars))"
      ]
    },
    {
      "cell_type": "code",
      "execution_count": null,
      "metadata": {
        "colab": {
          "base_uri": "https://localhost:8080/",
          "height": 1000
        },
        "colab_type": "code",
        "id": "Oe6ZQXQYqSVx",
        "outputId": "4ee86cee-eb2f-4879-cfda-6db8d87537c1"
      },
      "outputs": [
        {
          "name": "stdout",
          "output_type": "stream",
          "text": [
            "Seed:\n",
            "\" s,â€ said alice doubtfully: â€œit meansâ€”toâ€”makeâ€”anythingâ€”prettier.â€\n",
            "\n",
            "â€œwell, then,â€ th \"\n",
            "i\n",
            " \n",
            "g\n",
            "o\n",
            "t\n",
            "p\n",
            "h\n",
            "o\n",
            "n\n",
            " \n",
            "w\n",
            "e\n",
            "i\n",
            "t\n",
            " \n",
            "o\n",
            "n\n",
            " \n",
            " \n",
            "â\n",
            "€\n",
            "œ\n",
            "i\n",
            "n\n",
            " \n",
            "w\n",
            "h\n",
            "u\n",
            " \n",
            " \n",
            "t\n",
            "o\n",
            "e\n",
            "l\n",
            "e\n",
            " \n",
            "t\n",
            "o\n",
            "e\n",
            "t\n",
            " \n",
            "â\n",
            "€\n",
            "\n",
            " \n",
            "s\n",
            "h\n",
            "e\n",
            " \n",
            "s\n",
            "a\n",
            "i\n",
            "d\n",
            " \n",
            "t\n",
            "o\n",
            " \n",
            "h\n",
            "e\n",
            "r\n",
            "s\n",
            "e\n",
            "l\n",
            "f\n",
            ",\n",
            " \n",
            "â\n",
            "€\n",
            "œ\n",
            "i\n",
            "n\n",
            " \n",
            "w\n",
            "h\n",
            "u\n",
            " \n",
            " \n",
            "t\n",
            "o\n",
            "e\n",
            "l\n",
            "e\n",
            " \n",
            "t\n",
            "o\n",
            "e\n",
            "t\n",
            " \n",
            "â\n",
            "€\n",
            "\n",
            "\n",
            "\n",
            "\n",
            "\n",
            "â\n",
            "€\n",
            "œ\n",
            "i\n",
            " \n",
            "w\n",
            "h\n",
            "n\n",
            "h\n",
            " \n",
            "t\n",
            "o\n",
            "e\n",
            " \n",
            "s\n",
            "o\n",
            "r\n",
            "e\n",
            "d\n",
            " \n",
            "â\n",
            "€\n",
            "\n",
            " \n",
            "s\n",
            "a\n",
            "i\n",
            "d\n",
            " \n",
            "t\n",
            "h\n",
            "e\n",
            " \n",
            "c\n",
            "o\n",
            "t\n",
            "h\n",
            "o\n",
            "u\n",
            "s\n",
            "e\n",
            ",\n",
            " \n",
            "a\n",
            "n\n",
            "d\n",
            " \n",
            "t\n",
            "h\n",
            "e\n",
            " \n",
            "w\n",
            "o\n",
            "i\n",
            "d\n",
            "e\n",
            " \n",
            "t\n",
            "a\n",
            "s\n",
            " \n",
            "a\n",
            "o\n",
            "o\n",
            " \n",
            "t\n",
            "h\n",
            "e\n",
            " \n",
            "w\n",
            "o\n",
            "i\n",
            "d\n",
            "e\n",
            " \n",
            "t\n",
            "h\n",
            " \n",
            "t\n",
            "h\n",
            "e\n",
            " \n",
            "w\n",
            "o\n",
            "i\n",
            "d\n",
            "e\n",
            " \n",
            " \n",
            "a\n",
            "n\n",
            "d\n",
            " \n",
            "t\n",
            "h\n",
            "e\n",
            " \n",
            "w\n",
            "o\n",
            "i\n",
            "d\n",
            "e\n",
            " \n",
            "t\n",
            "a\n",
            "s\n",
            " \n",
            "s\n",
            "o\n",
            "e\n",
            "n\n",
            "e\n",
            " \n",
            "t\n",
            "h\n",
            "e\n",
            " \n",
            "w\n",
            "o\n",
            "i\n",
            "d\n",
            "e\n",
            " \n",
            "t\n",
            "h\n",
            "e\n",
            " \n",
            "w\n",
            "a\n",
            "s\n",
            " \n",
            "o\n",
            "o\n",
            " \n",
            "t\n",
            "a\n",
            "e\n",
            " \n",
            "t\n",
            "h\n",
            "e\n",
            " \n",
            "w\n",
            "a\n",
            "s\n",
            " \n",
            "o\n",
            "o\n",
            " \n",
            "t\n",
            "a\n",
            "e\n",
            " \n",
            "t\n",
            "h\n",
            "e\n",
            " \n",
            "w\n",
            "a\n",
            "s\n",
            " \n",
            "o\n",
            "o\n",
            " \n",
            "t\n",
            "a\n",
            "e\n",
            " \n",
            "t\n",
            "h\n",
            "e\n",
            " \n",
            "w\n",
            "a\n",
            "s\n",
            " \n",
            "o\n",
            "o\n",
            " \n",
            "t\n",
            "a\n",
            "e\n",
            " \n",
            "t\n",
            "h\n",
            "e\n",
            " \n",
            "w\n",
            "a\n",
            "s\n",
            " \n",
            "o\n",
            "o\n",
            " \n",
            "t\n",
            "a\n",
            "e\n",
            " \n",
            "t\n",
            "h\n",
            "e\n",
            " \n",
            "w\n",
            "a\n",
            "s\n",
            " \n",
            "o\n",
            "o\n",
            " \n",
            "t\n",
            "a\n",
            "e\n",
            " \n",
            "t\n",
            "h\n",
            "e\n",
            " \n",
            "w\n",
            "a\n",
            "s\n",
            " \n",
            "o\n",
            "o\n",
            " \n",
            "t\n",
            "a\n",
            "e\n",
            " \n",
            "t\n",
            "h\n",
            "e\n",
            " \n",
            "w\n",
            "a\n",
            "s\n",
            " \n",
            "o\n",
            "o\n",
            " \n",
            "t\n",
            "a\n",
            "e\n",
            " \n",
            "t\n",
            "h\n",
            "e\n",
            " \n",
            "w\n",
            "a\n",
            "s\n",
            " \n",
            "o\n",
            "o\n",
            " \n",
            "t\n",
            "a\n",
            "e\n",
            " \n",
            "t\n",
            "h\n",
            "e\n",
            " \n",
            "w\n",
            "a\n",
            "s\n",
            " \n",
            "o\n",
            "o\n",
            " \n",
            "t\n",
            "a\n",
            "e\n",
            " \n",
            "t\n",
            "h\n",
            "e\n",
            " \n",
            "w\n",
            "a\n",
            "s\n",
            " \n",
            "o\n",
            "o\n",
            " \n",
            "t\n",
            "a\n",
            "e\n",
            " \n",
            "t\n",
            "h\n",
            "e\n",
            " \n",
            "w\n",
            "a\n",
            "s\n",
            " \n",
            "o\n",
            "o\n",
            " \n",
            "t\n",
            "a\n",
            "e\n",
            " \n",
            "t\n",
            "h\n",
            "e\n",
            " \n",
            "w\n",
            "a\n",
            "s\n",
            " \n",
            "o\n",
            "o\n",
            " \n",
            "t\n",
            "a\n",
            "e\n",
            " \n",
            "t\n",
            "h\n",
            "e\n",
            " \n",
            "w\n",
            "a\n",
            "s\n",
            " \n",
            "o\n",
            "o\n",
            " \n",
            "t\n",
            "a\n",
            "e\n",
            " \n",
            "t\n",
            "h\n",
            "e\n",
            " \n",
            "w\n",
            "a\n",
            "s\n",
            " \n",
            "o\n",
            "o\n",
            " \n",
            "t\n",
            "a\n",
            "e\n",
            " \n",
            "t\n",
            "h\n",
            "e\n",
            " \n",
            "w\n",
            "a\n",
            "s\n",
            " \n",
            "o\n",
            "o\n",
            " \n",
            "t\n",
            "a\n",
            "e\n",
            " \n",
            "t\n",
            "h\n",
            "e\n",
            " \n",
            "w\n",
            "a\n",
            "s\n",
            " \n",
            "o\n",
            "o\n",
            " \n",
            "t\n",
            "a\n",
            "e\n",
            " \n",
            "t\n",
            "h\n",
            "e\n",
            " \n",
            "w\n",
            "a\n",
            "s\n",
            " \n",
            "o\n",
            "o\n",
            " \n",
            "t\n",
            "a\n",
            "e\n",
            " \n",
            "t\n",
            "h\n",
            "e\n",
            " \n",
            "w\n",
            "a\n",
            "s\n",
            " \n",
            "o\n",
            "o\n",
            " \n",
            "t\n",
            "a\n",
            "e\n",
            " \n",
            "t\n",
            "h\n",
            "e\n",
            " \n",
            "w\n",
            "a\n",
            "s\n",
            " \n",
            "o\n",
            "o\n",
            " \n",
            "t\n",
            "a\n",
            "e\n",
            " \n",
            "t\n",
            "h\n",
            "e\n",
            " \n",
            "w\n",
            "a\n",
            "s\n",
            " \n",
            "o\n",
            "o\n",
            " \n",
            "t\n",
            "a\n",
            "e\n",
            " \n",
            "t\n",
            "h\n",
            "e\n",
            " \n",
            "w\n",
            "a\n",
            "s\n",
            " \n",
            "o\n",
            "o\n",
            " \n",
            "t\n",
            "a\n",
            "e\n",
            " \n",
            "t\n",
            "h\n",
            "e\n",
            " \n",
            "w\n",
            "a\n",
            "s\n",
            " \n",
            "o\n",
            "o\n",
            " \n",
            "t\n",
            "a\n",
            "e\n",
            " \n",
            "t\n",
            "h\n",
            "e\n",
            " \n",
            "w\n",
            "a\n",
            "s\n",
            " \n",
            "o\n",
            "o\n",
            " \n",
            "t\n",
            "a\n",
            "e\n",
            " \n",
            "t\n",
            "h\n",
            "e\n",
            " \n",
            "w\n",
            "a\n",
            "s\n",
            " \n",
            "o\n",
            "o\n",
            " \n",
            "t\n",
            "a\n",
            "e\n",
            " \n",
            "t\n",
            "h\n",
            "e\n",
            " \n",
            "w\n",
            "a\n",
            "s\n",
            " \n",
            "o\n",
            "o\n",
            " \n",
            "t\n",
            "a\n",
            "e\n",
            " \n",
            "t\n",
            "h\n",
            "e\n",
            " \n",
            "w\n",
            "a\n",
            "s\n",
            " \n",
            "o\n",
            "o\n",
            " \n",
            "t\n",
            "a\n",
            "e\n",
            " \n",
            "t\n",
            "h\n",
            "e\n",
            " \n",
            "w\n",
            "a\n",
            "s\n",
            " \n",
            "o\n",
            "o\n",
            " \n",
            "t\n",
            "a\n",
            "e\n",
            " \n",
            "t\n",
            "h\n",
            "e\n",
            " \n",
            "w\n",
            "a\n",
            "s\n",
            " \n",
            "o\n",
            "o\n",
            " \n",
            "t\n",
            "a\n",
            "e\n",
            " \n",
            "t\n",
            "h\n",
            "e\n",
            " \n",
            "w\n",
            "a\n",
            "s\n",
            " \n",
            "o\n",
            "o\n",
            " \n",
            "t\n",
            "a\n",
            "e\n",
            " \n",
            "t\n",
            "h\n",
            "e\n",
            " \n",
            "w\n",
            "a\n",
            "s\n",
            " \n",
            "o\n",
            "o\n",
            " \n",
            "t\n",
            "a\n",
            "e\n",
            " \n",
            "t\n",
            "h\n",
            "e\n",
            " \n",
            "w\n",
            "a\n",
            "s\n",
            " \n",
            "o\n",
            "o\n",
            " \n",
            "t\n",
            "a\n",
            "e\n",
            " \n",
            "t\n",
            "h\n",
            "e\n",
            " \n",
            "w\n",
            "a\n",
            "s\n",
            " \n",
            "o\n",
            "o\n",
            " \n",
            "t\n",
            "a\n",
            "e\n",
            " \n",
            "t\n",
            "h\n",
            "e\n",
            " \n",
            "w\n",
            "a\n",
            "s\n",
            " \n",
            "o\n",
            "o\n",
            " \n",
            "t\n",
            "a\n",
            "e\n",
            " \n",
            "t\n",
            "h\n",
            "e\n",
            " \n",
            "w\n",
            "a\n",
            "s\n",
            " \n",
            "o\n",
            "o\n",
            " \n",
            "t\n",
            "a\n",
            "e\n",
            " \n",
            "t\n",
            "h\n",
            "e\n",
            " \n",
            "w\n",
            "a\n",
            "s\n",
            " \n",
            "o\n",
            "o\n",
            " \n",
            "t\n",
            "a\n",
            "e\n",
            " \n",
            "t\n",
            "h\n",
            "e\n",
            " \n",
            "w\n",
            "a\n",
            "s\n",
            " \n",
            "o\n",
            "o\n",
            " \n",
            "t\n",
            "a\n",
            "e\n",
            " \n",
            "t\n",
            "h\n",
            "e\n",
            " \n",
            "w\n",
            "a\n",
            "s\n",
            " \n",
            "o\n",
            "o\n",
            " \n",
            "t\n",
            "a\n",
            "e\n",
            " \n",
            "t\n",
            "h\n",
            "e\n",
            " \n",
            "w\n",
            "a\n",
            "s\n",
            " \n",
            "o\n",
            "o\n",
            " \n",
            "t\n",
            "a\n",
            "e\n",
            " \n",
            "t\n",
            "h\n",
            "e\n",
            " \n",
            "w\n",
            "a\n",
            "s\n",
            " \n",
            "o\n",
            "o\n",
            " \n",
            "t\n",
            "a\n",
            "e\n",
            " \n",
            "t\n",
            "h\n",
            "e\n",
            " \n",
            "w\n",
            "a\n",
            "s\n",
            " \n",
            "o\n",
            "o\n",
            " \n",
            "t\n",
            "a\n",
            "e\n",
            " \n",
            "t\n",
            "h\n",
            "e\n",
            " \n",
            "w\n",
            "a\n",
            "s\n",
            " \n",
            "o\n",
            "o\n",
            " \n",
            "t\n",
            "a\n",
            "e\n",
            " \n",
            "t\n",
            "h\n",
            "e\n",
            " \n",
            "w\n",
            "a\n",
            "s\n",
            " \n",
            "o\n",
            "o\n",
            " \n",
            "t\n",
            "a\n",
            "e\n",
            " \n",
            "t\n",
            "h\n",
            "e\n",
            " \n",
            "w\n",
            "a\n",
            "s\n",
            " \n",
            "o\n",
            "o\n",
            " \n",
            "t\n",
            "a\n",
            "e\n",
            " \n",
            "t\n",
            "h\n",
            "e\n",
            " \n",
            "w\n",
            "a\n",
            "s\n",
            " \n",
            "o\n",
            "o\n",
            " \n",
            "t\n",
            "a\n",
            "e\n",
            " \n",
            "t\n",
            "h\n",
            "e\n",
            " \n",
            "w\n",
            "a\n",
            "s\n",
            " \n",
            "o\n",
            "o\n",
            " \n",
            "t\n",
            "a\n",
            "e\n",
            " \n",
            "t\n",
            "h\n",
            "e\n",
            " \n",
            "w\n",
            "a\n",
            "s\n",
            " \n",
            "o\n",
            "o\n",
            " \n",
            "t\n",
            "a\n",
            "e\n",
            " \n",
            "t\n",
            "h\n",
            "e\n",
            " \n",
            "w\n",
            "a\n",
            "s\n",
            " \n",
            "o\n",
            "o\n",
            " \n",
            "t\n",
            "a\n",
            "e\n",
            " \n",
            "t\n",
            "h\n",
            "e\n",
            " \n",
            "w\n",
            "a\n",
            "s\n",
            " \n",
            "o\n",
            "o\n",
            " \n",
            "t\n",
            "a\n",
            "e\n",
            " \n",
            "t\n",
            "h\n",
            "e\n",
            " \n",
            "w\n",
            "a\n",
            "s\n",
            " \n",
            "o\n",
            "o\n",
            " \n",
            "t\n",
            "a\n",
            "e\n",
            " \n",
            "t\n",
            "h\n",
            "e\n",
            " \n",
            "w\n",
            "a\n",
            "s\n",
            " \n",
            "o\n",
            "o\n",
            " \n",
            "t\n",
            "a\n",
            "e\n",
            " \n",
            "t\n",
            "h\n",
            "e\n",
            " \n",
            "w\n",
            "a\n",
            "s\n",
            " \n",
            "o\n",
            "o\n",
            " \n",
            "t\n",
            "a\n",
            "e\n",
            " \n",
            "t\n",
            "h\n",
            "e\n",
            " \n",
            "i gotphon weit on  â€œin whu  toele toet â€ she said to herself, â€œin whu  toele toet â€\n",
            "\n",
            "â€œi whnh toe sored â€ said the cothouse, and the woide tas aoo the woide th the woide  and the woide tas soene the woide the was oo tae the was oo tae the was oo tae the was oo tae the was oo tae the was oo tae the was oo tae the was oo tae the was oo tae the was oo tae the was oo tae the was oo tae the was oo tae the was oo tae the was oo tae the was oo tae the was oo tae the was oo tae the was oo tae the was oo tae the was oo tae the was oo tae the was oo tae the was oo tae the was oo tae the was oo tae the was oo tae the was oo tae the was oo tae the was oo tae the was oo tae the was oo tae the was oo tae the was oo tae the was oo tae the was oo tae the was oo tae the was oo tae the was oo tae the was oo tae the was oo tae the was oo tae the was oo tae the was oo tae the was oo tae the was oo tae the was oo tae the was oo tae the was oo tae the was oo tae the was oo tae the was oo tae the \n",
            "\n",
            "Done.\n"
          ]
        }
      ],
      "source": [
        "# pick a random seed\n",
        "generate=\"\"\n",
        "start = numpy.random.randint(0, len(dataX)-1)\n",
        "pattern = dataX[start]\n",
        "print (\"Seed:\")\n",
        "print (\"\\\"\", ''.join([int_to_char[value] for value in pattern]), \"\\\"\")\n",
        "# generate characters\n",
        "for i in range(1000):\n",
        "  x = numpy.reshape(pattern, (1, len(pattern), 1))\n",
        "  x = x / float(n_vocab)\n",
        "  prediction = model.predict(x, verbose=0)\n",
        "  index = numpy.argmax(prediction)\n",
        "  result = int_to_char[index]\n",
        "  print(result)\n",
        "  generate+=result\n",
        "  seq_in = [int_to_char[value] for value in pattern]\n",
        "  pattern.append(index)\n",
        "  pattern = pattern[1:len(pattern)]\n",
        "\n",
        "print(generate)\n",
        "print (\"\\nDone.\")"
      ]
    },
    {
      "cell_type": "code",
      "execution_count": null,
      "metadata": {
        "colab": {
          "base_uri": "https://localhost:8080/",
          "height": 54
        },
        "colab_type": "code",
        "id": "pu92nL9bsYhr",
        "outputId": "83984336-758d-4c9e-c73b-d67e7802348f"
      },
      "outputs": [
        {
          "data": {
            "text/plain": [
              "'i gotphon weit on  â€œin whu  toele toet â€\\x9d she said to herself, â€œin whu  toele toet â€\\x9d\\n\\nâ€œi whnh toe sored â€\\x9d said the cothouse, and the woide tas aoo the woide th the woide  and the woide tas soene the woide the was oo tae the was oo tae the was oo tae the was oo tae the was oo tae the was oo tae the was oo tae the was oo tae the was oo tae the was oo tae the was oo tae the was oo tae the was oo tae the was oo tae the was oo tae the was oo tae the was oo tae the was oo tae the was oo tae the was oo tae the was oo tae the was oo tae the was oo tae the was oo tae the was oo tae the was oo tae the was oo tae the was oo tae the was oo tae the was oo tae the was oo tae the was oo tae the was oo tae the was oo tae the was oo tae the was oo tae the was oo tae the was oo tae the was oo tae the was oo tae the was oo tae the was oo tae the was oo tae the was oo tae the was oo tae the was oo tae the was oo tae the was oo tae the was oo tae the was oo tae the was oo tae the was oo tae the '"
            ]
          },
          "execution_count": 29,
          "metadata": {
            "tags": []
          },
          "output_type": "execute_result"
        }
      ],
      "source": [
        "generate"
      ]
    },
    {
      "cell_type": "code",
      "execution_count": null,
      "metadata": {
        "colab": {},
        "colab_type": "code",
        "id": "VVe-tpA7uWh-"
      },
      "outputs": [],
      "source": []
    }
  ],
  "metadata": {
    "accelerator": "GPU",
    "colab": {
      "collapsed_sections": [],
      "name": "LSTM.ipynb",
      "provenance": []
    },
    "kernelspec": {
      "display_name": "Python 3.10.4 ('tea_facts')",
      "language": "python",
      "name": "python3"
    },
    "language_info": {
      "name": "python",
      "version": "3.10.4"
    },
    "vscode": {
      "interpreter": {
        "hash": "38eb0e3bd04edef02baea5b56f7e600bc8b42ddcf1962ce9cdcdc96e37ea74f7"
      }
    }
  },
  "nbformat": 4,
  "nbformat_minor": 0
}

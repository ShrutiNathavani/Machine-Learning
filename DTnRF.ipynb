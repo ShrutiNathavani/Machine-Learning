{
  "cells": [
    {
      "cell_type": "code",
      "execution_count": null,
      "metadata": {
        "id": "h6Qb6fMTvF5N"
      },
      "outputs": [],
      "source": [
        "import numpy as np\n",
        "import pandas as pd\n",
        "import matplotlib.pyplot as plt\n",
        "import math"
      ]
    },
    {
      "cell_type": "code",
      "execution_count": null,
      "metadata": {
        "id": "M2SmUSd0vMBp"
      },
      "outputs": [],
      "source": [
        "from sklearn import datasets"
      ]
    },
    {
      "cell_type": "code",
      "execution_count": null,
      "metadata": {
        "id": "EDkbhmCSvRZB"
      },
      "outputs": [],
      "source": [
        "iris = datasets.load_iris()"
      ]
    },
    {
      "cell_type": "code",
      "execution_count": null,
      "metadata": {
        "id": "_vLsxYwHvSut"
      },
      "outputs": [],
      "source": [
        "iris"
      ]
    },
    {
      "cell_type": "code",
      "execution_count": null,
      "metadata": {
        "id": "jZEYOWT0vUOn"
      },
      "outputs": [],
      "source": [
        "class_names = iris.target_names"
      ]
    },
    {
      "cell_type": "code",
      "execution_count": null,
      "metadata": {
        "colab": {
          "base_uri": "https://localhost:8080/"
        },
        "id": "aPvZxuEEvWq6",
        "outputId": "5cd2f99b-d155-41a2-bd88-5ddb00f5e2b3"
      },
      "outputs": [],
      "source": [
        "class_names"
      ]
    },
    {
      "cell_type": "code",
      "execution_count": null,
      "metadata": {
        "id": "F5fBJxkfvYax"
      },
      "outputs": [],
      "source": [
        "features = iris.feature_names"
      ]
    },
    {
      "cell_type": "code",
      "execution_count": null,
      "metadata": {
        "colab": {
          "base_uri": "https://localhost:8080/"
        },
        "id": "dzfLOQinvZuV",
        "outputId": "a3563811-8d68-4573-8653-199288789f6f"
      },
      "outputs": [],
      "source": [
        "features"
      ]
    },
    {
      "cell_type": "code",
      "execution_count": null,
      "metadata": {
        "id": "K1J6eUCJvbGQ"
      },
      "outputs": [],
      "source": [
        "data = pd.DataFrame({\n",
        "    'sepal length':iris.data[:,0],\n",
        "      'sepal width':iris.data[:,1],\n",
        "      'petal length':iris.data[:,2],\n",
        "      'petal width':iris.data[:,3],\n",
        "      'species':iris.target\n",
        "})"
      ]
    },
    {
      "cell_type": "code",
      "execution_count": null,
      "metadata": {
        "colab": {
          "base_uri": "https://localhost:8080/",
          "height": 424
        },
        "id": "9PFbe1wjvc4M",
        "outputId": "438b8ce3-1390-4534-fbbc-a5bb5c529c8f"
      },
      "outputs": [],
      "source": [
        "data"
      ]
    },
    {
      "cell_type": "code",
      "execution_count": null,
      "metadata": {
        "colab": {
          "base_uri": "https://localhost:8080/",
          "height": 300
        },
        "id": "tLzbZ6igvfmt",
        "outputId": "40114615-2d0d-4e6e-ba3f-a9d878dff8a4"
      },
      "outputs": [],
      "source": [
        "data.describe()"
      ]
    },
    {
      "cell_type": "code",
      "execution_count": null,
      "metadata": {
        "id": "2cnEjjdxvhy9"
      },
      "outputs": [],
      "source": [
        "# split dataset into traindata and test data\n",
        "\n",
        "from sklearn.model_selection import train_test_split"
      ]
    },
    {
      "cell_type": "code",
      "execution_count": null,
      "metadata": {
        "id": "xJLQilk7vkFv"
      },
      "outputs": [],
      "source": [
        "#features for training\n",
        "X=data[['sepal length','sepal width','petal length','petal width']]\n",
        "Y=data['species']  #target label"
      ]
    },
    {
      "cell_type": "code",
      "execution_count": null,
      "metadata": {
        "id": "Qw2JgbC0vlcp"
      },
      "outputs": [],
      "source": [
        "x_train, x_test, y_train, y_test = train_test_split(X, Y, test_size=0.25)"
      ]
    },
    {
      "cell_type": "code",
      "execution_count": null,
      "metadata": {
        "id": "ZZI9Lojxvm0a"
      },
      "outputs": [],
      "source": [
        "from sklearn.ensemble import RandomForestClassifier"
      ]
    },
    {
      "cell_type": "code",
      "execution_count": null,
      "metadata": {
        "colab": {
          "base_uri": "https://localhost:8080/"
        },
        "id": "xZO8HkcxvoQB",
        "outputId": "de782bf6-e0a3-47b2-c7f9-052585e113b5"
      },
      "outputs": [],
      "source": [
        "forest = RandomForestClassifier(n_estimators = 100)\n",
        "forest.fit(x_train, y_train) #it is training the RF model"
      ]
    },
    {
      "cell_type": "code",
      "execution_count": null,
      "metadata": {
        "id": "ARX6daxXvp17"
      },
      "outputs": [],
      "source": [
        "y_predict = forest.predict(x_test)"
      ]
    },
    {
      "cell_type": "code",
      "execution_count": null,
      "metadata": {
        "colab": {
          "base_uri": "https://localhost:8080/"
        },
        "id": "PEckCEjbvrbF",
        "outputId": "7e918420-f27b-4e50-c383-79cb31e17e0b"
      },
      "outputs": [],
      "source": [
        "y_predict # model accuracy"
      ]
    },
    {
      "cell_type": "code",
      "execution_count": null,
      "metadata": {
        "id": "7U8uzwkMvtbq"
      },
      "outputs": [],
      "source": [
        "y_test # training dataset original"
      ]
    },
    {
      "cell_type": "code",
      "execution_count": null,
      "metadata": {
        "colab": {
          "base_uri": "https://localhost:8080/"
        },
        "id": "WrnMSfllvvhA",
        "outputId": "22661184-284a-422f-c277-8037a48e7dfe"
      },
      "outputs": [],
      "source": [
        "from sklearn import metrics\n",
        "print(\"Accuracy Score :-\",metrics.accuracy_score(y_test, y_predict))\n",
        "print(\"Mean Error :-\",metrics.mean_squared_error(y_test,y_predict))"
      ]
    },
    {
      "cell_type": "code",
      "execution_count": null,
      "metadata": {
        "id": "MZU74hgqvxnw"
      },
      "outputs": [],
      "source": [
        "from sklearn.tree import export_graphviz"
      ]
    },
    {
      "cell_type": "code",
      "execution_count": null,
      "metadata": {
        "id": "Vv2WLsknvzV8"
      },
      "outputs": [],
      "source": [
        "import pydot"
      ]
    },
    {
      "cell_type": "code",
      "execution_count": null,
      "metadata": {
        "id": "zW82_N6Jv2UN"
      },
      "outputs": [],
      "source": [
        "tree = forest.estimators_[5]\n",
        "export_graphviz(tree, out_file = '/content/tree5.dot',feature_names = features)"
      ]
    },
    {
      "cell_type": "code",
      "execution_count": null,
      "metadata": {
        "id": "z606IMoBv3sD"
      },
      "outputs": [],
      "source": [
        "(graph, ) = pydot.graph_from_dot_file(\"/content/tree5.dot\")\n",
        "graph.write_png('/content/tree5.png')"
      ]
    },
    {
      "cell_type": "code",
      "execution_count": null,
      "metadata": {
        "colab": {
          "base_uri": "https://localhost:8080/",
          "height": 90
        },
        "id": "i9o-UxElv5CU",
        "outputId": "7f8aa2bf-5a37-4089-cbe9-6f1a3a0edfed"
      },
      "outputs": [],
      "source": [
        "iris.target_names[forest.predict([[15,5,8,4]])][0]"
      ]
    },
    {
      "cell_type": "code",
      "execution_count": null,
      "metadata": {
        "id": "TIS3ODDgv6tQ"
      },
      "outputs": [],
      "source": [
        "# finding important feature\n",
        "feature_imp = pd.Series(forest.feature_importances_, index = features).sort_values(ascending=False)"
      ]
    },
    {
      "cell_type": "code",
      "execution_count": null,
      "metadata": {
        "colab": {
          "base_uri": "https://localhost:8080/"
        },
        "id": "RP954HCSv7Do",
        "outputId": "d223b38a-4389-4e97-bffe-9ba5d78a8bf9"
      },
      "outputs": [],
      "source": [
        "feature_imp"
      ]
    },
    {
      "cell_type": "code",
      "execution_count": null,
      "metadata": {
        "id": "kSr_R_5Wv8L0"
      },
      "outputs": [],
      "source": [
        "import seaborn as sns\n",
        "%matplotlib inline"
      ]
    },
    {
      "cell_type": "code",
      "execution_count": null,
      "metadata": {
        "colab": {
          "base_uri": "https://localhost:8080/",
          "height": 312
        },
        "id": "UDSeU_AAv9iM",
        "outputId": "5fe665d4-7b4e-4505-cce0-04d7494baa12"
      },
      "outputs": [],
      "source": [
        "sns.barplot(x = feature_imp, y = feature_imp.index)\n",
        "plt.xlabel(\"Feature Importance score\")\n",
        "plt.ylabel(\"Feature Name\")\n",
        "plt.title(\"Visualizing the Important features\")"
      ]
    }
  ],
  "metadata": {
    "colab": {
      "provenance": []
    },
    "kernelspec": {
      "display_name": "Python 3.9.12 ('base')",
      "language": "python",
      "name": "python3"
    },
    "language_info": {
      "name": "python",
      "version": "3.9.12"
    },
    "vscode": {
      "interpreter": {
        "hash": "3bb6a7cc533fde3a6f6d4639a346ab7db5b040f62b9d03a6c3624df773109820"
      }
    }
  },
  "nbformat": 4,
  "nbformat_minor": 0
}

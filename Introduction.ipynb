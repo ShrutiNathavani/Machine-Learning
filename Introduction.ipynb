{
  "cells": [
    {
      "cell_type": "markdown",
      "metadata": {
        "id": "-CebWk0KdfVW"
      },
      "source": [
        "\n",
        "**DAY1**\n",
        "\n"
      ]
    },
    {
      "cell_type": "code",
      "execution_count": 1,
      "metadata": {
        "colab": {
          "base_uri": "https://localhost:8080/"
        },
        "id": "TBl30UNccKVJ",
        "outputId": "082e6115-0853-422a-d482-ebf745d54518"
      },
      "outputs": [
        {
          "name": "stdout",
          "output_type": "stream",
          "text": [
            "Variable is even\n"
          ]
        }
      ],
      "source": [
        "#control statement\n",
        "a=6\n",
        "if(a==0):\n",
        "  print(\"Variable is 0\")\n",
        "elif(a%2==0):\n",
        "  print(\"Variable is even\")\n",
        "else:\n",
        "  print(\"Variable is odd\")"
      ]
    },
    {
      "cell_type": "code",
      "execution_count": 2,
      "metadata": {
        "colab": {
          "base_uri": "https://localhost:8080/"
        },
        "id": "ftk7r17FfH56",
        "outputId": "47bcca2a-5a93-4e8c-e360-db57e75455d3"
      },
      "outputs": [
        {
          "name": "stdout",
          "output_type": "stream",
          "text": [
            "0\n",
            "1\n",
            "2\n",
            "3\n",
            "4\n",
            "5\n",
            "6\n",
            "7\n",
            "8\n",
            "9\n"
          ]
        }
      ],
      "source": [
        "#looping statement:while,for,repeat\n",
        "for i in range(10): #starts with 0 end with n-1\n",
        "  print(i)"
      ]
    },
    {
      "cell_type": "code",
      "execution_count": 3,
      "metadata": {
        "colab": {
          "base_uri": "https://localhost:8080/"
        },
        "id": "_JSJkinGfc9y",
        "outputId": "6010ae3c-59b6-411a-9048-64f9e4d29db7"
      },
      "outputs": [
        {
          "name": "stdout",
          "output_type": "stream",
          "text": [
            "1\n",
            "2\n",
            "3\n",
            "4\n",
            "5\n",
            "6\n",
            "7\n",
            "8\n",
            "9\n"
          ]
        }
      ],
      "source": [
        "for i in range(1,10):\n",
        "  print(i)"
      ]
    },
    {
      "cell_type": "code",
      "execution_count": 4,
      "metadata": {
        "id": "1ktTp0EYfiP7"
      },
      "outputs": [],
      "source": [
        "#data declaration\n"
      ]
    },
    {
      "cell_type": "code",
      "execution_count": 5,
      "metadata": {
        "id": "-ryoGJoEgPZ2"
      },
      "outputs": [],
      "source": [
        "import numpy as np #numerical computation\n"
      ]
    },
    {
      "cell_type": "code",
      "execution_count": 6,
      "metadata": {
        "id": "6icEIJaagVX8"
      },
      "outputs": [],
      "source": [
        "# #declare the matrix 2x2\n",
        "# [[a,b],[c,d]]\n",
        "# [a,b]\n",
        "# [c,d] #list of python/array"
      ]
    },
    {
      "cell_type": "code",
      "execution_count": 7,
      "metadata": {
        "id": "TCnwMFuMhjrh"
      },
      "outputs": [],
      "source": [
        "#declare the matrix 2x2\n",
        "b=np.array([[1,2],[3,4]])"
      ]
    },
    {
      "cell_type": "code",
      "execution_count": 8,
      "metadata": {
        "colab": {
          "base_uri": "https://localhost:8080/"
        },
        "id": "1bw0akurhzYz",
        "outputId": "076f03e5-e044-4967-d3ff-9aec5f6e577a"
      },
      "outputs": [
        {
          "name": "stdout",
          "output_type": "stream",
          "text": [
            "[[1 2]\n",
            " [3 4]]\n"
          ]
        }
      ],
      "source": [
        "print(b)"
      ]
    },
    {
      "cell_type": "code",
      "execution_count": 9,
      "metadata": {
        "colab": {
          "base_uri": "https://localhost:8080/"
        },
        "id": "gpvg1Qk9iC3w",
        "outputId": "494a96f1-f389-478e-d459-974af7457a31"
      },
      "outputs": [
        {
          "name": "stdout",
          "output_type": "stream",
          "text": [
            "[[[1 2 3 4 5]]]\n"
          ]
        }
      ],
      "source": [
        "#changing the dimension\n",
        "c=np.array([1,2,3,4,5],ndmin=3)\n",
        "print(c)"
      ]
    },
    {
      "cell_type": "code",
      "execution_count": 10,
      "metadata": {
        "colab": {
          "base_uri": "https://localhost:8080/"
        },
        "id": "CJ2Hi6JsioSE",
        "outputId": "6300a77a-a4c0-435b-b5ba-5ae5abc1fd94"
      },
      "outputs": [
        {
          "data": {
            "text/plain": [
              "array([1.+0.j, 2.+0.j, 3.+0.j, 4.+0.j, 5.+0.j])"
            ]
          },
          "execution_count": 10,
          "metadata": {},
          "output_type": "execute_result"
        }
      ],
      "source": [
        "#complex datatype:a+bj\n",
        "np.array([1,2,3,4,5],dtype=complex)\n"
      ]
    },
    {
      "cell_type": "code",
      "execution_count": 11,
      "metadata": {
        "id": "5wMy3Kvrjpj3"
      },
      "outputs": [],
      "source": [
        "#series od data\n",
        "data=np.array(['a','b','c','d','e'],dtype='<U1')"
      ]
    },
    {
      "cell_type": "code",
      "execution_count": 12,
      "metadata": {
        "id": "TDtef4ypj6Bg"
      },
      "outputs": [],
      "source": [
        "#usage of pandas \n",
        "import pandas as pd "
      ]
    },
    {
      "cell_type": "code",
      "execution_count": 13,
      "metadata": {
        "colab": {
          "base_uri": "https://localhost:8080/"
        },
        "id": "SEmjYHgskEyD",
        "outputId": "8ba5ae44-28d4-4650-be5d-5c8bec5650ca"
      },
      "outputs": [
        {
          "data": {
            "text/plain": [
              "0    a\n",
              "1    b\n",
              "2    c\n",
              "3    d\n",
              "4    e\n",
              "dtype: object"
            ]
          },
          "execution_count": 13,
          "metadata": {},
          "output_type": "execute_result"
        }
      ],
      "source": [
        "pd.Series(data)"
      ]
    },
    {
      "cell_type": "code",
      "execution_count": 14,
      "metadata": {
        "id": "iTlVI1sFkPIi"
      },
      "outputs": [],
      "source": [
        "#house price prediction\n",
        "# area of house \n",
        "# number of rooms\n",
        "# locality\n",
        "# number of floors"
      ]
    },
    {
      "cell_type": "code",
      "execution_count": 15,
      "metadata": {
        "colab": {
          "base_uri": "https://localhost:8080/",
          "height": 175
        },
        "id": "iXb0fnm5lZfx",
        "outputId": "8ebd4576-aab6-46e7-a3b3-6eb6cfae9c18"
      },
      "outputs": [
        {
          "data": {
            "text/html": [
              "<div>\n",
              "<style scoped>\n",
              "    .dataframe tbody tr th:only-of-type {\n",
              "        vertical-align: middle;\n",
              "    }\n",
              "\n",
              "    .dataframe tbody tr th {\n",
              "        vertical-align: top;\n",
              "    }\n",
              "\n",
              "    .dataframe thead th {\n",
              "        text-align: right;\n",
              "    }\n",
              "</style>\n",
              "<table border=\"1\" class=\"dataframe\">\n",
              "  <thead>\n",
              "    <tr style=\"text-align: right;\">\n",
              "      <th></th>\n",
              "      <th>Cricketer</th>\n",
              "      <th>scores</th>\n",
              "    </tr>\n",
              "  </thead>\n",
              "  <tbody>\n",
              "    <tr>\n",
              "      <th>0</th>\n",
              "      <td>rahul</td>\n",
              "      <td>50</td>\n",
              "    </tr>\n",
              "    <tr>\n",
              "      <th>1</th>\n",
              "      <td>Sachin</td>\n",
              "      <td>75</td>\n",
              "    </tr>\n",
              "    <tr>\n",
              "      <th>2</th>\n",
              "      <td>Virat</td>\n",
              "      <td>60</td>\n",
              "    </tr>\n",
              "    <tr>\n",
              "      <th>3</th>\n",
              "      <td>Rohit</td>\n",
              "      <td>35</td>\n",
              "    </tr>\n",
              "  </tbody>\n",
              "</table>\n",
              "</div>"
            ],
            "text/plain": [
              "  Cricketer  scores\n",
              "0     rahul      50\n",
              "1    Sachin      75\n",
              "2     Virat      60\n",
              "3     Rohit      35"
            ]
          },
          "execution_count": 15,
          "metadata": {},
          "output_type": "execute_result"
        }
      ],
      "source": [
        "data={'Cricketer':['rahul','Sachin','Virat','Rohit'],'scores':[50,75,60,35]}\n",
        "pd.DataFrame(data)"
      ]
    },
    {
      "cell_type": "code",
      "execution_count": null,
      "metadata": {
        "id": "mxO-WRj1nba7"
      },
      "outputs": [],
      "source": []
    },
    {
      "cell_type": "code",
      "execution_count": 16,
      "metadata": {
        "colab": {
          "base_uri": "https://localhost:8080/"
        },
        "id": "-hwBBsm5mBsF",
        "outputId": "7f782d5c-fa91-4193-d678-30b5fe716856"
      },
      "outputs": [
        {
          "data": {
            "text/plain": [
              "array([[-1.13687178,  0.53422578],\n",
              "       [ 0.49140234,  1.86807227],\n",
              "       [-1.34345695,  0.41741314]])"
            ]
          },
          "execution_count": 16,
          "metadata": {},
          "output_type": "execute_result"
        }
      ],
      "source": [
        "#randomization:declaration of random values\n",
        "np.random.randn(3,2)  #(number of row, number of columns)\n"
      ]
    },
    {
      "cell_type": "code",
      "execution_count": 17,
      "metadata": {
        "id": "bowP0CFcmidl"
      },
      "outputs": [],
      "source": [
        "data=pd.DataFrame(np.random.randn(5,3))"
      ]
    },
    {
      "cell_type": "code",
      "execution_count": 18,
      "metadata": {
        "colab": {
          "base_uri": "https://localhost:8080/",
          "height": 206
        },
        "id": "-vHRuMqrnigu",
        "outputId": "3a3f62f8-dd8f-4a59-f01c-2d975a158e01"
      },
      "outputs": [
        {
          "data": {
            "text/html": [
              "<div>\n",
              "<style scoped>\n",
              "    .dataframe tbody tr th:only-of-type {\n",
              "        vertical-align: middle;\n",
              "    }\n",
              "\n",
              "    .dataframe tbody tr th {\n",
              "        vertical-align: top;\n",
              "    }\n",
              "\n",
              "    .dataframe thead th {\n",
              "        text-align: right;\n",
              "    }\n",
              "</style>\n",
              "<table border=\"1\" class=\"dataframe\">\n",
              "  <thead>\n",
              "    <tr style=\"text-align: right;\">\n",
              "      <th></th>\n",
              "      <th>0</th>\n",
              "      <th>1</th>\n",
              "      <th>2</th>\n",
              "    </tr>\n",
              "  </thead>\n",
              "  <tbody>\n",
              "    <tr>\n",
              "      <th>0</th>\n",
              "      <td>1.127782</td>\n",
              "      <td>1.914066</td>\n",
              "      <td>0.965418</td>\n",
              "    </tr>\n",
              "    <tr>\n",
              "      <th>1</th>\n",
              "      <td>1.764054</td>\n",
              "      <td>-0.350509</td>\n",
              "      <td>0.354092</td>\n",
              "    </tr>\n",
              "    <tr>\n",
              "      <th>2</th>\n",
              "      <td>1.204119</td>\n",
              "      <td>-1.663363</td>\n",
              "      <td>-0.033202</td>\n",
              "    </tr>\n",
              "    <tr>\n",
              "      <th>3</th>\n",
              "      <td>-0.612511</td>\n",
              "      <td>-0.291766</td>\n",
              "      <td>-0.720803</td>\n",
              "    </tr>\n",
              "    <tr>\n",
              "      <th>4</th>\n",
              "      <td>0.364555</td>\n",
              "      <td>-0.414439</td>\n",
              "      <td>-1.704096</td>\n",
              "    </tr>\n",
              "  </tbody>\n",
              "</table>\n",
              "</div>"
            ],
            "text/plain": [
              "          0         1         2\n",
              "0  1.127782  1.914066  0.965418\n",
              "1  1.764054 -0.350509  0.354092\n",
              "2  1.204119 -1.663363 -0.033202\n",
              "3 -0.612511 -0.291766 -0.720803\n",
              "4  0.364555 -0.414439 -1.704096"
            ]
          },
          "execution_count": 18,
          "metadata": {},
          "output_type": "execute_result"
        }
      ],
      "source": [
        "data"
      ]
    },
    {
      "cell_type": "code",
      "execution_count": 19,
      "metadata": {
        "id": "AU4lhs4poDLw"
      },
      "outputs": [],
      "source": [
        "data=pd.DataFrame(np.random.randn(5,3),index=['a','b','c','f','h'],columns=['one','two','three'])"
      ]
    },
    {
      "cell_type": "code",
      "execution_count": 20,
      "metadata": {
        "colab": {
          "base_uri": "https://localhost:8080/",
          "height": 206
        },
        "id": "EdCrwTqeoW4z",
        "outputId": "dd4c9de8-6cdb-4d96-9ac8-c3f27c1a735d"
      },
      "outputs": [
        {
          "data": {
            "text/html": [
              "<div>\n",
              "<style scoped>\n",
              "    .dataframe tbody tr th:only-of-type {\n",
              "        vertical-align: middle;\n",
              "    }\n",
              "\n",
              "    .dataframe tbody tr th {\n",
              "        vertical-align: top;\n",
              "    }\n",
              "\n",
              "    .dataframe thead th {\n",
              "        text-align: right;\n",
              "    }\n",
              "</style>\n",
              "<table border=\"1\" class=\"dataframe\">\n",
              "  <thead>\n",
              "    <tr style=\"text-align: right;\">\n",
              "      <th></th>\n",
              "      <th>one</th>\n",
              "      <th>two</th>\n",
              "      <th>three</th>\n",
              "    </tr>\n",
              "  </thead>\n",
              "  <tbody>\n",
              "    <tr>\n",
              "      <th>a</th>\n",
              "      <td>-0.594874</td>\n",
              "      <td>2.438166</td>\n",
              "      <td>-0.395249</td>\n",
              "    </tr>\n",
              "    <tr>\n",
              "      <th>b</th>\n",
              "      <td>-0.368163</td>\n",
              "      <td>-0.699018</td>\n",
              "      <td>-0.361957</td>\n",
              "    </tr>\n",
              "    <tr>\n",
              "      <th>c</th>\n",
              "      <td>-0.449404</td>\n",
              "      <td>1.404142</td>\n",
              "      <td>-0.876756</td>\n",
              "    </tr>\n",
              "    <tr>\n",
              "      <th>f</th>\n",
              "      <td>0.586167</td>\n",
              "      <td>-1.582084</td>\n",
              "      <td>-0.117980</td>\n",
              "    </tr>\n",
              "    <tr>\n",
              "      <th>h</th>\n",
              "      <td>-0.097324</td>\n",
              "      <td>-0.412320</td>\n",
              "      <td>0.976970</td>\n",
              "    </tr>\n",
              "  </tbody>\n",
              "</table>\n",
              "</div>"
            ],
            "text/plain": [
              "        one       two     three\n",
              "a -0.594874  2.438166 -0.395249\n",
              "b -0.368163 -0.699018 -0.361957\n",
              "c -0.449404  1.404142 -0.876756\n",
              "f  0.586167 -1.582084 -0.117980\n",
              "h -0.097324 -0.412320  0.976970"
            ]
          },
          "execution_count": 20,
          "metadata": {},
          "output_type": "execute_result"
        }
      ],
      "source": [
        "data"
      ]
    },
    {
      "cell_type": "code",
      "execution_count": 21,
      "metadata": {
        "id": "Cd4WKmXZoZbs"
      },
      "outputs": [],
      "source": [
        "data=data.reindex(['a','b','c','d','e','f','g','h'])"
      ]
    },
    {
      "cell_type": "code",
      "execution_count": 22,
      "metadata": {
        "colab": {
          "base_uri": "https://localhost:8080/",
          "height": 300
        },
        "id": "1_xLiv6cojEH",
        "outputId": "66c7bf6d-59db-4ce3-d316-a558e1e8b353"
      },
      "outputs": [
        {
          "data": {
            "text/html": [
              "<div>\n",
              "<style scoped>\n",
              "    .dataframe tbody tr th:only-of-type {\n",
              "        vertical-align: middle;\n",
              "    }\n",
              "\n",
              "    .dataframe tbody tr th {\n",
              "        vertical-align: top;\n",
              "    }\n",
              "\n",
              "    .dataframe thead th {\n",
              "        text-align: right;\n",
              "    }\n",
              "</style>\n",
              "<table border=\"1\" class=\"dataframe\">\n",
              "  <thead>\n",
              "    <tr style=\"text-align: right;\">\n",
              "      <th></th>\n",
              "      <th>one</th>\n",
              "      <th>two</th>\n",
              "      <th>three</th>\n",
              "    </tr>\n",
              "  </thead>\n",
              "  <tbody>\n",
              "    <tr>\n",
              "      <th>a</th>\n",
              "      <td>-0.594874</td>\n",
              "      <td>2.438166</td>\n",
              "      <td>-0.395249</td>\n",
              "    </tr>\n",
              "    <tr>\n",
              "      <th>b</th>\n",
              "      <td>-0.368163</td>\n",
              "      <td>-0.699018</td>\n",
              "      <td>-0.361957</td>\n",
              "    </tr>\n",
              "    <tr>\n",
              "      <th>c</th>\n",
              "      <td>-0.449404</td>\n",
              "      <td>1.404142</td>\n",
              "      <td>-0.876756</td>\n",
              "    </tr>\n",
              "    <tr>\n",
              "      <th>d</th>\n",
              "      <td>NaN</td>\n",
              "      <td>NaN</td>\n",
              "      <td>NaN</td>\n",
              "    </tr>\n",
              "    <tr>\n",
              "      <th>e</th>\n",
              "      <td>NaN</td>\n",
              "      <td>NaN</td>\n",
              "      <td>NaN</td>\n",
              "    </tr>\n",
              "    <tr>\n",
              "      <th>f</th>\n",
              "      <td>0.586167</td>\n",
              "      <td>-1.582084</td>\n",
              "      <td>-0.117980</td>\n",
              "    </tr>\n",
              "    <tr>\n",
              "      <th>g</th>\n",
              "      <td>NaN</td>\n",
              "      <td>NaN</td>\n",
              "      <td>NaN</td>\n",
              "    </tr>\n",
              "    <tr>\n",
              "      <th>h</th>\n",
              "      <td>-0.097324</td>\n",
              "      <td>-0.412320</td>\n",
              "      <td>0.976970</td>\n",
              "    </tr>\n",
              "  </tbody>\n",
              "</table>\n",
              "</div>"
            ],
            "text/plain": [
              "        one       two     three\n",
              "a -0.594874  2.438166 -0.395249\n",
              "b -0.368163 -0.699018 -0.361957\n",
              "c -0.449404  1.404142 -0.876756\n",
              "d       NaN       NaN       NaN\n",
              "e       NaN       NaN       NaN\n",
              "f  0.586167 -1.582084 -0.117980\n",
              "g       NaN       NaN       NaN\n",
              "h -0.097324 -0.412320  0.976970"
            ]
          },
          "execution_count": 22,
          "metadata": {},
          "output_type": "execute_result"
        }
      ],
      "source": [
        "data"
      ]
    },
    {
      "cell_type": "code",
      "execution_count": 23,
      "metadata": {
        "colab": {
          "base_uri": "https://localhost:8080/"
        },
        "id": "n-t8ufVYolt7",
        "outputId": "6136dfd1-3ea0-4b54-81e4-caa3000e63be"
      },
      "outputs": [
        {
          "data": {
            "text/plain": [
              "a    False\n",
              "b    False\n",
              "c    False\n",
              "d     True\n",
              "e     True\n",
              "f    False\n",
              "g     True\n",
              "h    False\n",
              "Name: one, dtype: bool"
            ]
          },
          "execution_count": 23,
          "metadata": {},
          "output_type": "execute_result"
        }
      ],
      "source": [
        "#knowing which cell has missing value  \n",
        "data['one'].isnull()"
      ]
    },
    {
      "cell_type": "code",
      "execution_count": 24,
      "metadata": {
        "colab": {
          "base_uri": "https://localhost:8080/",
          "height": 206
        },
        "id": "z9Az5HN9pBmq",
        "outputId": "3ddd260d-4266-40b9-e86a-1213afb85408"
      },
      "outputs": [
        {
          "data": {
            "text/html": [
              "<div>\n",
              "<style scoped>\n",
              "    .dataframe tbody tr th:only-of-type {\n",
              "        vertical-align: middle;\n",
              "    }\n",
              "\n",
              "    .dataframe tbody tr th {\n",
              "        vertical-align: top;\n",
              "    }\n",
              "\n",
              "    .dataframe thead th {\n",
              "        text-align: right;\n",
              "    }\n",
              "</style>\n",
              "<table border=\"1\" class=\"dataframe\">\n",
              "  <thead>\n",
              "    <tr style=\"text-align: right;\">\n",
              "      <th></th>\n",
              "      <th>one</th>\n",
              "      <th>two</th>\n",
              "      <th>three</th>\n",
              "    </tr>\n",
              "  </thead>\n",
              "  <tbody>\n",
              "    <tr>\n",
              "      <th>a</th>\n",
              "      <td>-0.594874</td>\n",
              "      <td>2.438166</td>\n",
              "      <td>-0.395249</td>\n",
              "    </tr>\n",
              "    <tr>\n",
              "      <th>b</th>\n",
              "      <td>-0.368163</td>\n",
              "      <td>-0.699018</td>\n",
              "      <td>-0.361957</td>\n",
              "    </tr>\n",
              "    <tr>\n",
              "      <th>c</th>\n",
              "      <td>-0.449404</td>\n",
              "      <td>1.404142</td>\n",
              "      <td>-0.876756</td>\n",
              "    </tr>\n",
              "    <tr>\n",
              "      <th>f</th>\n",
              "      <td>0.586167</td>\n",
              "      <td>-1.582084</td>\n",
              "      <td>-0.117980</td>\n",
              "    </tr>\n",
              "    <tr>\n",
              "      <th>h</th>\n",
              "      <td>-0.097324</td>\n",
              "      <td>-0.412320</td>\n",
              "      <td>0.976970</td>\n",
              "    </tr>\n",
              "  </tbody>\n",
              "</table>\n",
              "</div>"
            ],
            "text/plain": [
              "        one       two     three\n",
              "a -0.594874  2.438166 -0.395249\n",
              "b -0.368163 -0.699018 -0.361957\n",
              "c -0.449404  1.404142 -0.876756\n",
              "f  0.586167 -1.582084 -0.117980\n",
              "h -0.097324 -0.412320  0.976970"
            ]
          },
          "execution_count": 24,
          "metadata": {},
          "output_type": "execute_result"
        }
      ],
      "source": [
        "#drop missing value\n",
        "data.dropna()"
      ]
    },
    {
      "cell_type": "code",
      "execution_count": 25,
      "metadata": {
        "colab": {
          "base_uri": "https://localhost:8080/",
          "height": 300
        },
        "id": "bVxy17ATpcRr",
        "outputId": "7c4c8491-4393-41ca-ede8-46fa5ddedb70"
      },
      "outputs": [
        {
          "data": {
            "text/html": [
              "<div>\n",
              "<style scoped>\n",
              "    .dataframe tbody tr th:only-of-type {\n",
              "        vertical-align: middle;\n",
              "    }\n",
              "\n",
              "    .dataframe tbody tr th {\n",
              "        vertical-align: top;\n",
              "    }\n",
              "\n",
              "    .dataframe thead th {\n",
              "        text-align: right;\n",
              "    }\n",
              "</style>\n",
              "<table border=\"1\" class=\"dataframe\">\n",
              "  <thead>\n",
              "    <tr style=\"text-align: right;\">\n",
              "      <th></th>\n",
              "      <th>one</th>\n",
              "      <th>two</th>\n",
              "      <th>three</th>\n",
              "    </tr>\n",
              "  </thead>\n",
              "  <tbody>\n",
              "    <tr>\n",
              "      <th>a</th>\n",
              "      <td>-0.594874</td>\n",
              "      <td>2.438166</td>\n",
              "      <td>-0.395249</td>\n",
              "    </tr>\n",
              "    <tr>\n",
              "      <th>b</th>\n",
              "      <td>-0.368163</td>\n",
              "      <td>-0.699018</td>\n",
              "      <td>-0.361957</td>\n",
              "    </tr>\n",
              "    <tr>\n",
              "      <th>c</th>\n",
              "      <td>-0.449404</td>\n",
              "      <td>1.404142</td>\n",
              "      <td>-0.876756</td>\n",
              "    </tr>\n",
              "    <tr>\n",
              "      <th>d</th>\n",
              "      <td>NaN</td>\n",
              "      <td>NaN</td>\n",
              "      <td>NaN</td>\n",
              "    </tr>\n",
              "    <tr>\n",
              "      <th>e</th>\n",
              "      <td>NaN</td>\n",
              "      <td>NaN</td>\n",
              "      <td>NaN</td>\n",
              "    </tr>\n",
              "    <tr>\n",
              "      <th>f</th>\n",
              "      <td>0.586167</td>\n",
              "      <td>-1.582084</td>\n",
              "      <td>-0.117980</td>\n",
              "    </tr>\n",
              "    <tr>\n",
              "      <th>g</th>\n",
              "      <td>NaN</td>\n",
              "      <td>NaN</td>\n",
              "      <td>NaN</td>\n",
              "    </tr>\n",
              "    <tr>\n",
              "      <th>h</th>\n",
              "      <td>-0.097324</td>\n",
              "      <td>-0.412320</td>\n",
              "      <td>0.976970</td>\n",
              "    </tr>\n",
              "  </tbody>\n",
              "</table>\n",
              "</div>"
            ],
            "text/plain": [
              "        one       two     three\n",
              "a -0.594874  2.438166 -0.395249\n",
              "b -0.368163 -0.699018 -0.361957\n",
              "c -0.449404  1.404142 -0.876756\n",
              "d       NaN       NaN       NaN\n",
              "e       NaN       NaN       NaN\n",
              "f  0.586167 -1.582084 -0.117980\n",
              "g       NaN       NaN       NaN\n",
              "h -0.097324 -0.412320  0.976970"
            ]
          },
          "execution_count": 25,
          "metadata": {},
          "output_type": "execute_result"
        }
      ],
      "source": [
        "#filling the values with some other value\n",
        "data"
      ]
    },
    {
      "cell_type": "code",
      "execution_count": 26,
      "metadata": {
        "colab": {
          "base_uri": "https://localhost:8080/",
          "height": 300
        },
        "id": "lWDW6H_kpqxU",
        "outputId": "657c030c-1c09-4ea0-9986-897861be6c9a"
      },
      "outputs": [
        {
          "data": {
            "text/html": [
              "<div>\n",
              "<style scoped>\n",
              "    .dataframe tbody tr th:only-of-type {\n",
              "        vertical-align: middle;\n",
              "    }\n",
              "\n",
              "    .dataframe tbody tr th {\n",
              "        vertical-align: top;\n",
              "    }\n",
              "\n",
              "    .dataframe thead th {\n",
              "        text-align: right;\n",
              "    }\n",
              "</style>\n",
              "<table border=\"1\" class=\"dataframe\">\n",
              "  <thead>\n",
              "    <tr style=\"text-align: right;\">\n",
              "      <th></th>\n",
              "      <th>one</th>\n",
              "      <th>two</th>\n",
              "      <th>three</th>\n",
              "    </tr>\n",
              "  </thead>\n",
              "  <tbody>\n",
              "    <tr>\n",
              "      <th>a</th>\n",
              "      <td>-0.594874</td>\n",
              "      <td>2.438166</td>\n",
              "      <td>-0.395249</td>\n",
              "    </tr>\n",
              "    <tr>\n",
              "      <th>b</th>\n",
              "      <td>-0.368163</td>\n",
              "      <td>-0.699018</td>\n",
              "      <td>-0.361957</td>\n",
              "    </tr>\n",
              "    <tr>\n",
              "      <th>c</th>\n",
              "      <td>-0.449404</td>\n",
              "      <td>1.404142</td>\n",
              "      <td>-0.876756</td>\n",
              "    </tr>\n",
              "    <tr>\n",
              "      <th>d</th>\n",
              "      <td>-0.184719</td>\n",
              "      <td>0.229777</td>\n",
              "      <td>-0.154994</td>\n",
              "    </tr>\n",
              "    <tr>\n",
              "      <th>e</th>\n",
              "      <td>-0.184719</td>\n",
              "      <td>0.229777</td>\n",
              "      <td>-0.154994</td>\n",
              "    </tr>\n",
              "    <tr>\n",
              "      <th>f</th>\n",
              "      <td>0.586167</td>\n",
              "      <td>-1.582084</td>\n",
              "      <td>-0.117980</td>\n",
              "    </tr>\n",
              "    <tr>\n",
              "      <th>g</th>\n",
              "      <td>-0.184719</td>\n",
              "      <td>0.229777</td>\n",
              "      <td>-0.154994</td>\n",
              "    </tr>\n",
              "    <tr>\n",
              "      <th>h</th>\n",
              "      <td>-0.097324</td>\n",
              "      <td>-0.412320</td>\n",
              "      <td>0.976970</td>\n",
              "    </tr>\n",
              "  </tbody>\n",
              "</table>\n",
              "</div>"
            ],
            "text/plain": [
              "        one       two     three\n",
              "a -0.594874  2.438166 -0.395249\n",
              "b -0.368163 -0.699018 -0.361957\n",
              "c -0.449404  1.404142 -0.876756\n",
              "d -0.184719  0.229777 -0.154994\n",
              "e -0.184719  0.229777 -0.154994\n",
              "f  0.586167 -1.582084 -0.117980\n",
              "g -0.184719  0.229777 -0.154994\n",
              "h -0.097324 -0.412320  0.976970"
            ]
          },
          "execution_count": 26,
          "metadata": {},
          "output_type": "execute_result"
        }
      ],
      "source": [
        "data.fillna(data.mean())"
      ]
    },
    {
      "cell_type": "code",
      "execution_count": 27,
      "metadata": {
        "colab": {
          "base_uri": "https://localhost:8080/",
          "height": 300
        },
        "id": "bUkEqKMoq6gD",
        "outputId": "5d51186d-6eaf-4148-fad2-7e587892ea31"
      },
      "outputs": [
        {
          "data": {
            "text/html": [
              "<div>\n",
              "<style scoped>\n",
              "    .dataframe tbody tr th:only-of-type {\n",
              "        vertical-align: middle;\n",
              "    }\n",
              "\n",
              "    .dataframe tbody tr th {\n",
              "        vertical-align: top;\n",
              "    }\n",
              "\n",
              "    .dataframe thead th {\n",
              "        text-align: right;\n",
              "    }\n",
              "</style>\n",
              "<table border=\"1\" class=\"dataframe\">\n",
              "  <thead>\n",
              "    <tr style=\"text-align: right;\">\n",
              "      <th></th>\n",
              "      <th>one</th>\n",
              "      <th>two</th>\n",
              "      <th>three</th>\n",
              "    </tr>\n",
              "  </thead>\n",
              "  <tbody>\n",
              "    <tr>\n",
              "      <th>a</th>\n",
              "      <td>-0.594874</td>\n",
              "      <td>2.438166</td>\n",
              "      <td>-0.395249</td>\n",
              "    </tr>\n",
              "    <tr>\n",
              "      <th>b</th>\n",
              "      <td>-0.368163</td>\n",
              "      <td>-0.699018</td>\n",
              "      <td>-0.361957</td>\n",
              "    </tr>\n",
              "    <tr>\n",
              "      <th>c</th>\n",
              "      <td>-0.449404</td>\n",
              "      <td>1.404142</td>\n",
              "      <td>-0.876756</td>\n",
              "    </tr>\n",
              "    <tr>\n",
              "      <th>d</th>\n",
              "      <td>NaN</td>\n",
              "      <td>NaN</td>\n",
              "      <td>NaN</td>\n",
              "    </tr>\n",
              "    <tr>\n",
              "      <th>e</th>\n",
              "      <td>NaN</td>\n",
              "      <td>NaN</td>\n",
              "      <td>NaN</td>\n",
              "    </tr>\n",
              "    <tr>\n",
              "      <th>f</th>\n",
              "      <td>0.586167</td>\n",
              "      <td>-1.582084</td>\n",
              "      <td>-0.117980</td>\n",
              "    </tr>\n",
              "    <tr>\n",
              "      <th>g</th>\n",
              "      <td>NaN</td>\n",
              "      <td>NaN</td>\n",
              "      <td>NaN</td>\n",
              "    </tr>\n",
              "    <tr>\n",
              "      <th>h</th>\n",
              "      <td>-0.097324</td>\n",
              "      <td>-0.412320</td>\n",
              "      <td>0.976970</td>\n",
              "    </tr>\n",
              "  </tbody>\n",
              "</table>\n",
              "</div>"
            ],
            "text/plain": [
              "        one       two     three\n",
              "a -0.594874  2.438166 -0.395249\n",
              "b -0.368163 -0.699018 -0.361957\n",
              "c -0.449404  1.404142 -0.876756\n",
              "d       NaN       NaN       NaN\n",
              "e       NaN       NaN       NaN\n",
              "f  0.586167 -1.582084 -0.117980\n",
              "g       NaN       NaN       NaN\n",
              "h -0.097324 -0.412320  0.976970"
            ]
          },
          "execution_count": 27,
          "metadata": {},
          "output_type": "execute_result"
        }
      ],
      "source": [
        "data"
      ]
    },
    {
      "cell_type": "code",
      "execution_count": 28,
      "metadata": {
        "colab": {
          "base_uri": "https://localhost:8080/",
          "height": 300
        },
        "id": "8o2aZEqBq8Fg",
        "outputId": "cc6297a9-bd1c-4ca1-ab07-0e60362fe7b1"
      },
      "outputs": [
        {
          "data": {
            "text/html": [
              "<div>\n",
              "<style scoped>\n",
              "    .dataframe tbody tr th:only-of-type {\n",
              "        vertical-align: middle;\n",
              "    }\n",
              "\n",
              "    .dataframe tbody tr th {\n",
              "        vertical-align: top;\n",
              "    }\n",
              "\n",
              "    .dataframe thead th {\n",
              "        text-align: right;\n",
              "    }\n",
              "</style>\n",
              "<table border=\"1\" class=\"dataframe\">\n",
              "  <thead>\n",
              "    <tr style=\"text-align: right;\">\n",
              "      <th></th>\n",
              "      <th>one</th>\n",
              "      <th>two</th>\n",
              "      <th>three</th>\n",
              "    </tr>\n",
              "  </thead>\n",
              "  <tbody>\n",
              "    <tr>\n",
              "      <th>a</th>\n",
              "      <td>-0.594874</td>\n",
              "      <td>2.438166</td>\n",
              "      <td>-0.395249</td>\n",
              "    </tr>\n",
              "    <tr>\n",
              "      <th>b</th>\n",
              "      <td>-0.368163</td>\n",
              "      <td>-0.699018</td>\n",
              "      <td>-0.361957</td>\n",
              "    </tr>\n",
              "    <tr>\n",
              "      <th>c</th>\n",
              "      <td>-0.449404</td>\n",
              "      <td>1.404142</td>\n",
              "      <td>-0.876756</td>\n",
              "    </tr>\n",
              "    <tr>\n",
              "      <th>d</th>\n",
              "      <td>-0.449404</td>\n",
              "      <td>1.404142</td>\n",
              "      <td>-0.876756</td>\n",
              "    </tr>\n",
              "    <tr>\n",
              "      <th>e</th>\n",
              "      <td>-0.449404</td>\n",
              "      <td>1.404142</td>\n",
              "      <td>-0.876756</td>\n",
              "    </tr>\n",
              "    <tr>\n",
              "      <th>f</th>\n",
              "      <td>0.586167</td>\n",
              "      <td>-1.582084</td>\n",
              "      <td>-0.117980</td>\n",
              "    </tr>\n",
              "    <tr>\n",
              "      <th>g</th>\n",
              "      <td>0.586167</td>\n",
              "      <td>-1.582084</td>\n",
              "      <td>-0.117980</td>\n",
              "    </tr>\n",
              "    <tr>\n",
              "      <th>h</th>\n",
              "      <td>-0.097324</td>\n",
              "      <td>-0.412320</td>\n",
              "      <td>0.976970</td>\n",
              "    </tr>\n",
              "  </tbody>\n",
              "</table>\n",
              "</div>"
            ],
            "text/plain": [
              "        one       two     three\n",
              "a -0.594874  2.438166 -0.395249\n",
              "b -0.368163 -0.699018 -0.361957\n",
              "c -0.449404  1.404142 -0.876756\n",
              "d -0.449404  1.404142 -0.876756\n",
              "e -0.449404  1.404142 -0.876756\n",
              "f  0.586167 -1.582084 -0.117980\n",
              "g  0.586167 -1.582084 -0.117980\n",
              "h -0.097324 -0.412320  0.976970"
            ]
          },
          "execution_count": 28,
          "metadata": {},
          "output_type": "execute_result"
        }
      ],
      "source": [
        "#filled the value wirth reference to previous row\n",
        "data.fillna(method='pad')"
      ]
    },
    {
      "cell_type": "code",
      "execution_count": 29,
      "metadata": {
        "colab": {
          "base_uri": "https://localhost:8080/",
          "height": 300
        },
        "id": "4uqQqmo4rGgO",
        "outputId": "d70bfcd2-48c1-4912-d0e2-273222772dee"
      },
      "outputs": [
        {
          "data": {
            "text/html": [
              "<div>\n",
              "<style scoped>\n",
              "    .dataframe tbody tr th:only-of-type {\n",
              "        vertical-align: middle;\n",
              "    }\n",
              "\n",
              "    .dataframe tbody tr th {\n",
              "        vertical-align: top;\n",
              "    }\n",
              "\n",
              "    .dataframe thead th {\n",
              "        text-align: right;\n",
              "    }\n",
              "</style>\n",
              "<table border=\"1\" class=\"dataframe\">\n",
              "  <thead>\n",
              "    <tr style=\"text-align: right;\">\n",
              "      <th></th>\n",
              "      <th>one</th>\n",
              "      <th>two</th>\n",
              "      <th>three</th>\n",
              "    </tr>\n",
              "  </thead>\n",
              "  <tbody>\n",
              "    <tr>\n",
              "      <th>a</th>\n",
              "      <td>-0.594874</td>\n",
              "      <td>2.438166</td>\n",
              "      <td>-0.395249</td>\n",
              "    </tr>\n",
              "    <tr>\n",
              "      <th>b</th>\n",
              "      <td>-0.368163</td>\n",
              "      <td>-0.699018</td>\n",
              "      <td>-0.361957</td>\n",
              "    </tr>\n",
              "    <tr>\n",
              "      <th>c</th>\n",
              "      <td>-0.449404</td>\n",
              "      <td>1.404142</td>\n",
              "      <td>-0.876756</td>\n",
              "    </tr>\n",
              "    <tr>\n",
              "      <th>d</th>\n",
              "      <td>0.586167</td>\n",
              "      <td>-1.582084</td>\n",
              "      <td>-0.117980</td>\n",
              "    </tr>\n",
              "    <tr>\n",
              "      <th>e</th>\n",
              "      <td>0.586167</td>\n",
              "      <td>-1.582084</td>\n",
              "      <td>-0.117980</td>\n",
              "    </tr>\n",
              "    <tr>\n",
              "      <th>f</th>\n",
              "      <td>0.586167</td>\n",
              "      <td>-1.582084</td>\n",
              "      <td>-0.117980</td>\n",
              "    </tr>\n",
              "    <tr>\n",
              "      <th>g</th>\n",
              "      <td>-0.097324</td>\n",
              "      <td>-0.412320</td>\n",
              "      <td>0.976970</td>\n",
              "    </tr>\n",
              "    <tr>\n",
              "      <th>h</th>\n",
              "      <td>-0.097324</td>\n",
              "      <td>-0.412320</td>\n",
              "      <td>0.976970</td>\n",
              "    </tr>\n",
              "  </tbody>\n",
              "</table>\n",
              "</div>"
            ],
            "text/plain": [
              "        one       two     three\n",
              "a -0.594874  2.438166 -0.395249\n",
              "b -0.368163 -0.699018 -0.361957\n",
              "c -0.449404  1.404142 -0.876756\n",
              "d  0.586167 -1.582084 -0.117980\n",
              "e  0.586167 -1.582084 -0.117980\n",
              "f  0.586167 -1.582084 -0.117980\n",
              "g -0.097324 -0.412320  0.976970\n",
              "h -0.097324 -0.412320  0.976970"
            ]
          },
          "execution_count": 29,
          "metadata": {},
          "output_type": "execute_result"
        }
      ],
      "source": [
        "#filled the value wirth reference to next row\n",
        "data.fillna(method='bfill')"
      ]
    },
    {
      "cell_type": "code",
      "execution_count": 30,
      "metadata": {
        "colab": {
          "base_uri": "https://localhost:8080/",
          "height": 300
        },
        "id": "YrD2KibjrQN1",
        "outputId": "4de52f1b-eb00-4b78-ce59-1866f4d0af55"
      },
      "outputs": [
        {
          "data": {
            "text/html": [
              "<div>\n",
              "<style scoped>\n",
              "    .dataframe tbody tr th:only-of-type {\n",
              "        vertical-align: middle;\n",
              "    }\n",
              "\n",
              "    .dataframe tbody tr th {\n",
              "        vertical-align: top;\n",
              "    }\n",
              "\n",
              "    .dataframe thead th {\n",
              "        text-align: right;\n",
              "    }\n",
              "</style>\n",
              "<table border=\"1\" class=\"dataframe\">\n",
              "  <thead>\n",
              "    <tr style=\"text-align: right;\">\n",
              "      <th></th>\n",
              "      <th>one</th>\n",
              "      <th>two</th>\n",
              "      <th>three</th>\n",
              "    </tr>\n",
              "  </thead>\n",
              "  <tbody>\n",
              "    <tr>\n",
              "      <th>a</th>\n",
              "      <td>-0.594874</td>\n",
              "      <td>2.438166</td>\n",
              "      <td>-0.395249</td>\n",
              "    </tr>\n",
              "    <tr>\n",
              "      <th>b</th>\n",
              "      <td>-0.368163</td>\n",
              "      <td>-0.699018</td>\n",
              "      <td>-0.361957</td>\n",
              "    </tr>\n",
              "    <tr>\n",
              "      <th>c</th>\n",
              "      <td>-0.449404</td>\n",
              "      <td>1.404142</td>\n",
              "      <td>-0.876756</td>\n",
              "    </tr>\n",
              "    <tr>\n",
              "      <th>d</th>\n",
              "      <td>NaN</td>\n",
              "      <td>NaN</td>\n",
              "      <td>NaN</td>\n",
              "    </tr>\n",
              "    <tr>\n",
              "      <th>e</th>\n",
              "      <td>NaN</td>\n",
              "      <td>NaN</td>\n",
              "      <td>NaN</td>\n",
              "    </tr>\n",
              "    <tr>\n",
              "      <th>f</th>\n",
              "      <td>0.586167</td>\n",
              "      <td>-1.582084</td>\n",
              "      <td>-0.117980</td>\n",
              "    </tr>\n",
              "    <tr>\n",
              "      <th>g</th>\n",
              "      <td>NaN</td>\n",
              "      <td>NaN</td>\n",
              "      <td>NaN</td>\n",
              "    </tr>\n",
              "    <tr>\n",
              "      <th>h</th>\n",
              "      <td>-0.097324</td>\n",
              "      <td>-0.412320</td>\n",
              "      <td>0.976970</td>\n",
              "    </tr>\n",
              "  </tbody>\n",
              "</table>\n",
              "</div>"
            ],
            "text/plain": [
              "        one       two     three\n",
              "a -0.594874  2.438166 -0.395249\n",
              "b -0.368163 -0.699018 -0.361957\n",
              "c -0.449404  1.404142 -0.876756\n",
              "d       NaN       NaN       NaN\n",
              "e       NaN       NaN       NaN\n",
              "f  0.586167 -1.582084 -0.117980\n",
              "g       NaN       NaN       NaN\n",
              "h -0.097324 -0.412320  0.976970"
            ]
          },
          "execution_count": 30,
          "metadata": {},
          "output_type": "execute_result"
        }
      ],
      "source": [
        "data"
      ]
    },
    {
      "cell_type": "code",
      "execution_count": 31,
      "metadata": {
        "colab": {
          "base_uri": "https://localhost:8080/",
          "height": 300
        },
        "id": "RMXUl8OarTKP",
        "outputId": "a6df5d46-c6e0-477a-d56d-ff154b791fd7"
      },
      "outputs": [
        {
          "data": {
            "text/html": [
              "<div>\n",
              "<style scoped>\n",
              "    .dataframe tbody tr th:only-of-type {\n",
              "        vertical-align: middle;\n",
              "    }\n",
              "\n",
              "    .dataframe tbody tr th {\n",
              "        vertical-align: top;\n",
              "    }\n",
              "\n",
              "    .dataframe thead th {\n",
              "        text-align: right;\n",
              "    }\n",
              "</style>\n",
              "<table border=\"1\" class=\"dataframe\">\n",
              "  <thead>\n",
              "    <tr style=\"text-align: right;\">\n",
              "      <th></th>\n",
              "      <th>one</th>\n",
              "      <th>two</th>\n",
              "      <th>three</th>\n",
              "    </tr>\n",
              "  </thead>\n",
              "  <tbody>\n",
              "    <tr>\n",
              "      <th>count</th>\n",
              "      <td>5.000000</td>\n",
              "      <td>5.000000</td>\n",
              "      <td>5.000000</td>\n",
              "    </tr>\n",
              "    <tr>\n",
              "      <th>mean</th>\n",
              "      <td>-0.184719</td>\n",
              "      <td>0.229777</td>\n",
              "      <td>-0.154994</td>\n",
              "    </tr>\n",
              "    <tr>\n",
              "      <th>std</th>\n",
              "      <td>0.467397</td>\n",
              "      <td>1.644225</td>\n",
              "      <td>0.689966</td>\n",
              "    </tr>\n",
              "    <tr>\n",
              "      <th>min</th>\n",
              "      <td>-0.594874</td>\n",
              "      <td>-1.582084</td>\n",
              "      <td>-0.876756</td>\n",
              "    </tr>\n",
              "    <tr>\n",
              "      <th>25%</th>\n",
              "      <td>-0.449404</td>\n",
              "      <td>-0.699018</td>\n",
              "      <td>-0.395249</td>\n",
              "    </tr>\n",
              "    <tr>\n",
              "      <th>50%</th>\n",
              "      <td>-0.368163</td>\n",
              "      <td>-0.412320</td>\n",
              "      <td>-0.361957</td>\n",
              "    </tr>\n",
              "    <tr>\n",
              "      <th>75%</th>\n",
              "      <td>-0.097324</td>\n",
              "      <td>1.404142</td>\n",
              "      <td>-0.117980</td>\n",
              "    </tr>\n",
              "    <tr>\n",
              "      <th>max</th>\n",
              "      <td>0.586167</td>\n",
              "      <td>2.438166</td>\n",
              "      <td>0.976970</td>\n",
              "    </tr>\n",
              "  </tbody>\n",
              "</table>\n",
              "</div>"
            ],
            "text/plain": [
              "            one       two     three\n",
              "count  5.000000  5.000000  5.000000\n",
              "mean  -0.184719  0.229777 -0.154994\n",
              "std    0.467397  1.644225  0.689966\n",
              "min   -0.594874 -1.582084 -0.876756\n",
              "25%   -0.449404 -0.699018 -0.395249\n",
              "50%   -0.368163 -0.412320 -0.361957\n",
              "75%   -0.097324  1.404142 -0.117980\n",
              "max    0.586167  2.438166  0.976970"
            ]
          },
          "execution_count": 31,
          "metadata": {},
          "output_type": "execute_result"
        }
      ],
      "source": [
        "data.describe()"
      ]
    },
    {
      "cell_type": "code",
      "execution_count": 32,
      "metadata": {},
      "outputs": [],
      "source": [
        "#data visulization\n",
        "import numpy as np\n",
        "import pandas as pd\n",
        "import matplotlib.pyplot as plt\n"
      ]
    },
    {
      "cell_type": "code",
      "execution_count": 40,
      "metadata": {},
      "outputs": [
        {
          "data": {
            "text/plain": [
              "<matplotlib.legend.Legend at 0x1af67006500>"
            ]
          },
          "execution_count": 40,
          "metadata": {},
          "output_type": "execute_result"
        },
        {
          "data": {
            "image/png": "[encoded data removed]",
            "text/plain": [
              "<Figure size 432x288 with 1 Axes>"
            ]
          },
          "metadata": {
            "needs_background": "light"
          },
          "output_type": "display_data"
        }
      ],
      "source": [
        "#plotting line in a graph\n",
        "\n",
        "x=np.arange(0,10)\n",
        "y=x**2 \n",
        "plt.plot(x,y,'g') #green color\n",
        "z=x+10\n",
        "plt.plot(x,z,'r')\n",
        "plt.title(\"Demonstration of a line graph\")\n",
        "plt.xlabel(\"X-axis\")\n",
        "plt.ylabel(\"Y-axis\")\n",
        "plt.legend(['square line','add by 10'],loc=2)"
      ]
    },
    {
      "cell_type": "code",
      "execution_count": 55,
      "metadata": {},
      "outputs": [
        {
          "data": {
            "text/plain": [
              "Text(0, 0.5, 'marks')"
            ]
          },
          "execution_count": 55,
          "metadata": {},
          "output_type": "execute_result"
        },
        {
          "data": {
            "image/png": "[encoded data removed]",
            "text/plain": [
              "<Figure size 432x288 with 1 Axes>"
            ]
          },
          "metadata": {
            "needs_background": "light"
          },
          "output_type": "display_data"
        }
      ],
      "source": [
        "#bar chart\n",
        "x=[1,2,3,4,5]\n",
        "marks=[80,50,60,39,48]\n",
        "subject=['a','b','c','d','e']\n",
        "plt.bar(x,marks,tick_label=subject,width=.7,color='black')\n",
        "plt.title(\"Bar Chart Demonstration\")\n",
        "plt.xlabel(\"subject\")\n",
        "plt.ylabel(\"marks\")\n"
      ]
    },
    {
      "cell_type": "code",
      "execution_count": 60,
      "metadata": {},
      "outputs": [
        {
          "data": {
            "text/plain": [
              "Text(0, 0.5, 'y-axis')"
            ]
          },
          "execution_count": 60,
          "metadata": {},
          "output_type": "execute_result"
        },
        {
          "data": {
            "image/png": "[encoded data removed]",
            "text/plain": [
              "<Figure size 432x288 with 1 Axes>"
            ]
          },
          "metadata": {
            "needs_background": "light"
          },
          "output_type": "display_data"
        }
      ],
      "source": [
        "#scatter plot\n",
        "x=[1,2,3,4,5,6,7,8,9,10]\n",
        "y=[2,4,5,4,2,7,6,8,8,4]\n",
        "plt.scatter(x,y,color='black',s=100,marker=\"*\")\n",
        "plt.title(\"Scatter plot demonstration\")\n",
        "plt.xlabel(\"x-axis\")\n",
        "plt.ylabel(\"y-axis\")\n"
      ]
    },
    {
      "cell_type": "code",
      "execution_count": 78,
      "metadata": {},
      "outputs": [
        {
          "data": {
            "text/plain": [
              "<matplotlib.legend.Legend at 0x1af70db2500>"
            ]
          },
          "execution_count": 78,
          "metadata": {},
          "output_type": "execute_result"
        },
        {
          "data": {
            "image/png": "[encoded data removed]",
            "text/plain": [
              "<Figure size 432x288 with 1 Axes>"
            ]
          },
          "metadata": {},
          "output_type": "display_data"
        }
      ],
      "source": [
        "#pie chart\n",
        "activities=['work','sleep','play','gossip','eat']\n",
        "hours=[6,10,3,1,4]\n",
        "plt.pie(hours,labels=activities,radius=1.5,explode=(0,0,1,0,0))\n",
        "plt.legend()"
      ]
    },
    {
      "cell_type": "markdown",
      "metadata": {},
      "source": [
        "**visualize the data of kagggle**"
      ]
    },
    {
      "cell_type": "code",
      "execution_count": 2,
      "metadata": {},
      "outputs": [
        {
          "name": "stderr",
          "output_type": "stream",
          "text": [
            "C:\\Users\\Shruti Nathavani\\AppData\\Local\\Temp\\ipykernel_18608\\2641001395.py:2: DtypeWarning: Columns (8,12,13,14,15,16,50,51,52,53,55,56,57,58,59,60,61,62,63,64,65,66,67,68,69,70,71,72,73,74,75,76,77,78,79,80,81,82,83,84,85,93,94,95,96,97,98,99,100,101,102,103,104,105,106,107,108,109,110,111,112,113,114,115,116,117,118,119,120,121,122,123,124,125,126,127,128) have mixed types. Specify dtype option on import or set low_memory=False.\n",
            "  data=pd.read_csv(\"data.csv\")\n"
          ]
        }
      ],
      "source": [
        "import pandas as pd\n",
        "data=pd.read_csv(\"data.csv\")"
      ]
    },
    {
      "cell_type": "code",
      "execution_count": 3,
      "metadata": {},
      "outputs": [
        {
          "data": {
            "text/html": [
              "        <script type=\"text/javascript\">\n",
              "        window.PlotlyConfig = {MathJaxConfig: 'local'};\n",
              "        if (window.MathJax && window.MathJax.Hub && window.MathJax.Hub.Config) {window.MathJax.Hub.Config({SVG: {font: \"STIX-Web\"}});}\n",
              "        if (typeof require !== 'undefined') {\n",
              "        require.undef(\"plotly\");\n",
              "        requirejs.config({\n",
              "            paths: {\n",
              "                'plotly': ['https://cdn.plot.ly/plotly-2.12.1.min']\n",
              "            }\n",
              "        });\n",
              "        require(['plotly'], function(Plotly) {\n",
              "            window._Plotly = Plotly;\n",
              "        });\n",
              "        }\n",
              "        </script>\n",
              "        "
            ]
          },
          "metadata": {},
          "output_type": "display_data"
        }
      ],
      "source": [
        "#libraries for ploting\n",
        "import plotly.offline as pyo\n",
        "import plotly.graph_objs as go\n",
        "import plotly.offline as py\n",
        "from plotly import tools\n",
        "import pandas as pd\n",
        "import numpy as np\n",
        "import matplotlib\n",
        "import matplotlib.pyplot as plt \n",
        "import seaborn as sns \n",
        "from plotly.offline import iplot\n",
        "import warnings\n",
        "warnings.filterwarnings(\"ignore\")\n",
        "import cufflinks as cf\n",
        "cf.go_offline()\n"
      ]
    },
    {
      "cell_type": "code",
      "execution_count": 4,
      "metadata": {},
      "outputs": [
        {
          "data": {
            "text/plain": [
              "(98855, 129)"
            ]
          },
          "execution_count": 4,
          "metadata": {},
          "output_type": "execute_result"
        }
      ],
      "source": [
        "data.shape"
      ]
    },
    {
      "cell_type": "code",
      "execution_count": 5,
      "metadata": {},
      "outputs": [
        {
          "data": {
            "text/html": [
              "<div>\n",
              "<style scoped>\n",
              "    .dataframe tbody tr th:only-of-type {\n",
              "        vertical-align: middle;\n",
              "    }\n",
              "\n",
              "    .dataframe tbody tr th {\n",
              "        vertical-align: top;\n",
              "    }\n",
              "\n",
              "    .dataframe thead th {\n",
              "        text-align: right;\n",
              "    }\n",
              "</style>\n",
              "<table border=\"1\" class=\"dataframe\">\n",
              "  <thead>\n",
              "    <tr style=\"text-align: right;\">\n",
              "      <th></th>\n",
              "      <th>Respondent</th>\n",
              "      <th>Hobby</th>\n",
              "      <th>OpenSource</th>\n",
              "      <th>Country</th>\n",
              "      <th>Student</th>\n",
              "      <th>Employment</th>\n",
              "      <th>FormalEducation</th>\n",
              "      <th>UndergradMajor</th>\n",
              "      <th>CompanySize</th>\n",
              "      <th>DevType</th>\n",
              "      <th>...</th>\n",
              "      <th>Exercise</th>\n",
              "      <th>Gender</th>\n",
              "      <th>SexualOrientation</th>\n",
              "      <th>EducationParents</th>\n",
              "      <th>RaceEthnicity</th>\n",
              "      <th>Age</th>\n",
              "      <th>Dependents</th>\n",
              "      <th>MilitaryUS</th>\n",
              "      <th>SurveyTooLong</th>\n",
              "      <th>SurveyEasy</th>\n",
              "    </tr>\n",
              "  </thead>\n",
              "  <tbody>\n",
              "    <tr>\n",
              "      <th>0</th>\n",
              "      <td>1</td>\n",
              "      <td>Yes</td>\n",
              "      <td>No</td>\n",
              "      <td>Kenya</td>\n",
              "      <td>No</td>\n",
              "      <td>Employed part-time</td>\n",
              "      <td>Bachelor’s degree (BA, BS, B.Eng., etc.)</td>\n",
              "      <td>Mathematics or statistics</td>\n",
              "      <td>20 to 99 employees</td>\n",
              "      <td>Full-stack developer</td>\n",
              "      <td>...</td>\n",
              "      <td>3 - 4 times per week</td>\n",
              "      <td>Male</td>\n",
              "      <td>Straight or heterosexual</td>\n",
              "      <td>Bachelor’s degree (BA, BS, B.Eng., etc.)</td>\n",
              "      <td>Black or of African descent</td>\n",
              "      <td>25 - 34 years old</td>\n",
              "      <td>Yes</td>\n",
              "      <td>NaN</td>\n",
              "      <td>The survey was an appropriate length</td>\n",
              "      <td>Very easy</td>\n",
              "    </tr>\n",
              "    <tr>\n",
              "      <th>1</th>\n",
              "      <td>3</td>\n",
              "      <td>Yes</td>\n",
              "      <td>Yes</td>\n",
              "      <td>United Kingdom</td>\n",
              "      <td>No</td>\n",
              "      <td>Employed full-time</td>\n",
              "      <td>Bachelor’s degree (BA, BS, B.Eng., etc.)</td>\n",
              "      <td>A natural science (ex. biology, chemistry, phy...</td>\n",
              "      <td>10,000 or more employees</td>\n",
              "      <td>Database administrator;DevOps specialist;Full-...</td>\n",
              "      <td>...</td>\n",
              "      <td>Daily or almost every day</td>\n",
              "      <td>Male</td>\n",
              "      <td>Straight or heterosexual</td>\n",
              "      <td>Bachelor’s degree (BA, BS, B.Eng., etc.)</td>\n",
              "      <td>White or of European descent</td>\n",
              "      <td>35 - 44 years old</td>\n",
              "      <td>Yes</td>\n",
              "      <td>NaN</td>\n",
              "      <td>The survey was an appropriate length</td>\n",
              "      <td>Somewhat easy</td>\n",
              "    </tr>\n",
              "    <tr>\n",
              "      <th>2</th>\n",
              "      <td>4</td>\n",
              "      <td>Yes</td>\n",
              "      <td>Yes</td>\n",
              "      <td>United States</td>\n",
              "      <td>No</td>\n",
              "      <td>Employed full-time</td>\n",
              "      <td>Associate degree</td>\n",
              "      <td>Computer science, computer engineering, or sof...</td>\n",
              "      <td>20 to 99 employees</td>\n",
              "      <td>Engineering manager;Full-stack developer</td>\n",
              "      <td>...</td>\n",
              "      <td>NaN</td>\n",
              "      <td>NaN</td>\n",
              "      <td>NaN</td>\n",
              "      <td>NaN</td>\n",
              "      <td>NaN</td>\n",
              "      <td>NaN</td>\n",
              "      <td>NaN</td>\n",
              "      <td>NaN</td>\n",
              "      <td>NaN</td>\n",
              "      <td>NaN</td>\n",
              "    </tr>\n",
              "    <tr>\n",
              "      <th>3</th>\n",
              "      <td>5</td>\n",
              "      <td>No</td>\n",
              "      <td>No</td>\n",
              "      <td>United States</td>\n",
              "      <td>No</td>\n",
              "      <td>Employed full-time</td>\n",
              "      <td>Bachelor’s degree (BA, BS, B.Eng., etc.)</td>\n",
              "      <td>Computer science, computer engineering, or sof...</td>\n",
              "      <td>100 to 499 employees</td>\n",
              "      <td>Full-stack developer</td>\n",
              "      <td>...</td>\n",
              "      <td>I don't typically exercise</td>\n",
              "      <td>Male</td>\n",
              "      <td>Straight or heterosexual</td>\n",
              "      <td>Some college/university study without earning ...</td>\n",
              "      <td>White or of European descent</td>\n",
              "      <td>35 - 44 years old</td>\n",
              "      <td>No</td>\n",
              "      <td>No</td>\n",
              "      <td>The survey was an appropriate length</td>\n",
              "      <td>Somewhat easy</td>\n",
              "    </tr>\n",
              "    <tr>\n",
              "      <th>4</th>\n",
              "      <td>7</td>\n",
              "      <td>Yes</td>\n",
              "      <td>No</td>\n",
              "      <td>South Africa</td>\n",
              "      <td>Yes, part-time</td>\n",
              "      <td>Employed full-time</td>\n",
              "      <td>Some college/university study without earning ...</td>\n",
              "      <td>Computer science, computer engineering, or sof...</td>\n",
              "      <td>10,000 or more employees</td>\n",
              "      <td>Data or business analyst;Desktop or enterprise...</td>\n",
              "      <td>...</td>\n",
              "      <td>3 - 4 times per week</td>\n",
              "      <td>Male</td>\n",
              "      <td>Straight or heterosexual</td>\n",
              "      <td>Some college/university study without earning ...</td>\n",
              "      <td>White or of European descent</td>\n",
              "      <td>18 - 24 years old</td>\n",
              "      <td>Yes</td>\n",
              "      <td>NaN</td>\n",
              "      <td>The survey was an appropriate length</td>\n",
              "      <td>Somewhat easy</td>\n",
              "    </tr>\n",
              "  </tbody>\n",
              "</table>\n",
              "<p>5 rows × 129 columns</p>\n",
              "</div>"
            ],
            "text/plain": [
              "   Respondent Hobby OpenSource         Country         Student  \\\n",
              "0           1   Yes         No           Kenya              No   \n",
              "1           3   Yes        Yes  United Kingdom              No   \n",
              "2           4   Yes        Yes   United States              No   \n",
              "3           5    No         No   United States              No   \n",
              "4           7   Yes         No    South Africa  Yes, part-time   \n",
              "\n",
              "           Employment                                    FormalEducation  \\\n",
              "0  Employed part-time           Bachelor’s degree (BA, BS, B.Eng., etc.)   \n",
              "1  Employed full-time           Bachelor’s degree (BA, BS, B.Eng., etc.)   \n",
              "2  Employed full-time                                   Associate degree   \n",
              "3  Employed full-time           Bachelor’s degree (BA, BS, B.Eng., etc.)   \n",
              "4  Employed full-time  Some college/university study without earning ...   \n",
              "\n",
              "                                      UndergradMajor  \\\n",
              "0                          Mathematics or statistics   \n",
              "1  A natural science (ex. biology, chemistry, phy...   \n",
              "2  Computer science, computer engineering, or sof...   \n",
              "3  Computer science, computer engineering, or sof...   \n",
              "4  Computer science, computer engineering, or sof...   \n",
              "\n",
              "                CompanySize  \\\n",
              "0        20 to 99 employees   \n",
              "1  10,000 or more employees   \n",
              "2        20 to 99 employees   \n",
              "3      100 to 499 employees   \n",
              "4  10,000 or more employees   \n",
              "\n",
              "                                             DevType  ...  \\\n",
              "0                               Full-stack developer  ...   \n",
              "1  Database administrator;DevOps specialist;Full-...  ...   \n",
              "2           Engineering manager;Full-stack developer  ...   \n",
              "3                               Full-stack developer  ...   \n",
              "4  Data or business analyst;Desktop or enterprise...  ...   \n",
              "\n",
              "                     Exercise Gender         SexualOrientation  \\\n",
              "0        3 - 4 times per week   Male  Straight or heterosexual   \n",
              "1   Daily or almost every day   Male  Straight or heterosexual   \n",
              "2                         NaN    NaN                       NaN   \n",
              "3  I don't typically exercise   Male  Straight or heterosexual   \n",
              "4        3 - 4 times per week   Male  Straight or heterosexual   \n",
              "\n",
              "                                    EducationParents  \\\n",
              "0           Bachelor’s degree (BA, BS, B.Eng., etc.)   \n",
              "1           Bachelor’s degree (BA, BS, B.Eng., etc.)   \n",
              "2                                                NaN   \n",
              "3  Some college/university study without earning ...   \n",
              "4  Some college/university study without earning ...   \n",
              "\n",
              "                  RaceEthnicity                Age Dependents  MilitaryUS  \\\n",
              "0   Black or of African descent  25 - 34 years old        Yes         NaN   \n",
              "1  White or of European descent  35 - 44 years old        Yes         NaN   \n",
              "2                           NaN                NaN        NaN         NaN   \n",
              "3  White or of European descent  35 - 44 years old         No          No   \n",
              "4  White or of European descent  18 - 24 years old        Yes         NaN   \n",
              "\n",
              "                          SurveyTooLong     SurveyEasy  \n",
              "0  The survey was an appropriate length      Very easy  \n",
              "1  The survey was an appropriate length  Somewhat easy  \n",
              "2                                   NaN            NaN  \n",
              "3  The survey was an appropriate length  Somewhat easy  \n",
              "4  The survey was an appropriate length  Somewhat easy  \n",
              "\n",
              "[5 rows x 129 columns]"
            ]
          },
          "execution_count": 5,
          "metadata": {},
          "output_type": "execute_result"
        }
      ],
      "source": [
        "data.head()"
      ]
    },
    {
      "cell_type": "code",
      "execution_count": 6,
      "metadata": {},
      "outputs": [
        {
          "data": {
            "text/html": [
              "<div>\n",
              "<style scoped>\n",
              "    .dataframe tbody tr th:only-of-type {\n",
              "        vertical-align: middle;\n",
              "    }\n",
              "\n",
              "    .dataframe tbody tr th {\n",
              "        vertical-align: top;\n",
              "    }\n",
              "\n",
              "    .dataframe thead th {\n",
              "        text-align: right;\n",
              "    }\n",
              "</style>\n",
              "<table border=\"1\" class=\"dataframe\">\n",
              "  <thead>\n",
              "    <tr style=\"text-align: right;\">\n",
              "      <th></th>\n",
              "      <th>Respondent</th>\n",
              "      <th>AssessJob1</th>\n",
              "      <th>AssessJob2</th>\n",
              "      <th>AssessJob3</th>\n",
              "      <th>AssessJob4</th>\n",
              "      <th>AssessJob5</th>\n",
              "      <th>AssessJob6</th>\n",
              "      <th>AssessJob7</th>\n",
              "      <th>AssessJob8</th>\n",
              "      <th>AssessJob9</th>\n",
              "      <th>...</th>\n",
              "      <th>JobEmailPriorities6</th>\n",
              "      <th>JobEmailPriorities7</th>\n",
              "      <th>ConvertedSalary</th>\n",
              "      <th>AdsPriorities1</th>\n",
              "      <th>AdsPriorities2</th>\n",
              "      <th>AdsPriorities3</th>\n",
              "      <th>AdsPriorities4</th>\n",
              "      <th>AdsPriorities5</th>\n",
              "      <th>AdsPriorities6</th>\n",
              "      <th>AdsPriorities7</th>\n",
              "    </tr>\n",
              "  </thead>\n",
              "  <tbody>\n",
              "    <tr>\n",
              "      <th>count</th>\n",
              "      <td>98855.000000</td>\n",
              "      <td>66985.000000</td>\n",
              "      <td>66985.000000</td>\n",
              "      <td>66985.000000</td>\n",
              "      <td>66985.000000</td>\n",
              "      <td>66985.000000</td>\n",
              "      <td>66985.000000</td>\n",
              "      <td>66985.000000</td>\n",
              "      <td>66985.000000</td>\n",
              "      <td>66985.000000</td>\n",
              "      <td>...</td>\n",
              "      <td>46213.00000</td>\n",
              "      <td>46213.000000</td>\n",
              "      <td>4.770200e+04</td>\n",
              "      <td>60479.000000</td>\n",
              "      <td>60479.000000</td>\n",
              "      <td>60479.000000</td>\n",
              "      <td>60479.000000</td>\n",
              "      <td>60479.000000</td>\n",
              "      <td>60479.000000</td>\n",
              "      <td>60479.000000</td>\n",
              "    </tr>\n",
              "    <tr>\n",
              "      <th>mean</th>\n",
              "      <td>50822.971635</td>\n",
              "      <td>6.397089</td>\n",
              "      <td>6.673524</td>\n",
              "      <td>5.906875</td>\n",
              "      <td>4.065791</td>\n",
              "      <td>3.953243</td>\n",
              "      <td>4.407196</td>\n",
              "      <td>5.673181</td>\n",
              "      <td>4.225200</td>\n",
              "      <td>7.640009</td>\n",
              "      <td>...</td>\n",
              "      <td>4.97425</td>\n",
              "      <td>4.836388</td>\n",
              "      <td>9.578086e+04</td>\n",
              "      <td>2.726880</td>\n",
              "      <td>3.805784</td>\n",
              "      <td>3.340945</td>\n",
              "      <td>3.782470</td>\n",
              "      <td>4.383604</td>\n",
              "      <td>5.138809</td>\n",
              "      <td>4.821459</td>\n",
              "    </tr>\n",
              "    <tr>\n",
              "      <th>std</th>\n",
              "      <td>29321.650410</td>\n",
              "      <td>2.788428</td>\n",
              "      <td>2.531202</td>\n",
              "      <td>2.642734</td>\n",
              "      <td>2.541196</td>\n",
              "      <td>2.520499</td>\n",
              "      <td>2.502069</td>\n",
              "      <td>2.923998</td>\n",
              "      <td>2.507411</td>\n",
              "      <td>2.407457</td>\n",
              "      <td>...</td>\n",
              "      <td>1.86063</td>\n",
              "      <td>1.659844</td>\n",
              "      <td>2.023482e+05</td>\n",
              "      <td>1.881078</td>\n",
              "      <td>1.821323</td>\n",
              "      <td>1.673485</td>\n",
              "      <td>1.844864</td>\n",
              "      <td>1.931746</td>\n",
              "      <td>1.853249</td>\n",
              "      <td>1.874895</td>\n",
              "    </tr>\n",
              "    <tr>\n",
              "      <th>min</th>\n",
              "      <td>1.000000</td>\n",
              "      <td>1.000000</td>\n",
              "      <td>1.000000</td>\n",
              "      <td>1.000000</td>\n",
              "      <td>1.000000</td>\n",
              "      <td>1.000000</td>\n",
              "      <td>1.000000</td>\n",
              "      <td>1.000000</td>\n",
              "      <td>1.000000</td>\n",
              "      <td>1.000000</td>\n",
              "      <td>...</td>\n",
              "      <td>1.00000</td>\n",
              "      <td>1.000000</td>\n",
              "      <td>0.000000e+00</td>\n",
              "      <td>1.000000</td>\n",
              "      <td>1.000000</td>\n",
              "      <td>1.000000</td>\n",
              "      <td>1.000000</td>\n",
              "      <td>1.000000</td>\n",
              "      <td>1.000000</td>\n",
              "      <td>1.000000</td>\n",
              "    </tr>\n",
              "    <tr>\n",
              "      <th>25%</th>\n",
              "      <td>25443.500000</td>\n",
              "      <td>4.000000</td>\n",
              "      <td>5.000000</td>\n",
              "      <td>4.000000</td>\n",
              "      <td>2.000000</td>\n",
              "      <td>2.000000</td>\n",
              "      <td>2.000000</td>\n",
              "      <td>3.000000</td>\n",
              "      <td>2.000000</td>\n",
              "      <td>6.000000</td>\n",
              "      <td>...</td>\n",
              "      <td>4.00000</td>\n",
              "      <td>4.000000</td>\n",
              "      <td>2.384400e+04</td>\n",
              "      <td>1.000000</td>\n",
              "      <td>2.000000</td>\n",
              "      <td>2.000000</td>\n",
              "      <td>2.000000</td>\n",
              "      <td>3.000000</td>\n",
              "      <td>4.000000</td>\n",
              "      <td>3.000000</td>\n",
              "    </tr>\n",
              "    <tr>\n",
              "      <th>50%</th>\n",
              "      <td>50823.000000</td>\n",
              "      <td>7.000000</td>\n",
              "      <td>7.000000</td>\n",
              "      <td>6.000000</td>\n",
              "      <td>4.000000</td>\n",
              "      <td>3.000000</td>\n",
              "      <td>4.000000</td>\n",
              "      <td>6.000000</td>\n",
              "      <td>4.000000</td>\n",
              "      <td>8.000000</td>\n",
              "      <td>...</td>\n",
              "      <td>5.00000</td>\n",
              "      <td>5.000000</td>\n",
              "      <td>5.507500e+04</td>\n",
              "      <td>2.000000</td>\n",
              "      <td>4.000000</td>\n",
              "      <td>3.000000</td>\n",
              "      <td>4.000000</td>\n",
              "      <td>5.000000</td>\n",
              "      <td>6.000000</td>\n",
              "      <td>5.000000</td>\n",
              "    </tr>\n",
              "    <tr>\n",
              "      <th>75%</th>\n",
              "      <td>76219.500000</td>\n",
              "      <td>9.000000</td>\n",
              "      <td>9.000000</td>\n",
              "      <td>8.000000</td>\n",
              "      <td>6.000000</td>\n",
              "      <td>6.000000</td>\n",
              "      <td>6.000000</td>\n",
              "      <td>8.000000</td>\n",
              "      <td>6.000000</td>\n",
              "      <td>10.000000</td>\n",
              "      <td>...</td>\n",
              "      <td>7.00000</td>\n",
              "      <td>6.000000</td>\n",
              "      <td>9.300000e+04</td>\n",
              "      <td>4.000000</td>\n",
              "      <td>5.000000</td>\n",
              "      <td>5.000000</td>\n",
              "      <td>5.000000</td>\n",
              "      <td>6.000000</td>\n",
              "      <td>7.000000</td>\n",
              "      <td>7.000000</td>\n",
              "    </tr>\n",
              "    <tr>\n",
              "      <th>max</th>\n",
              "      <td>101592.000000</td>\n",
              "      <td>10.000000</td>\n",
              "      <td>10.000000</td>\n",
              "      <td>10.000000</td>\n",
              "      <td>10.000000</td>\n",
              "      <td>10.000000</td>\n",
              "      <td>10.000000</td>\n",
              "      <td>10.000000</td>\n",
              "      <td>10.000000</td>\n",
              "      <td>10.000000</td>\n",
              "      <td>...</td>\n",
              "      <td>7.00000</td>\n",
              "      <td>7.000000</td>\n",
              "      <td>2.000000e+06</td>\n",
              "      <td>7.000000</td>\n",
              "      <td>7.000000</td>\n",
              "      <td>7.000000</td>\n",
              "      <td>7.000000</td>\n",
              "      <td>7.000000</td>\n",
              "      <td>7.000000</td>\n",
              "      <td>7.000000</td>\n",
              "    </tr>\n",
              "  </tbody>\n",
              "</table>\n",
              "<p>8 rows × 42 columns</p>\n",
              "</div>"
            ],
            "text/plain": [
              "          Respondent    AssessJob1    AssessJob2    AssessJob3    AssessJob4  \\\n",
              "count   98855.000000  66985.000000  66985.000000  66985.000000  66985.000000   \n",
              "mean    50822.971635      6.397089      6.673524      5.906875      4.065791   \n",
              "std     29321.650410      2.788428      2.531202      2.642734      2.541196   \n",
              "min         1.000000      1.000000      1.000000      1.000000      1.000000   \n",
              "25%     25443.500000      4.000000      5.000000      4.000000      2.000000   \n",
              "50%     50823.000000      7.000000      7.000000      6.000000      4.000000   \n",
              "75%     76219.500000      9.000000      9.000000      8.000000      6.000000   \n",
              "max    101592.000000     10.000000     10.000000     10.000000     10.000000   \n",
              "\n",
              "         AssessJob5    AssessJob6    AssessJob7    AssessJob8    AssessJob9  \\\n",
              "count  66985.000000  66985.000000  66985.000000  66985.000000  66985.000000   \n",
              "mean       3.953243      4.407196      5.673181      4.225200      7.640009   \n",
              "std        2.520499      2.502069      2.923998      2.507411      2.407457   \n",
              "min        1.000000      1.000000      1.000000      1.000000      1.000000   \n",
              "25%        2.000000      2.000000      3.000000      2.000000      6.000000   \n",
              "50%        3.000000      4.000000      6.000000      4.000000      8.000000   \n",
              "75%        6.000000      6.000000      8.000000      6.000000     10.000000   \n",
              "max       10.000000     10.000000     10.000000     10.000000     10.000000   \n",
              "\n",
              "       ...  JobEmailPriorities6  JobEmailPriorities7  ConvertedSalary  \\\n",
              "count  ...          46213.00000         46213.000000     4.770200e+04   \n",
              "mean   ...              4.97425             4.836388     9.578086e+04   \n",
              "std    ...              1.86063             1.659844     2.023482e+05   \n",
              "min    ...              1.00000             1.000000     0.000000e+00   \n",
              "25%    ...              4.00000             4.000000     2.384400e+04   \n",
              "50%    ...              5.00000             5.000000     5.507500e+04   \n",
              "75%    ...              7.00000             6.000000     9.300000e+04   \n",
              "max    ...              7.00000             7.000000     2.000000e+06   \n",
              "\n",
              "       AdsPriorities1  AdsPriorities2  AdsPriorities3  AdsPriorities4  \\\n",
              "count    60479.000000    60479.000000    60479.000000    60479.000000   \n",
              "mean         2.726880        3.805784        3.340945        3.782470   \n",
              "std          1.881078        1.821323        1.673485        1.844864   \n",
              "min          1.000000        1.000000        1.000000        1.000000   \n",
              "25%          1.000000        2.000000        2.000000        2.000000   \n",
              "50%          2.000000        4.000000        3.000000        4.000000   \n",
              "75%          4.000000        5.000000        5.000000        5.000000   \n",
              "max          7.000000        7.000000        7.000000        7.000000   \n",
              "\n",
              "       AdsPriorities5  AdsPriorities6  AdsPriorities7  \n",
              "count    60479.000000    60479.000000    60479.000000  \n",
              "mean         4.383604        5.138809        4.821459  \n",
              "std          1.931746        1.853249        1.874895  \n",
              "min          1.000000        1.000000        1.000000  \n",
              "25%          3.000000        4.000000        3.000000  \n",
              "50%          5.000000        6.000000        5.000000  \n",
              "75%          6.000000        7.000000        7.000000  \n",
              "max          7.000000        7.000000        7.000000  \n",
              "\n",
              "[8 rows x 42 columns]"
            ]
          },
          "execution_count": 6,
          "metadata": {},
          "output_type": "execute_result"
        }
      ],
      "source": [
        "data.describe()"
      ]
    },
    {
      "cell_type": "code",
      "execution_count": 7,
      "metadata": {},
      "outputs": [
        {
          "data": {
            "text/plain": [
              "Respondent       98855\n",
              "Hobby            98855\n",
              "OpenSource       98855\n",
              "Country          98443\n",
              "Student          94901\n",
              "                 ...  \n",
              "Age              64574\n",
              "Dependents       62596\n",
              "MilitaryUS       15781\n",
              "SurveyTooLong    65941\n",
              "SurveyEasy       65879\n",
              "Length: 129, dtype: int64"
            ]
          },
          "execution_count": 7,
          "metadata": {},
          "output_type": "execute_result"
        }
      ],
      "source": [
        "data.count()"
      ]
    },
    {
      "cell_type": "code",
      "execution_count": 8,
      "metadata": {},
      "outputs": [
        {
          "data": {
            "text/plain": [
              "Respondent           0\n",
              "Hobby                0\n",
              "OpenSource           0\n",
              "Country            412\n",
              "Student           3954\n",
              "                 ...  \n",
              "Age              34281\n",
              "Dependents       36259\n",
              "MilitaryUS       83074\n",
              "SurveyTooLong    32914\n",
              "SurveyEasy       32976\n",
              "Length: 129, dtype: int64"
            ]
          },
          "execution_count": 8,
          "metadata": {},
          "output_type": "execute_result"
        }
      ],
      "source": [
        "data.isnull().sum()"
      ]
    },
    {
      "cell_type": "code",
      "execution_count": 9,
      "metadata": {},
      "outputs": [],
      "source": [
        "percent=(data.isnull().sum()/98855*100).sort_values(ascending=False)"
      ]
    },
    {
      "cell_type": "code",
      "execution_count": 10,
      "metadata": {},
      "outputs": [
        {
          "data": {
            "text/plain": [
              "TimeAfterBootcamp    93.270952\n",
              "MilitaryUS           84.036215\n",
              "HackathonReasons     74.011431\n",
              "ErgonomicDevices     65.547519\n",
              "AdBlockerReasons     61.817814\n",
              "                       ...    \n",
              "Employment            3.574933\n",
              "Country               0.416772\n",
              "Hobby                 0.000000\n",
              "OpenSource            0.000000\n",
              "Respondent            0.000000\n",
              "Length: 129, dtype: float64"
            ]
          },
          "execution_count": 10,
          "metadata": {},
          "output_type": "execute_result"
        }
      ],
      "source": [
        "percent"
      ]
    },
    {
      "cell_type": "code",
      "execution_count": 11,
      "metadata": {},
      "outputs": [
        {
          "data": {
            "text/plain": [
              "Yes    79897\n",
              "No     18958\n",
              "Name: Hobby, dtype: int64"
            ]
          },
          "execution_count": 11,
          "metadata": {},
          "output_type": "execute_result"
        }
      ],
      "source": [
        "data['Hobby'].value_counts()"
      ]
    },
    {
      "cell_type": "code",
      "execution_count": 25,
      "metadata": {},
      "outputs": [
        {
          "data": {
            "text/plain": [
              "([<matplotlib.patches.Wedge at 0x2045801efb0>,\n",
              "  <matplotlib.patches.Wedge at 0x2045803c6d0>],\n",
              " [Text(-0.9063250266761015, 0.6233577993580927, 'Yes'),\n",
              "  Text(0.9063249683131279, -0.6233578842143634, 'No')],\n",
              " [Text(-0.49435910545969164, 0.3400133451044141, '80.8'),\n",
              "  Text(0.4943590736253424, -0.34001339138965275, '19.2')])"
            ]
          },
          "execution_count": 25,
          "metadata": {},
          "output_type": "execute_result"
        },
        {
          "data": {
            "image/png": "[encoded data removed]",
            "text/plain": [
              "<Figure size 432x288 with 1 Axes>"
            ]
          },
          "metadata": {},
          "output_type": "display_data"
        }
      ],
      "source": [
        "Hobby = data['Hobby'].value_counts()\n",
        "plt.pie(Hobby,labels=['Yes','No'],autopct='%.1f')"
      ]
    },
    {
      "cell_type": "code",
      "execution_count": 13,
      "metadata": {},
      "outputs": [
        {
          "data": {
            "text/plain": [
              "No     55769\n",
              "Yes    43086\n",
              "Name: OpenSource, dtype: int64"
            ]
          },
          "execution_count": 13,
          "metadata": {},
          "output_type": "execute_result"
        }
      ],
      "source": [
        "data['OpenSource'].value_counts()"
      ]
    },
    {
      "cell_type": "code",
      "execution_count": 14,
      "metadata": {},
      "outputs": [
        {
          "data": {
            "text/plain": [
              "Text(0, 0.5, 'Y-axis')"
            ]
          },
          "execution_count": 14,
          "metadata": {},
          "output_type": "execute_result"
        },
        {
          "data": {
            "image/png": "[encoded data removed]",
            "text/plain": [
              "<Figure size 432x288 with 1 Axes>"
            ]
          },
          "metadata": {
            "needs_background": "light"
          },
          "output_type": "display_data"
        }
      ],
      "source": [
        "data['OpenSource'].value_counts().plot.bar()\n",
        "plt.title(\"bar chart for opensource\")\n",
        "plt.xlabel(\"X-axis\")\n",
        "plt.ylabel(\"Y-axis\")"
      ]
    },
    {
      "cell_type": "code",
      "execution_count": 15,
      "metadata": {},
      "outputs": [
        {
          "data": {
            "text/plain": [
              "United States      20309\n",
              "India              13721\n",
              "Germany             6459\n",
              "United Kingdom      6221\n",
              "Canada              3393\n",
              "                   ...  \n",
              "Sierra Leone           1\n",
              "Saint Lucia            1\n",
              "Solomon Islands        1\n",
              "Grenada                1\n",
              "Guinea-Bissau          1\n",
              "Name: Country, Length: 183, dtype: int64"
            ]
          },
          "execution_count": 15,
          "metadata": {},
          "output_type": "execute_result"
        }
      ],
      "source": [
        "data['Country'].value_counts()"
      ]
    },
    {
      "cell_type": "code",
      "execution_count": 23,
      "metadata": {},
      "outputs": [
        {
          "data": {
            "text/plain": [
              "Text(0.5, 1.0, 'top 20 countries')"
            ]
          },
          "execution_count": 23,
          "metadata": {},
          "output_type": "execute_result"
        },
        {
          "data": {
            "image/png": "[encoded data removed]",
            "text/plain": [
              "<Figure size 432x288 with 1 Axes>"
            ]
          },
          "metadata": {
            "needs_background": "light"
          },
          "output_type": "display_data"
        }
      ],
      "source": [
        "x=data['Country'].value_counts().nlargest(20).plot.bar()\n",
        "\n",
        "plt.xlabel(\"X-axis\")\n",
        "plt.ylabel(\"Y-axis\")\n",
        "plt.title(\"top 20 countries\",color='w')\n"
      ]
    },
    {
      "cell_type": "code",
      "execution_count": null,
      "metadata": {},
      "outputs": [],
      "source": []
    }
  ],
  "metadata": {
    "colab": {
      "name": "Untitled2.ipynb",
      "provenance": []
    },
    "kernelspec": {
      "display_name": "Python 3.10.5 64-bit",
      "language": "python",
      "name": "python3"
    },
    "language_info": {
      "codemirror_mode": {
        "name": "ipython",
        "version": 3
      },
      "file_extension": ".py",
      "mimetype": "text/x-python",
      "name": "python",
      "nbconvert_exporter": "python",
      "pygments_lexer": "ipython3",
      "version": "3.10.5"
    },
    "vscode": {
      "interpreter": {
        "hash": "a8c5ba1b328a57b7dd25cd9722740ddcc75a674582cbfe50febfbd9df5927f0e"
      }
    }
  },
  "nbformat": 4,
  "nbformat_minor": 0
}
